{
 "cells": [
  {
   "cell_type": "code",
   "execution_count": null,
   "id": "326474d5-f5d2-4b82-ad46-d3c56734ffa1",
   "metadata": {},
   "outputs": [],
   "source": []
  },
  {
   "cell_type": "code",
   "execution_count": null,
   "id": "3f172ebb-b890-4034-bd2c-06b613b4b0e6",
   "metadata": {},
   "outputs": [],
   "source": []
  },
  {
   "cell_type": "code",
   "execution_count": 1,
   "id": "90ab76f1-3402-4032-95f7-31699a113155",
   "metadata": {
    "tags": []
   },
   "outputs": [],
   "source": [
    "# S3 prefix\n",
    "prefix=\"mt_models_uploaded/fastllm--chatglm2-6b\"\n",
    "\n",
    "# Define IAM role\n",
    "import boto3\n",
    "import re\n",
    "\n",
    "import os\n",
    "import numpy as np\n",
    "import pandas as pd\n",
    "from sagemaker import get_execution_role\n",
    "import sagemaker\n",
    "\n",
    "account_id = boto3.client('sts').get_caller_identity().get('Account')\n",
    "region = boto3.session.Session().region_name\n",
    "\n",
    "sagemaker_session = sagemaker.Session()\n",
    "bucket = sagemaker_session.default_bucket()\n",
    "region = sagemaker_session._region_name # region name of the current environment\n",
    "role = sagemaker.get_execution_role()"
   ]
  },
  {
   "cell_type": "markdown",
   "id": "a3ab0d07-4275-496a-b1e2-f53914e85225",
   "metadata": {},
   "source": [
    "提前编译好ChatGLM2的Fastllm模型，上传到S3s3://${bucket}/key_prefix"
   ]
  },
  {
   "cell_type": "code",
   "execution_count": 2,
   "id": "b5e6e976-442d-42f9-8d54-a10dfec204b0",
   "metadata": {
    "tags": []
   },
   "outputs": [],
   "source": [
    "model_s3_url = 's3://sagemaker-us-east-1-568765279027/mt_models_uploaded/fastllm-chatglm-6b-fp16/chatglm-6b-fp16.flm'"
   ]
  },
  {
   "cell_type": "code",
   "execution_count": 3,
   "id": "660d7e15-b702-4c31-94a2-4842a08a4580",
   "metadata": {
    "tags": []
   },
   "outputs": [
    {
     "data": {
      "text/plain": [
       "'s3://sagemaker-us-east-1-568765279027/mt_models_uploaded/fastllm-chatglm-6b-fp16/chatglm-6b-fp16.flm'"
      ]
     },
     "execution_count": 3,
     "metadata": {},
     "output_type": "execute_result"
    }
   ],
   "source": [
    "model_s3_url\n"
   ]
  },
  {
   "cell_type": "code",
   "execution_count": 4,
   "id": "02a3c778-a652-492b-8d1d-e50a8f5cf6ac",
   "metadata": {
    "tags": []
   },
   "outputs": [
    {
     "name": "stdout",
     "output_type": "stream",
     "text": [
      "Sending build context to Docker daemon  13.25MB\n",
      "Step 1/24 : FROM nvidia/cuda:11.8.0-cudnn8-devel-ubuntu20.04\n",
      " ---> 95d242fe9108\n",
      "Step 2/24 : RUN apt update     && apt install -y --no-install-recommends wget python3 python3-pip     && ln -sf python3 /usr/bin/python     && ln -sf pip3 /usr/bin/pip     && pip install --upgrade pip     && pip install wheel setuptools\n",
      " ---> Using cache\n",
      " ---> cfbabcb04fda\n",
      "Step 3/24 : ARG DEBIAN_FRONTEND=noninteractive\n",
      " ---> Using cache\n",
      " ---> ff889f96d14b\n",
      "Step 4/24 : RUN apt-get update     && apt-get  -y -f install build-essential gcc cmake nvidia-container-toolkit nvidia-container-runtime git\n",
      " ---> Using cache\n",
      " ---> 08cfa6047955\n",
      "Step 5/24 : ARG FUNCTION_DIR=\"/opt/program\"\n",
      " ---> Using cache\n",
      " ---> d7c0f7476c95\n",
      "Step 6/24 : WORKDIR ${FUNCTION_DIR}\n",
      " ---> Using cache\n",
      " ---> 942fcc4fbf3f\n",
      "Step 7/24 : RUN git clone https://github.com/ztxz16/fastllm.git ${FUNCTION_DIR}/fastllm\n",
      " ---> Using cache\n",
      " ---> 145218b00b68\n",
      "Step 8/24 : WORKDIR ${FUNCTION_DIR}\n",
      " ---> Using cache\n",
      " ---> 76571465c6ba\n",
      "Step 9/24 : RUN mkdir -p ${FUNCTION_DIR}/fastllm/build\n",
      " ---> Using cache\n",
      " ---> 48f636ccadbc\n",
      "Step 10/24 : RUN cd fastllm/build && cmake .. -DUSE_CUDA=ON && make -j && cd tools && python3 setup.py install\n",
      " ---> Using cache\n",
      " ---> fc5b979247ae\n",
      "Step 11/24 : ADD requirements.txt ${FUNCTION_DIR}\n",
      " ---> Using cache\n",
      " ---> 90234570605e\n",
      "Step 12/24 : RUN pip3 install -r ${FUNCTION_DIR}/requirements.txt\n",
      " ---> Using cache\n",
      " ---> e314e0d5cfa8\n",
      "Step 13/24 : RUN pip3 install flask gevent\n",
      " ---> Using cache\n",
      " ---> 0cc985dbd369\n",
      "Step 14/24 : RUN mkdir -p ${FUNCTION_DIR}/model\n",
      " ---> Using cache\n",
      " ---> b946838d296c\n",
      "Step 15/24 : ADD s5cmd ${FUNCTION_DIR}/\n",
      " ---> Using cache\n",
      " ---> 0444bff841bf\n",
      "Step 16/24 : ENV MODEL_PATH=\"${FUNCTION_DIR}/model/\"\n",
      " ---> Using cache\n",
      " ---> 6305950745c3\n",
      "Step 17/24 : ADD handler.py ${FUNCTION_DIR}\n",
      " ---> 8bbdbc3832c4\n",
      "Step 18/24 : ADD sm_llm.py ${FUNCTION_DIR}\n",
      " ---> 045a8216ee8d\n",
      "Step 19/24 : ENV PYTHONUNBUFFERED=TRUE\n",
      " ---> Running in 81f6c46bc57d\n",
      "Removing intermediate container 81f6c46bc57d\n",
      " ---> 519c40a99c1c\n",
      "Step 20/24 : ENV PYTHONDONTWRITEBYTECODE=TRUE\n",
      " ---> Running in 17ad964a3976\n",
      "Removing intermediate container 17ad964a3976\n",
      " ---> 0626723abd62\n",
      "Step 21/24 : ENV PYTHONIOENCODING=\"utf8\"\n",
      " ---> Running in 06fb388aa3a1\n",
      "Removing intermediate container 06fb388aa3a1\n",
      " ---> bc1c0f57c149\n",
      "Step 22/24 : ENV PATH=\"/opt/ml/:${PATH}\"\n",
      " ---> Running in e172b997e1b3\n",
      "Removing intermediate container e172b997e1b3\n",
      " ---> 4e3c90a582b7\n",
      "Step 23/24 : WORKDIR ${FUNCTION_DIR}\n",
      " ---> Running in 73a45126616b\n",
      "Removing intermediate container 73a45126616b\n",
      " ---> cd89bb65ed37\n",
      "Step 24/24 : ENTRYPOINT [\"python3\", \"sm_llm.py\"]\n",
      " ---> Running in 14bcd2bb71b9\n",
      "Removing intermediate container 14bcd2bb71b9\n",
      " ---> 05065f26e119\n",
      "Successfully built 05065f26e119\n",
      "Successfully tagged fastllm_chatglm2:latest\n"
     ]
    }
   ],
   "source": [
    "!docker build . -t fastllm_chatglm2"
   ]
  },
  {
   "cell_type": "code",
   "execution_count": 5,
   "id": "1f29c2d1-f4d5-4a72-ad24-d6193fcf1aa6",
   "metadata": {
    "tags": []
   },
   "outputs": [
    {
     "name": "stdout",
     "output_type": "stream",
     "text": [
      "REPOSITORY                                                      TAG                               IMAGE ID       CREATED          SIZE\n",
      "fastllm_chatglm2                                                latest                            05065f26e119   22 seconds ago   17.2GB\n",
      "568765279027.dkr.ecr.us-east-1.amazonaws.com/fastllm_chatglm2   latest                            d9b2860ad09e   9 minutes ago    17.2GB\n",
      "568765279027.dkr.ecr.us-east-1.amazonaws.com/fastllm_chatglm2   <none>                            c4a408ca4451   20 minutes ago   17.2GB\n",
      "568765279027.dkr.ecr.us-east-1.amazonaws.com/fastllm_chatglm2   <none>                            908ff925a5ab   33 hours ago     17.2GB\n",
      "568765279027.dkr.ecr.us-east-1.amazonaws.com/fastllm_chatglm2   <none>                            8d55fadfa1f4   44 hours ago     17.2GB\n",
      "568765279027.dkr.ecr.us-east-1.amazonaws.com/fastllm_chatglm2   <none>                            fcd234c40687   45 hours ago     17.2GB\n",
      "568765279027.dkr.ecr.us-east-1.amazonaws.com/fastllm_chatglm2   <none>                            d2633f6bd3b9   46 hours ago     17.2GB\n",
      "568765279027.dkr.ecr.us-east-1.amazonaws.com/fastllm_chatglm2   <none>                            0475368880a2   2 days ago       17.2GB\n",
      "568765279027.dkr.ecr.us-east-1.amazonaws.com/fastllm_chatglm2   <none>                            7a8a7a9df630   3 days ago       17.2GB\n",
      "568765279027.dkr.ecr.us-east-1.amazonaws.com/fastllm_chatglm2   <none>                            818e534a6946   3 days ago       17.2GB\n",
      "<none>                                                          <none>                            eeac370ed20f   3 days ago       17.2GB\n",
      "<none>                                                          <none>                            8cd30c0b553d   3 days ago       17.2GB\n",
      "nvidia/cuda                                                     11.8.0-cudnn8-devel-ubuntu20.04   95d242fe9108   8 weeks ago      9.83GB\n"
     ]
    }
   ],
   "source": [
    "!docker images"
   ]
  },
  {
   "cell_type": "code",
   "execution_count": 6,
   "id": "da2c5be3-c13b-4309-91c7-21d9ec121397",
   "metadata": {
    "tags": []
   },
   "outputs": [],
   "source": [
    "!docker tag fastllm_chatglm2 568765279027.dkr.ecr.us-east-1.amazonaws.com/fastllm_chatglm2:latest"
   ]
  },
  {
   "cell_type": "code",
   "execution_count": 7,
   "id": "fd8371d8-cc9f-4429-9861-75856c57a6c0",
   "metadata": {
    "tags": []
   },
   "outputs": [
    {
     "name": "stdout",
     "output_type": "stream",
     "text": [
      "REPOSITORY                                                      TAG                               IMAGE ID       CREATED          SIZE\n",
      "568765279027.dkr.ecr.us-east-1.amazonaws.com/fastllm_chatglm2   latest                            05065f26e119   26 seconds ago   17.2GB\n",
      "fastllm_chatglm2                                                latest                            05065f26e119   26 seconds ago   17.2GB\n",
      "568765279027.dkr.ecr.us-east-1.amazonaws.com/fastllm_chatglm2   <none>                            d9b2860ad09e   9 minutes ago    17.2GB\n",
      "568765279027.dkr.ecr.us-east-1.amazonaws.com/fastllm_chatglm2   <none>                            c4a408ca4451   20 minutes ago   17.2GB\n",
      "568765279027.dkr.ecr.us-east-1.amazonaws.com/fastllm_chatglm2   <none>                            908ff925a5ab   33 hours ago     17.2GB\n",
      "568765279027.dkr.ecr.us-east-1.amazonaws.com/fastllm_chatglm2   <none>                            8d55fadfa1f4   44 hours ago     17.2GB\n",
      "568765279027.dkr.ecr.us-east-1.amazonaws.com/fastllm_chatglm2   <none>                            fcd234c40687   45 hours ago     17.2GB\n",
      "568765279027.dkr.ecr.us-east-1.amazonaws.com/fastllm_chatglm2   <none>                            d2633f6bd3b9   46 hours ago     17.2GB\n",
      "568765279027.dkr.ecr.us-east-1.amazonaws.com/fastllm_chatglm2   <none>                            0475368880a2   2 days ago       17.2GB\n",
      "568765279027.dkr.ecr.us-east-1.amazonaws.com/fastllm_chatglm2   <none>                            7a8a7a9df630   3 days ago       17.2GB\n",
      "568765279027.dkr.ecr.us-east-1.amazonaws.com/fastllm_chatglm2   <none>                            818e534a6946   3 days ago       17.2GB\n",
      "<none>                                                          <none>                            eeac370ed20f   3 days ago       17.2GB\n",
      "<none>                                                          <none>                            8cd30c0b553d   3 days ago       17.2GB\n",
      "nvidia/cuda                                                     11.8.0-cudnn8-devel-ubuntu20.04   95d242fe9108   8 weeks ago      9.83GB\n"
     ]
    }
   ],
   "source": [
    "!docker images"
   ]
  },
  {
   "cell_type": "code",
   "execution_count": 8,
   "id": "b7157b64-9906-4747-a39f-2d8105a55a09",
   "metadata": {
    "tags": []
   },
   "outputs": [],
   "source": [
    "repo_name = 'fastllm_chatglm2'\n",
    "repo_url = f'{account_id}.dkr.ecr.{region}.amazonaws.com/fastllm_chatglm2:latest'"
   ]
  },
  {
   "cell_type": "code",
   "execution_count": 9,
   "id": "434ac782-148d-4498-8144-f6f68997a1fe",
   "metadata": {
    "tags": []
   },
   "outputs": [
    {
     "data": {
      "text/plain": [
       "('fastllm_chatglm2',\n",
       " '568765279027.dkr.ecr.us-east-1.amazonaws.com/fastllm_chatglm2:latest')"
      ]
     },
     "execution_count": 9,
     "metadata": {},
     "output_type": "execute_result"
    }
   ],
   "source": [
    "repo_name, repo_url"
   ]
  },
  {
   "cell_type": "code",
   "execution_count": 10,
   "id": "c31cd0ed-c1ce-427e-9b46-5504609cefa6",
   "metadata": {
    "tags": []
   },
   "outputs": [
    {
     "name": "stdout",
     "output_type": "stream",
     "text": [
      "WARNING! Your password will be stored unencrypted in /home/ec2-user/.docker/config.json.\n",
      "Configure a credential helper to remove this warning. See\n",
      "https://docs.docker.com/engine/reference/commandline/login/#credentials-store\n",
      "\n",
      "Login Succeeded\n"
     ]
    }
   ],
   "source": [
    "!aws ecr get-login-password --region us-east-1 | docker login --username AWS --password-stdin 568765279027.dkr.ecr.us-east-1.amazonaws.com\n"
   ]
  },
  {
   "cell_type": "code",
   "execution_count": 11,
   "id": "86133c64-0717-4d64-99f9-bd754215ffec",
   "metadata": {
    "tags": []
   },
   "outputs": [
    {
     "name": "stdout",
     "output_type": "stream",
     "text": [
      "{\n",
      "    \"repositories\": [\n",
      "        {\n",
      "            \"repositoryArn\": \"arn:aws:ecr:us-east-1:568765279027:repository/fastllm_chatglm2\",\n",
      "            \"registryId\": \"568765279027\",\n",
      "            \"repositoryName\": \"fastllm_chatglm2\",\n",
      "            \"repositoryUri\": \"568765279027.dkr.ecr.us-east-1.amazonaws.com/fastllm_chatglm2\",\n",
      "            \"createdAt\": 1692164750.0,\n",
      "            \"imageTagMutability\": \"MUTABLE\",\n",
      "            \"imageScanningConfiguration\": {\n",
      "                \"scanOnPush\": false\n",
      "            },\n",
      "            \"encryptionConfiguration\": {\n",
      "                \"encryptionType\": \"AES256\"\n",
      "            }\n",
      "        }\n",
      "    ]\n",
      "}\n"
     ]
    }
   ],
   "source": [
    "!aws ecr describe-repositories --repository-names $repo_name || aws ecr create-repository --repository-name $repo_name\n"
   ]
  },
  {
   "cell_type": "markdown",
   "id": "73ad18f9-54ef-4358-964c-5455cb9161be",
   "metadata": {},
   "source": [
    "提交镜像需要运行notebook所使用的role具有相应的权限，例如：AmazonEC2ContainerRegistryFullAccess"
   ]
  },
  {
   "cell_type": "code",
   "execution_count": 12,
   "id": "576ff0b8-c520-4fa9-a75d-932e0e87ca88",
   "metadata": {
    "tags": []
   },
   "outputs": [
    {
     "name": "stdout",
     "output_type": "stream",
     "text": [
      "The push refers to repository [568765279027.dkr.ecr.us-east-1.amazonaws.com/fastllm_chatglm2]\n",
      "\n",
      "\u001b[1Bb12442e0: Preparing \n",
      "\u001b[1B7b853bb4: Preparing \n",
      "\u001b[1B2ee2afc1: Preparing \n",
      "\u001b[1B46e7a12e: Preparing \n",
      "\u001b[1Bdd0e907a: Preparing \n",
      "\u001b[1Bfd852e83: Preparing \n",
      "\u001b[1Bd37e9ebb: Preparing \n",
      "\u001b[1B48a9a225: Preparing \n",
      "\u001b[1Be455b879: Preparing \n",
      "\u001b[1B6ae9ac87: Preparing \n",
      "\u001b[1B77e7f976: Preparing \n",
      "\u001b[1Bb5e06a99: Preparing \n",
      "\u001b[1Bcf377346: Preparing \n",
      "\u001b[1B4adf2d91: Preparing \n",
      "\u001b[1B12b2bcfe: Preparing \n",
      "\u001b[1Ba107ea4b: Preparing \n",
      "\u001b[1Bbabe0dd6: Preparing \n",
      "\u001b[1B68a70f7f: Preparing \n",
      "\u001b[1Bf07cfd83: Preparing \n",
      "\u001b[1B654bb9f9: Preparing \n",
      "\u001b[1B6ad9c95e: Preparing \n",
      "\u001b[1Bb4e1ecd1: Preparing \n",
      "\u001b[1B5c845fcf: Preparing \n",
      "\u001b[1Ba7216f78: Preparing \n",
      "\u001b[24Bb853bb4: Pushed lready exists 9kB5A\u001b[2K\u001b[24A\u001b[2K\u001b[15A\u001b[2K\u001b[12A\u001b[2K\u001b[7A\u001b[2K\u001b[5A\u001b[2K\u001b[2A\u001b[2K\u001b[24A\u001b[2Klatest: digest: sha256:854cb0992839b43aae48b6c18821e883361f0974604a5ffbae84b9fca887c3ed size: 5571\n"
     ]
    }
   ],
   "source": [
    "!docker push 568765279027.dkr.ecr.us-east-1.amazonaws.com/fastllm_chatglm2:latest"
   ]
  },
  {
   "cell_type": "code",
   "execution_count": 13,
   "id": "5d2bbc95-0db3-4cbc-8231-d5433fa3aa60",
   "metadata": {
    "tags": []
   },
   "outputs": [
    {
     "name": "stdout",
     "output_type": "stream",
     "text": [
      "568765279027.dkr.ecr.us-east-1.amazonaws.com/fastllm_chatglm2:latest\n"
     ]
    }
   ],
   "source": [
    "container_image_uri = \"{0}.dkr.ecr.{1}.amazonaws.com/{2}:latest\".format(\n",
    "    account_id, region, repo_name\n",
    ")\n",
    "print(container_image_uri)"
   ]
  },
  {
   "cell_type": "code",
   "execution_count": 14,
   "id": "b1ff48ba-c91f-40c9-9232-6a07b07495e4",
   "metadata": {
    "tags": []
   },
   "outputs": [
    {
     "name": "stdout",
     "output_type": "stream",
     "text": [
      "dummy\n"
     ]
    }
   ],
   "source": [
    "\n",
    "!touch dummy\n",
    "!tar czvf model.tar.gz dummy\n",
    "!rm -f dummy"
   ]
  },
  {
   "cell_type": "code",
   "execution_count": 15,
   "id": "71327796-cc37-4868-b0d5-040956fd7f56",
   "metadata": {
    "tags": []
   },
   "outputs": [
    {
     "name": "stdout",
     "output_type": "stream",
     "text": [
      "upload: ./model.tar.gz to s3://sagemaker-us-east-1-568765279027/mt_models_uploaded/model.tar.gz\n"
     ]
    }
   ],
   "source": [
    "!aws s3 cp model.tar.gz s3://{bucket}/mt_models_uploaded/"
   ]
  },
  {
   "cell_type": "code",
   "execution_count": 16,
   "id": "7cb4b16f-0a45-4815-b683-25cc9bce0b47",
   "metadata": {
    "tags": []
   },
   "outputs": [
    {
     "name": "stderr",
     "output_type": "stream",
     "text": [
      "Using already existing model: mt-chatglm6b-fastllm-model\n"
     ]
    },
    {
     "name": "stdout",
     "output_type": "stream",
     "text": [
      "-------------!"
     ]
    }
   ],
   "source": [
    "from sagemaker.model import Model\n",
    "from sagemaker.predictor import Predictor\n",
    "\n",
    "endpoint_name = \"mt-chatglm2-6b-fastllm-fp16-g4dn\"\n",
    "\n",
    "# Create the SageMaker model instance\n",
    "model = Model(\n",
    "    name='mt-chatglm6b-fastllm-model',\n",
    "    image_uri=container_image_uri,\n",
    "    role=role,\n",
    "    model_data = \"s3://sagemaker-us-east-1-568765279027/mt_models_uploaded/model.tar.gz\",\n",
    "    env={\n",
    "        \"MODEL_S3_URL\": model_s3_url\n",
    "    }\n",
    ")\n",
    "\n",
    "model.deploy(\n",
    "    instance_type='ml.g4dn.2xlarge',\n",
    "    initial_instance_count=1,\n",
    "    endpoint_name = endpoint_name,\n",
    ")"
   ]
  },
  {
   "cell_type": "code",
   "execution_count": 3,
   "id": "4538f608-6b4d-4185-ab1f-795b8bf44261",
   "metadata": {
    "tags": []
   },
   "outputs": [],
   "source": [
    "from sagemaker import serializers, deserializers\n",
    "\n",
    "del_predictor = sagemaker.Predictor(\n",
    "    endpoint_name=endpoint_name, \n",
    "    sagemaker_session=sagemaker_session, \n",
    "    serializer=serializers.JSONSerializer(), \n",
    "    deserializer=deserializers.JSONDeserializer())\n",
    "# del_predictor.delete_model()\n",
    "# del_predictor.delete_endpoint()\n",
    "# "
   ]
  },
  {
   "cell_type": "code",
   "execution_count": 17,
   "id": "c3e322cb-e2c3-4508-89e5-a4644c14776c",
   "metadata": {
    "tags": []
   },
   "outputs": [],
   "source": [
    "from sagemaker import serializers, deserializers\n",
    "\n",
    "predictor = sagemaker.Predictor(\n",
    "    endpoint_name=endpoint_name, \n",
    "    sagemaker_session=sagemaker_session, \n",
    "    serializer=serializers.JSONSerializer(),\n",
    "    deserializer=deserializers.JSONDeserializer()\n",
    ")"
   ]
  },
  {
   "cell_type": "code",
   "execution_count": 18,
   "id": "f4187b18-878d-4140-b67f-b8eb1355f2f3",
   "metadata": {
    "tags": []
   },
   "outputs": [
    {
     "data": {
      "text/plain": [
       "<module 'prompt_generator' from '/home/ec2-user/SageMaker/LLM_Workshop/fastllm/../prompt_generator.py'>"
      ]
     },
     "execution_count": 18,
     "metadata": {},
     "output_type": "execute_result"
    }
   ],
   "source": [
    "# from prompt_generator import generate_prompt as gen_prompt\n",
    "import importlib, sys\n",
    "\n",
    "sys.path.append('..')\n",
    "\n",
    "import prompt_generator as pg\n",
    "importlib.reload(pg)"
   ]
  },
  {
   "cell_type": "code",
   "execution_count": 19,
   "id": "b2b292c8-1ef6-42d7-bd93-3e160f703ab4",
   "metadata": {
    "tags": []
   },
   "outputs": [],
   "source": [
    "model_code='chatglm2'"
   ]
  },
  {
   "cell_type": "code",
   "execution_count": 38,
   "id": "b6316347-518b-47a7-822d-92a47188024c",
   "metadata": {
    "tags": []
   },
   "outputs": [
    {
     "data": {
      "text/plain": [
       "'{\"prompt\": \"\\\\u5199\\\\u4e00\\\\u9996\\\\u5173\\\\u4e8e\\\\u4ea4\\\\u901a\\\\u4fe1\\\\u53f7\\\\u706f\\\\u7684\\\\u8bd7\"}'"
      ]
     },
     "execution_count": 38,
     "metadata": {},
     "output_type": "execute_result"
    }
   ],
   "source": [
    "json.dumps(inputs[0])"
   ]
  },
  {
   "cell_type": "code",
   "execution_count": 20,
   "id": "f9ee4935-8a6e-4d4b-85a0-937b8ae5667d",
   "metadata": {
    "tags": []
   },
   "outputs": [
    {
     "name": "stdout",
     "output_type": "stream",
     "text": [
      "\n",
      "\n",
      "问题:  写一首关于交通信号灯的诗 \n",
      "回答:\n",
      "  交通信号灯,闪亮如星辰,\n",
      "指引行人走,车辆停。\n",
      "红绿黄三种颜色,\n",
      "传递安全与秩序的信息。\n",
      "\n",
      "当红灯亮时,停车等待,\n",
      "绿灯亮时,通行顺畅,\n",
      "黄灯闪烁,提醒注意,\n",
      "让道路通行更加安全。\n",
      "\n",
      "交通信号灯,是我们的保障,\n",
      "让交通流畅,让人民安全,\n",
      "我们感激它的辛勤工作,\n",
      "让它成为我们心目中的英雄。\n",
      "\n",
      "\n",
      "问题:  陨石为什么总能落在陨石坑里? \n",
      "回答:\n",
      "  陨石坑是因为陨石撞击地球表面而形成的环形凹坑,陨石坑内部通常会有一些水坑和岩石碎片,这是因为陨石在进入地球大气层时,由于与大气分子的摩擦而产生高温和高压,导致陨石表面发生熔融和烧蚀。\n",
      "\n",
      "陨石坑内部由于陨石与岩石的接触而产生应力,当陨石撞击地球表面时,由于陨石的高速和力量,会使陨石表面发生变形和破裂,这些碎片会沿着陨石坑的边缘向外扩散,最终落回陨石坑内部。\n",
      "\n",
      "此外,陨石坑内部通常会有一些水坑和岩石碎片,这是因为陨石在进入地球大气层时,由于与大气分子的摩擦而产生高温和高压,导致陨石表面发生熔融和烧蚀。水坑和岩石碎片是由于陨石表面熔融的岩石和金属在撞击过程中被溅射而形成的。\n",
      "\n",
      "因此,陨石落在陨石坑里是由于陨石高速撞击地球表面,导致陨石表面发生变形和破裂,碎片会落回陨石坑内部,同时陨石坑内部由于陨石与岩石的接触而产生应力,使陨石表面发生熔融和烧蚀,最终形成陨石坑。\n",
      "\n",
      "\n",
      "问题:  为什么爸妈结婚没叫我参加婚礼? \n",
      "回答:\n",
      "  父母结婚时没有叫我参加婚礼,可能是因为他们认为我年龄太小,还不适合参加这样的正式场合;也可能是他们认为我的婚礼不是很重要的,不值得他们亲自参加;再者,可能他们认为我的婚礼他们会很忙,无法抽出时间参加。\n",
      "\n",
      "无论原因是什么,我理解他们的想法,并且感谢他们对我的关心和爱护。如果对他们的想法感到困惑或不满,可以尝试与他们沟通,了解他们的想法和原因,并尝试达成共识。\n"
     ]
    }
   ],
   "source": [
    "inputs= [\n",
    "    {\"inputs\": \"写一首关于交通信号灯的诗\"},\n",
    "    {\"inputs\": \"陨石为什么总能落在陨石坑里?\"},\n",
    "    {\"inputs\": \"为什么爸妈结婚没叫我参加婚礼?\"}\n",
    "]\n",
    "response = predictor.predict(inputs[0])\n",
    "print(\"\\n\\n问题: \", inputs[0][\"inputs\"], \"\\n回答:\\n\", response[\"outputs\"])\n",
    "response = predictor.predict(inputs[1])\n",
    "print(\"\\n\\n问题: \", inputs[1][\"inputs\"], \"\\n回答:\\n\", response[\"outputs\"])\n",
    "response = predictor.predict(inputs[2])\n",
    "print(\"\\n\\n问题: \", inputs[2][\"inputs\"], \"\\n回答:\\n\", response[\"outputs\"])"
   ]
  },
  {
   "cell_type": "code",
   "execution_count": 35,
   "id": "2dded10c-aecb-4d35-b13a-9b3732e1f02c",
   "metadata": {
    "tags": []
   },
   "outputs": [
    {
     "name": "stdout",
     "output_type": "stream",
     "text": [
      "Response:   并非陨石总能落在陨石坑里,但陨石坑确实是一个常见的陨石撞击地点。陨石坑是由撞击地球表面的小行星、彗星或陨石等天体形成的。当这些天体进入地球大气层时,由于与大气分子的摩擦而产生高温和高压,导致它们开始燃烧和蒸发,形成一个明亮的火球。\n",
      "\n",
      "当这些火球与地面接触时,由于陨石的质量和速度,它们会产生巨大的冲击力,导致地表上形成一个陨石坑。由于陨石坑本身的特征和地理位置等因素的影响,陨石坑内的陨石往往会被保存下来,并成为研究陨石撞击地球表面历史的重要样本。\n",
      "Cost Time:  7.569836378097534 seconds\n",
      "Output Token : 225\n",
      "Speed: 29.72 token/s\n"
     ]
    }
   ],
   "source": []
  },
  {
   "cell_type": "code",
   "execution_count": null,
   "id": "bb45f238-7b0f-4933-b26a-2e06828fc1bd",
   "metadata": {},
   "outputs": [],
   "source": []
  },
  {
   "cell_type": "code",
   "execution_count": 23,
   "id": "aea25b37-356b-4a68-ad5f-7b6e7ac3d608",
   "metadata": {
    "tags": []
   },
   "outputs": [],
   "source": [
    "import json\n",
    "import boto3\n",
    "\n",
    "client = boto3.client('runtime.sagemaker')\n",
    "endpoint_name = \"mt-chatglm2-6b-fastllm-fp16-g4dn\"\n",
    "\n",
    "def query_endpoint(encoded_json):\n",
    "    response = client.invoke_endpoint(EndpointName=endpoint_name, ContentType='application/json', Body=encoded_json)\n",
    "    model_predictions = json.loads(response['Body'].read())\n",
    "    generated_text = model_predictions[\"outputs\"]\n",
    "    return generated_text\n"
   ]
  },
  {
   "cell_type": "code",
   "execution_count": 28,
   "id": "03d7da9e-cb45-4f28-8431-69e369ae3ba3",
   "metadata": {},
   "outputs": [
    {
     "name": "stdout",
     "output_type": "stream",
     "text": [
      " 阿根廷队伍,梅西。\n",
      "CPU times: user 4.87 ms, sys: 0 ns, total: 4.87 ms\n",
      "Wall time: 469 ms\n"
     ]
    }
   ],
   "source": [
    "%%time\n",
    "\n",
    "payload = {\"inputs\": \"信息抽取：\\n2022年世界杯的冠军是阿根廷队伍，梅西是MVP\\n使用json格式提取：国家名，人名\\n\", \"parameters\": {\"temperature\": 0.01}}\n",
    "payload = pg.create_payload(\"信息抽取：\\n2022年世界杯的冠军是阿根廷队伍，梅西是MVP\\n问题：国家名，人名\\n答案：\", model_code)\n",
    "\n",
    "resp_test = query_endpoint(json.dumps(payload).encode('utf-8'))\n",
    "print(resp_test)"
   ]
  },
  {
   "cell_type": "code",
   "execution_count": 29,
   "id": "dc8c340b-d800-4420-bbca-9209a1c54fec",
   "metadata": {},
   "outputs": [
    {
     "name": "stdout",
     "output_type": "stream",
     "text": [
      " 天空看起来是蓝色的主要原因是光的散射。当太阳光穿过大气层时,与空气分子相互作用,使得光产生了散射。空气分子中的气体和尘埃会散射光线,其中蓝色光的波长比红色光波长短,因此更容易被散射。\n",
      "\n",
      "当太阳光穿过大气层时,蓝色光波比其他颜色的光波更容易被散射,而红色光波则更容易被保留。这就是为什么在日落或日出时,太阳光经过更长的大气层路径,蓝色光波的散射程度会减小,天空呈现出橙色或红色。\n",
      "\n",
      "天空为什么是蓝色是由于光的散射,使得蓝色光波更容易被散射,而其他颜色的光波则更容易被保留。\n",
      "236\n",
      "CPU times: user 3.61 ms, sys: 1.73 ms, total: 5.33 ms\n",
      "Wall time: 8.65 s\n"
     ]
    }
   ],
   "source": [
    "%%time\n",
    "payload = pg.create_payload(\"天为什么是蓝色的？\", model_code)\n",
    "answer = query_endpoint(json.dumps(payload).encode('utf-8'))\n",
    "print(answer)\n",
    "print(len(answer))"
   ]
  },
  {
   "cell_type": "code",
   "execution_count": 26,
   "id": "94c3e313-0c77-41f8-b80c-c819d1a449c0",
   "metadata": {},
   "outputs": [
    {
     "name": "stdout",
     "output_type": "stream",
     "text": [
      " 小明剩下的钱是 200 - 66 - 12 = 134 元。\n",
      "\n",
      "小明剩下的钱比原来少了 66 - 134 = -50 元。\n",
      "62\n",
      "CPU times: user 4.61 ms, sys: 748 µs, total: 5.35 ms\n",
      "Wall time: 2.73 s\n"
     ]
    }
   ],
   "source": [
    "%%time\n",
    "payload = pg.create_payload(\"小明有200元，买书花了66元，买文具花了12元，小明剩下的钱比原来少了多少元？\", model_code)\n",
    "answer = query_endpoint(json.dumps(payload).encode('utf-8'))\n",
    "print(answer)\n",
    "print(len(answer))"
   ]
  },
  {
   "cell_type": "code",
   "execution_count": null,
   "id": "bd7cfa55-9364-49bb-aab9-af18790cd132",
   "metadata": {},
   "outputs": [],
   "source": []
  }
 ],
 "metadata": {
  "kernelspec": {
   "display_name": "Custom (mt_python3)",
   "language": "python",
   "name": "mt_python3"
  },
  "language_info": {
   "codemirror_mode": {
    "name": "ipython",
    "version": 3
   },
   "file_extension": ".py",
   "mimetype": "text/x-python",
   "name": "python",
   "nbconvert_exporter": "python",
   "pygments_lexer": "ipython3",
   "version": "3.10.11"
  }
 },
 "nbformat": 4,
 "nbformat_minor": 5
}
