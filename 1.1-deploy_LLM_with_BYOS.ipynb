{
 "cells": [
  {
   "cell_type": "markdown",
   "id": "dd1409b5-035c-4e66-8ed1-7e06865ad52f",
   "metadata": {},
   "source": [
    "## 使用SageMaker的BYOS(Bring Your Oen Script)方式部署大语言模型\n",
    "\n",
    "利用SageMaker部署大语言模型的原理如下：\n",
    "\n",
    "<img src=\"imgs/sagemaker_deploy_model.jpg\" style=\"width: 850px;\"></img>\n",
    "\n",
    "SageMaker提供了几种不同的Container来部署模型，这里我们就使用默认提供的容器来进行部署。"
   ]
  },
  {
   "cell_type": "markdown",
   "id": "36da04a2-c943-4680-864c-678546f920c7",
   "metadata": {},
   "source": [
    "### 可部署的模型\n",
    "\n",
    "这里提供了多个模型，以及相应的script用于部署，提供的模型有：\n",
    " * ChatGLM\n",
    " * ChatGLM2\n",
    " * Baichuan\n",
    " * Baichuan2\n",
    " * cn-alpaca\n",
    " * Chatyuan-v2\n",
    " * CPM-Bee-5B\n",
    "\n",
    "所需的脚本在相应的`code-*`文件夹里。\n"
   ]
  },
  {
   "cell_type": "markdown",
   "id": "efb2586d-30c9-45f0-b232-a1f8c3b9bd0f",
   "metadata": {
    "tags": []
   },
   "source": [
    "### 部署"
   ]
  },
  {
   "cell_type": "markdown",
   "id": "c1fe93c1-29b8-40e3-9c82-7f7ce1b2ffaf",
   "metadata": {},
   "source": [
    "准备：\n",
    "1. 升级boto3, sagemaker python sdk  \n",
    "2. 准备inference.py, requirements.txt"
   ]
  },
  {
   "cell_type": "code",
   "execution_count": 1,
   "id": "18eb1530-76ea-4bc1-b5e3-7219de5f8ff8",
   "metadata": {
    "tags": []
   },
   "outputs": [],
   "source": [
    "# 如果需要，更新sagemaker和 aws python sdk boto3\n",
    "# !pip install --upgrade boto3\n",
    "# !pip install --upgrade sagemaker"
   ]
  },
  {
   "cell_type": "code",
   "execution_count": 1,
   "id": "49d80dad-12b2-4228-97db-69a89fcf951a",
   "metadata": {
    "tags": []
   },
   "outputs": [],
   "source": [
    "import boto3\n",
    "import sagemaker\n",
    "\n",
    "account_id = boto3.client('sts').get_caller_identity().get('Account')\n",
    "region_name = boto3.session.Session().region_name\n",
    "\n",
    "sagemaker_session = sagemaker.Session()\n",
    "bucket = sagemaker_session.default_bucket()\n",
    "role = sagemaker.get_execution_role()"
   ]
  },
  {
   "cell_type": "code",
   "execution_count": 2,
   "id": "c491ec14-4887-41b5-95f0-1eee54300cde",
   "metadata": {
    "tags": []
   },
   "outputs": [
    {
     "data": {
      "text/plain": [
       "'sagemaker-us-east-1-568765279027'"
      ]
     },
     "execution_count": 2,
     "metadata": {},
     "output_type": "execute_result"
    }
   ],
   "source": [
    "bucket"
   ]
  },
  {
   "cell_type": "markdown",
   "id": "55d7e43b-5e84-4a4a-85e6-599e9e47c5a9",
   "metadata": {},
   "source": [
    "接下来，我们使用Sagemaker进行模型部署。\n",
    "\n",
    "所有 “code-” 开始的文件夹都是以BYOS的方式部署时的脚本文件。"
   ]
  },
  {
   "cell_type": "code",
   "execution_count": 25,
   "id": "9ede4043-1ef2-4d94-be21-7b2228c21963",
   "metadata": {
    "tags": []
   },
   "outputs": [],
   "source": [
    "# model_dir = \"cn-alpaca2-7b\"\n",
    "# model_dir = \"cpmbee\"\n",
    "model_dir = \"baichuan2-13b-4bits\"\n",
    "# model_dir = \"chatglm2\"\n",
    "source_dir = './code-' + model_dir\n",
    "# model_code = \"chatglm\"\n",
    "model_code = \"baichuan2\""
   ]
  },
  {
   "cell_type": "code",
   "execution_count": 26,
   "id": "357920bb-e661-408e-8444-abbd995de2dd",
   "metadata": {
    "tags": []
   },
   "outputs": [
    {
     "name": "stdout",
     "output_type": "stream",
     "text": [
      "dummy\n"
     ]
    }
   ],
   "source": [
    "from sagemaker.pytorch.model import PyTorchModel\n",
    "\n",
    "model_name = None\n",
    "framework_version = '2.0.0'\n",
    "py_version = 'py310'\n",
    "model_environment = {\n",
    "    'SAGEMAKER_MODEL_SERVER_TIMEOUT':'600', \n",
    "    'SAGEMAKER_MODEL_SERVER_WORKERS': '1', \n",
    "}\n",
    "\n",
    "!touch dummy\n",
    "!tar czvf model.tar.gz dummy\n",
    "!rm -f dummy\n",
    "\n",
    "model = PyTorchModel(\n",
    "    name = model_dir + \"-model\",\n",
    "    model_data = \"s3://sagemaker-us-east-1-568765279027/mt_models_uploaded/baichuan-inc--Baichuan2-13B-Chat-4bits-tar/model.tar.gz\",\n",
    "    entry_point = 'inference.py',\n",
    "    source_dir = source_dir,\n",
    "    role = role,\n",
    "    framework_version = framework_version, \n",
    "    py_version = py_version,\n",
    "    env = model_environment\n",
    ")"
   ]
  },
  {
   "cell_type": "code",
   "execution_count": null,
   "id": "37a8ba5e-c750-43bb-9c83-1b921fe75237",
   "metadata": {},
   "outputs": [],
   "source": []
  },
  {
   "cell_type": "markdown",
   "id": "f124bb73-8f39-4d74-8e9f-6d1c6f601519",
   "metadata": {},
   "source": [
    "endpoint_name = 'mt-'+model_dir+'-g4dn'然后部署该模型为 Sagemaker endpoint"
   ]
  },
  {
   "cell_type": "code",
   "execution_count": 27,
   "id": "e25d037d-c7c3-4202-ac30-dc2726c027ea",
   "metadata": {
    "tags": []
   },
   "outputs": [
    {
     "data": {
      "text/plain": [
       "'mt-baichuan2-13b-4bits-g4dn'"
      ]
     },
     "execution_count": 27,
     "metadata": {},
     "output_type": "execute_result"
    }
   ],
   "source": [
    "instance_type = 'ml.g4dn.2xlarge'\n",
    "# instance_type = 'ml.g5.2xlarge'\n",
    "\n",
    "# endpoint_name = 'mt-'+model_dir+'-g5'\n",
    "endpoint_name = 'mt-'+model_dir+'-g4dn'\n",
    "endpoint_name"
   ]
  },
  {
   "cell_type": "code",
   "execution_count": 29,
   "id": "9b5c0454-df30-4bdc-8864-664e9c46a0b7",
   "metadata": {
    "tags": []
   },
   "outputs": [
    {
     "name": "stdout",
     "output_type": "stream",
     "text": [
      "--------------!"
     ]
    }
   ],
   "source": [
    "# deploy as sagemaker endpoint\n",
    "instance_count = 1\n",
    "\n",
    "from sagemaker.serializers import JSONSerializer\n",
    "from sagemaker.deserializers import JSONDeserializer\n",
    "predictor = model.deploy(\n",
    "    endpoint_name = endpoint_name,\n",
    "    instance_type = instance_type,\n",
    "    initial_instance_count = instance_count,\n",
    "    serializer = JSONSerializer(),\n",
    "    deserializer = JSONDeserializer()\n",
    ")"
   ]
  },
  {
   "cell_type": "markdown",
   "id": "b2288b39-62cb-4fb8-aa38-78036f5c1d2a",
   "metadata": {},
   "source": [
    "如果部署过程中出现错误，部署失败，通过下面的方式删除endpoint以及相应的模型。"
   ]
  },
  {
   "cell_type": "code",
   "execution_count": 32,
   "id": "37ba118c-12bd-426a-bc59-aec13ac28f01",
   "metadata": {
    "tags": []
   },
   "outputs": [],
   "source": [
    "from sagemaker import serializers, deserializers\n",
    "\n",
    "del_predictor = sagemaker.Predictor(\n",
    "    endpoint_name='mt-baichuan2-13b-4bits-g4dn', \n",
    "    sagemaker_session=sagemaker_session, \n",
    "    serializer=serializers.JSONSerializer(), \n",
    "    deserializer=deserializers.JSONDeserializer())\n",
    "del_predictor.delete_model()\n",
    "del_predictor.delete_endpoint()"
   ]
  },
  {
   "cell_type": "markdown",
   "id": "2eb450d0-7402-4512-83a8-d29e933ca5d4",
   "metadata": {},
   "source": [
    "如果重启了kernal，可以用下面的方式获取predictor"
   ]
  },
  {
   "cell_type": "code",
   "execution_count": 87,
   "id": "d9e8253f-2502-4e1e-8d8e-9958f6d0f329",
   "metadata": {
    "tags": []
   },
   "outputs": [],
   "source": [
    "from sagemaker import serializers, deserializers\n",
    "\n",
    "predictor = sagemaker.Predictor(\n",
    "    endpoint_name=\"mt-chatglm2-g4dn\", \n",
    "    sagemaker_session=sagemaker_session, \n",
    "    serializer=serializers.JSONSerializer(), \n",
    "    deserializer=deserializers.JSONDeserializer()\n",
    ")"
   ]
  },
  {
   "cell_type": "code",
   "execution_count": 11,
   "id": "87d48080-def8-4510-8933-6cae6812d5d0",
   "metadata": {
    "tags": []
   },
   "outputs": [
    {
     "data": {
      "text/plain": [
       "<module 'prompt_generator' from '/home/ec2-user/SageMaker/LLM_Workshop/prompt_generator.py'>"
      ]
     },
     "execution_count": 11,
     "metadata": {},
     "output_type": "execute_result"
    }
   ],
   "source": [
    "# from prompt_generator import generate_prompt as gen_prompt\n",
    "import prompt_generator as pg\n",
    "import importlib\n",
    "\n",
    "importlib.reload(pg)"
   ]
  },
  {
   "cell_type": "code",
   "execution_count": 12,
   "id": "f03468de-900e-4d74-8c51-b09f77ab963e",
   "metadata": {
    "tags": []
   },
   "outputs": [
    {
     "data": {
      "text/plain": [
       "'chatglm'"
      ]
     },
     "execution_count": 12,
     "metadata": {},
     "output_type": "execute_result"
    }
   ],
   "source": [
    "model_code"
   ]
  },
  {
   "cell_type": "code",
   "execution_count": 33,
   "id": "96120093-f8bc-400b-9e64-5db8758cf0ab",
   "metadata": {
    "tags": []
   },
   "outputs": [
    {
     "ename": "ValidationError",
     "evalue": "An error occurred (ValidationError) when calling the InvokeEndpoint operation: Endpoint mt-baichuan2-13b-4bits-g4dn of account 568765279027 not found.",
     "output_type": "error",
     "traceback": [
      "\u001b[0;31m---------------------------------------------------------------------------\u001b[0m",
      "\u001b[0;31mValidationError\u001b[0m                           Traceback (most recent call last)",
      "Cell \u001b[0;32mIn[33], line 4\u001b[0m\n\u001b[1;32m      1\u001b[0m \u001b[38;5;66;03m# pg.generate_prompt(\"写一首关于交通信号灯的诗\")\u001b[39;00m\n\u001b[1;32m      3\u001b[0m payload \u001b[38;5;241m=\u001b[39m pg\u001b[38;5;241m.\u001b[39mcreate_payload(\u001b[38;5;124m\"\u001b[39m\u001b[38;5;124m信息抽取：\u001b[39m\u001b[38;5;130;01m\\n\u001b[39;00m\u001b[38;5;124m2022年世界杯的冠军是阿根廷队伍，梅西是MVP\u001b[39m\u001b[38;5;130;01m\\n\u001b[39;00m\u001b[38;5;124m问题：国家名，人名\u001b[39m\u001b[38;5;130;01m\\n\u001b[39;00m\u001b[38;5;124m答案：\u001b[39m\u001b[38;5;124m\"\u001b[39m, model_code)\n\u001b[0;32m----> 4\u001b[0m \u001b[43mpredictor\u001b[49m\u001b[38;5;241;43m.\u001b[39;49m\u001b[43mpredict\u001b[49m\u001b[43m(\u001b[49m\u001b[43mpayload\u001b[49m\u001b[43m)\u001b[49m\n",
      "File \u001b[0;32m~/SageMaker/custom-miniconda/miniconda/envs/mt_python3/lib/python3.10/site-packages/sagemaker/base_predictor.py:185\u001b[0m, in \u001b[0;36mPredictor.predict\u001b[0;34m(self, data, initial_args, target_model, target_variant, inference_id, custom_attributes)\u001b[0m\n\u001b[1;32m    138\u001b[0m \u001b[38;5;250m\u001b[39m\u001b[38;5;124;03m\"\"\"Return the inference from the specified endpoint.\u001b[39;00m\n\u001b[1;32m    139\u001b[0m \n\u001b[1;32m    140\u001b[0m \u001b[38;5;124;03mArgs:\u001b[39;00m\n\u001b[0;32m   (...)\u001b[0m\n\u001b[1;32m    174\u001b[0m \u001b[38;5;124;03m        as is.\u001b[39;00m\n\u001b[1;32m    175\u001b[0m \u001b[38;5;124;03m\"\"\"\u001b[39;00m\n\u001b[1;32m    177\u001b[0m request_args \u001b[38;5;241m=\u001b[39m \u001b[38;5;28mself\u001b[39m\u001b[38;5;241m.\u001b[39m_create_request_args(\n\u001b[1;32m    178\u001b[0m     data,\n\u001b[1;32m    179\u001b[0m     initial_args,\n\u001b[0;32m   (...)\u001b[0m\n\u001b[1;32m    183\u001b[0m     custom_attributes,\n\u001b[1;32m    184\u001b[0m )\n\u001b[0;32m--> 185\u001b[0m response \u001b[38;5;241m=\u001b[39m \u001b[38;5;28;43mself\u001b[39;49m\u001b[38;5;241;43m.\u001b[39;49m\u001b[43msagemaker_session\u001b[49m\u001b[38;5;241;43m.\u001b[39;49m\u001b[43msagemaker_runtime_client\u001b[49m\u001b[38;5;241;43m.\u001b[39;49m\u001b[43minvoke_endpoint\u001b[49m\u001b[43m(\u001b[49m\u001b[38;5;241;43m*\u001b[39;49m\u001b[38;5;241;43m*\u001b[39;49m\u001b[43mrequest_args\u001b[49m\u001b[43m)\u001b[49m\n\u001b[1;32m    186\u001b[0m \u001b[38;5;28;01mreturn\u001b[39;00m \u001b[38;5;28mself\u001b[39m\u001b[38;5;241m.\u001b[39m_handle_response(response)\n",
      "File \u001b[0;32m~/SageMaker/custom-miniconda/miniconda/envs/mt_python3/lib/python3.10/site-packages/botocore/client.py:530\u001b[0m, in \u001b[0;36mClientCreator._create_api_method.<locals>._api_call\u001b[0;34m(self, *args, **kwargs)\u001b[0m\n\u001b[1;32m    526\u001b[0m     \u001b[38;5;28;01mraise\u001b[39;00m \u001b[38;5;167;01mTypeError\u001b[39;00m(\n\u001b[1;32m    527\u001b[0m         \u001b[38;5;124mf\u001b[39m\u001b[38;5;124m\"\u001b[39m\u001b[38;5;132;01m{\u001b[39;00mpy_operation_name\u001b[38;5;132;01m}\u001b[39;00m\u001b[38;5;124m() only accepts keyword arguments.\u001b[39m\u001b[38;5;124m\"\u001b[39m\n\u001b[1;32m    528\u001b[0m     )\n\u001b[1;32m    529\u001b[0m \u001b[38;5;66;03m# The \"self\" in this scope is referring to the BaseClient.\u001b[39;00m\n\u001b[0;32m--> 530\u001b[0m \u001b[38;5;28;01mreturn\u001b[39;00m \u001b[38;5;28;43mself\u001b[39;49m\u001b[38;5;241;43m.\u001b[39;49m\u001b[43m_make_api_call\u001b[49m\u001b[43m(\u001b[49m\u001b[43moperation_name\u001b[49m\u001b[43m,\u001b[49m\u001b[43m \u001b[49m\u001b[43mkwargs\u001b[49m\u001b[43m)\u001b[49m\n",
      "File \u001b[0;32m~/SageMaker/custom-miniconda/miniconda/envs/mt_python3/lib/python3.10/site-packages/botocore/client.py:964\u001b[0m, in \u001b[0;36mBaseClient._make_api_call\u001b[0;34m(self, operation_name, api_params)\u001b[0m\n\u001b[1;32m    962\u001b[0m     error_code \u001b[38;5;241m=\u001b[39m parsed_response\u001b[38;5;241m.\u001b[39mget(\u001b[38;5;124m\"\u001b[39m\u001b[38;5;124mError\u001b[39m\u001b[38;5;124m\"\u001b[39m, {})\u001b[38;5;241m.\u001b[39mget(\u001b[38;5;124m\"\u001b[39m\u001b[38;5;124mCode\u001b[39m\u001b[38;5;124m\"\u001b[39m)\n\u001b[1;32m    963\u001b[0m     error_class \u001b[38;5;241m=\u001b[39m \u001b[38;5;28mself\u001b[39m\u001b[38;5;241m.\u001b[39mexceptions\u001b[38;5;241m.\u001b[39mfrom_code(error_code)\n\u001b[0;32m--> 964\u001b[0m     \u001b[38;5;28;01mraise\u001b[39;00m error_class(parsed_response, operation_name)\n\u001b[1;32m    965\u001b[0m \u001b[38;5;28;01melse\u001b[39;00m:\n\u001b[1;32m    966\u001b[0m     \u001b[38;5;28;01mreturn\u001b[39;00m parsed_response\n",
      "\u001b[0;31mValidationError\u001b[0m: An error occurred (ValidationError) when calling the InvokeEndpoint operation: Endpoint mt-baichuan2-13b-4bits-g4dn of account 568765279027 not found."
     ]
    }
   ],
   "source": [
    "# pg.generate_prompt(\"写一首关于交通信号灯的诗\")\n",
    "\n",
    "payload = pg.create_payload(\"信息抽取：\\n2022年世界杯的冠军是阿根廷队伍，梅西是MVP\\n问题：国家名，人名\\n答案：\", model_code)\n",
    "predictor.predict(payload)"
   ]
  },
  {
   "cell_type": "code",
   "execution_count": null,
   "id": "9f4fc85b-0569-4910-9fc7-2c2614e34d74",
   "metadata": {
    "tags": []
   },
   "outputs": [],
   "source": [
    "inputs= [\n",
    "    pg.create_payload(\"写一首关于交通信号灯的诗\", model_code),\n",
    "    pg.create_payload(\"陨石为什么总能落在陨石坑里?\", model_code),\n",
    "    pg.create_payload(\"为什么爸妈结婚没叫我参加婚礼?\", model_code)\n",
    "]\n",
    "response = predictor.predict(inputs[0])\n",
    "print(\"\\n\\n问题: \", inputs[0][\"inputs\"], \"\\n回答:\\n\", response[\"outputs\"])\n",
    "response = predictor.predict(inputs[1])\n",
    "print(\"\\n\\n问题: \", inputs[1][\"inputs\"], \"\\n回答:\\n\", response[\"outputs\"])\n",
    "response = predictor.predict(inputs[2])\n",
    "print(\"\\n\\n问题: \", inputs[2][\"inputs\"], \"\\n回答:\\n\", response[\"outputs\"])"
   ]
  },
  {
   "cell_type": "code",
   "execution_count": null,
   "id": "79b2dad0-5585-46c9-9d0c-2356ab0bbf09",
   "metadata": {},
   "outputs": [],
   "source": []
  },
  {
   "cell_type": "markdown",
   "id": "64e667be-8e56-40bf-9129-05f93ccb4b27",
   "metadata": {
    "tags": []
   },
   "source": [
    "### 通过Sagemaker Endpoint调用\n",
    "我们已经将模型部署到了Sagemaker Endpoint上，我们就可以通过这个Endpoint名称，来调用模型进行推理，这样即使你停止了这个notebook，也能使用已经部署的模型。"
   ]
  },
  {
   "cell_type": "code",
   "execution_count": 8,
   "id": "cc467d59-1fe1-40ca-849f-1a0aca891ad3",
   "metadata": {
    "tags": []
   },
   "outputs": [
    {
     "name": "stdout",
     "output_type": "stream",
     "text": [
      "mt-baichuan2-13b-4bits-g4dn\n",
      "chatglm\n"
     ]
    }
   ],
   "source": [
    "# endpoint_name = \"mt-chatglm2-6b-ft-g4dn\"\n",
    "# endpoint_name = \"mt-chatglm2-g4dn-pytorch2\"\n",
    "endpoint_name = 'mt-baichuan2-13b-4bits-g4dn'\n",
    "# endpoint_name = \"mt-cpmbee-g4dn\"\n",
    "\n",
    "print(endpoint_name)\n",
    "print(model_code)"
   ]
  },
  {
   "cell_type": "code",
   "execution_count": 9,
   "id": "b6726e86-e665-4d31-82f8-6ca08decdb65",
   "metadata": {
    "tags": []
   },
   "outputs": [],
   "source": [
    "import json\n",
    "import boto3\n",
    "\n",
    "client = boto3.client('runtime.sagemaker')\n",
    "\n",
    "def query_endpoint(encoded_json):\n",
    "    response = client.invoke_endpoint(EndpointName=endpoint_name, ContentType='application/json', Body=encoded_json)\n",
    "    model_predictions = json.loads(response['Body'].read())\n",
    "    generated_text = model_predictions[\"outputs\"]\n",
    "    return generated_text\n",
    "\n"
   ]
  },
  {
   "cell_type": "code",
   "execution_count": 13,
   "id": "6bcdf467-c041-4468-9368-94a509dc72e0",
   "metadata": {
    "tags": []
   },
   "outputs": [
    {
     "ename": "ModelError",
     "evalue": "An error occurred (ModelError) when calling the InvokeEndpoint operation: Received server error (0) from primary with message \"Your invocation timed out while waiting for a response from container primary. Review the latency metrics for each container in Amazon CloudWatch, resolve the issue, and try again.\". See https://us-east-1.console.aws.amazon.com/cloudwatch/home?region=us-east-1#logEventViewer:group=/aws/sagemaker/Endpoints/mt-baichuan2-13b-4bits-g4dn in account 568765279027 for more information.",
     "output_type": "error",
     "traceback": [
      "\u001b[0;31m---------------------------------------------------------------------------\u001b[0m",
      "\u001b[0;31mModelError\u001b[0m                                Traceback (most recent call last)",
      "File \u001b[0;32m<timed exec>:3\u001b[0m\n",
      "Cell \u001b[0;32mIn[9], line 7\u001b[0m, in \u001b[0;36mquery_endpoint\u001b[0;34m(encoded_json)\u001b[0m\n\u001b[1;32m      6\u001b[0m \u001b[38;5;28;01mdef\u001b[39;00m \u001b[38;5;21mquery_endpoint\u001b[39m(encoded_json):\n\u001b[0;32m----> 7\u001b[0m     response \u001b[38;5;241m=\u001b[39m \u001b[43mclient\u001b[49m\u001b[38;5;241;43m.\u001b[39;49m\u001b[43minvoke_endpoint\u001b[49m\u001b[43m(\u001b[49m\u001b[43mEndpointName\u001b[49m\u001b[38;5;241;43m=\u001b[39;49m\u001b[43mendpoint_name\u001b[49m\u001b[43m,\u001b[49m\u001b[43m \u001b[49m\u001b[43mContentType\u001b[49m\u001b[38;5;241;43m=\u001b[39;49m\u001b[38;5;124;43m'\u001b[39;49m\u001b[38;5;124;43mapplication/json\u001b[39;49m\u001b[38;5;124;43m'\u001b[39;49m\u001b[43m,\u001b[49m\u001b[43m \u001b[49m\u001b[43mBody\u001b[49m\u001b[38;5;241;43m=\u001b[39;49m\u001b[43mencoded_json\u001b[49m\u001b[43m)\u001b[49m\n\u001b[1;32m      8\u001b[0m     model_predictions \u001b[38;5;241m=\u001b[39m json\u001b[38;5;241m.\u001b[39mloads(response[\u001b[38;5;124m'\u001b[39m\u001b[38;5;124mBody\u001b[39m\u001b[38;5;124m'\u001b[39m]\u001b[38;5;241m.\u001b[39mread())\n\u001b[1;32m      9\u001b[0m     generated_text \u001b[38;5;241m=\u001b[39m model_predictions[\u001b[38;5;124m\"\u001b[39m\u001b[38;5;124moutputs\u001b[39m\u001b[38;5;124m\"\u001b[39m]\n",
      "File \u001b[0;32m~/SageMaker/custom-miniconda/miniconda/envs/mt_python3/lib/python3.10/site-packages/botocore/client.py:530\u001b[0m, in \u001b[0;36mClientCreator._create_api_method.<locals>._api_call\u001b[0;34m(self, *args, **kwargs)\u001b[0m\n\u001b[1;32m    526\u001b[0m     \u001b[38;5;28;01mraise\u001b[39;00m \u001b[38;5;167;01mTypeError\u001b[39;00m(\n\u001b[1;32m    527\u001b[0m         \u001b[38;5;124mf\u001b[39m\u001b[38;5;124m\"\u001b[39m\u001b[38;5;132;01m{\u001b[39;00mpy_operation_name\u001b[38;5;132;01m}\u001b[39;00m\u001b[38;5;124m() only accepts keyword arguments.\u001b[39m\u001b[38;5;124m\"\u001b[39m\n\u001b[1;32m    528\u001b[0m     )\n\u001b[1;32m    529\u001b[0m \u001b[38;5;66;03m# The \"self\" in this scope is referring to the BaseClient.\u001b[39;00m\n\u001b[0;32m--> 530\u001b[0m \u001b[38;5;28;01mreturn\u001b[39;00m \u001b[38;5;28;43mself\u001b[39;49m\u001b[38;5;241;43m.\u001b[39;49m\u001b[43m_make_api_call\u001b[49m\u001b[43m(\u001b[49m\u001b[43moperation_name\u001b[49m\u001b[43m,\u001b[49m\u001b[43m \u001b[49m\u001b[43mkwargs\u001b[49m\u001b[43m)\u001b[49m\n",
      "File \u001b[0;32m~/SageMaker/custom-miniconda/miniconda/envs/mt_python3/lib/python3.10/site-packages/botocore/client.py:964\u001b[0m, in \u001b[0;36mBaseClient._make_api_call\u001b[0;34m(self, operation_name, api_params)\u001b[0m\n\u001b[1;32m    962\u001b[0m     error_code \u001b[38;5;241m=\u001b[39m parsed_response\u001b[38;5;241m.\u001b[39mget(\u001b[38;5;124m\"\u001b[39m\u001b[38;5;124mError\u001b[39m\u001b[38;5;124m\"\u001b[39m, {})\u001b[38;5;241m.\u001b[39mget(\u001b[38;5;124m\"\u001b[39m\u001b[38;5;124mCode\u001b[39m\u001b[38;5;124m\"\u001b[39m)\n\u001b[1;32m    963\u001b[0m     error_class \u001b[38;5;241m=\u001b[39m \u001b[38;5;28mself\u001b[39m\u001b[38;5;241m.\u001b[39mexceptions\u001b[38;5;241m.\u001b[39mfrom_code(error_code)\n\u001b[0;32m--> 964\u001b[0m     \u001b[38;5;28;01mraise\u001b[39;00m error_class(parsed_response, operation_name)\n\u001b[1;32m    965\u001b[0m \u001b[38;5;28;01melse\u001b[39;00m:\n\u001b[1;32m    966\u001b[0m     \u001b[38;5;28;01mreturn\u001b[39;00m parsed_response\n",
      "\u001b[0;31mModelError\u001b[0m: An error occurred (ModelError) when calling the InvokeEndpoint operation: Received server error (0) from primary with message \"Your invocation timed out while waiting for a response from container primary. Review the latency metrics for each container in Amazon CloudWatch, resolve the issue, and try again.\". See https://us-east-1.console.aws.amazon.com/cloudwatch/home?region=us-east-1#logEventViewer:group=/aws/sagemaker/Endpoints/mt-baichuan2-13b-4bits-g4dn in account 568765279027 for more information."
     ]
    }
   ],
   "source": [
    "%%time\n",
    "\n",
    "payload = pg.create_payload(\"信息抽取：\\n2022年世界杯的冠军是阿根廷队伍，梅西是MVP\\n问题：国家名，人名\\n答案：\", model_code)\n",
    "\n",
    "resp_test = query_endpoint(json.dumps(payload).encode('utf-8'))\n",
    "print(resp_test)"
   ]
  },
  {
   "cell_type": "code",
   "execution_count": 48,
   "id": "3f507036-13e2-4cf5-a251-49076b8e6650",
   "metadata": {
    "tags": []
   },
   "outputs": [
    {
     "name": "stdout",
     "output_type": "stream",
     "text": [
      "天空之所以呈现蓝色,是由于光的散射现象造成的。当太阳光穿过大气层时,光被大气中的分子和小颗粒散射,这些颗粒包括氧气、氮气和水蒸气等。这些分子和颗粒吸收较短波长的光,如紫色和蓝色,而较长波长的光,如红色和橙色则被散射得更少。\n",
      "\n",
      "由于蓝色光的波长比红色光短,因此它更容易被散射,而在大气层中被散射的蓝色光会向各个方向散射,包括朝着我们的眼睛,因此天空呈现出蓝色。在日出和日落时,太阳光穿过更长的大气层路径,较多的光被散射,因此天空呈现出更温暖的色调,如红色、橙色和黄色。\n",
      "233\n",
      "天空之所以呈现蓝色,是由于光的散射现象造成的。当太阳光穿过大气层时,光被大气中的分子和小颗粒散射,这些颗粒包括氧气、氮气和水蒸气等。这些分子和颗粒吸收较短波长的光,如紫色和蓝色,而较长波长的光,如红色和橙色则被散射得更少。\n",
      "\n",
      "由于蓝色光的波长比红色光短,因此它更容易被散射,而在大气层中被散射的蓝色光会向各个方向散射,包括朝着我们的眼睛,因此天空呈现出蓝色。在日出和日落时,太阳光穿过更长的大气层路径,较多的光被散射,因此天空呈现出更温暖的色调,如红色、橙色和黄色。\n",
      "233\n",
      "天空之所以呈现蓝色,是由于光的散射现象造成的。当太阳光穿过大气层时,光被大气中的分子和小颗粒散射,这些颗粒包括氧气、氮气和水蒸气等。这些分子和颗粒吸收较短波长的光,如紫色和蓝色,而较长波长的光,如红色和橙色则被散射得更少。\n",
      "\n",
      "由于蓝色光的波长比红色光短,因此它更容易被散射,而在大气层中被散射的蓝色光会向各个方向散射,包括朝着我们的眼睛,因此天空呈现出蓝色。在日出和日落时,太阳光穿过更长的大气层路径,较多的光被散射,因此天空呈现出更温暖的色调,如红色、橙色和黄色。\n",
      "233\n",
      "天空之所以呈现蓝色,是由于光的散射现象造成的。当太阳光穿过大气层时,光被大气中的分子和小颗粒散射,这些颗粒包括氧气、氮气和水蒸气等。这些分子和颗粒吸收较短波长的光,如紫色和蓝色,而较长波长的光,如红色和橙色则被散射得更少。\n",
      "\n",
      "由于蓝色光的波长比红色光短,因此它更容易被散射,而在大气层中被散射的蓝色光会向各个方向散射,包括朝着我们的眼睛,因此天空呈现出蓝色。在日出和日落时,太阳光穿过更长的大气层路径,较多的光被散射,因此天空呈现出更温暖的色调,如红色、橙色和黄色。\n",
      "233\n",
      "天空之所以呈现蓝色,是由于光的散射现象造成的。当太阳光穿过大气层时,光被大气中的分子和小颗粒散射,这些颗粒包括氧气、氮气和水蒸气等。这些分子和颗粒吸收较短波长的光,如紫色和蓝色,而较长波长的光,如红色和橙色则被散射得更少。\n",
      "\n",
      "由于蓝色光的波长比红色光短,因此它更容易被散射,而在大气层中被散射的蓝色光会向各个方向散射,包括朝着我们的眼睛,因此天空呈现出蓝色。在日出和日落时,太阳光穿过更长的大气层路径,较多的光被散射,因此天空呈现出更温暖的色调,如红色、橙色和黄色。\n",
      "233\n",
      "8.7 s ± 23.7 ms per loop (mean ± std. dev. of 4 runs, 1 loop each)\n"
     ]
    }
   ],
   "source": [
    "%%timeit -r4\n",
    "payload = pg.create_payload(\"天为什么是蓝色的？\", model_code)\n",
    "answer = query_endpoint(json.dumps(payload).encode('utf-8'))\n",
    "print(answer)\n",
    "print(len(answer))"
   ]
  },
  {
   "cell_type": "code",
   "execution_count": 96,
   "id": "b3ec3855-243f-439f-8b11-e7f66a7052cd",
   "metadata": {
    "tags": []
   },
   "outputs": [
    {
     "name": "stdout",
     "output_type": "stream",
     "text": [
      "首先，小明有200元钱，买书花了66元，买文具花了12元。那么，小明剩下的钱数是多少呢？我们可以用减法来计算：200-66-12=122元。\n",
      "\n",
      "接下来，我们需要求出小明剩下的钱比原来少了多少元。我们可以用减法来计算：200-122=78元。\n",
      "\n",
      "因此，小明剩下的钱比原来少了78元。\n",
      "140\n",
      "CPU times: user 32.1 ms, sys: 0 ns, total: 32.1 ms\n",
      "Wall time: 5.82 s\n"
     ]
    }
   ],
   "source": [
    "%%time\n",
    "payload = pg.create_payload(\"小明有200元，买书花了66元，买文具花了12元，小明剩下的钱比原来少了多少元？\", model_code)\n",
    "answer = query_endpoint(json.dumps(payload).encode('utf-8'))\n",
    "print(answer)\n",
    "print(len(answer))"
   ]
  },
  {
   "cell_type": "code",
   "execution_count": 97,
   "id": "5a61c459-c66a-4838-8e98-a853a3c15056",
   "metadata": {
    "tags": []
   },
   "outputs": [
    {
     "name": "stdout",
     "output_type": "stream",
     "text": [
      "4加2等于6。\n",
      "CPU times: user 4.83 ms, sys: 0 ns, total: 4.83 ms\n",
      "Wall time: 450 ms\n"
     ]
    }
   ],
   "source": [
    "%%time\n",
    "payload = pg.create_payload(\"4加2等于几？\", model_code)\n",
    "resp_test = query_endpoint(json.dumps(payload).encode('utf-8'))\n",
    "print(resp_test)"
   ]
  },
  {
   "cell_type": "code",
   "execution_count": 100,
   "id": "ad9bc6d0-38d9-4217-a510-b13155297fdf",
   "metadata": {
    "tags": []
   },
   "outputs": [
    {
     "name": "stdout",
     "output_type": "stream",
     "text": [
      "3加8等于11,再乘以3还是33。\n",
      "CPU times: user 4.7 ms, sys: 0 ns, total: 4.7 ms\n",
      "Wall time: 935 ms\n"
     ]
    }
   ],
   "source": [
    "%%time\n",
    "\n",
    "payload = pg.create_payload(\"USER：3加8等于几？\\nASSISTANT：3加8等于11。 \\nUSER：再乘以3呢？\\nASSISTANT:\", model_code)\n",
    "\n",
    "resp_test = query_endpoint(json.dumps(payload).encode('utf-8'))\n",
    "print(resp_test)"
   ]
  },
  {
   "cell_type": "markdown",
   "id": "e657e006-faf6-4d41-82d8-629454fd2267",
   "metadata": {
    "tags": []
   },
   "source": [
    "### 删除 EndPoint"
   ]
  },
  {
   "cell_type": "code",
   "execution_count": 24,
   "id": "1e8fc003-948f-43aa-af00-ddf25902852c",
   "metadata": {
    "tags": []
   },
   "outputs": [],
   "source": [
    "predictor.delete_model()\n",
    "predictor.delete_endpoint()"
   ]
  }
 ],
 "metadata": {
  "kernelspec": {
   "display_name": "Custom (mt_python3)",
   "language": "python",
   "name": "mt_python3"
  },
  "language_info": {
   "codemirror_mode": {
    "name": "ipython",
    "version": 3
   },
   "file_extension": ".py",
   "mimetype": "text/x-python",
   "name": "python",
   "nbconvert_exporter": "python",
   "pygments_lexer": "ipython3",
   "version": "3.10.11"
  }
 },
 "nbformat": 4,
 "nbformat_minor": 5
}
