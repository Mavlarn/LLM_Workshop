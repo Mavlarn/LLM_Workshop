{
 "cells": [
  {
   "cell_type": "markdown",
   "id": "a566f327-fc14-483b-bb58-8723e57105b4",
   "metadata": {},
   "source": [
    "### 测试使用LLM实现基于知识库的问答"
   ]
  },
  {
   "cell_type": "markdown",
   "id": "d835cb26-bd36-4992-8ccd-ab1c058ca291",
   "metadata": {},
   "source": [
    "大语言模型的一个典型场景就是在问答场景，使用更加人性化的方式，回答提出的问题。但是，目前的大语言模型，都是基于一定的数据集进行训练，模型本身所能回答的问题，也都是基于训练时所使用的数据集。当你问一些开放性的问题时，模型可以根据自己的推理和发散的能力，给出较为合理的答案，但是当你想问一些客观事实性的问题，如果这个问题的事实发生的时间在模型训练之后，或者模型训练没有使用相关的数据，那么模型就无法给出答案，甚至是编一个看似合理，实则错误的答案。\n"
   ]
  },
  {
   "cell_type": "markdown",
   "id": "1bf8c196-7e46-4eed-92c7-e8f41343c947",
   "metadata": {},
   "source": [
    "所以，我们可以先使用我们的知识库，从知识库中搜索出相关的内容，再调用语言模型的问答接口，以搜索出来的结果作为上下文，再加上问题，让语言模型从上下文中抽取出答案，进行回答。其大致流程如下：\n",
    "\n",
    "![](imgs/knowledge-based-chatglm-qa.jpg)"
   ]
  },
  {
   "cell_type": "markdown",
   "id": "d0a27541-9b6e-4ce2-b58c-084a58761c5e",
   "metadata": {
    "tags": []
   },
   "source": [
    "### 使用医疗问答数据集生成向量知识库"
   ]
  },
  {
   "cell_type": "markdown",
   "id": "3e07b398-0946-4e03-a938-98ad4815f5dd",
   "metadata": {},
   "source": [
    "为了构建行业知识库，我们使用[cMedQA2](https://github.com/zhangsheng93/cMedQA2)数据集，他是医学在线论坛的数据集，包含包含约10万个医学相关问题，及对应的约20万个回答。\n",
    "\n",
    "在notebook左侧找到“Git Clone”的按钮，将该数据集（https://github.com/zhangsheng93/cMedQA2） 克隆到notebook里。\n",
    "\n",
    ">在本Workshop中，为了方便，以及将处理好的CSV文件保存在当前目录中，甚至FAISS生成的索引文件也已经创建并保存好，不需要重新执行。"
   ]
  },
  {
   "cell_type": "markdown",
   "id": "a402480b-5259-481d-b81d-ea1e1846457f",
   "metadata": {
    "jp-MarkdownHeadingCollapsed": true,
    "tags": []
   },
   "source": [
    "#### 预处理医疗问答数据\n",
    "首先我们解压缩数据集，查看其内容和关系。数据集中，已经把训练数据、测试数据分开，在这里，我们只使用训练数据。"
   ]
  },
  {
   "cell_type": "code",
   "execution_count": 5,
   "id": "d0e6f3aa-e878-4da0-9133-6179516208a0",
   "metadata": {
    "tags": []
   },
   "outputs": [],
   "source": [
    "import shutil\n",
    "import pandas as pd\n",
    "\n",
    "shutil.unpack_archive(\"./cMedQA2/answer.zip\", \"./cMedQA2/\")\n",
    "shutil.unpack_archive(\"./cMedQA2/question.zip\", \"./cMedQA2/\")\n",
    "shutil.unpack_archive(\"./cMedQA2/train_candidates.zip\", \"./cMedQA2/\")"
   ]
  },
  {
   "cell_type": "code",
   "execution_count": 5,
   "id": "4cd722b1-ac39-4a1e-8b42-4e57b7b459b3",
   "metadata": {
    "tags": []
   },
   "outputs": [
    {
     "data": {
      "text/html": [
       "<div>\n",
       "<style scoped>\n",
       "    .dataframe tbody tr th:only-of-type {\n",
       "        vertical-align: middle;\n",
       "    }\n",
       "\n",
       "    .dataframe tbody tr th {\n",
       "        vertical-align: top;\n",
       "    }\n",
       "\n",
       "    .dataframe thead th {\n",
       "        text-align: right;\n",
       "    }\n",
       "</style>\n",
       "<table border=\"1\" class=\"dataframe\">\n",
       "  <thead>\n",
       "    <tr style=\"text-align: right;\">\n",
       "      <th></th>\n",
       "      <th>question_id</th>\n",
       "      <th>pos_ans_id</th>\n",
       "      <th>neg_ans_id</th>\n",
       "    </tr>\n",
       "  </thead>\n",
       "  <tbody>\n",
       "    <tr>\n",
       "      <th>0</th>\n",
       "      <td>24731702</td>\n",
       "      <td>11064</td>\n",
       "      <td>163246</td>\n",
       "    </tr>\n",
       "    <tr>\n",
       "      <th>1</th>\n",
       "      <td>24731702</td>\n",
       "      <td>11064</td>\n",
       "      <td>106174</td>\n",
       "    </tr>\n",
       "    <tr>\n",
       "      <th>2</th>\n",
       "      <td>24731702</td>\n",
       "      <td>11064</td>\n",
       "      <td>104592</td>\n",
       "    </tr>\n",
       "    <tr>\n",
       "      <th>3</th>\n",
       "      <td>24731702</td>\n",
       "      <td>11064</td>\n",
       "      <td>64458</td>\n",
       "    </tr>\n",
       "    <tr>\n",
       "      <th>4</th>\n",
       "      <td>24731702</td>\n",
       "      <td>11063</td>\n",
       "      <td>200971</td>\n",
       "    </tr>\n",
       "  </tbody>\n",
       "</table>\n",
       "</div>"
      ],
      "text/plain": [
       "   question_id  pos_ans_id  neg_ans_id\n",
       "0     24731702       11064      163246\n",
       "1     24731702       11064      106174\n",
       "2     24731702       11064      104592\n",
       "3     24731702       11064       64458\n",
       "4     24731702       11063      200971"
      ]
     },
     "execution_count": 5,
     "metadata": {},
     "output_type": "execute_result"
    }
   ],
   "source": [
    "import pandas as pd\n",
    "\n",
    "df_qa = pd.read_csv(\"./cMedQA2/train_candidates.txt\")\n",
    "df_qa.head()"
   ]
  },
  {
   "cell_type": "code",
   "execution_count": 6,
   "id": "feb477e9-aed7-4155-9e60-5723a822aff2",
   "metadata": {
    "tags": []
   },
   "outputs": [
    {
     "data": {
      "text/html": [
       "<div>\n",
       "<style scoped>\n",
       "    .dataframe tbody tr th:only-of-type {\n",
       "        vertical-align: middle;\n",
       "    }\n",
       "\n",
       "    .dataframe tbody tr th {\n",
       "        vertical-align: top;\n",
       "    }\n",
       "\n",
       "    .dataframe thead th {\n",
       "        text-align: right;\n",
       "    }\n",
       "</style>\n",
       "<table border=\"1\" class=\"dataframe\">\n",
       "  <thead>\n",
       "    <tr style=\"text-align: right;\">\n",
       "      <th></th>\n",
       "      <th>question_id</th>\n",
       "      <th>content</th>\n",
       "    </tr>\n",
       "  </thead>\n",
       "  <tbody>\n",
       "    <tr>\n",
       "      <th>0</th>\n",
       "      <td>65102009</td>\n",
       "      <td>头痛恶心肌肉痛关节痛颈部淋巴结疼痛怎么回事啊</td>\n",
       "    </tr>\n",
       "    <tr>\n",
       "      <th>1</th>\n",
       "      <td>44275784</td>\n",
       "      <td>我怀孕37周，肠子一直呼噜呼噜叫感觉像是在里面灌水，上厕所拉稀和喷水一样，一天上厕所5次，对...</td>\n",
       "    </tr>\n",
       "    <tr>\n",
       "      <th>2</th>\n",
       "      <td>42163349</td>\n",
       "      <td>男，67岁，2天前突然出现右小腿（类似抽筋症状），现出现右小腿消肿，有指压痕，无，请问可能是...</td>\n",
       "    </tr>\n",
       "    <tr>\n",
       "      <th>3</th>\n",
       "      <td>67935540</td>\n",
       "      <td>怀孕前两个月照了CT和X光，来两次月经后怀孕了，怀孕期间有轻微盆腔积水吃了两瓶杏香兔耳片。请...</td>\n",
       "    </tr>\n",
       "    <tr>\n",
       "      <th>4</th>\n",
       "      <td>33429289</td>\n",
       "      <td>阴囊湿冷阳痿早泻请问用点什么药</td>\n",
       "    </tr>\n",
       "  </tbody>\n",
       "</table>\n",
       "</div>"
      ],
      "text/plain": [
       "   question_id                                            content\n",
       "0     65102009                             头痛恶心肌肉痛关节痛颈部淋巴结疼痛怎么回事啊\n",
       "1     44275784  我怀孕37周，肠子一直呼噜呼噜叫感觉像是在里面灌水，上厕所拉稀和喷水一样，一天上厕所5次，对...\n",
       "2     42163349  男，67岁，2天前突然出现右小腿（类似抽筋症状），现出现右小腿消肿，有指压痕，无，请问可能是...\n",
       "3     67935540  怀孕前两个月照了CT和X光，来两次月经后怀孕了，怀孕期间有轻微盆腔积水吃了两瓶杏香兔耳片。请...\n",
       "4     33429289                                    阴囊湿冷阳痿早泻请问用点什么药"
      ]
     },
     "execution_count": 6,
     "metadata": {},
     "output_type": "execute_result"
    }
   ],
   "source": [
    "df_questions = pd.read_csv(\"./cMedQA2/question.csv\")\n",
    "df_questions.head()"
   ]
  },
  {
   "cell_type": "code",
   "execution_count": 7,
   "id": "cac0b404-400f-40e5-8737-db2755f3d4a1",
   "metadata": {
    "tags": []
   },
   "outputs": [
    {
     "data": {
      "text/html": [
       "<div>\n",
       "<style scoped>\n",
       "    .dataframe tbody tr th:only-of-type {\n",
       "        vertical-align: middle;\n",
       "    }\n",
       "\n",
       "    .dataframe tbody tr th {\n",
       "        vertical-align: top;\n",
       "    }\n",
       "\n",
       "    .dataframe thead th {\n",
       "        text-align: right;\n",
       "    }\n",
       "</style>\n",
       "<table border=\"1\" class=\"dataframe\">\n",
       "  <thead>\n",
       "    <tr style=\"text-align: right;\">\n",
       "      <th></th>\n",
       "      <th>ans_id</th>\n",
       "      <th>question_id</th>\n",
       "      <th>content</th>\n",
       "    </tr>\n",
       "  </thead>\n",
       "  <tbody>\n",
       "    <tr>\n",
       "      <th>0</th>\n",
       "      <td>0</td>\n",
       "      <td>45619783</td>\n",
       "      <td>月经延迟十四天而且伴随恶心，头痛，乏力的现象，那么考虑怀孕的概率是非常大的，建议你去医院检查...</td>\n",
       "    </tr>\n",
       "    <tr>\n",
       "      <th>1</th>\n",
       "      <td>1</td>\n",
       "      <td>45619783</td>\n",
       "      <td>如果你的月经周期规律，有正常的性生活，未采取任何有效的避孕措施，此时的症状考虑有怀孕的可能。...</td>\n",
       "    </tr>\n",
       "    <tr>\n",
       "      <th>2</th>\n",
       "      <td>2</td>\n",
       "      <td>45619783</td>\n",
       "      <td>建议在性生活过后14天左右可以用怀孕试纸自我检测一下，一般怀孕试纸显示2条线的话是怀孕了的，...</td>\n",
       "    </tr>\n",
       "    <tr>\n",
       "      <th>3</th>\n",
       "      <td>3</td>\n",
       "      <td>26616465</td>\n",
       "      <td>头痛是临床上最为常见的临床症状之一，是人体对各种致痛因素所产生的主观感觉，属于疼痛的范畴。建...</td>\n",
       "    </tr>\n",
       "    <tr>\n",
       "      <th>4</th>\n",
       "      <td>4</td>\n",
       "      <td>26616465</td>\n",
       "      <td>头痛主要是由于头部的血管、神经、脑膜等对疼痛敏感的组织受到刺激引起的。由紧张、疲劳、饮酒等原...</td>\n",
       "    </tr>\n",
       "  </tbody>\n",
       "</table>\n",
       "</div>"
      ],
      "text/plain": [
       "   ans_id  question_id                                            content\n",
       "0       0     45619783  月经延迟十四天而且伴随恶心，头痛，乏力的现象，那么考虑怀孕的概率是非常大的，建议你去医院检查...\n",
       "1       1     45619783  如果你的月经周期规律，有正常的性生活，未采取任何有效的避孕措施，此时的症状考虑有怀孕的可能。...\n",
       "2       2     45619783  建议在性生活过后14天左右可以用怀孕试纸自我检测一下，一般怀孕试纸显示2条线的话是怀孕了的，...\n",
       "3       3     26616465  头痛是临床上最为常见的临床症状之一，是人体对各种致痛因素所产生的主观感觉，属于疼痛的范畴。建...\n",
       "4       4     26616465  头痛主要是由于头部的血管、神经、脑膜等对疼痛敏感的组织受到刺激引起的。由紧张、疲劳、饮酒等原..."
      ]
     },
     "execution_count": 7,
     "metadata": {},
     "output_type": "execute_result"
    }
   ],
   "source": [
    "df_answers = pd.read_csv(\"./cMedQA2/answer.csv\")\n",
    "df_answers.head()"
   ]
  },
  {
   "cell_type": "markdown",
   "id": "a8483922-6f6a-467b-82b4-9da2db775885",
   "metadata": {},
   "source": [
    "df_qa的数据（也就是train_candidates.txt）是一个关系数据，包含了问题id、答案的id，及否定答案的id，这里我们只需要正确答案。而且，这个关系表中一个问题有多个答案和多个错误答案，所以，去掉错误答案那一列后去重。"
   ]
  },
  {
   "cell_type": "code",
   "execution_count": 8,
   "id": "bb267b21-8952-46bd-8218-c1974d167d04",
   "metadata": {
    "tags": []
   },
   "outputs": [
    {
     "data": {
      "text/plain": [
       "(188490, 2)"
      ]
     },
     "execution_count": 8,
     "metadata": {},
     "output_type": "execute_result"
    }
   ],
   "source": [
    "# 只处理正确答案\n",
    "df_qa = df_qa.drop('neg_ans_id', axis=1)\n",
    "# 删除错误答案后，去掉重复的, 每个问题会有1个或多个答案\n",
    "df_qa = df_qa.drop_duplicates()\n",
    "df_qa.shape"
   ]
  },
  {
   "cell_type": "markdown",
   "id": "edeb019e-c302-4456-bc3e-60f24ae3be4a",
   "metadata": {
    "tags": []
   },
   "source": [
    "最终有近19万条问答，根据数据集提供的信息，训练数据应该有10万条问题，188490个答案。我们去重后的结果显示有188490个答案。"
   ]
  },
  {
   "cell_type": "code",
   "execution_count": 9,
   "id": "b6ee69c2-703d-4b54-8303-5e968c0b71e9",
   "metadata": {
    "tags": []
   },
   "outputs": [],
   "source": [
    "df_questions = df_questions.rename(columns={\"content\": \"question_content\"})\n",
    "df_answers = df_answers.rename(columns={\"content\": \"answer_content\"})\n",
    "\n",
    "# join\n",
    "df_qa_with_contents = df_qa.join(df_questions.set_index('question_id'), on = ['question_id'])\n",
    "df_answers['pos_ans_id'] = df_answers[\"ans_id\"]\n",
    "df_qa_with_contents = df_qa_with_contents.join(df_answers.set_index('pos_ans_id'), on = 'pos_ans_id', lsuffix='', rsuffix='_other')\n",
    "# 我们只需要问题和答案两列\n",
    "df_qa_compact = df_qa_with_contents[['question_content', 'answer_content']]"
   ]
  },
  {
   "cell_type": "code",
   "execution_count": 10,
   "id": "0607ef69-aa86-438b-9181-bc59ba5ae090",
   "metadata": {
    "tags": []
   },
   "outputs": [
    {
     "data": {
      "text/html": [
       "<div>\n",
       "<style scoped>\n",
       "    .dataframe tbody tr th:only-of-type {\n",
       "        vertical-align: middle;\n",
       "    }\n",
       "\n",
       "    .dataframe tbody tr th {\n",
       "        vertical-align: top;\n",
       "    }\n",
       "\n",
       "    .dataframe thead th {\n",
       "        text-align: right;\n",
       "    }\n",
       "</style>\n",
       "<table border=\"1\" class=\"dataframe\">\n",
       "  <thead>\n",
       "    <tr style=\"text-align: right;\">\n",
       "      <th></th>\n",
       "      <th>question_content</th>\n",
       "      <th>answer_content</th>\n",
       "    </tr>\n",
       "  </thead>\n",
       "  <tbody>\n",
       "    <tr>\n",
       "      <th>0</th>\n",
       "      <td>不是说做b超对宝宝不好吗？那怀孕检查是不？不是说做b超对宝宝不好吗？那怀孕检查是不是越少越好...</td>\n",
       "      <td>B超属于超声波经常检查是不好的而且也没有必要经常检查的一般怀孕两个月检查一下怀孕五个月检查一...</td>\n",
       "    </tr>\n",
       "    <tr>\n",
       "      <th>4</th>\n",
       "      <td>不是说做b超对宝宝不好吗？那怀孕检查是不？不是说做b超对宝宝不好吗？那怀孕检查是不是越少越好...</td>\n",
       "      <td>b超切实有一定的辐射，而且小孩比较的娇嫩，容易受辐射影响发育。宝宝尽量不要做b超，但是在胎儿...</td>\n",
       "    </tr>\n",
       "    <tr>\n",
       "      <th>50</th>\n",
       "      <td>腰酸并伴有小腹胀痛怎么回事啊，而且引导有少量的血？</td>\n",
       "      <td>可能是妇科炎症引起的建议放置达克宁栓口服三金片和龙胆泻肝丸如过不放心可以做一个支原体化验</td>\n",
       "    </tr>\n",
       "    <tr>\n",
       "      <th>52</th>\n",
       "      <td>腰酸并伴有小腹胀痛怎么回事啊，而且引导有少量的血？</td>\n",
       "      <td>就你的情况考虑盆腔炎等情况造成的，可到医院做B超检查来确定原因。</td>\n",
       "    </tr>\n",
       "    <tr>\n",
       "      <th>57</th>\n",
       "      <td>腰酸并伴有小腹胀痛怎么回事啊，而且引导有少量的血？</td>\n",
       "      <td>妇科出现腰酸和小腹胀痛的症状是和妇科病有关系的。很多原因都会导致腰酸。最常见的妇科疾病比如宫...</td>\n",
       "    </tr>\n",
       "  </tbody>\n",
       "</table>\n",
       "</div>"
      ],
      "text/plain": [
       "                                     question_content  \\\n",
       "0   不是说做b超对宝宝不好吗？那怀孕检查是不？不是说做b超对宝宝不好吗？那怀孕检查是不是越少越好...   \n",
       "4   不是说做b超对宝宝不好吗？那怀孕检查是不？不是说做b超对宝宝不好吗？那怀孕检查是不是越少越好...   \n",
       "50                          腰酸并伴有小腹胀痛怎么回事啊，而且引导有少量的血？   \n",
       "52                          腰酸并伴有小腹胀痛怎么回事啊，而且引导有少量的血？   \n",
       "57                          腰酸并伴有小腹胀痛怎么回事啊，而且引导有少量的血？   \n",
       "\n",
       "                                       answer_content  \n",
       "0   B超属于超声波经常检查是不好的而且也没有必要经常检查的一般怀孕两个月检查一下怀孕五个月检查一...  \n",
       "4   b超切实有一定的辐射，而且小孩比较的娇嫩，容易受辐射影响发育。宝宝尽量不要做b超，但是在胎儿...  \n",
       "50       可能是妇科炎症引起的建议放置达克宁栓口服三金片和龙胆泻肝丸如过不放心可以做一个支原体化验  \n",
       "52                   就你的情况考虑盆腔炎等情况造成的，可到医院做B超检查来确定原因。  \n",
       "57  妇科出现腰酸和小腹胀痛的症状是和妇科病有关系的。很多原因都会导致腰酸。最常见的妇科疾病比如宫...  "
      ]
     },
     "execution_count": 10,
     "metadata": {},
     "output_type": "execute_result"
    }
   ],
   "source": [
    "df_qa_compact.head()"
   ]
  },
  {
   "cell_type": "code",
   "execution_count": 11,
   "id": "3df54a51-dcfa-4186-8328-749e9fbb84f5",
   "metadata": {
    "tags": []
   },
   "outputs": [
    {
     "data": {
      "text/plain": [
       "(188490, 2)"
      ]
     },
     "execution_count": 11,
     "metadata": {},
     "output_type": "execute_result"
    }
   ],
   "source": [
    "df_qa_compact.shape"
   ]
  },
  {
   "cell_type": "markdown",
   "id": "f9e71685-8e2a-4fd8-a8cc-7af3df8bf1b5",
   "metadata": {
    "jp-MarkdownHeadingCollapsed": true,
    "tags": []
   },
   "source": [
    "#### 生成知识库的文本文件"
   ]
  },
  {
   "cell_type": "markdown",
   "id": "2ceb9d62-bdcd-47ba-bb26-10d1a8ee1f02",
   "metadata": {},
   "source": [
    "下面，我们将问答内容写到一个文件里。\n",
    "\n",
    "由于我们需要对每一对问答记录进行向量化，所以在保存的时候进行一定的格式化，方便之后分片。"
   ]
  },
  {
   "cell_type": "code",
   "execution_count": null,
   "id": "8a2b0e70-31e0-4811-9759-15f050c61d66",
   "metadata": {
    "tags": []
   },
   "outputs": [],
   "source": [
    "df_qa_compact['answer_content'] = 'A:' + df_qa_compact['answer_content']\n",
    "df_qa_compact['question_content'] = 'Q:' + df_qa_compact['question_content']"
   ]
  },
  {
   "cell_type": "code",
   "execution_count": 13,
   "id": "5759653e-4489-4caf-b60a-00fd20251eb8",
   "metadata": {
    "tags": []
   },
   "outputs": [
    {
     "data": {
      "text/html": [
       "<div>\n",
       "<style scoped>\n",
       "    .dataframe tbody tr th:only-of-type {\n",
       "        vertical-align: middle;\n",
       "    }\n",
       "\n",
       "    .dataframe tbody tr th {\n",
       "        vertical-align: top;\n",
       "    }\n",
       "\n",
       "    .dataframe thead th {\n",
       "        text-align: right;\n",
       "    }\n",
       "</style>\n",
       "<table border=\"1\" class=\"dataframe\">\n",
       "  <thead>\n",
       "    <tr style=\"text-align: right;\">\n",
       "      <th></th>\n",
       "      <th>question_content</th>\n",
       "      <th>answer_content</th>\n",
       "    </tr>\n",
       "  </thead>\n",
       "  <tbody>\n",
       "    <tr>\n",
       "      <th>0</th>\n",
       "      <td>Q:不是说做b超对宝宝不好吗？那怀孕检查是不？不是说做b超对宝宝不好吗？那怀孕检查是不是越少...</td>\n",
       "      <td>A:B超属于超声波经常检查是不好的而且也没有必要经常检查的一般怀孕两个月检查一下怀孕五个月检...</td>\n",
       "    </tr>\n",
       "    <tr>\n",
       "      <th>4</th>\n",
       "      <td>Q:不是说做b超对宝宝不好吗？那怀孕检查是不？不是说做b超对宝宝不好吗？那怀孕检查是不是越少...</td>\n",
       "      <td>A:b超切实有一定的辐射，而且小孩比较的娇嫩，容易受辐射影响发育。宝宝尽量不要做b超，但是在...</td>\n",
       "    </tr>\n",
       "    <tr>\n",
       "      <th>50</th>\n",
       "      <td>Q:腰酸并伴有小腹胀痛怎么回事啊，而且引导有少量的血？</td>\n",
       "      <td>A:可能是妇科炎症引起的建议放置达克宁栓口服三金片和龙胆泻肝丸如过不放心可以做一个支原体化验</td>\n",
       "    </tr>\n",
       "    <tr>\n",
       "      <th>52</th>\n",
       "      <td>Q:腰酸并伴有小腹胀痛怎么回事啊，而且引导有少量的血？</td>\n",
       "      <td>A:就你的情况考虑盆腔炎等情况造成的，可到医院做B超检查来确定原因。</td>\n",
       "    </tr>\n",
       "    <tr>\n",
       "      <th>57</th>\n",
       "      <td>Q:腰酸并伴有小腹胀痛怎么回事啊，而且引导有少量的血？</td>\n",
       "      <td>A:妇科出现腰酸和小腹胀痛的症状是和妇科病有关系的。很多原因都会导致腰酸。最常见的妇科疾病比...</td>\n",
       "    </tr>\n",
       "  </tbody>\n",
       "</table>\n",
       "</div>"
      ],
      "text/plain": [
       "                                     question_content  \\\n",
       "0   Q:不是说做b超对宝宝不好吗？那怀孕检查是不？不是说做b超对宝宝不好吗？那怀孕检查是不是越少...   \n",
       "4   Q:不是说做b超对宝宝不好吗？那怀孕检查是不？不是说做b超对宝宝不好吗？那怀孕检查是不是越少...   \n",
       "50                        Q:腰酸并伴有小腹胀痛怎么回事啊，而且引导有少量的血？   \n",
       "52                        Q:腰酸并伴有小腹胀痛怎么回事啊，而且引导有少量的血？   \n",
       "57                        Q:腰酸并伴有小腹胀痛怎么回事啊，而且引导有少量的血？   \n",
       "\n",
       "                                       answer_content  \n",
       "0   A:B超属于超声波经常检查是不好的而且也没有必要经常检查的一般怀孕两个月检查一下怀孕五个月检...  \n",
       "4   A:b超切实有一定的辐射，而且小孩比较的娇嫩，容易受辐射影响发育。宝宝尽量不要做b超，但是在...  \n",
       "50     A:可能是妇科炎症引起的建议放置达克宁栓口服三金片和龙胆泻肝丸如过不放心可以做一个支原体化验  \n",
       "52                 A:就你的情况考虑盆腔炎等情况造成的，可到医院做B超检查来确定原因。  \n",
       "57  A:妇科出现腰酸和小腹胀痛的症状是和妇科病有关系的。很多原因都会导致腰酸。最常见的妇科疾病比...  "
      ]
     },
     "execution_count": 13,
     "metadata": {},
     "output_type": "execute_result"
    }
   ],
   "source": [
    "df_qa_compact.head()"
   ]
  },
  {
   "cell_type": "code",
   "execution_count": 49,
   "id": "5864238b-5665-4ab2-9cb6-02b0928caf7b",
   "metadata": {
    "tags": []
   },
   "outputs": [],
   "source": [
    "import os\n",
    "path = \"contents\"\n",
    "if not os.path.exists(path):\n",
    "   os.makedirs(path)\n",
    "df_qa_compact.to_csv('contents/med_qa.csv', index=False, header=False, sep='\\n', quotechar=' ', lineterminator='\\n\\n')"
   ]
  },
  {
   "cell_type": "markdown",
   "id": "bcdbfd5a-abb2-420c-970b-5cae350860d9",
   "metadata": {},
   "source": [
    "打开terminal，检查文件内容如下：\n",
    "```bash\n",
    "sh-4.2$ head med_qa.csv \n",
    "Q:不是说做b超对宝宝不好吗？那怀孕检查是不？不是说做b超对宝宝不好吗？那怀孕检查是不是越少越好。无麻烦解答，谢谢。\n",
    "A:B超属于超声波经常检查是不好的而且也没有必要经常检查的一般怀孕两个月检查一下怀孕五个月检查一下快出生时在检查就可以还有就是不舒服检查就可以的\n",
    "\n",
    "Q:不是说做b超对宝宝不好吗？那怀孕检查是不？不是说做b超对宝宝不好吗？那怀孕检查是不是越少越好。无麻烦解答，谢谢。\n",
    "A:b超切实有一定的辐射，而且小孩比较的娇嫩，容易受辐射影响发育。宝宝尽量不要做b超，但是在胎儿期有母体的保护，所以不要担心，有必要的话一定要做。\n",
    "\n",
    "Q:腰酸并伴有小腹胀痛怎么回事啊，而且引导有少量的血？\n",
    "A:可能是妇科炎症引起的建议放置达克宁栓口服三金片和龙胆泻肝丸如过不放心可以做一个支原体化验\n",
    "```"
   ]
  },
  {
   "cell_type": "markdown",
   "id": "deaa1d59-14e1-4336-b6f7-b29a5d65ac63",
   "metadata": {},
   "source": [
    "#### LangChain AI应用开发框架\n",
    "在开始之前，我们需要了解我们在本文中主要用到的框架 [LangChain](https://github.com/hwchase17/langchain).\n",
    "\n",
    "顾名思义，LangChain就是基于 LLM 语言模型开发AI应用的框架，它通过链式调用的方式，将AI应用中的各个过程串联起来，实现一系列的功能。举例来说，OpenAI的ChatGPT默认不能上网，它所能回答的内容是基于它的训练数据，如果想要基于新的互联网上的某个新闻，让ChatGPT回答某些问题，就可以通过 LangChain 来实现。\n",
    "\n",
    "在LangChain里，提供了各种 Chain，有能够请求API获得结果的Chain，也有某个LLM语言模型的Chain，也有调用Python代码的Chain。使用这些 Chain，我们就可以实现“上网搜索某些内容，再根据结果提取想要的答案”这样的场景，也可以“让ChatGPT帮我们生成一段Python代码，然后在本地执行该代码并返回结果”。\n",
    "\n",
    "在 LangChain 里，以及实现了很多有意思的 Chain，比如说 “[Chat Over Documents with Chat History](https://python.langchain.com/en/latest/modules/chains/index_examples/chat_vector_db.html)”，利用该 Chain，我们可以给AI提供一本小说，让AI以该小说的设定和内容，来和我们实现多轮对话。\n",
    "\n",
    "还有一个就是\"[Retrieval Question/Answering](https://python.langchain.com/en/latest/modules/chains/index_examples/vector_db_qa.html)\"，他就是用于从向量数据库中进行相似搜索，然后从相似内容中回答我们的问题。"
   ]
  },
  {
   "cell_type": "markdown",
   "id": "7ebf3f70-03ff-4da6-af6e-f60e54c4ad55",
   "metadata": {},
   "source": [
    "安装几个依赖的库。\n",
    "* langchain：即应用框架\n",
    "* faiss-gpu：本地向量库\n",
    "\n",
    "其中 faiss-gpu 是GPU版本的库，如果使用的notebook不是GPU实例，那就安装 faiss-cpu。但是cpu进行embedding也是会比gpu慢很多。"
   ]
  },
  {
   "cell_type": "code",
   "execution_count": 3,
   "id": "aa544e21-28c0-467e-b5da-31ff0a88ffdc",
   "metadata": {
    "tags": []
   },
   "outputs": [],
   "source": [
    "# %pip install langchain --upgrade\n",
    "# %pip install faiss-cpu"
   ]
  },
  {
   "cell_type": "markdown",
   "id": "46172b67-342d-4e01-bf2d-8817ebb8e729",
   "metadata": {},
   "source": [
    "下面是本workshop使用的 LangChain 的版本，需要注意这个框架发展的非常快，几天就会发布一个小版本。如果版本差别过大，可能需要更新代码。"
   ]
  },
  {
   "cell_type": "code",
   "execution_count": 1,
   "id": "2f2b8a9f-31ea-461a-86ea-b1bdf19d678a",
   "metadata": {
    "tags": []
   },
   "outputs": [
    {
     "data": {
      "text/plain": [
       "'0.0.270'"
      ]
     },
     "execution_count": 1,
     "metadata": {},
     "output_type": "execute_result"
    }
   ],
   "source": [
    "from langchain import __version__\n",
    "__version__"
   ]
  },
  {
   "cell_type": "markdown",
   "id": "1d32fac8-14a8-46c9-9613-165327787769",
   "metadata": {
    "tags": []
   },
   "source": [
    "#### 向量化并保存\n",
    "文本内容的向量数据库包含两个方面：\n",
    "1. 向量化，即将文本生成向量\n",
    "2. 向量化数据库，即对生成的向量进行保存，并提供相似搜索等功能\n"
   ]
  },
  {
   "cell_type": "markdown",
   "id": "92bb4d9f-8b4b-46fb-a1e5-6a9fffef1131",
   "metadata": {
    "tags": []
   },
   "source": [
    "首先要对一段文本向量化，我们需要使用某个模型，在OpenAI中，使用 'text-embedding-ada-002' 模型生成文本的向量，OpenAI 也提供了API可以直接生成向量。\n",
    "\n",
    "这里，我们使用 [GanymedeNil/text2vec-large-chinese](https://huggingface.co/GanymedeNil/text2vec-large-chinese)，它是一个隐层大小1024的模型，同时该作者也提供了768的模型。\n",
    "\n",
    ">实际上，本问的思想也是来自于该模型作者的库[document.ai](https://github.com/GanymedeNil/document.ai)，即通过加载一个文档，进行向量化并进行相似搜索，然后通过 ChatGPT 提取答案信息。\n",
    "\n",
    "向量数据库的选择也非常多，常用的有 ElasticSearch、Redis、Postgres vector database (PGVector）等，或者专门的向量数据，如开源的向量数据库Milvus。这里，由于我们的知识库的内容也就不到20万，完全可以使用基于内存的本地向量数据库，所以我们选择使用[FAISS](https://faiss.ai/)，一个由Facebook开源的库。"
   ]
  },
  {
   "cell_type": "code",
   "execution_count": 42,
   "id": "b43367f9-2ea6-4a96-9461-1205f6d938e6",
   "metadata": {
    "tags": []
   },
   "outputs": [
    {
     "name": "stdout",
     "output_type": "stream",
     "text": [
      "max_question_len:151\n",
      "max_answer_len:251\n"
     ]
    }
   ],
   "source": [
    "# 文件分片的时候需要设置大小\n",
    "max_question_len = df_qa_compact.question_content.map(len).max()\n",
    "max_answer_len = df_qa_compact.answer_content.map(len).max()\n",
    "\n",
    "print(\"max_question_len:\" + str(max_question_len))\n",
    "print(\"max_answer_len:\" + str(max_answer_len))"
   ]
  },
  {
   "cell_type": "markdown",
   "id": "26984825-94ce-4148-b668-531039010f1f",
   "metadata": {},
   "source": [
    "LangChain已经提供了很多分片的工具类，但是因为我们想要每一对问答作为一个分片，所以自己进行分片并生成documents"
   ]
  },
  {
   "cell_type": "code",
   "execution_count": 5,
   "id": "df741d40-99d4-4a6b-a54a-0c1309abc123",
   "metadata": {
    "tags": []
   },
   "outputs": [],
   "source": [
    "from langchain.text_splitter import CharacterTextSplitter\n",
    "from langchain.docstore.document import Document\n",
    "\n",
    "with open('./contents/med_qa.csv') as f:\n",
    "    med_qa_file = f.read()\n",
    "\n",
    "documents = []\n",
    "for qa_text in med_qa_file.split('\\n\\n'):\n",
    "    if qa_text:\n",
    "        new_doc = Document(\n",
    "            page_content=qa_text, metadata={}\n",
    "        )\n",
    "        documents.append(new_doc)"
   ]
  },
  {
   "cell_type": "code",
   "execution_count": null,
   "id": "35448168-4264-4da9-9cd2-00504d91f2d8",
   "metadata": {
    "tags": []
   },
   "outputs": [],
   "source": [
    "# documents的长度与问答对的长度一致。\n",
    "len(documents)"
   ]
  },
  {
   "cell_type": "code",
   "execution_count": 7,
   "id": "692ad894-ea90-43e5-baeb-2db23c764a21",
   "metadata": {
    "tags": []
   },
   "outputs": [
    {
     "data": {
      "text/plain": [
       "Document(page_content='Q:不是说做b超对宝宝不好吗？那怀孕检查是不？不是说做b超对宝宝不好吗？那怀孕检查是不是越少越好。无麻烦解答，谢谢。\\nA:B超属于超声波经常检查是不好的而且也没有必要经常检查的一般怀孕两个月检查一下怀孕五个月检查一下快出生时在检查就可以还有就是不舒服检查就可以的', metadata={})"
      ]
     },
     "execution_count": 7,
     "metadata": {},
     "output_type": "execute_result"
    }
   ],
   "source": [
    "documents[0]"
   ]
  },
  {
   "cell_type": "markdown",
   "id": "6751a86c-0289-4327-81e2-dae7d66b805e",
   "metadata": {},
   "source": [
    "#### 部署 Embedding 模型\n",
    "下面，我们从HuggingFace上部署Embedding模型 “GanymedeNil/text2vec-large-chinese”。\n",
    "\n",
    "因为我们只是生成Embedding向量，生成之后就不再需要，所以我们在这个Notebook实例里面部署该模型。它会从HuggingFace上下载模型，并缓存到本地。"
   ]
  },
  {
   "cell_type": "code",
   "execution_count": null,
   "id": "c4e38bfd-545a-4054-b513-ae9f824afe12",
   "metadata": {
    "tags": []
   },
   "outputs": [],
   "source": [
    "# 安装 sentence_transformers\n",
    "# %pip install sentence_transformers"
   ]
  },
  {
   "cell_type": "code",
   "execution_count": 14,
   "id": "c28f704f-aac0-4311-a15b-efbc4fa2ba78",
   "metadata": {
    "tags": []
   },
   "outputs": [
    {
     "name": "stderr",
     "output_type": "stream",
     "text": [
      "INFO:sentence_transformers.SentenceTransformer:Load pretrained SentenceTransformer: GanymedeNil/text2vec-large-chinese\n",
      "WARNING:sentence_transformers.SentenceTransformer:No sentence-transformers model found with name /home/ec2-user/.cache/torch/sentence_transformers/GanymedeNil_text2vec-large-chinese. Creating a new one with MEAN pooling.\n",
      "INFO:sentence_transformers.SentenceTransformer:Use pytorch device: cpu\n"
     ]
    }
   ],
   "source": [
    "from langchain.embeddings import HuggingFaceEmbeddings\n",
    "\n",
    "embeddings = HuggingFaceEmbeddings(model_name='GanymedeNil/text2vec-large-chinese')"
   ]
  },
  {
   "cell_type": "code",
   "execution_count": 16,
   "id": "4128a680-9702-4c92-86da-ce9f1d23be64",
   "metadata": {
    "tags": []
   },
   "outputs": [
    {
     "data": {
      "application/vnd.jupyter.widget-view+json": {
       "model_id": "bba1b4d0c700442b82a4e57459d1058e",
       "version_major": 2,
       "version_minor": 0
      },
      "text/plain": [
       "Batches:   0%|          | 0/1 [00:00<?, ?it/s]"
      ]
     },
     "metadata": {},
     "output_type": "display_data"
    }
   ],
   "source": [
    "# 尝试计算embedding\n",
    "doc_embed = embeddings.embed_query(documents[0].page_content)"
   ]
  },
  {
   "cell_type": "code",
   "execution_count": 19,
   "id": "377f65df-4e07-4827-8746-2f1bad21429c",
   "metadata": {
    "tags": []
   },
   "outputs": [
    {
     "data": {
      "text/plain": [
       "1024"
      ]
     },
     "execution_count": 19,
     "metadata": {},
     "output_type": "execute_result"
    }
   ],
   "source": [
    "# 查看生成的embedding向量的维度\n",
    "len(doc_embed)"
   ]
  },
  {
   "cell_type": "markdown",
   "id": "75232b8e-d2e6-4396-ac37-a8850d3f49ae",
   "metadata": {
    "tags": []
   },
   "source": [
    "下面就对我们所有的documents进行embedding向量化。\n",
    "\n",
    "先看看对100个问答生成向量需要多久。"
   ]
  },
  {
   "cell_type": "code",
   "execution_count": 10,
   "id": "6e76afbc-1c38-4b4c-9ffb-a04f142129b1",
   "metadata": {
    "tags": []
   },
   "outputs": [
    {
     "data": {
      "application/vnd.jupyter.widget-view+json": {
       "model_id": "3f918db32d434fe38377504faee0ab18",
       "version_major": 2,
       "version_minor": 0
      },
      "text/plain": [
       "Batches:   0%|          | 0/4 [00:00<?, ?it/s]"
      ]
     },
     "metadata": {},
     "output_type": "display_data"
    },
    {
     "name": "stdout",
     "output_type": "stream",
     "text": [
      "CPU times: user 2min 6s, sys: 30.5 s, total: 2min 36s\n",
      "Wall time: 2min 37s\n"
     ]
    },
    {
     "data": {
      "text/plain": [
       "<langchain.vectorstores.faiss.FAISS at 0x7f96a5693eb0>"
      ]
     },
     "execution_count": 10,
     "metadata": {},
     "output_type": "execute_result"
    }
   ],
   "source": [
    "%%time\n",
    "from langchain.vectorstores import FAISS\n",
    "FAISS.from_documents(documents[0:100], embeddings)"
   ]
  },
  {
   "cell_type": "markdown",
   "id": "dae154bc-187e-4a11-a3c9-260e93e692b7",
   "metadata": {},
   "source": [
    "上面的语句，使用G4dn的机型，结果大概需要3.6秒，但是在使用cpu的情况下，需要差不多160秒。\n",
    "\n",
    "在这个demo中，有近19万条问答，用g4dn完成整个向量化需要花费近3个小时，所以，我们将生成后的结果保存成文件，这样就可以重用这个文件，而无需每次都重新生成。\n",
    "\n",
    "由于这个index文件比较大，就没有传到代码库中，读者需要自己生成index使用，建议使用GPU的notebook，并且选其中一部分文档生成。避免时间太长"
   ]
  },
  {
   "cell_type": "code",
   "execution_count": null,
   "id": "846da4b5-a3ed-437b-9351-ed4e0e284f76",
   "metadata": {},
   "outputs": [],
   "source": [
    "%%time\n",
    "\n",
    "from langchain.vectorstores import FAISS\n",
    "vector_store = FAISS.from_documents(documents, embeddings)\n",
    "vs_path = './med_qa_FAISS_index'\n",
    "vector_store.save_local(vs_path)"
   ]
  },
  {
   "cell_type": "markdown",
   "id": "fcf95768-59d2-4601-88f6-2c3dc4ee3b57",
   "metadata": {
    "tags": []
   },
   "source": [
    "#### 我们可以直接从之前创建好的FAISS索引文件导入"
   ]
  },
  {
   "cell_type": "code",
   "execution_count": 20,
   "id": "2e4b1733-5536-4214-bd51-8ed69e0da8db",
   "metadata": {
    "tags": []
   },
   "outputs": [],
   "source": [
    "from langchain.vectorstores import FAISS\n",
    "vector_store = FAISS.load_local(\"./med_qa_FAISS_index\", embeddings)"
   ]
  },
  {
   "cell_type": "markdown",
   "id": "20a7f62d-c2d1-4560-9bc7-aa0ecbb060ea",
   "metadata": {
    "tags": []
   },
   "source": [
    "执行相似搜索查看结果："
   ]
  },
  {
   "cell_type": "code",
   "execution_count": 21,
   "id": "0c1b075a-88f2-499d-81cc-5f3bcbd037f6",
   "metadata": {
    "tags": []
   },
   "outputs": [
    {
     "data": {
      "application/vnd.jupyter.widget-view+json": {
       "model_id": "16f7e7b97f1545cf9ae21a235d7fb1e3",
       "version_major": 2,
       "version_minor": 0
      },
      "text/plain": [
       "Batches:   0%|          | 0/1 [00:00<?, ?it/s]"
      ]
     },
     "metadata": {},
     "output_type": "display_data"
    },
    {
     "data": {
      "text/plain": [
       "[Document(page_content='Q:眼睛干涩是什么症状？该怎么办？\\nA:干眼症，在长期使用电脑，喜欢看电视，看书，在空气环境较差的地方工作生活都可以导致此病发生。对于老年人来说，由于年龄增长睑板腺的分泌功能减退，泪液成分改变，更容易蒸发，出现干涩症状。临床表现是眼干涩，眼疲劳，异物感，刺痛流泪', metadata={}),\n",
       " Document(page_content='Q:最近眼睛感觉很干涩，想流泪。\\nA:眼睛干涩也就是指医学上所说的\"眼结膜干燥症\"也称作干眼症，它不是单一的某一种疾病，而是由几种完全不同的病因所引起、以眼干少泪为特征的一组疾病。说到引起眼睛干涩的原因，要是往前了说肯定是指上火一类的原因，但现今社会引起眼睛干涩的原因大多数是用眼过度，而这当中数长期对着电脑工作的人为主。', metadata={}),\n",
       " Document(page_content='Q:我眼睛一直干涩，怕光，老流泪眼角痒疲劳，眼睛可难受了，我买的珍珠明目什么作用也没有起，请问是怎么回事？谢谢\\nA:眼睛干涩一般和近视无关，主要还是可能为由于用眼过度或熬夜引起的。眼睛眨眼次数减少，泪液分泌不足会引起眼睛干涩，长期存在就会形成干眼症。最好是到医院眼科进行泪液分泌检查及裂隙灯角膜检查等明显，对应可使用人工泪液缓解眼睛干涩，同时需要注意眼睛的休息。如果存在角膜磨损，最好是配合使用贝复舒滴眼液促进修复。', metadata={})]"
      ]
     },
     "execution_count": 21,
     "metadata": {},
     "output_type": "execute_result"
    }
   ],
   "source": [
    "vector_store.similarity_search('眼睛干涩怎么办？', k=3)"
   ]
  },
  {
   "cell_type": "markdown",
   "id": "ab4ed35d-0c00-4fda-80a8-9c45fb7c183e",
   "metadata": {},
   "source": [
    "也可以同向量similarity的分数一起返回，我们可以根据返回的分数设定一个阈值，当相似性小于一定的值就不返回，这样可以避免查找出来不相关的结果。\n",
    "\n",
    "但是，不同的工具得到的similarity的分数不太一样。例如这里使用的Faiss，计算的结果是一个距离值，值越大代表越不相似。"
   ]
  },
  {
   "cell_type": "code",
   "execution_count": 22,
   "id": "b4847977-71ef-4d88-ad9f-c4c0ed425a3d",
   "metadata": {
    "tags": []
   },
   "outputs": [
    {
     "data": {
      "application/vnd.jupyter.widget-view+json": {
       "model_id": "f4798e1241bc412f9832a3cad14332c2",
       "version_major": 2,
       "version_minor": 0
      },
      "text/plain": [
       "Batches:   0%|          | 0/1 [00:00<?, ?it/s]"
      ]
     },
     "metadata": {},
     "output_type": "display_data"
    },
    {
     "data": {
      "text/plain": [
       "[(Document(page_content='Q:眼睛干涩是什么症状？该怎么办？\\nA:干眼症，在长期使用电脑，喜欢看电视，看书，在空气环境较差的地方工作生活都可以导致此病发生。对于老年人来说，由于年龄增长睑板腺的分泌功能减退，泪液成分改变，更容易蒸发，出现干涩症状。临床表现是眼干涩，眼疲劳，异物感，刺痛流泪', metadata={}),\n",
       "  327.90274),\n",
       " (Document(page_content='Q:最近眼睛感觉很干涩，想流泪。\\nA:眼睛干涩也就是指医学上所说的\"眼结膜干燥症\"也称作干眼症，它不是单一的某一种疾病，而是由几种完全不同的病因所引起、以眼干少泪为特征的一组疾病。说到引起眼睛干涩的原因，要是往前了说肯定是指上火一类的原因，但现今社会引起眼睛干涩的原因大多数是用眼过度，而这当中数长期对着电脑工作的人为主。', metadata={}),\n",
       "  342.84567),\n",
       " (Document(page_content='Q:我眼睛一直干涩，怕光，老流泪眼角痒疲劳，眼睛可难受了，我买的珍珠明目什么作用也没有起，请问是怎么回事？谢谢\\nA:眼睛干涩一般和近视无关，主要还是可能为由于用眼过度或熬夜引起的。眼睛眨眼次数减少，泪液分泌不足会引起眼睛干涩，长期存在就会形成干眼症。最好是到医院眼科进行泪液分泌检查及裂隙灯角膜检查等明显，对应可使用人工泪液缓解眼睛干涩，同时需要注意眼睛的休息。如果存在角膜磨损，最好是配合使用贝复舒滴眼液促进修复。', metadata={}),\n",
       "  350.25348)]"
      ]
     },
     "execution_count": 22,
     "metadata": {},
     "output_type": "execute_result"
    }
   ],
   "source": [
    "vector_store.similarity_search_with_score('眼睛干涩怎么办？', k=3)"
   ]
  },
  {
   "cell_type": "markdown",
   "id": "eeb0f0ed-b4cc-42ff-a012-7d63e41fad36",
   "metadata": {
    "tags": []
   },
   "source": [
    "#### 构建知识库的要点\n",
    "1. 文档内容提取及分片，特别是有图文、表格等复杂格式的文档。\n",
    "2. 进行相似搜索后根据相似值、或距离值进行阈值判断。"
   ]
  },
  {
   "cell_type": "markdown",
   "id": "5990e72d-5b2a-41fd-8611-268353b95463",
   "metadata": {},
   "source": [
    "### 使用ChatGLM基于知识库进行问答\n",
    "下面，我们使用 LangChain 创建一个基于知识库的 Chain，来实现问答。"
   ]
  },
  {
   "cell_type": "markdown",
   "id": "005c4110-cf60-40d8-9fa9-8179e7b375f7",
   "metadata": {
    "tags": []
   },
   "source": [
    "#### 从 Sagemaker Endpoint 创建model\n",
    "之前我们创建了ChatGLM的endpoint，我们使用 LangChain 提供的封装类*SagemakerEndpoint*，将该endpoint生成model对象。"
   ]
  },
  {
   "cell_type": "code",
   "execution_count": 23,
   "id": "d68ff949-87eb-4fa4-a4af-ec25432a0ba2",
   "metadata": {
    "tags": []
   },
   "outputs": [
    {
     "name": "stderr",
     "output_type": "stream",
     "text": [
      "INFO:root:test\n"
     ]
    }
   ],
   "source": [
    "import logging\n",
    "logger = logging.getLogger()\n",
    "logging.basicConfig(level=logging.INFO)\n",
    "logger.info(\"test\")"
   ]
  },
  {
   "cell_type": "code",
   "execution_count": 37,
   "id": "10861aad-368b-46aa-b6c6-36be453cb1b4",
   "metadata": {
    "tags": []
   },
   "outputs": [
    {
     "name": "stderr",
     "output_type": "stream",
     "text": [
      "INFO:botocore.credentials:Found credentials from IAM Role: BaseNotebookInstanceEc2InstanceRole\n"
     ]
    }
   ],
   "source": [
    "from typing import Dict\n",
    "from langchain.prompts import PromptTemplate\n",
    "from langchain import SagemakerEndpoint\n",
    "from langchain.llms.sagemaker_endpoint import LLMContentHandler\n",
    "from langchain.chains.question_answering import load_qa_chain\n",
    "import json\n",
    "\n",
    "from langchain.chains import RetrievalQA\n",
    "\n",
    "import logging\n",
    "logger = logging.getLogger()\n",
    "logger.setLevel(logging.INFO)\n",
    "\n",
    "sagemaker_endpoint_name = \"mt-chatglm2-g4dn\"\n",
    "\n",
    "class ContentHandler(LLMContentHandler):\n",
    "    content_type = \"application/json\"\n",
    "    accepts = \"application/json\"\n",
    "\n",
    "    def transform_input(self, prompt: str, model_kwargs: Dict) -> bytes:\n",
    "        parameters = {\"temperature\": 0.01}\n",
    "        input = {\"inputs\": prompt, \"parameters\": parameters }\n",
    "        logging.info(\"prompt: %s\", prompt)\n",
    "        logging.info(\"model parameters: %s\", parameters)\n",
    "        input_str = json.dumps(input)\n",
    "        return input_str.encode('utf-8')\n",
    "    \n",
    "    def transform_output(self, output: bytes) -> str:\n",
    "        response_json = json.loads(output.read().decode(\"utf-8\"))\n",
    "        logging.info(\"response_json: %s\", response_json)\n",
    "        return response_json[\"outputs\"]\n",
    "\n",
    "content_handler = ContentHandler()\n",
    "\n",
    "chatglm_model = SagemakerEndpoint(\n",
    "    endpoint_name=sagemaker_endpoint_name, \n",
    "    region_name=\"us-east-1\", \n",
    "    content_handler=content_handler\n",
    ")\n",
    "\n",
    "prompt_template = \"\"\"请基于以下的3引号里面的内容，简洁、准确的回答最后的问题，并使用中文。如果你无法从已知内容获取答案，就直接返回'根据已知信息无法回答该问题。'，不要编造答案。\n",
    "\n",
    "已知内容:\n",
    "```\n",
    "{context}\n",
    "```\n",
    "\n",
    "问题: {question}\n",
    "答案:\"\"\"\n",
    "PROMPT = PromptTemplate(\n",
    "    template=prompt_template, input_variables=[\"context\", \"question\"]\n",
    ")\n",
    "chain_type_kwargs = {\"prompt\": PROMPT}\n",
    "\n",
    "chain = RetrievalQA.from_chain_type(\n",
    "    llm=chatglm_model, chain_type=\"stuff\", retriever=vector_store.as_retriever(),\n",
    "    chain_type_kwargs=chain_type_kwargs\n",
    ")\n"
   ]
  },
  {
   "cell_type": "markdown",
   "id": "e8df42ba-b682-45c3-9e92-9a4eee6dfc37",
   "metadata": {},
   "source": [
    "下面，使用 LangChain 提供的 *RetrievalQA* 创建一个QA Chain，用于进行问答。"
   ]
  },
  {
   "cell_type": "markdown",
   "id": "4cfc7eee-7319-452e-9871-1766ca86848f",
   "metadata": {},
   "source": [
    "就可以使用这个 Chain 进行问答。"
   ]
  },
  {
   "cell_type": "code",
   "execution_count": 25,
   "id": "f006ad2d-a2fe-4e52-94be-a92b83ff8ec9",
   "metadata": {
    "tags": []
   },
   "outputs": [
    {
     "data": {
      "application/vnd.jupyter.widget-view+json": {
       "model_id": "98621cb4e64a42e0a86e1dfbc204d54e",
       "version_major": 2,
       "version_minor": 0
      },
      "text/plain": [
       "Batches:   0%|          | 0/1 [00:00<?, ?it/s]"
      ]
     },
     "metadata": {},
     "output_type": "display_data"
    },
    {
     "name": "stderr",
     "output_type": "stream",
     "text": [
      "INFO:root:prompt: 已知内容:\n",
      "Q:最近眼睛感觉很干涩，想流泪。\n",
      "A:眼睛干涩也就是指医学上所说的\"眼结膜干燥症\"也称作干眼症，它不是单一的某一种疾病，而是由几种完全不同的病因所引起、以眼干少泪为特征的一组疾病。说到引起眼睛干涩的原因，要是往前了说肯定是指上火一类的原因，但现今社会引起眼睛干涩的原因大多数是用眼过度，而这当中数长期对着电脑工作的人为主。\n",
      "\n",
      "Q:眼睛干涩是什么症状？该怎么办？\n",
      "A:干眼症，在长期使用电脑，喜欢看电视，看书，在空气环境较差的地方工作生活都可以导致此病发生。对于老年人来说，由于年龄增长睑板腺的分泌功能减退，泪液成分改变，更容易蒸发，出现干涩症状。临床表现是眼干涩，眼疲劳，异物感，刺痛流泪\n",
      "\n",
      "Q:眼睛干涩，疲劳在喝石斛茶有没有用啊\n",
      "A:眼睛干涩也就是指医学上所说的\"眼结膜干燥症\"也称作干眼症，它不是单一的某一种疾病，而是由几种完全不同的病因所引起、以眼干少泪为特征的一组疾病。平时注意饮食清淡不要食用辛辣刺激性食物建议去正规医院检查确定病情及时治疗\n",
      "\n",
      "Q:经常偏头痛，眼睛干涩。？经常半边头痛，连半边脖子也酸痛，眼睛干涩。怎么治疗好呢。\n",
      "A:眼睛干涩也就是指医学上所说的\"眼结膜干燥症\"也称作干眼症，它不是单一的某一种疾病，而是由几种完全不同的病因所引起，以眼干少泪为特征的一组疾病。常见的症状是眼部干涩和异物感。眼睛干涩的原因，以前肯定是指上火一类的原因，但现在大多数是用眼过度，由电脑工作者为主，在电脑屏幕前时间过长，视网膜上的视紫红质会被消耗，而视紫红质主要由维生素a合成，因此，多吃含维生素a和蛋白质多的食物比较好。\n",
      "\n",
      "基于以上的已知内容，简洁、准确的回答最后的问题，并使用中文。如果你无法从已知内容获取答案，就直接返回'根据已知信息无法回答该问题。'，不要编造答案。\n",
      "\n",
      "问题: 眼睛干涩是怎么回事？\n",
      "答案:\n",
      "INFO:root:model parameters: {'temperature': 0.01}\n",
      "INFO:root:response_json: {'outputs': '眼睛干涩是指眼部感觉干燥、痒、疼痛或不适感,通常表现为眼睛发干、痒、疼痛、灼热、泪液分泌减少等症状。引起眼睛干涩的原因有很多,包括环境因素、眼部疾病、药物副作用等。长期在电脑前工作、看书、看电视等容易引起眼睛干涩。如果症状较为严重,建议及时就医,避免延误治疗。'}\n"
     ]
    },
    {
     "data": {
      "text/plain": [
       "{'query': '眼睛干涩是怎么回事？',\n",
       " 'result': '眼睛干涩是指眼部感觉干燥、痒、疼痛或不适感,通常表现为眼睛发干、痒、疼痛、灼热、泪液分泌减少等症状。引起眼睛干涩的原因有很多,包括环境因素、眼部疾病、药物副作用等。长期在电脑前工作、看书、看电视等容易引起眼睛干涩。如果症状较为严重,建议及时就医,避免延误治疗。'}"
      ]
     },
     "execution_count": 25,
     "metadata": {},
     "output_type": "execute_result"
    }
   ],
   "source": [
    "chain({\"query\": \"眼睛干涩是怎么回事？\"})"
   ]
  },
  {
   "cell_type": "code",
   "execution_count": 26,
   "id": "f9578388-6bc4-4bc4-862a-110386382a83",
   "metadata": {
    "tags": []
   },
   "outputs": [
    {
     "data": {
      "application/vnd.jupyter.widget-view+json": {
       "model_id": "03808a4c53974f14ad65c44759041970",
       "version_major": 2,
       "version_minor": 0
      },
      "text/plain": [
       "Batches:   0%|          | 0/1 [00:00<?, ?it/s]"
      ]
     },
     "metadata": {},
     "output_type": "display_data"
    },
    {
     "name": "stderr",
     "output_type": "stream",
     "text": [
      "INFO:root:prompt: 已知内容:\n",
      "Q:我的眼睛有血丝，有干眼症，用什么眼药水好，眼睛总是感觉胀痛，灼热\n",
      "A:初步考虑可能是眼底病变、干眼症、结膜炎、巩膜炎等引起的症状。你的情况眼睛干属于眼疲劳引起。建议不要长时间用眼，可以过段时间休息下，另外可以滴用滴眼液，可改善病情。\n",
      "\n",
      "Q:我眼睛一直干涩，怕光，老流泪眼角痒疲劳，眼睛可难受了，我买的珍珠明目什么作用也没有起，请问是怎么回事？谢谢\n",
      "A:眼睛干可能与用眼疲劳有关，也可能是角膜炎、结膜炎等疾病引起的。建议到医院检查，找出病因后在医生的指导下使用眼药水。平时应注意调节用眼及其眼部护理，定期到医院复查。\n",
      "\n",
      "Q:眼睛干涩，疲劳在喝石斛茶有没有用啊\n",
      "A:眼睛干涩也就是指医学上所说的\"眼结膜干燥症\"也称作干眼症，它不是单一的某一种疾病，而是由几种完全不同的病因所引起、以眼干少泪为特征的一组疾病。平时注意饮食清淡不要食用辛辣刺激性食物建议去正规医院检查确定病情及时治疗\n",
      "\n",
      "Q:眼睛干涩，眼胀，容易疲劳骑摩托车时迎风流泪，起床时流泪。请专家帮忙判断一下谢谢大家。\n",
      "A:眼睛干涩有时还疼痛需要考虑干眼症的表现，是由于眼泪的数量不足或者质量差，导致的眼部干燥的综合症。建议最好可以到医院眼科就诊，在医生的指导下进行用药，这样有利于你的病情的恢复，不能自己胡乱的用药，以免对眼睛造成不可逆的损伤\n",
      "\n",
      "基于以上的已知内容，简洁、准确的回答最后的问题，并使用中文。如果你无法从已知内容获取答案，就直接返回'根据已知信息无法回答该问题。'，不要编造答案。\n",
      "\n",
      "问题: 眼睛干涩可以使用眼药水吗？\n",
      "答案:\n",
      "INFO:root:model parameters: {'temperature': 0.01}\n",
      "INFO:root:response_json: {'outputs': '根据已知信息，眼睛干涩可以使用眼药水来缓解症状。但是，建议在使用眼药水之前，先去医院检查病因，以免对眼睛造成不必要的伤害。'}\n"
     ]
    },
    {
     "data": {
      "text/plain": [
       "{'query': '眼睛干涩可以使用眼药水吗？',\n",
       " 'result': '根据已知信息，眼睛干涩可以使用眼药水来缓解症状。但是，建议在使用眼药水之前，先去医院检查病因，以免对眼睛造成不必要的伤害。'}"
      ]
     },
     "execution_count": 26,
     "metadata": {},
     "output_type": "execute_result"
    }
   ],
   "source": [
    "chain({\"query\": \"眼睛干涩可以使用眼药水吗？\"})"
   ]
  },
  {
   "cell_type": "code",
   "execution_count": 39,
   "id": "7b4aa590-133c-4d1b-8b57-9418988f2385",
   "metadata": {
    "tags": []
   },
   "outputs": [
    {
     "data": {
      "application/vnd.jupyter.widget-view+json": {
       "model_id": "d0c8898772de4c8cad167d67efa020a8",
       "version_major": 2,
       "version_minor": 0
      },
      "text/plain": [
       "Batches:   0%|          | 0/1 [00:00<?, ?it/s]"
      ]
     },
     "metadata": {},
     "output_type": "display_data"
    },
    {
     "name": "stderr",
     "output_type": "stream",
     "text": [
      "INFO:root:prompt: 假设你是一个专业的医生，请基于以下的已知内容，简洁、准确的回答最后的问题，并使用中文。如果你无法从已知内容获取答案，就直接返回'根据已知信息无法回答该问题。'，不要编造答案。\n",
      "\n",
      "已知内容:\n",
      "Q:我的眼睛有血丝，有干眼症，用什么眼药水好，眼睛总是感觉胀痛，灼热\n",
      "A:初步考虑可能是眼底病变、干眼症、结膜炎、巩膜炎等引起的症状。你的情况眼睛干属于眼疲劳引起。建议不要长时间用眼，可以过段时间休息下，另外可以滴用滴眼液，可改善病情。\n",
      "\n",
      "Q:眼睛干涩、火热、易流泪要怎么治疗？\n",
      "A:眼睛干痒痛红肿，畏光流泪异物感，这是结膜炎的症状。建议，局部滴注抗生素眼药水，眼睛好好休息，不要用眼疲劳。\n",
      "\n",
      "Q:我眼睛一直干涩，怕光，老流泪眼角痒疲劳，眼睛可难受了，我买的珍珠明目什么作用也没有起，请问是怎么回事？谢谢\n",
      "A:眼睛干可能与用眼疲劳有关，也可能是角膜炎、结膜炎等疾病引起的。建议到医院检查，找出病因后在医生的指导下使用眼药水。平时应注意调节用眼及其眼部护理，定期到医院复查。\n",
      "\n",
      "Q:眼睛干涩，有血丝，在阳光下易流泪，有痒感，请问出了什么问题？该如何治疗？\n",
      "A:眼睛干涩有血丝痒不适主要还是可能为由于用眼过度或熬夜引起的。另外也不排除是过敏性结膜炎的情况，可以使用珍珠明目滴眼液点眼治疗，口服杞菊地黄丸来进行治疗，不要饮酒、不要吃辛辣等刺激性食物，如果治疗效果不好，应该到正规医院的眼科进行诊治\n",
      "\n",
      "\n",
      "问题: 眼睛干涩可以用什么眼药水?\n",
      "答案:\n",
      "INFO:root:model parameters: {'temperature': 0.01}\n",
      "INFO:root:response_json: {'outputs': '可以使用含有抗组织胺成分的眼药水来缓解眼睛干涩，例如珍珠明目、明目善睛等。此外，也可以使用人工泪液来补充泪液，缓解眼睛干涩。但是，建议在使用眼药水前先到医生指导下使用，以免对眼睛造成不必要的伤害。'}\n"
     ]
    },
    {
     "data": {
      "text/plain": [
       "{'query': '眼睛干涩可以用什么眼药水?',\n",
       " 'result': '可以使用含有抗组织胺成分的眼药水来缓解眼睛干涩，例如珍珠明目、明目善睛等。此外，也可以使用人工泪液来补充泪液，缓解眼睛干涩。但是，建议在使用眼药水前先到医生指导下使用，以免对眼睛造成不必要的伤害。'}"
      ]
     },
     "execution_count": 39,
     "metadata": {},
     "output_type": "execute_result"
    }
   ],
   "source": [
    "chain({\"query\": \"医生，眼睛干涩可以用什么眼药水?\"})"
   ]
  },
  {
   "cell_type": "code",
   "execution_count": 40,
   "id": "369834cf-70db-4a13-9cd2-988ff1ae1ba8",
   "metadata": {
    "tags": []
   },
   "outputs": [
    {
     "data": {
      "application/vnd.jupyter.widget-view+json": {
       "model_id": "4243c87849b8405dae2ca9e1512120be",
       "version_major": 2,
       "version_minor": 0
      },
      "text/plain": [
       "Batches:   0%|          | 0/1 [00:00<?, ?it/s]"
      ]
     },
     "metadata": {},
     "output_type": "display_data"
    },
    {
     "name": "stderr",
     "output_type": "stream",
     "text": [
      "INFO:root:prompt: 假设你是一个专业的医生，请基于以下的已知内容，简洁、准确的回答最后的问题，并使用中文。如果你无法从已知内容获取答案，就直接返回'根据已知信息无法回答该问题。'，不要编造答案。\n",
      "\n",
      "已知内容:\n",
      "Q:怀孕74天，医生说要建小卡，可我还没有领结婚证，我想问下南京市妇幼保健院没有结婚证能建小卡做产检吗\n",
      "A:这个是可以进行建卡的，不需要结婚证的。主要填写你个人信息而已。当然，具体要根据医院要求进行。另外建议尽快领证，避免孩子出生时候办不了出生证明。\n",
      "\n",
      "Q:10年的时候未婚先孕生了一孩子剖腹产生的时候要身份证做了出生证明后来分手了孩子给了男的现10年的时候未婚先孕生了一孩子剖腹产生的时候要身份证做了出生证明后来分手了孩子给了男的现在还有一个月要跟现男友结婚了发现怀孕一个月了我这种情况能顺利拿到结婚证和准生证吗\n",
      "A:跟据你的描述如果你的现男友是初婚没有孩子的话，虽然你先前有过一个孩子，如今也是可以领到结婚证再次生育的。也就是说你现在可以领结婚证，这次怀孕的孩子要办理特殊照顾二胎生育证。建议，你们及时去有关单位办理所有事宜。\n",
      "\n",
      "Q:结婚2年了，始终没有小孩，老婆检查没事，说我是精子成活率低，该怎么办我也要咨询\n",
      "A:从你提供的临床资料来看，结婚2年了始终没有小孩精子成活率低考虑属于男性不育症的可能性较大，临床上男性不育较少见。建议请当地的中医师望闻问切、辨证施治，采用如五子衍宗丸加减化裁煎汤治疗，必要的话要考虑调换工种，希望能够帮助到你。\n",
      "\n",
      "Q:大庆戒酒中心我男朋友朋友的伯父是精神病，和她结婚，我们的小孩会不会有可能得精神病。我们的男朋友以后会不会有精神病？\n",
      "A:大多数的精神病人是出生缺陷和先天遗传、个性特征及体质因素、器质因素是其中一少部分。如果他的爷爷奶奶没有精神问题，他的父母也没有精神问题，你们的小孩不会有问题的。\n",
      "\n",
      "\n",
      "问题: 为什么爸妈结婚没叫我参加婚礼?\n",
      "答案:\n",
      "INFO:root:model parameters: {'temperature': 0.01}\n",
      "INFO:root:response_json: {'outputs': '根据已知信息无法回答该问题。'}\n"
     ]
    },
    {
     "name": "stdout",
     "output_type": "stream",
     "text": [
      "CPU times: user 691 ms, sys: 0 ns, total: 691 ms\n",
      "Wall time: 1.71 s\n"
     ]
    },
    {
     "data": {
      "text/plain": [
       "{'query': '为什么爸妈结婚没叫我参加婚礼?', 'result': '根据已知信息无法回答该问题。'}"
      ]
     },
     "execution_count": 40,
     "metadata": {},
     "output_type": "execute_result"
    }
   ],
   "source": [
    "%%time\n",
    "# 问一个知识库中应该没有的问题\n",
    "\n",
    "chain({\"query\": \"为什么爸妈结婚没叫我参加婚礼?\"})"
   ]
  },
  {
   "cell_type": "code",
   "execution_count": 41,
   "id": "ea786bc8-495a-4d2c-b344-10a3adc94551",
   "metadata": {
    "tags": []
   },
   "outputs": [
    {
     "data": {
      "application/vnd.jupyter.widget-view+json": {
       "model_id": "20603af972d34353b6c92a67510093e3",
       "version_major": 2,
       "version_minor": 0
      },
      "text/plain": [
       "Batches:   0%|          | 0/1 [00:00<?, ?it/s]"
      ]
     },
     "metadata": {},
     "output_type": "display_data"
    },
    {
     "name": "stderr",
     "output_type": "stream",
     "text": [
      "INFO:root:prompt: 假设你是一个专业的医生，请基于以下的已知内容，简洁、准确的回答最后的问题，并使用中文。如果你无法从已知内容获取答案，就直接返回'根据已知信息无法回答该问题。'，不要编造答案。\n",
      "\n",
      "已知内容:\n",
      "Q:经常生气时心痛会引发心脏病吗近来午睡起来经常胸闷，心跳加速，不知道是不是因为生气时心痛引发的\n",
      "A:经常生气会引起很多疾病的。中医所说怒伤肝，经常生气就会导致肝郁气结，气结则血瘀，然后就会引起一些疼痛，乳腺胀痛啊，腹痛啊等，还有就是怒则气上，有时就是头痛，头晕，血压也会升高的建议是，调理心情，服用一些疏肝理气的药物，如果可能的话最好去找中医进行治疗。\n",
      "\n",
      "Q:近来脾气很暴躁，总想发火，一点小事都会发？近来脾气很暴躁，总想发火，一点小事都会发很大的脾气。不记后果。不知道我着是不是病态心理。\n",
      "A:可能是最近生活工作压力比较大，导致的情绪有点失控你可以找个倾诉一下不良的情绪，多和朋友和亲人沟通，这样应该可以缓解情绪。还可以抽空去旅游一下，放松一下心情，自然就会慢慢调整好心情了\n",
      "\n",
      "Q:医生说我有心理障碍，心理障碍有什么特征吗？无如何治疗心理障碍？\n",
      "A:你这应该是心理障碍，一般为遭受挫折后表现愤怒甚至冲动报复等心理异常现象。最常见的为焦虑、恐怖、幻觉、妄想、兴奋、抑郁、智力低下等，这种情况一般采取自我心理调节的方法，严重了要找心理医生进行疏导或者用药调节。\n",
      "\n",
      "Q:我不知道怎么回事，有些事情看不惯就容易发火，有？我不知道怎么回事，有些事情看不惯就容易发火，有些也是点小事，也容易冲动。我想控制住，可一遇事就控制不住，又发火啦，发火后又后悔，请问我该怎么办。\n",
      "A:心理分析：考虑你是因为个人的脾气秉性特性导致的易怒，还需要向你补充，你是不是向任何人任何事都会发火？心理指导：建议你加强体育锻炼，有助于宣泄心中的不满，此外，从多读一些让人平心静气的书籍，希望能够帮到你。\n",
      "\n",
      "\n",
      "问题: 愤怒会得心脏病吗\n",
      "答案:\n",
      "INFO:root:model parameters: {'temperature': 0.01}\n",
      "INFO:root:response_json: {'outputs': '根据已知信息无法回答该问题。'}\n"
     ]
    },
    {
     "data": {
      "text/plain": [
       "{'query': '愤怒会得心脏病吗', 'result': '根据已知信息无法回答该问题。'}"
      ]
     },
     "execution_count": 41,
     "metadata": {},
     "output_type": "execute_result"
    }
   ],
   "source": [
    "chain({\"query\": \"愤怒会得心脏病吗\"})"
   ]
  },
  {
   "cell_type": "markdown",
   "id": "38a1cc48-c016-4024-bbc6-3cfbfe085050",
   "metadata": {},
   "source": [
    "可以看到，当知识库中找到的结果几乎没有相关性时，应该从上下文中找不到结果。这时，使用 ChatGLM 的结果中，会先显示 “根据已知信息无法回答该问题”，但是紧接着就会使用模型中已有的知识进行回答。"
   ]
  },
  {
   "cell_type": "code",
   "execution_count": 11,
   "id": "b3082baa-7c83-4f3c-9caa-22b71e802645",
   "metadata": {
    "tags": []
   },
   "outputs": [
    {
     "data": {
      "application/vnd.jupyter.widget-view+json": {
       "model_id": "34021ea4c6d04f58893f4ce3ca8d436d",
       "version_major": 2,
       "version_minor": 0
      },
      "text/plain": [
       "Batches:   0%|          | 0/1 [00:00<?, ?it/s]"
      ]
     },
     "metadata": {},
     "output_type": "display_data"
    },
    {
     "name": "stderr",
     "output_type": "stream",
     "text": [
      "INFO:root:prompt: 使用下面的已知内容，简洁、准确的回答最后的问题，并使用中文。如果你无法从已知内容获取答案，就直接返回'根据已知信息无法回答该问题。'，不要编造答案。\n",
      "\n",
      "已知内容:\n",
      "Q:腰间盘突出症状是什么样的？由什么引起的？腰间盘突出症状是什么样的？由什么引起的？曾经治疗情况及是否有过敏、遗传病史：腰间盘突出症状是什么样的？由什么引起的？\n",
      "A:腰间盘突出是可以进行牵引、按摩、骶疗治疗的，如果症状严重影响行走，劳动等情况可采取微创手术治疗。平时保护好腰部可以选择腰围固定\n",
      "\n",
      "Q:腰椎间盘突出压迫坐骨神经痛吃什么药好\n",
      "A:舒筋健腰丸是腰间盘突出专用药。专治腰间盘突出，及其引发的坐骨神经痛、椎管狭窄、腰椎骨质增生、腰肌劳损等。\n",
      "\n",
      "Q:治疗方法有哪些？我腰骶部这几天很疼，不知道是不是腰间盘突出，请问腰间盘突出有哪些症状呢？网友们先谢了。\n",
      "A:绝大部分腰间盘突出通过保守治疗是可以治愈的，保守治疗主要分为理疗和药物治疗，理疗（含有牵引、按摩、针灸、药熏等），平时需要注意不要过度劳累，不要长时间保持一个固定的姿势，腰椎间盘突出，多数是由于长期的不合理姿势所导致。\n",
      "\n",
      "Q:腰间盘突出症状是什么样的？由什么引起的？腰间盘突出症状是什么样的？由什么引起的？曾经治疗情况及是否有过敏、遗传病史：腰间盘突出症状是什么样的？由什么引起的？\n",
      "A:单靠药物是无法治愈腰椎突出症的，建议到医院康复科进行针灸推拿按摩和运动疗法治疗，手术对身体有一定的伤害，所以先保守治疗。\n",
      "\n",
      "问题: 腰间盘突出怎么治疗？\n",
      "答案:\n",
      "INFO:root:model parameters: {'temperature': 0.01}\n",
      "INFO:root:response_json: {'answer': '绝大部分腰间盘突出通过保守治疗是可以治愈的，保守治疗主要分为理疗和药物治疗，理疗（含有牵引、按摩、针灸、药熏等），平时需要注意不要过度劳累，不要长时间保持一个固定的姿势。如果症状严重影响行走、劳动等情况，可以采取微创手术治疗。'}\n"
     ]
    },
    {
     "data": {
      "text/plain": [
       "{'query': '腰间盘突出怎么治疗？',\n",
       " 'result': '绝大部分腰间盘突出通过保守治疗是可以治愈的，保守治疗主要分为理疗和药物治疗，理疗（含有牵引、按摩、针灸、药熏等），平时需要注意不要过度劳累，不要长时间保持一个固定的姿势。如果症状严重影响行走、劳动等情况，可以采取微创手术治疗。'}"
      ]
     },
     "execution_count": 11,
     "metadata": {},
     "output_type": "execute_result"
    }
   ],
   "source": [
    "chain({\"query\": \"腰间盘突出怎么治疗？\"})"
   ]
  },
  {
   "cell_type": "code",
   "execution_count": null,
   "id": "aa4abe1d-0912-4481-b63f-37110e3d92ef",
   "metadata": {},
   "outputs": [],
   "source": []
  }
 ],
 "metadata": {
  "kernelspec": {
   "display_name": "Custom (mt_python3)",
   "language": "python",
   "name": "mt_python3"
  },
  "language_info": {
   "codemirror_mode": {
    "name": "ipython",
    "version": 3
   },
   "file_extension": ".py",
   "mimetype": "text/x-python",
   "name": "python",
   "nbconvert_exporter": "python",
   "pygments_lexer": "ipython3",
   "version": "3.10.11"
  }
 },
 "nbformat": 4,
 "nbformat_minor": 5
}
