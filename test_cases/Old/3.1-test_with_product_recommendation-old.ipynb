{
 "cells": [
  {
   "cell_type": "markdown",
   "id": "2664dd0a-2461-489c-9243-d15f205d248b",
   "metadata": {},
   "source": [
    "### 测试商品推荐场景下的LLM的能力\n"
   ]
  },
  {
   "cell_type": "markdown",
   "id": "0f72b234-4c03-478f-993f-b98585bb8a64",
   "metadata": {},
   "source": [
    "使用chromapip install chromadb"
   ]
  },
  {
   "cell_type": "code",
   "execution_count": null,
   "id": "d7b9eda7-ad41-466d-af5f-514a6ca2ac11",
   "metadata": {
    "tags": []
   },
   "outputs": [],
   "source": [
    "# %pip install chromadb"
   ]
  },
  {
   "cell_type": "code",
   "execution_count": 2,
   "id": "6532ebc4-4b16-4281-ba79-1aa2a12d0883",
   "metadata": {
    "tags": []
   },
   "outputs": [],
   "source": [
    "prod1 = \"\"\"歌莉娅官方正品真丝缎面打底背心女V领无袖西装内搭吊带醋酸上衣\n",
    "价格82.89元\n",
    "品牌：GLORIA/歌莉娅\n",
    "尺码：S,M,L,XL,2XL,3XL\n",
    "质地：其他/other\n",
    "图案：纯色\n",
    "风格：通勤\n",
    "流行元素：拼接\n",
    "颜色分类：香槟色,白色,黑色\n",
    "组合形式：单件\n",
    "货号：1192051\n",
    "年份季节：2022年春季\n",
    "衣长：常规\n",
    "款式：吊带\n",
    "材质成分：其他材质100%\n",
    "购买链接：https://www.taobao.com/list/item/709454170667.htm?spm=a21wu.10013406.taglist-content.3.d2756680mzL0uL\n",
    "\"\"\"\n",
    "\n",
    "prod2 = \"\"\"歌莉娅蝴蝶碎花v领连衣裙女装夏装显瘦气质礼服裙子1A6H4KAKA\n",
    "会员价格：309元。非会员价格399.00元。\n",
    "品牌：GLORIA/歌莉娅\n",
    "适用年龄：25-29周岁\n",
    "尺码：XS S M L XL XXL\n",
    "图案：花色\n",
    "风格：通勤\n",
    "通勤：简约\n",
    "领型：V领\n",
    "腰型：高腰\n",
    "衣门襟：套头\n",
    "颜色分类：27D黑底印花\n",
    "袖型：常规\n",
    "货号：1A6H4KAKA\n",
    "裙型：A字裙\n",
    "年份季节：2022年夏季\n",
    "袖长：短袖\n",
    "裙长：中裙\n",
    "流行元素/工艺：印花\n",
    "款式：v领连衣裙\n",
    "销售渠道类型：商场同款(线上线下都销售)\n",
    "廓形：A型\n",
    "材质成分：粘胶纤维(粘纤)100%\n",
    "购买链接：https://www.taobao.com/list/item/678724503513.htm?spm=a21wu.10013406.taglist-content.1.d2756680mzL0uL\n",
    "\n",
    "洗涤说明：\n",
    "手洗，洗涤温度不高于40°C 不可漂白 在阴凉处悬挂滴干 不可翻转干燥 熨斗底板\n",
    "温度不高预售110°C 不可干洗整件衣服在穿着时请小心，以免勾纱 深浅色衣物\n",
    "分开洗涤 避开脚钮熨烫 不可扭干，理平晾干 衣服洗后易起皱，为美观起见，\n",
    "每次洗后请熨烫平整后再穿着 因面料特性，衣服折叠易产生折痕，请悬挂存放。\"\"\"\n",
    "\n",
    "prod3 = \"\"\"JNBY/江南布衣23夏新品连衣裙音符印花宽松5N4210770款式的商品详细信息：\n",
    "5N4210770非会员价价格是995元，会员价格889元。\n",
    "品牌：JNBY/江南布衣 \n",
    "适用年龄：25-29周岁\n",
    "尺码：XS S M L\n",
    "图案：印花\n",
    "风格：通勤\n",
    "通勤：淑女\n",
    "领型：圆领\n",
    "衣门襟：一粒扣\n",
    "颜色分类：853/杂桔 077/杂灰咖 973/米黑双色\n",
    "袖型：常规\n",
    "组合形式：单件\n",
    "货号：5N4210770\n",
    "裙型：A字裙\n",
    "适用季节：夏季\n",
    "年份季节：2023年夏季\n",
    "袖长：短袖\n",
    "裙长：短裙\n",
    "流行元素/工艺：印花\n",
    "款式：印花裙\n",
    "销售渠道类型：商场同款(线上线下都销售)\n",
    "廓形：A型\n",
    "\n",
    "材质成分：棉100%\n",
    "\n",
    "如果想购买，可以访问一下【https://www.taobao.com/list/item/698737921676.htm?spm=a21wu.10013406.taglist-content.1.3a0359e5vRvpmC】链接进行购买\n",
    "\n",
    "洗护方式如下：\n",
    "洗涤说明：不可漂白、悬挂阴干、最高水温40°C、小心手洗\n",
    "护理说明\n",
    "①建议在阴凉通风,处悬挂阴干，以免拉长变形。\n",
    "②不建议机洗，推荐中性洗涤剂手洗，注意深浅颜色分开。\n",
    "③通风透气、保持干燥，应放置适量的专用防霉防蛀药剂，以免发霉、虫蛀。\n",
    "温馨提示：具体洗涤维护请以洗唛为准。\"\"\""
   ]
  },
  {
   "cell_type": "code",
   "execution_count": 10,
   "id": "93777593-7715-4cbe-9c40-30eba110c6a5",
   "metadata": {
    "tags": []
   },
   "outputs": [],
   "source": [
    "from langchain.docstore.document import Document\n",
    "\n",
    "documents = []\n",
    "for prod in [prod1, prod2, prod3]:\n",
    "    prod = prod.replace('\\n', ' ')\n",
    "    new_doc = Document(\n",
    "        page_content=prod, metadata={'type': 'Prod'}\n",
    "    )\n",
    "    documents.append(new_doc)"
   ]
  },
  {
   "cell_type": "code",
   "execution_count": 41,
   "id": "83bbfcca-8e6c-4cd7-9e90-10b3e6da1556",
   "metadata": {
    "tags": []
   },
   "outputs": [
    {
     "data": {
      "text/plain": [
       "Document(page_content='歌莉娅蝴蝶碎花v领连衣裙女装夏装显瘦气质礼服裙子1A6H4KAKA 会员价格：309元。非会员价格399.00元。 品牌：GLORIA/歌莉娅 适用年龄：25-29周岁 尺码：XS S M L XL XXL 图案：花色 风格：通勤 通勤：简约 领型：V领 腰型：高腰 衣门襟：套头 颜色分类：27D黑底印花 袖型：常规 货号：1A6H4KAKA 裙型：A字裙 年份季节：2022年夏季 袖长：短袖 裙长：中裙 流行元素/工艺：印花 款式：v领连衣裙 销售渠道类型：商场同款(线上线下都销售) 廓形：A型 材质成分：粘胶纤维(粘纤)100% 购买链接：https://www.taobao.com/list/item/678724503513.htm?spm=a21wu.10013406.taglist-content.1.d2756680mzL0uL  洗涤说明： 手洗，洗涤温度不高于40°C 不可漂白 在阴凉处悬挂滴干 不可翻转干燥 熨斗底板 温度不高预售110°C 不可干洗整件衣服在穿着时请小心，以免勾纱 深浅色衣物 分开洗涤 避开脚钮熨烫 不可扭干，理平晾干 衣服洗后易起皱，为美观起见， 每次洗后请熨烫平整后再穿着 因面料特性，衣服折叠易产生折痕，请悬挂存放。', metadata={'type': 'Prod'})"
      ]
     },
     "execution_count": 41,
     "metadata": {},
     "output_type": "execute_result"
    }
   ],
   "source": [
    "documents[1]"
   ]
  },
  {
   "cell_type": "code",
   "execution_count": 12,
   "id": "da340b63-0b6f-4045-8f7c-74fd7dccebfb",
   "metadata": {
    "tags": []
   },
   "outputs": [
    {
     "name": "stderr",
     "output_type": "stream",
     "text": [
      "No sentence-transformers model found with name /home/ec2-user/.cache/torch/sentence_transformers/GanymedeNil_text2vec-large-chinese. Creating a new one with MEAN pooling.\n"
     ]
    }
   ],
   "source": [
    "from langchain.embeddings import HuggingFaceEmbeddings\n",
    "\n",
    "embeddings = HuggingFaceEmbeddings(model_name='GanymedeNil/text2vec-large-chinese')"
   ]
  },
  {
   "cell_type": "code",
   "execution_count": 13,
   "id": "cc910e48-8c16-4ef8-b8bc-69a6d518311c",
   "metadata": {
    "tags": []
   },
   "outputs": [
    {
     "name": "stdout",
     "output_type": "stream",
     "text": [
      "CPU times: user 9.42 s, sys: 2.3 s, total: 11.7 s\n",
      "Wall time: 13.2 s\n"
     ]
    }
   ],
   "source": [
    "%%time\n",
    "from langchain.vectorstores import FAISS, Chroma\n",
    "\n",
    "# vector_store = FAISS.from_documents(documents, embeddings)\n",
    "vector_store = Chroma.from_documents(documents, embeddings)"
   ]
  },
  {
   "cell_type": "code",
   "execution_count": 42,
   "id": "93025b64-a3a4-43d0-a853-a4a2e485ec4d",
   "metadata": {
    "tags": []
   },
   "outputs": [
    {
     "data": {
      "application/vnd.jupyter.widget-view+json": {
       "model_id": "250ae93d6b224f56b35e5625877da2a8",
       "version_major": 2,
       "version_minor": 0
      },
      "text/plain": [
       "Batches:   0%|          | 0/1 [00:00<?, ?it/s]"
      ]
     },
     "metadata": {},
     "output_type": "display_data"
    },
    {
     "name": "stderr",
     "output_type": "stream",
     "text": [
      "/home/ec2-user/SageMaker/custom-miniconda/miniconda/envs/mt_python3/lib/python3.10/site-packages/langchain/vectorstores/base.py:148: UserWarning: Relevance scores must be between 0 and 1, got [(Document(page_content='歌莉娅蝴蝶碎花v领连衣裙女装夏装显瘦气质礼服裙子1A6H4KAKA 会员价格：309元。非会员价格399.00元。 品牌：GLORIA/歌莉娅 适用年龄：25-29周岁 尺码：XS S M L XL XXL 图案：花色 风格：通勤 通勤：简约 领型：V领 腰型：高腰 衣门襟：套头 颜色分类：27D黑底印花 袖型：常规 货号：1A6H4KAKA 裙型：A字裙 年份季节：2022年夏季 袖长：短袖 裙长：中裙 流行元素/工艺：印花 款式：v领连衣裙 销售渠道类型：商场同款(线上线下都销售) 廓形：A型 材质成分：粘胶纤维(粘纤)100% 购买链接：https://www.taobao.com/list/item/678724503513.htm?spm=a21wu.10013406.taglist-content.1.d2756680mzL0uL  洗涤说明： 手洗，洗涤温度不高于40°C 不可漂白 在阴凉处悬挂滴干 不可翻转干燥 熨斗底板 温度不高预售110°C 不可干洗整件衣服在穿着时请小心，以免勾纱 深浅色衣物 分开洗涤 避开脚钮熨烫 不可扭干，理平晾干 衣服洗后易起皱，为美观起见， 每次洗后请熨烫平整后再穿着 因面料特性，衣服折叠易产生折痕，请悬挂存放。', metadata={'type': 'Prod'}), 923.6423950195312), (Document(page_content='JNBY/江南布衣23夏新品连衣裙音符印花宽松5N4210770款式的商品详细信息： 5N4210770非会员价价格是995元，会员价格889元。 品牌：JNBY/江南布衣  适用年龄：25-29周岁 尺码：XS S M L 图案：印花 风格：通勤 通勤：淑女 领型：圆领 衣门襟：一粒扣 颜色分类：853/杂桔 077/杂灰咖 973/米黑双色 袖型：常规 组合形式：单件 货号：5N4210770 裙型：A字裙 适用季节：夏季 年份季节：2023年夏季 袖长：短袖 裙长：短裙 流行元素/工艺：印花 款式：印花裙 销售渠道类型：商场同款(线上线下都销售) 廓形：A型  材质成分：棉100%  如果想购买，可以访问一下【https://www.taobao.com/list/item/698737921676.htm?spm=a21wu.10013406.taglist-content.1.3a0359e5vRvpmC】链接进行购买  洗护方式如下： 洗涤说明：不可漂白、悬挂阴干、最高水温40°C、小心手洗 护理说明 ①建议在阴凉通风,处悬挂阴干，以免拉长变形。 ②不建议机洗，推荐中性洗涤剂手洗，注意深浅颜色分开。 ③通风透气、保持干燥，应放置适量的专用防霉防蛀药剂，以免发霉、虫蛀。 温馨提示：具体洗涤维护请以洗唛为准。', metadata={'type': 'Prod'}), 933.3310546875), (Document(page_content='歌莉娅官方正品真丝缎面打底背心女V领无袖西装内搭吊带醋酸上衣 价格82.89元 品牌：GLORIA/歌莉娅 尺码：S,M,L,XL,2XL,3XL 质地：其他/other 图案：纯色 风格：通勤 流行元素：拼接 颜色分类：香槟色,白色,黑色 组合形式：单件 货号：1192051 年份季节：2022年春季 衣长：常规 款式：吊带 材质成分：其他材质100% 购买链接：https://www.taobao.com/list/item/709454170667.htm?spm=a21wu.10013406.taglist-content.3.d2756680mzL0uL ', metadata={'type': 'Prod'}), 996.611328125)]\n",
      "  warnings.warn(\n"
     ]
    },
    {
     "data": {
      "text/plain": [
       "[(Document(page_content='歌莉娅蝴蝶碎花v领连衣裙女装夏装显瘦气质礼服裙子1A6H4KAKA 会员价格：309元。非会员价格399.00元。 品牌：GLORIA/歌莉娅 适用年龄：25-29周岁 尺码：XS S M L XL XXL 图案：花色 风格：通勤 通勤：简约 领型：V领 腰型：高腰 衣门襟：套头 颜色分类：27D黑底印花 袖型：常规 货号：1A6H4KAKA 裙型：A字裙 年份季节：2022年夏季 袖长：短袖 裙长：中裙 流行元素/工艺：印花 款式：v领连衣裙 销售渠道类型：商场同款(线上线下都销售) 廓形：A型 材质成分：粘胶纤维(粘纤)100% 购买链接：https://www.taobao.com/list/item/678724503513.htm?spm=a21wu.10013406.taglist-content.1.d2756680mzL0uL  洗涤说明： 手洗，洗涤温度不高于40°C 不可漂白 在阴凉处悬挂滴干 不可翻转干燥 熨斗底板 温度不高预售110°C 不可干洗整件衣服在穿着时请小心，以免勾纱 深浅色衣物 分开洗涤 避开脚钮熨烫 不可扭干，理平晾干 衣服洗后易起皱，为美观起见， 每次洗后请熨烫平整后再穿着 因面料特性，衣服折叠易产生折痕，请悬挂存放。', metadata={'type': 'Prod'}),\n",
       "  923.6423950195312),\n",
       " (Document(page_content='JNBY/江南布衣23夏新品连衣裙音符印花宽松5N4210770款式的商品详细信息： 5N4210770非会员价价格是995元，会员价格889元。 品牌：JNBY/江南布衣  适用年龄：25-29周岁 尺码：XS S M L 图案：印花 风格：通勤 通勤：淑女 领型：圆领 衣门襟：一粒扣 颜色分类：853/杂桔 077/杂灰咖 973/米黑双色 袖型：常规 组合形式：单件 货号：5N4210770 裙型：A字裙 适用季节：夏季 年份季节：2023年夏季 袖长：短袖 裙长：短裙 流行元素/工艺：印花 款式：印花裙 销售渠道类型：商场同款(线上线下都销售) 廓形：A型  材质成分：棉100%  如果想购买，可以访问一下【https://www.taobao.com/list/item/698737921676.htm?spm=a21wu.10013406.taglist-content.1.3a0359e5vRvpmC】链接进行购买  洗护方式如下： 洗涤说明：不可漂白、悬挂阴干、最高水温40°C、小心手洗 护理说明 ①建议在阴凉通风,处悬挂阴干，以免拉长变形。 ②不建议机洗，推荐中性洗涤剂手洗，注意深浅颜色分开。 ③通风透气、保持干燥，应放置适量的专用防霉防蛀药剂，以免发霉、虫蛀。 温馨提示：具体洗涤维护请以洗唛为准。', metadata={'type': 'Prod'}),\n",
       "  933.3310546875),\n",
       " (Document(page_content='歌莉娅官方正品真丝缎面打底背心女V领无袖西装内搭吊带醋酸上衣 价格82.89元 品牌：GLORIA/歌莉娅 尺码：S,M,L,XL,2XL,3XL 质地：其他/other 图案：纯色 风格：通勤 流行元素：拼接 颜色分类：香槟色,白色,黑色 组合形式：单件 货号：1192051 年份季节：2022年春季 衣长：常规 款式：吊带 材质成分：其他材质100% 购买链接：https://www.taobao.com/list/item/709454170667.htm?spm=a21wu.10013406.taglist-content.3.d2756680mzL0uL ', metadata={'type': 'Prod'}),\n",
       "  996.611328125)]"
      ]
     },
     "execution_count": 42,
     "metadata": {},
     "output_type": "execute_result"
    }
   ],
   "source": [
    "vector_store.similarity_search_with_relevance_scores('高腰', k=3)"
   ]
  },
  {
   "cell_type": "code",
   "execution_count": null,
   "id": "1cdb3cb0-3296-49d0-92ab-569a863bf46d",
   "metadata": {},
   "outputs": [],
   "source": []
  },
  {
   "cell_type": "code",
   "execution_count": 116,
   "id": "e3c1106d-1184-49a1-8e86-c4a39bd33e00",
   "metadata": {},
   "outputs": [
    {
     "data": {
      "text/plain": [
       "<module 'prompt_generator' from '/home/ec2-user/SageMaker/LLM_Workshop/prompt_generator.py'>"
      ]
     },
     "execution_count": 116,
     "metadata": {},
     "output_type": "execute_result"
    }
   ],
   "source": [
    "# from prompt_generator import generate_prompt as gen_prompt\n",
    "import prompt_generator as pg\n",
    "import importlib\n",
    "\n",
    "importlib.reload(pg)"
   ]
  },
  {
   "cell_type": "code",
   "execution_count": 44,
   "id": "7991a766-7101-4874-a8c8-bf539b588c8f",
   "metadata": {
    "tags": []
   },
   "outputs": [
    {
     "ename": "ValidationError",
     "evalue": "1 validation error for PromptTemplate\n__root__\n  Invalid prompt schema; check for mismatched or missing input parameters. '\\n        \"input\"' (type=value_error)",
     "output_type": "error",
     "traceback": [
      "\u001b[0;31m---------------------------------------------------------------------------\u001b[0m",
      "\u001b[0;31mValidationError\u001b[0m                           Traceback (most recent call last)",
      "Cell \u001b[0;32mIn[44], line 94\u001b[0m\n\u001b[1;32m     64\u001b[0m prompt_template_llama1 \u001b[38;5;241m=\u001b[39m \u001b[38;5;124m\"\"\"\u001b[39m\u001b[38;5;124mBelow is an instruction that describes a task. Write a response that appropriately completes the request.\u001b[39m\n\u001b[1;32m     65\u001b[0m \n\u001b[1;32m     66\u001b[0m \u001b[38;5;124m### Instruction:\u001b[39m\n\u001b[0;32m   (...)\u001b[0m\n\u001b[1;32m     76\u001b[0m \n\u001b[1;32m     77\u001b[0m \u001b[38;5;124m### Response:\u001b[39m\u001b[38;5;124m\"\"\"\u001b[39m\n\u001b[1;32m     79\u001b[0m prompt_template_chatglm \u001b[38;5;241m=\u001b[39m \u001b[38;5;124m\"\"\"\u001b[39m\u001b[38;5;124mBelow is an instruction that describes a task. Write a response that appropriately completes the request.\u001b[39m\n\u001b[1;32m     80\u001b[0m \n\u001b[1;32m     81\u001b[0m \u001b[38;5;124m### Instruction:\u001b[39m\n\u001b[0;32m   (...)\u001b[0m\n\u001b[1;32m     91\u001b[0m \n\u001b[1;32m     92\u001b[0m \u001b[38;5;124m### Response:\u001b[39m\u001b[38;5;124m\"\"\"\u001b[39m\n\u001b[0;32m---> 94\u001b[0m PROMPT \u001b[38;5;241m=\u001b[39m \u001b[43mPromptTemplate\u001b[49m\u001b[43m(\u001b[49m\n\u001b[1;32m     95\u001b[0m \u001b[43m    \u001b[49m\u001b[43mtemplate\u001b[49m\u001b[38;5;241;43m=\u001b[39;49m\u001b[43mprompt_template_cpmbee\u001b[49m\u001b[43m,\u001b[49m\u001b[43m \u001b[49m\u001b[43minput_variables\u001b[49m\u001b[38;5;241;43m=\u001b[39;49m\u001b[43m[\u001b[49m\u001b[38;5;124;43m\"\u001b[39;49m\u001b[38;5;124;43mcontext\u001b[39;49m\u001b[38;5;124;43m\"\u001b[39;49m\u001b[43m,\u001b[49m\u001b[43m \u001b[49m\u001b[38;5;124;43m\"\u001b[39;49m\u001b[38;5;124;43mquestion\u001b[39;49m\u001b[38;5;124;43m\"\u001b[39;49m\u001b[43m]\u001b[49m\n\u001b[1;32m     96\u001b[0m \u001b[43m)\u001b[49m\n\u001b[1;32m     97\u001b[0m \u001b[38;5;66;03m# PROMPT = PromptTemplate(\u001b[39;00m\n\u001b[1;32m     98\u001b[0m \u001b[38;5;66;03m#     template=prompt_template_chatglm, input_variables=[\"context\", \"chat_history\", \"question\"]\u001b[39;00m\n\u001b[1;32m     99\u001b[0m \u001b[38;5;66;03m# )\u001b[39;00m\n\u001b[1;32m    100\u001b[0m \u001b[38;5;66;03m# chain_type_kwargs = {\"prompt\": PROMPT}\u001b[39;00m\n\u001b[1;32m    101\u001b[0m conversation_memory \u001b[38;5;241m=\u001b[39m ConversationBufferWindowMemory(memory_key\u001b[38;5;241m=\u001b[39m\u001b[38;5;124m\"\u001b[39m\u001b[38;5;124mchat_history\u001b[39m\u001b[38;5;124m\"\u001b[39m, input_key\u001b[38;5;241m=\u001b[39m\u001b[38;5;124m\"\u001b[39m\u001b[38;5;124mquestion\u001b[39m\u001b[38;5;124m\"\u001b[39m, k\u001b[38;5;241m=\u001b[39m\u001b[38;5;241m3\u001b[39m)\n",
      "File \u001b[0;32m~/SageMaker/custom-miniconda/miniconda/envs/mt_python3/lib/python3.10/site-packages/langchain/load/serializable.py:64\u001b[0m, in \u001b[0;36m__init__\u001b[0;34m(self, **kwargs)\u001b[0m\n\u001b[1;32m     59\u001b[0m \u001b[38;5;129m@property\u001b[39m\n\u001b[1;32m     60\u001b[0m \u001b[38;5;28;01mdef\u001b[39;00m \u001b[38;5;21mlc_attributes\u001b[39m(\u001b[38;5;28mself\u001b[39m) \u001b[38;5;241m-\u001b[39m\u001b[38;5;241m>\u001b[39m Dict:\n\u001b[1;32m     61\u001b[0m \u001b[38;5;250m    \u001b[39m\u001b[38;5;124;03m\"\"\"\u001b[39;00m\n\u001b[1;32m     62\u001b[0m \u001b[38;5;124;03m    Return a list of attribute names that should be included in the\u001b[39;00m\n\u001b[1;32m     63\u001b[0m \u001b[38;5;124;03m    serialized kwargs. These attributes must be accepted by the\u001b[39;00m\n\u001b[0;32m---> 64\u001b[0m \u001b[38;5;124;03m    constructor.\u001b[39;00m\n\u001b[1;32m     65\u001b[0m \u001b[38;5;124;03m    \"\"\"\u001b[39;00m\n\u001b[1;32m     66\u001b[0m     \u001b[38;5;28;01mreturn\u001b[39;00m {}\n",
      "File \u001b[0;32m~/SageMaker/custom-miniconda/miniconda/envs/mt_python3/lib/python3.10/site-packages/pydantic/main.py:341\u001b[0m, in \u001b[0;36mpydantic.main.BaseModel.__init__\u001b[0;34m()\u001b[0m\n",
      "\u001b[0;31mValidationError\u001b[0m: 1 validation error for PromptTemplate\n__root__\n  Invalid prompt schema; check for mismatched or missing input parameters. '\\n        \"input\"' (type=value_error)"
     ]
    }
   ],
   "source": [
    "from typing import Dict\n",
    "from langchain.prompts import PromptTemplate\n",
    "from langchain import SagemakerEndpoint\n",
    "from langchain.llms.sagemaker_endpoint import LLMContentHandler\n",
    "from langchain.chains.question_answering import load_qa_chain\n",
    "from langchain.memory import ConversationBufferWindowMemory\n",
    "from langchain.chains import RetrievalQA\n",
    "\n",
    "import json\n",
    "\n",
    "import logging\n",
    "logger = logging.getLogger()\n",
    "logger.setLevel(logging.INFO)\n",
    "\n",
    "sagemaker_endpoint_name = \"mt-cpmbee-g4dn\"\n",
    "# sagemaker_endpoint_name = \"mt-chatglm2-g4dn\"\n",
    "# sagemaker_endpoint_name = \"mt-cn-alpaca2-7b-g5\"\n",
    "# sagemaker_endpoint_name = \"mt-djl-chatglm2-ds-g4dn\"\n",
    "\n",
    "class ContentHandler(LLMContentHandler):\n",
    "    content_type = \"application/json\"\n",
    "    accepts = \"application/json\"\n",
    "\n",
    "    def transform_input(self, prompt: str, model_kwargs: Dict) -> bytes:\n",
    "        parameters = {\"temperature\": 0.5}\n",
    "        input = {\"inputs\": prompt, \"parameters\": parameters }\n",
    "        logging.info(\"prompt: %s\", prompt)\n",
    "        logging.info(\"model parameters: %s\", parameters)\n",
    "        input_str = json.dumps(input)\n",
    "        return input_str.encode('utf-8')\n",
    "    \n",
    "    def transform_output(self, output: bytes) -> str:\n",
    "        response_json = json.loads(output.read().decode(\"utf-8\"))\n",
    "        logging.info(\"response_json: %s\", response_json)\n",
    "        return response_json[\"outputs\"]\n",
    "\n",
    "content_handler = ContentHandler()\n",
    "\n",
    "chatglm_model = SagemakerEndpoint(\n",
    "    endpoint_name=sagemaker_endpoint_name, \n",
    "    region_name=\"us-east-1\", \n",
    "    content_handler=content_handler\n",
    ")\n",
    "\n",
    "# prompt_template = pg.generate_prompt_conversional_qa('baichuan')\n",
    "# input = f\"\"\"[INST] <<SYS>>\\nYou are a helpful assistant. 你是一个乐于助人的助手。\\n<</SYS>>\\n\\n{text} [/INST]\"\"\"\n",
    "\n",
    "prompt_template_llama2 = \"\"\"<s>[INST] <<SYS>>\n",
    "You are a helpful assistant. 你是一个乐于助人的助手。\n",
    "<</SYS>>\n",
    "\n",
    "{context}\n",
    "{question} [/INST]\"\"\"\n",
    "\n",
    "prompt_template_baichuan = \"\"\"Below is an instruction that describes a task. Write a response that appropriately completes the request.\\n\\n### Instruction:\\n{}\\n\\n### Response:\"\"\"\n",
    "\n",
    "prompt_template_llama1 = \"\"\"Below is an instruction that describes a task. Write a response that appropriately completes the request.\n",
    "\n",
    "### Instruction:\n",
    "使用下面的商品信息，简洁的回答用户的问题，不要使用已有的知识，不要编造答案。\n",
    "\n",
    "已知内容:\n",
    "{context}\n",
    "\n",
    "历史记录:\n",
    "{chat_history}\n",
    "\n",
    "问题: {question}\n",
    "\n",
    "### Response:\"\"\"\n",
    "\n",
    "prompt_template_chatglm = \"\"\"Below is an instruction that describes a task. Write a response that appropriately completes the request.\n",
    "\n",
    "### Instruction:\n",
    "使用下面的商品信息，简洁的回答用户的问题，不要使用已有的知识，不要编造答案。\n",
    "\n",
    "已知内容:\n",
    "{context}\n",
    "\n",
    "历史记录:\n",
    "{chat_history}\n",
    "\n",
    "问题: {question}\n",
    "\n",
    "### Response:\"\"\"\n",
    "\n",
    "PROMPT = PromptTemplate(\n",
    "    template=prompt_template_cpmbee, input_variables=[\"context\", \"question\"]\n",
    ")\n",
    "# PROMPT = PromptTemplate(\n",
    "#     template=prompt_template_chatglm, input_variables=[\"context\", \"chat_history\", \"question\"]\n",
    "# )\n",
    "# chain_type_kwargs = {\"prompt\": PROMPT}\n",
    "conversation_memory = ConversationBufferWindowMemory(memory_key=\"chat_history\", input_key=\"question\", k=3)\n",
    "\n",
    "# chain = RetrievalQA.from_chain_type(\n",
    "#     llm=chatglm_model, chain_type=\"stuff\", retriever=vector_store.as_retriever(),\n",
    "#     # chain_type_kwargs=chain_type_kwargs,\n",
    "#     prompt=PROMPT,\n",
    "#     memory=conversation_memory,\n",
    "# )\n",
    "chain = load_qa_chain(\n",
    "    llm=chatglm_model, chain_type=\"stuff\",\n",
    "    # memory=conversation_memory,\n",
    "    prompt=PROMPT\n",
    ")"
   ]
  },
  {
   "cell_type": "code",
   "execution_count": 248,
   "id": "dce251e4-0cb5-47c3-b5b5-0f55313e1347",
   "metadata": {
    "tags": []
   },
   "outputs": [],
   "source": [
    "def customer_qa(query: str):\n",
    "    # query = \"歌莉娅是什么品牌？\"\n",
    "    chat_history = conversation_memory.load_memory_variables({})\n",
    "    chat_history = chat_history['chat_history']\n",
    "    full_question = chat_history + '\\nHuman:' + query\n",
    "    docs = vector_store.similarity_search(full_question, k=2)\n",
    "    return chain({\"input_documents\": docs, \"question\": query}, return_only_outputs=True)"
   ]
  },
  {
   "cell_type": "code",
   "execution_count": 249,
   "id": "adb5f72b-2980-426e-a005-e553174a7ec1",
   "metadata": {
    "tags": []
   },
   "outputs": [],
   "source": [
    "conversation_memory.clear()"
   ]
  },
  {
   "cell_type": "code",
   "execution_count": 250,
   "id": "90d6c1fe-52dc-4053-8001-036dd10c8d0b",
   "metadata": {
    "tags": []
   },
   "outputs": [
    {
     "data": {
      "application/vnd.jupyter.widget-view+json": {
       "model_id": "744472ac44b444cb9b5791d90aa45bbc",
       "version_major": 2,
       "version_minor": 0
      },
      "text/plain": [
       "Batches:   0%|          | 0/1 [00:00<?, ?it/s]"
      ]
     },
     "metadata": {},
     "output_type": "display_data"
    },
    {
     "name": "stderr",
     "output_type": "stream",
     "text": [
      "INFO:root:prompt: Below is an instruction that describes a task. Write a response that appropriately completes the request.\n",
      "\n",
      "### Instruction:\n",
      "使用下面的商品信息，简洁的回答用户的问题，不要使用已有的知识，不要编造答案。\n",
      "\n",
      "已知内容:\n",
      "歌莉娅官方正品真丝缎面打底背心女V领无袖西装内搭吊带醋酸上衣 价格82.89元 品牌：GLORIA/歌莉娅 尺码：S,M,L,XL,2XL,3XL 质地：其他/other 图案：纯色 风格：通勤 流行元素：拼接 颜色分类：香槟色,白色,黑色 组合形式：单件 货号：1192051 年份季节：2022年春季 衣长：常规 款式：吊带 材质成分：其他材质100% 购买链接：https://www.taobao.com/list/item/709454170667.htm?spm=a21wu.10013406.taglist-content.3.d2756680mzL0uL \n",
      "\n",
      "歌莉娅蝴蝶碎花v领连衣裙女装夏装显瘦气质礼服裙子1A6H4KAKA 会员价格：309元。非会员价格399.00元。 品牌：GLORIA/歌莉娅 适用年龄：25-29周岁 尺码：XS S M L XL XXL 图案：花色 风格：通勤 通勤：简约 领型：V领 腰型：高腰 衣门襟：套头 颜色分类：27D黑底印花 袖型：常规 货号：1A6H4KAKA 裙型：A字裙 年份季节：2022年夏季 袖长：短袖 裙长：中裙 流行元素/工艺：印花 款式：v领连衣裙 销售渠道类型：商场同款(线上线下都销售) 廓形：A型 材质成分：粘胶纤维(粘纤)100% 购买链接：https://www.taobao.com/list/item/678724503513.htm?spm=a21wu.10013406.taglist-content.1.d2756680mzL0uL  洗涤说明： 手洗，洗涤温度不高于40°C 不可漂白 在阴凉处悬挂滴干 不可翻转干燥 熨斗底板 温度不高预售110°C 不可干洗整件衣服在穿着时请小心，以免勾纱 深浅色衣物 分开洗涤 避开脚钮熨烫 不可扭干，理平晾干 衣服洗后易起皱，为美观起见， 每次洗后请熨烫平整后再穿着 因面料特性，衣服折叠易产生折痕，请悬挂存放。\n",
      "\n",
      "历史记录:\n",
      "\n",
      "\n",
      "问题: 歌莉娅是什么品牌？\n",
      "\n",
      "### Response:\n",
      "INFO:root:model parameters: {'temperature': 0.5}\n",
      "INFO:root:response_json: {'outputs': '歌莉娅（GLORIA）是一家知名的中国女装品牌，成立于1991年，以优雅、知性、时尚为品牌理念，致力于为女性带来高品质、有个性的时尚服饰。歌莉娅的设计灵感来源于国际时尚潮流，融合了东西方的文化元素，将传统与现代相结合，形成了独特的风格。其产品线包括连衣裙、衬衫、针织衫、群策群力等品类，广泛适用于各种场合。'}\n"
     ]
    },
    {
     "data": {
      "text/plain": [
       "{'output_text': '歌莉娅（GLORIA）是一家知名的中国女装品牌，成立于1991年，以优雅、知性、时尚为品牌理念，致力于为女性带来高品质、有个性的时尚服饰。歌莉娅的设计灵感来源于国际时尚潮流，融合了东西方的文化元素，将传统与现代相结合，形成了独特的风格。其产品线包括连衣裙、衬衫、针织衫、群策群力等品类，广泛适用于各种场合。'}"
      ]
     },
     "execution_count": 250,
     "metadata": {},
     "output_type": "execute_result"
    }
   ],
   "source": [
    "customer_qa(\"歌莉娅是什么品牌？\")"
   ]
  },
  {
   "cell_type": "code",
   "execution_count": 251,
   "id": "6495e02f-c574-4dfd-a803-b9d02437ca52",
   "metadata": {
    "tags": []
   },
   "outputs": [
    {
     "data": {
      "application/vnd.jupyter.widget-view+json": {
       "model_id": "1cd8877e88f948e19628e2428f8fd54c",
       "version_major": 2,
       "version_minor": 0
      },
      "text/plain": [
       "Batches:   0%|          | 0/1 [00:00<?, ?it/s]"
      ]
     },
     "metadata": {},
     "output_type": "display_data"
    },
    {
     "name": "stderr",
     "output_type": "stream",
     "text": [
      "INFO:root:prompt: Below is an instruction that describes a task. Write a response that appropriately completes the request.\n",
      "\n",
      "### Instruction:\n",
      "使用下面的商品信息，简洁的回答用户的问题，不要使用已有的知识，不要编造答案。\n",
      "\n",
      "已知内容:\n",
      "歌莉娅官方正品真丝缎面打底背心女V领无袖西装内搭吊带醋酸上衣 价格82.89元 品牌：GLORIA/歌莉娅 尺码：S,M,L,XL,2XL,3XL 质地：其他/other 图案：纯色 风格：通勤 流行元素：拼接 颜色分类：香槟色,白色,黑色 组合形式：单件 货号：1192051 年份季节：2022年春季 衣长：常规 款式：吊带 材质成分：其他材质100% 购买链接：https://www.taobao.com/list/item/709454170667.htm?spm=a21wu.10013406.taglist-content.3.d2756680mzL0uL \n",
      "\n",
      "歌莉娅蝴蝶碎花v领连衣裙女装夏装显瘦气质礼服裙子1A6H4KAKA 会员价格：309元。非会员价格399.00元。 品牌：GLORIA/歌莉娅 适用年龄：25-29周岁 尺码：XS S M L XL XXL 图案：花色 风格：通勤 通勤：简约 领型：V领 腰型：高腰 衣门襟：套头 颜色分类：27D黑底印花 袖型：常规 货号：1A6H4KAKA 裙型：A字裙 年份季节：2022年夏季 袖长：短袖 裙长：中裙 流行元素/工艺：印花 款式：v领连衣裙 销售渠道类型：商场同款(线上线下都销售) 廓形：A型 材质成分：粘胶纤维(粘纤)100% 购买链接：https://www.taobao.com/list/item/678724503513.htm?spm=a21wu.10013406.taglist-content.1.d2756680mzL0uL  洗涤说明： 手洗，洗涤温度不高于40°C 不可漂白 在阴凉处悬挂滴干 不可翻转干燥 熨斗底板 温度不高预售110°C 不可干洗整件衣服在穿着时请小心，以免勾纱 深浅色衣物 分开洗涤 避开脚钮熨烫 不可扭干，理平晾干 衣服洗后易起皱，为美观起见， 每次洗后请熨烫平整后再穿着 因面料特性，衣服折叠易产生折痕，请悬挂存放。\n",
      "\n",
      "历史记录:\n",
      "Human: 歌莉娅是什么品牌？\n",
      "AI: 歌莉娅（GLORIA）是一家知名的中国女装品牌，成立于1991年，以优雅、知性、时尚为品牌理念，致力于为女性带来高品质、有个性的时尚服饰。歌莉娅的设计灵感来源于国际时尚潮流，融合了东西方的文化元素，将传统与现代相结合，形成了独特的风格。其产品线包括连衣裙、衬衫、针织衫、群策群力等品类，广泛适用于各种场合。\n",
      "\n",
      "问题: 都有什么商品？\n",
      "\n",
      "### Response:\n",
      "INFO:root:model parameters: {'temperature': 0.5}\n",
      "INFO:root:response_json: {'outputs': '歌莉娅官方正品真丝缎面打底背心女V领无袖西装内搭吊带醋酸上衣、歌莉娅蝴蝶碎花v领连衣裙女装夏装显瘦气质礼服裙子1A6H4KAKA、歌莉娅官方正品粘胶纤维V领连衣裙女装夏装显瘦气质礼服裙子A字裙。'}\n"
     ]
    },
    {
     "name": "stdout",
     "output_type": "stream",
     "text": [
      "CPU times: user 1.42 s, sys: 0 ns, total: 1.42 s\n",
      "Wall time: 6.97 s\n"
     ]
    },
    {
     "data": {
      "text/plain": [
       "{'output_text': '歌莉娅官方正品真丝缎面打底背心女V领无袖西装内搭吊带醋酸上衣、歌莉娅蝴蝶碎花v领连衣裙女装夏装显瘦气质礼服裙子1A6H4KAKA、歌莉娅官方正品粘胶纤维V领连衣裙女装夏装显瘦气质礼服裙子A字裙。'}"
      ]
     },
     "execution_count": 251,
     "metadata": {},
     "output_type": "execute_result"
    }
   ],
   "source": [
    "%%time\n",
    "customer_qa(\"都有什么商品？\")"
   ]
  },
  {
   "cell_type": "code",
   "execution_count": 252,
   "id": "7f1ac08e-161a-4d48-92c7-1f40d8f9c77a",
   "metadata": {
    "tags": []
   },
   "outputs": [
    {
     "data": {
      "application/vnd.jupyter.widget-view+json": {
       "model_id": "600f8979782f4f3897ca6b06c7be4c66",
       "version_major": 2,
       "version_minor": 0
      },
      "text/plain": [
       "Batches:   0%|          | 0/1 [00:00<?, ?it/s]"
      ]
     },
     "metadata": {},
     "output_type": "display_data"
    },
    {
     "name": "stderr",
     "output_type": "stream",
     "text": [
      "INFO:root:prompt: Below is an instruction that describes a task. Write a response that appropriately completes the request.\n",
      "\n",
      "### Instruction:\n",
      "使用下面的商品信息，简洁的回答用户的问题，不要使用已有的知识，不要编造答案。\n",
      "\n",
      "已知内容:\n",
      "歌莉娅蝴蝶碎花v领连衣裙女装夏装显瘦气质礼服裙子1A6H4KAKA 会员价格：309元。非会员价格399.00元。 品牌：GLORIA/歌莉娅 适用年龄：25-29周岁 尺码：XS S M L XL XXL 图案：花色 风格：通勤 通勤：简约 领型：V领 腰型：高腰 衣门襟：套头 颜色分类：27D黑底印花 袖型：常规 货号：1A6H4KAKA 裙型：A字裙 年份季节：2022年夏季 袖长：短袖 裙长：中裙 流行元素/工艺：印花 款式：v领连衣裙 销售渠道类型：商场同款(线上线下都销售) 廓形：A型 材质成分：粘胶纤维(粘纤)100% 购买链接：https://www.taobao.com/list/item/678724503513.htm?spm=a21wu.10013406.taglist-content.1.d2756680mzL0uL  洗涤说明： 手洗，洗涤温度不高于40°C 不可漂白 在阴凉处悬挂滴干 不可翻转干燥 熨斗底板 温度不高预售110°C 不可干洗整件衣服在穿着时请小心，以免勾纱 深浅色衣物 分开洗涤 避开脚钮熨烫 不可扭干，理平晾干 衣服洗后易起皱，为美观起见， 每次洗后请熨烫平整后再穿着 因面料特性，衣服折叠易产生折痕，请悬挂存放。\n",
      "\n",
      "JNBY/江南布衣23夏新品连衣裙音符印花宽松5N4210770款式的商品详细信息： 5N4210770非会员价价格是995元，会员价格889元。 品牌：JNBY/江南布衣  适用年龄：25-29周岁 尺码：XS S M L 图案：印花 风格：通勤 通勤：淑女 领型：圆领 衣门襟：一粒扣 颜色分类：853/杂桔 077/杂灰咖 973/米黑双色 袖型：常规 组合形式：单件 货号：5N4210770 裙型：A字裙 适用季节：夏季 年份季节：2023年夏季 袖长：短袖 裙长：短裙 流行元素/工艺：印花 款式：印花裙 销售渠道类型：商场同款(线上线下都销售) 廓形：A型  材质成分：棉100%  如果想购买，可以访问一下【https://www.taobao.com/list/item/698737921676.htm?spm=a21wu.10013406.taglist-content.1.3a0359e5vRvpmC】链接进行购买  洗护方式如下： 洗涤说明：不可漂白、悬挂阴干、最高水温40°C、小心手洗 护理说明 ①建议在阴凉通风,处悬挂阴干，以免拉长变形。 ②不建议机洗，推荐中性洗涤剂手洗，注意深浅颜色分开。 ③通风透气、保持干燥，应放置适量的专用防霉防蛀药剂，以免发霉、虫蛀。 温馨提示：具体洗涤维护请以洗唛为准。\n",
      "\n",
      "历史记录:\n",
      "\n",
      "\n",
      "问题: 推荐一个可以日常穿的连衣裙\n",
      "\n",
      "### Response:\n",
      "INFO:root:model parameters: {'temperature': 0.5}\n",
      "INFO:root:response_json: {'outputs': '歌莉娅蝴蝶碎花v领连衣裙女装夏装显瘦气质礼服裙子1A6H4KAKA是一款适合25-29周岁女性的连衣裙，品牌为GLORIA/歌莉娅，尺码为XS S M L XL XXL，图案为花色，风格为通勤，领型为V领，腰型为高腰，衣门襟为套头，颜色分类为27D黑底印花，袖型为常规，货号为1A6H4KAKA，裙型为A字裙，适用于2022年夏季，袖长为短袖，裙长为中裙，流行元素/工艺为印花，销售渠道类型为商场同款(线上线下都销售)，廓形为A型，材质成分为人棉纤维(纯棉)，购买链接为https://www.taobao.com/list/item/678724503513.htm?spm=a21wu.10013406.taglist-content.1.d2756680mzL0uL，洗涤说明为手洗，洗涤温度不高于40°C，不可漂白，在阴凉处悬挂滴干，不可翻转干燥，熨斗底板温度不高，预售110°C，不可干洗整件衣服在穿着时请小心，以免勾纱，深浅色衣物分开洗涤，避开脚钮熨烫，不可扭干，理平晾干，衣服洗后易起皱，为美观起见，每次洗后请熨烫平整后再穿着，因面料特性，衣服折叠易产生折痕，请悬挂存放。如果您想购买这款连衣裙，可以访问一下【https://www.taobao.com/list/item/698737921676.htm?spm=a21wu.10013406.taglist-content.1.3a0359e5vRvpmC】进行购买。'}\n"
     ]
    },
    {
     "data": {
      "text/plain": [
       "{'output_text': '歌莉娅蝴蝶碎花v领连衣裙女装夏装显瘦气质礼服裙子1A6H4KAKA是一款适合25-29周岁女性的连衣裙，品牌为GLORIA/歌莉娅，尺码为XS S M L XL XXL，图案为花色，风格为通勤，领型为V领，腰型为高腰，衣门襟为套头，颜色分类为27D黑底印花，袖型为常规，货号为1A6H4KAKA，裙型为A字裙，适用于2022年夏季，袖长为短袖，裙长为中裙，流行元素/工艺为印花，销售渠道类型为商场同款(线上线下都销售)，廓形为A型，材质成分为人棉纤维(纯棉)，购买链接为https://www.taobao.com/list/item/678724503513.htm?spm=a21wu.10013406.taglist-content.1.d2756680mzL0uL，洗涤说明为手洗，洗涤温度不高于40°C，不可漂白，在阴凉处悬挂滴干，不可翻转干燥，熨斗底板温度不高，预售110°C，不可干洗整件衣服在穿着时请小心，以免勾纱，深浅色衣物分开洗涤，避开脚钮熨烫，不可扭干，理平晾干，衣服洗后易起皱，为美观起见，每次洗后请熨烫平整后再穿着，因面料特性，衣服折叠易产生折痕，请悬挂存放。如果您想购买这款连衣裙，可以访问一下【https://www.taobao.com/list/item/698737921676.htm?spm=a21wu.10013406.taglist-content.1.3a0359e5vRvpmC】进行购买。'}"
      ]
     },
     "execution_count": 252,
     "metadata": {},
     "output_type": "execute_result"
    }
   ],
   "source": [
    "conversation_memory.clear()\n",
    "customer_qa(\"推荐一个可以日常穿的连衣裙\")"
   ]
  },
  {
   "cell_type": "code",
   "execution_count": 253,
   "id": "84d5e0c9-df23-4686-b96e-24e23f4dc36c",
   "metadata": {
    "tags": []
   },
   "outputs": [
    {
     "data": {
      "application/vnd.jupyter.widget-view+json": {
       "model_id": "4ab79f93a6f74dea827715185a35cd8d",
       "version_major": 2,
       "version_minor": 0
      },
      "text/plain": [
       "Batches:   0%|          | 0/1 [00:00<?, ?it/s]"
      ]
     },
     "metadata": {},
     "output_type": "display_data"
    },
    {
     "name": "stderr",
     "output_type": "stream",
     "text": [
      "INFO:root:prompt: Below is an instruction that describes a task. Write a response that appropriately completes the request.\n",
      "\n",
      "### Instruction:\n",
      "使用下面的商品信息，简洁的回答用户的问题，不要使用已有的知识，不要编造答案。\n",
      "\n",
      "已知内容:\n",
      "歌莉娅蝴蝶碎花v领连衣裙女装夏装显瘦气质礼服裙子1A6H4KAKA 会员价格：309元。非会员价格399.00元。 品牌：GLORIA/歌莉娅 适用年龄：25-29周岁 尺码：XS S M L XL XXL 图案：花色 风格：通勤 通勤：简约 领型：V领 腰型：高腰 衣门襟：套头 颜色分类：27D黑底印花 袖型：常规 货号：1A6H4KAKA 裙型：A字裙 年份季节：2022年夏季 袖长：短袖 裙长：中裙 流行元素/工艺：印花 款式：v领连衣裙 销售渠道类型：商场同款(线上线下都销售) 廓形：A型 材质成分：粘胶纤维(粘纤)100% 购买链接：https://www.taobao.com/list/item/678724503513.htm?spm=a21wu.10013406.taglist-content.1.d2756680mzL0uL  洗涤说明： 手洗，洗涤温度不高于40°C 不可漂白 在阴凉处悬挂滴干 不可翻转干燥 熨斗底板 温度不高预售110°C 不可干洗整件衣服在穿着时请小心，以免勾纱 深浅色衣物 分开洗涤 避开脚钮熨烫 不可扭干，理平晾干 衣服洗后易起皱，为美观起见， 每次洗后请熨烫平整后再穿着 因面料特性，衣服折叠易产生折痕，请悬挂存放。\n",
      "\n",
      "JNBY/江南布衣23夏新品连衣裙音符印花宽松5N4210770款式的商品详细信息： 5N4210770非会员价价格是995元，会员价格889元。 品牌：JNBY/江南布衣  适用年龄：25-29周岁 尺码：XS S M L 图案：印花 风格：通勤 通勤：淑女 领型：圆领 衣门襟：一粒扣 颜色分类：853/杂桔 077/杂灰咖 973/米黑双色 袖型：常规 组合形式：单件 货号：5N4210770 裙型：A字裙 适用季节：夏季 年份季节：2023年夏季 袖长：短袖 裙长：短裙 流行元素/工艺：印花 款式：印花裙 销售渠道类型：商场同款(线上线下都销售) 廓形：A型  材质成分：棉100%  如果想购买，可以访问一下【https://www.taobao.com/list/item/698737921676.htm?spm=a21wu.10013406.taglist-content.1.3a0359e5vRvpmC】链接进行购买  洗护方式如下： 洗涤说明：不可漂白、悬挂阴干、最高水温40°C、小心手洗 护理说明 ①建议在阴凉通风,处悬挂阴干，以免拉长变形。 ②不建议机洗，推荐中性洗涤剂手洗，注意深浅颜色分开。 ③通风透气、保持干燥，应放置适量的专用防霉防蛀药剂，以免发霉、虫蛀。 温馨提示：具体洗涤维护请以洗唛为准。\n",
      "\n",
      "历史记录:\n",
      "Human: 推荐一个可以日常穿的连衣裙\n",
      "AI: 歌莉娅蝴蝶碎花v领连衣裙女装夏装显瘦气质礼服裙子1A6H4KAKA是一款适合25-29周岁女性的连衣裙，品牌为GLORIA/歌莉娅，尺码为XS S M L XL XXL，图案为花色，风格为通勤，领型为V领，腰型为高腰，衣门襟为套头，颜色分类为27D黑底印花，袖型为常规，货号为1A6H4KAKA，裙型为A字裙，适用于2022年夏季，袖长为短袖，裙长为中裙，流行元素/工艺为印花，销售渠道类型为商场同款(线上线下都销售)，廓形为A型，材质成分为人棉纤维(纯棉)，购买链接为https://www.taobao.com/list/item/678724503513.htm?spm=a21wu.10013406.taglist-content.1.d2756680mzL0uL，洗涤说明为手洗，洗涤温度不高于40°C，不可漂白，在阴凉处悬挂滴干，不可翻转干燥，熨斗底板温度不高，预售110°C，不可干洗整件衣服在穿着时请小心，以免勾纱，深浅色衣物分开洗涤，避开脚钮熨烫，不可扭干，理平晾干，衣服洗后易起皱，为美观起见，每次洗后请熨烫平整后再穿着，因面料特性，衣服折叠易产生折痕，请悬挂存放。如果您想购买这款连衣裙，可以访问一下【https://www.taobao.com/list/item/698737921676.htm?spm=a21wu.10013406.taglist-content.1.3a0359e5vRvpmC】进行购买。\n",
      "\n",
      "问题: 非会员价是多少钱？\n",
      "\n",
      "### Response:\n",
      "INFO:root:model parameters: {'temperature': 0.5}\n",
      "INFO:root:response_json: {'outputs': '非会员价为309元。'}\n"
     ]
    },
    {
     "data": {
      "text/plain": [
       "{'output_text': '非会员价为309元。'}"
      ]
     },
     "execution_count": 253,
     "metadata": {},
     "output_type": "execute_result"
    }
   ],
   "source": [
    "customer_qa(\"非会员价是多少钱？\")"
   ]
  },
  {
   "cell_type": "code",
   "execution_count": 254,
   "id": "0c26da90-f303-4726-971d-665f5824330a",
   "metadata": {},
   "outputs": [
    {
     "data": {
      "application/vnd.jupyter.widget-view+json": {
       "model_id": "b6efe3252dad423b89bbd5705ee7460f",
       "version_major": 2,
       "version_minor": 0
      },
      "text/plain": [
       "Batches:   0%|          | 0/1 [00:00<?, ?it/s]"
      ]
     },
     "metadata": {},
     "output_type": "display_data"
    },
    {
     "name": "stderr",
     "output_type": "stream",
     "text": [
      "INFO:root:prompt: Below is an instruction that describes a task. Write a response that appropriately completes the request.\n",
      "\n",
      "### Instruction:\n",
      "使用下面的商品信息，简洁的回答用户的问题，不要使用已有的知识，不要编造答案。\n",
      "\n",
      "已知内容:\n",
      "歌莉娅官方正品真丝缎面打底背心女V领无袖西装内搭吊带醋酸上衣 价格82.89元 品牌：GLORIA/歌莉娅 尺码：S,M,L,XL,2XL,3XL 质地：其他/other 图案：纯色 风格：通勤 流行元素：拼接 颜色分类：香槟色,白色,黑色 组合形式：单件 货号：1192051 年份季节：2022年春季 衣长：常规 款式：吊带 材质成分：其他材质100% 购买链接：https://www.taobao.com/list/item/709454170667.htm?spm=a21wu.10013406.taglist-content.3.d2756680mzL0uL \n",
      "\n",
      "JNBY/江南布衣23夏新品连衣裙音符印花宽松5N4210770款式的商品详细信息： 5N4210770非会员价价格是995元，会员价格889元。 品牌：JNBY/江南布衣  适用年龄：25-29周岁 尺码：XS S M L 图案：印花 风格：通勤 通勤：淑女 领型：圆领 衣门襟：一粒扣 颜色分类：853/杂桔 077/杂灰咖 973/米黑双色 袖型：常规 组合形式：单件 货号：5N4210770 裙型：A字裙 适用季节：夏季 年份季节：2023年夏季 袖长：短袖 裙长：短裙 流行元素/工艺：印花 款式：印花裙 销售渠道类型：商场同款(线上线下都销售) 廓形：A型  材质成分：棉100%  如果想购买，可以访问一下【https://www.taobao.com/list/item/698737921676.htm?spm=a21wu.10013406.taglist-content.1.3a0359e5vRvpmC】链接进行购买  洗护方式如下： 洗涤说明：不可漂白、悬挂阴干、最高水温40°C、小心手洗 护理说明 ①建议在阴凉通风,处悬挂阴干，以免拉长变形。 ②不建议机洗，推荐中性洗涤剂手洗，注意深浅颜色分开。 ③通风透气、保持干燥，应放置适量的专用防霉防蛀药剂，以免发霉、虫蛀。 温馨提示：具体洗涤维护请以洗唛为准。\n",
      "\n",
      "历史记录:\n",
      "\n",
      "\n",
      "问题: 有好看的背心推荐吗？\n",
      "\n",
      "### Response:\n",
      "INFO:root:model parameters: {'temperature': 0.5}\n",
      "INFO:root:response_json: {'outputs': '您好，如果您正在寻找好看的背心，我推荐您考虑购买 GLORIA/歌莉娅官方正品真丝缎面打底背心女V领无袖西装内搭吊带醋酸上衣。这款背心质地柔软舒适，图案简约大方，适合各种场合穿着。此外，我们还提供多种尺码选择，包括 S,M,L,XL,2XL,3XL，可以满足不同需求。如果您想了解更多信息，请访问我们的官方网站：<https://www.gloria-store.com>。'}\n"
     ]
    },
    {
     "data": {
      "text/plain": [
       "{'output_text': '您好，如果您正在寻找好看的背心，我推荐您考虑购买 GLORIA/歌莉娅官方正品真丝缎面打底背心女V领无袖西装内搭吊带醋酸上衣。这款背心质地柔软舒适，图案简约大方，适合各种场合穿着。此外，我们还提供多种尺码选择，包括 S,M,L,XL,2XL,3XL，可以满足不同需求。如果您想了解更多信息，请访问我们的官方网站：<https://www.gloria-store.com>。'}"
      ]
     },
     "execution_count": 254,
     "metadata": {},
     "output_type": "execute_result"
    }
   ],
   "source": [
    "conversation_memory.clear()\n",
    "customer_qa(\"有好看的背心推荐吗？\")"
   ]
  },
  {
   "cell_type": "code",
   "execution_count": 255,
   "id": "8dd3c8d6-82d8-4e0e-b666-3f18c2cce65a",
   "metadata": {},
   "outputs": [
    {
     "data": {
      "application/vnd.jupyter.widget-view+json": {
       "model_id": "2b9fcd1e0d334d588b94f03da7084148",
       "version_major": 2,
       "version_minor": 0
      },
      "text/plain": [
       "Batches:   0%|          | 0/1 [00:00<?, ?it/s]"
      ]
     },
     "metadata": {},
     "output_type": "display_data"
    },
    {
     "name": "stderr",
     "output_type": "stream",
     "text": [
      "INFO:root:prompt: Below is an instruction that describes a task. Write a response that appropriately completes the request.\n",
      "\n",
      "### Instruction:\n",
      "使用下面的商品信息，简洁的回答用户的问题，不要使用已有的知识，不要编造答案。\n",
      "\n",
      "已知内容:\n",
      "歌莉娅官方正品真丝缎面打底背心女V领无袖西装内搭吊带醋酸上衣 价格82.89元 品牌：GLORIA/歌莉娅 尺码：S,M,L,XL,2XL,3XL 质地：其他/other 图案：纯色 风格：通勤 流行元素：拼接 颜色分类：香槟色,白色,黑色 组合形式：单件 货号：1192051 年份季节：2022年春季 衣长：常规 款式：吊带 材质成分：其他材质100% 购买链接：https://www.taobao.com/list/item/709454170667.htm?spm=a21wu.10013406.taglist-content.3.d2756680mzL0uL \n",
      "\n",
      "歌莉娅蝴蝶碎花v领连衣裙女装夏装显瘦气质礼服裙子1A6H4KAKA 会员价格：309元。非会员价格399.00元。 品牌：GLORIA/歌莉娅 适用年龄：25-29周岁 尺码：XS S M L XL XXL 图案：花色 风格：通勤 通勤：简约 领型：V领 腰型：高腰 衣门襟：套头 颜色分类：27D黑底印花 袖型：常规 货号：1A6H4KAKA 裙型：A字裙 年份季节：2022年夏季 袖长：短袖 裙长：中裙 流行元素/工艺：印花 款式：v领连衣裙 销售渠道类型：商场同款(线上线下都销售) 廓形：A型 材质成分：粘胶纤维(粘纤)100% 购买链接：https://www.taobao.com/list/item/678724503513.htm?spm=a21wu.10013406.taglist-content.1.d2756680mzL0uL  洗涤说明： 手洗，洗涤温度不高于40°C 不可漂白 在阴凉处悬挂滴干 不可翻转干燥 熨斗底板 温度不高预售110°C 不可干洗整件衣服在穿着时请小心，以免勾纱 深浅色衣物 分开洗涤 避开脚钮熨烫 不可扭干，理平晾干 衣服洗后易起皱，为美观起见， 每次洗后请熨烫平整后再穿着 因面料特性，衣服折叠易产生折痕，请悬挂存放。\n",
      "\n",
      "历史记录:\n",
      "Human: 有好看的背心推荐吗？\n",
      "AI: 您好，如果您正在寻找好看的背心，我推荐您考虑购买 GLORIA/歌莉娅官方正品真丝缎面打底背心女V领无袖西装内搭吊带醋酸上衣。这款背心质地柔软舒适，图案简约大方，适合各种场合穿着。此外，我们还提供多种尺码选择，包括 S,M,L,XL,2XL,3XL，可以满足不同需求。如果您想了解更多信息，请访问我们的官方网站：<https://www.gloria-store.com>。\n",
      "\n",
      "问题: 多少钱？\n",
      "\n",
      "### Response:\n",
      "INFO:root:model parameters: {'temperature': 0.5}\n",
      "INFO:root:response_json: {'outputs': '您可以通过点击链接<https://www.taobao.com/list/item/709454170667.htm?spm=a21wu.10013406.taglist-content.3.d2756680mzL0uL>来购买该商品。它的价格是82.89元。'}\n"
     ]
    },
    {
     "data": {
      "text/plain": [
       "{'output_text': '您可以通过点击链接<https://www.taobao.com/list/item/709454170667.htm?spm=a21wu.10013406.taglist-content.3.d2756680mzL0uL>来购买该商品。它的价格是82.89元。'}"
      ]
     },
     "execution_count": 255,
     "metadata": {},
     "output_type": "execute_result"
    }
   ],
   "source": [
    "\n",
    "customer_qa(\"多少钱？\")"
   ]
  },
  {
   "cell_type": "code",
   "execution_count": null,
   "id": "28132716-ffe7-45ee-9249-3f9787933299",
   "metadata": {},
   "outputs": [],
   "source": []
  }
 ],
 "metadata": {
  "kernelspec": {
   "display_name": "Custom (mt_python3)",
   "language": "python",
   "name": "mt_python3"
  },
  "language_info": {
   "codemirror_mode": {
    "name": "ipython",
    "version": 3
   },
   "file_extension": ".py",
   "mimetype": "text/x-python",
   "name": "python",
   "nbconvert_exporter": "python",
   "pygments_lexer": "ipython3",
   "version": "3.10.11"
  }
 },
 "nbformat": 4,
 "nbformat_minor": 5
}
