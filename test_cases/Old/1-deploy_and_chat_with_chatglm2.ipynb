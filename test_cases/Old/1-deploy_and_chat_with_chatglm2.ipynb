{
 "cells": [
  {
   "cell_type": "markdown",
   "id": "dd1409b5-035c-4e66-8ed1-7e06865ad52f",
   "metadata": {},
   "source": [
    "## 部署和使用ChatGLM2进行中文问答"
   ]
  },
  {
   "cell_type": "markdown",
   "id": "36da04a2-c943-4680-864c-678546f920c7",
   "metadata": {},
   "source": [
    "### SageMaker  Endpoint 部署ChatGLM2\n",
    "  \n",
    "[ChatGLM](https://github.com/THUDM/ChatGLM-6B): ChatGLM-6B 是一个开源的、支持中英双语的对话语言模型，基于 General Language Model (GLM) 架构，具有 62 亿参数。结合模型量化技术，用户可以在消费级的显卡上进行本地部署（INT4 量化级别下最低只需 6GB 显存）。 ChatGLM-6B 使用了和 ChatGPT 相似的技术，针对中文问答和对话进行了优化。经过约 1T 标识符的中英双语训练，辅以监督微调、反馈自助、人类反馈强化学习等技术的加持，62 亿参数的 ChatGLM-6B 已经能生成相当符合人类偏好的回答。\n",
    "\n",
    "[ChatGLM2](https://github.com/THUDM/ChatGLM2-6B)是新版本，提供了更好的性能和效果。\n",
    "\n",
    "首先，我们使用Sagemaker部署ChatGLM模型。在SageMaker中部署模型的架构如下：\n",
    "![](imgs/sagemaker_deploy_model.jpg)"
   ]
  },
  {
   "cell_type": "markdown",
   "id": "c1fe93c1-29b8-40e3-9c82-7f7ce1b2ffaf",
   "metadata": {},
   "source": [
    "#### 准备\n",
    "1. 升级boto3, sagemaker python sdk  \n",
    "2. 准备inference.py, requirements.txt"
   ]
  },
  {
   "cell_type": "code",
   "execution_count": 2,
   "id": "18eb1530-76ea-4bc1-b5e3-7219de5f8ff8",
   "metadata": {
    "tags": []
   },
   "outputs": [],
   "source": [
    "# 如果需要，更新sagemaker和 aws python sdk boto3\n",
    "# !pip install --upgrade boto3\n",
    "# !pip install --upgrade sagemaker"
   ]
  },
  {
   "cell_type": "code",
   "execution_count": 1,
   "id": "49d80dad-12b2-4228-97db-69a89fcf951a",
   "metadata": {
    "tags": []
   },
   "outputs": [],
   "source": [
    "import boto3\n",
    "import sagemaker\n",
    "\n",
    "account_id = boto3.client('sts').get_caller_identity().get('Account')\n",
    "region_name = boto3.session.Session().region_name\n",
    "\n",
    "sagemaker_session = sagemaker.Session()\n",
    "bucket = sagemaker_session.default_bucket()\n",
    "role = sagemaker.get_execution_role()"
   ]
  },
  {
   "cell_type": "markdown",
   "id": "55d7e43b-5e84-4a4a-85e6-599e9e47c5a9",
   "metadata": {},
   "source": [
    "接下来，我们使用Sagemaker进行模型部署。"
   ]
  },
  {
   "cell_type": "code",
   "execution_count": 11,
   "id": "357920bb-e661-408e-8444-abbd995de2dd",
   "metadata": {
    "tags": []
   },
   "outputs": [
    {
     "name": "stdout",
     "output_type": "stream",
     "text": [
      "dummy\n"
     ]
    }
   ],
   "source": [
    "from sagemaker.pytorch.model import PyTorchModel\n",
    "\n",
    "model_name = None\n",
    "framework_version = '1.13.1'\n",
    "py_version = 'py39'\n",
    "model_environment = {\n",
    "    'SAGEMAKER_MODEL_SERVER_TIMEOUT':'60', \n",
    "    'SAGEMAKER_MODEL_SERVER_WORKERS': '1', \n",
    "}\n",
    "\n",
    "!touch dummy\n",
    "!tar czvf model.tar.gz dummy\n",
    "!rm -f dummy\n",
    "\n",
    "model = PyTorchModel(\n",
    "    name = model_name,\n",
    "    model_data = \"./model.tar.gz\",\n",
    "    entry_point = 'inference-chatglm2-fastllm.py',\n",
    "    source_dir = './code-chatglm2',\n",
    "    role = role,\n",
    "    framework_version = framework_version, \n",
    "    py_version = py_version,\n",
    "    env = model_environment\n",
    ")"
   ]
  },
  {
   "cell_type": "markdown",
   "id": "f3ca1feb-36f2-480e-bdce-b6896eac30a3",
   "metadata": {
    "tags": []
   },
   "source": [
    "我们使用了bring your own script 的方式部署模型，通过提供一个dummy的模型文件（model.tar.gz），在 *code/inference-chatglm.py* python脚本里面，部署了模型：\n",
    "```python\n",
    "def model_fn(model_dir):\n",
    "    model = AutoModel.from_pretrained(\"THUDM/chatglm2-6b\", trust_remote_code=True).half().cuda()\n",
    "    return model\n",
    "```\n"
   ]
  },
  {
   "cell_type": "markdown",
   "id": "f124bb73-8f39-4d74-8e9f-6d1c6f601519",
   "metadata": {},
   "source": [
    "然后部署该模型为 Sagemaker endpoint"
   ]
  },
  {
   "cell_type": "code",
   "execution_count": 12,
   "id": "9b5c0454-df30-4bdc-8864-664e9c46a0b7",
   "metadata": {
    "tags": []
   },
   "outputs": [
    {
     "name": "stdout",
     "output_type": "stream",
     "text": [
      "-----------!"
     ]
    }
   ],
   "source": [
    "\n",
    "# deploy as sagemaker endpoint\n",
    "endpoint_name = 'mt-chatglm2-6b-g4dn'\n",
    "instance_type = 'ml.g4dn.2xlarge'\n",
    "instance_count = 1\n",
    "\n",
    "from sagemaker.serializers import JSONSerializer\n",
    "from sagemaker.deserializers import JSONDeserializer\n",
    "predictor = model.deploy(\n",
    "    endpoint_name = endpoint_name,\n",
    "    instance_type = instance_type,\n",
    "    initial_instance_count = instance_count,\n",
    "    serializer = JSONSerializer(),\n",
    "    deserializer = JSONDeserializer()\n",
    ")"
   ]
  },
  {
   "cell_type": "code",
   "execution_count": 20,
   "id": "37ba118c-12bd-426a-bc59-aec13ac28f01",
   "metadata": {
    "tags": []
   },
   "outputs": [],
   "source": [
    "del_predictor = sagemaker.Predictor(\n",
    "    endpoint_name=\"mt-chatglm2-6b-g4dn\", \n",
    "    sagemaker_session=sess, \n",
    "    serializer=serializers.JSONSerializer(), \n",
    "    deserializer=deserializers.JSONDeserializer())\n",
    "del_predictor.delete_model()\n",
    "del_predictor.delete_endpoint()"
   ]
  },
  {
   "cell_type": "code",
   "execution_count": 30,
   "id": "ee63cd2f-8f70-478e-bf13-20b8e32758bd",
   "metadata": {
    "tags": []
   },
   "outputs": [
    {
     "name": "stdout",
     "output_type": "stream",
     "text": [
      "\n",
      "\n",
      "问题:  写一首关于交通信号灯的诗 \n",
      "回答:\n",
      " 交通信号灯，闪亮如星辰，   \n",
      "指引行人走，车辆停。    \n",
      "红绿黄三种颜色，  \n",
      "提醒人们要文明。\n",
      "\n",
      "当红灯亮时，停车等待，   \n",
      "绿灯亮时，通行顺畅，   \n",
      "黄灯闪烁，警惕慢行 。  \n",
      "交通安全是每个人的责任。  \n",
      "\n",
      "交通信号灯，是我们的保障，   \n",
      "让道路通行更加有序，   \n",
      "让我们的出行更加安全。\n",
      "\n",
      "\n",
      "问题:  陨石为什么总能落在陨石坑里? \n",
      "回答:\n",
      " 并非陨石总能落在陨石坑里,但陨石坑确实是一个常见的陨石撞击地点。陨石坑是由撞击地球表面的小行星、彗星或陨石等天体形成的。当这些天体进入地球大气层时,由于与大气分子的摩擦而产生高温和高压,导致它们开始燃烧和蒸发,形成一个明亮的火球。\n",
      "\n",
      "当这些火球与地面接触时,由于陨石的质量和速度,它们会产生巨大的冲击力,导致地表上形成一个陨石坑。由于陨石坑本身的特征和地理位置等因素的影响,陨石坑内的陨石往往会被保存下来,并成为研究陨石撞击地球表面历史的重要样本。\n",
      "\n",
      "\n",
      "问题:  为什么爸妈结婚没叫我参加婚礼? \n",
      "回答:\n",
      " 很多原因可能导致父母没有邀请你参加他们的婚礼。以下是一些可能的原因：\n",
      "\n",
      "1. 你的太小：如果你的父母可能认为你太小，不方便参加婚礼或者可能影响你的日常生活。\n",
      "\n",
      "2. 太忙：你的父母可能当时太忙了，无法请假或者安排时间参加婚礼。\n",
      "\n",
      "3. 距离：如果你的父母住在较远的地方，他们可能认为参加婚礼会给你带来不必要的麻烦。\n",
      "\n",
      "4. 不确定：你的父母可能认为没有必要邀请你参加他们的婚礼，或者他们可能认为你已经长大，可以自己处理自己的生活。\n",
      "\n",
      "5. 预算：你的父母可能认为邀请你参加婚礼会增加他们的负担，因为他们可能需要支付更多的费用。\n",
      "\n",
      "无论原因是什么，如果父母没有邀请你参加他们的婚礼，你可以尝试和他们沟通，了解他们的想法。也许你可以通过沟通，让他们了解你的想法，并找到一种适合大家的解决方案。\n"
     ]
    }
   ],
   "source": [
    "inputs= [\n",
    "    {\"ask\": \"写一首关于交通信号灯的诗\"},\n",
    "    {\"ask\": \"陨石为什么总能落在陨石坑里?\" },\n",
    "    {\"ask\": \"为什么爸妈结婚没叫我参加婚礼?\"}\n",
    "]\n",
    "response = predictor.predict(inputs[0])\n",
    "print(\"\\n\\n问题: \", inputs[0][\"ask\"], \"\\n回答:\\n\", response[\"answer\"])\n",
    "response = predictor.predict(inputs[1])\n",
    "print(\"\\n\\n问题: \", inputs[1][\"ask\"], \"\\n回答:\\n\", response[\"answer\"])\n",
    "response = predictor.predict(inputs[2])\n",
    "print(\"\\n\\n问题: \", inputs[2][\"ask\"], \"\\n回答:\\n\", response[\"answer\"])"
   ]
  },
  {
   "cell_type": "markdown",
   "id": "cd303123-ad8c-4f43-b430-16b73a2a6d18",
   "metadata": {
    "tags": []
   },
   "source": [
    "### ChatGLM2 测试\n",
    "下面，我们使用真格资金建立的一套中文语言模型的测试集，来对这个模型进行测试：\n",
    "https://github.com/zhenbench/z-bench"
   ]
  },
  {
   "cell_type": "markdown",
   "id": "f4a9289a-b78e-48dc-9a8d-235ea08aeb72",
   "metadata": {},
   "source": [
    "真格基金提供了3个级别的测试集，基础能力、进阶能力和垂直能力，并且提供了使用 GPT3.5 和 GPT4 的参考答案，可以用这个测试集进行问答测试，并跟GPT的结果进行比较，来检验语言模型的能力。"
   ]
  },
  {
   "cell_type": "markdown",
   "id": "f53725c8-10d0-4879-9e6f-a5cf3b58db6c",
   "metadata": {
    "tags": []
   },
   "source": [
    "#### 基础能力\n",
    "首先来看看基础能力："
   ]
  },
  {
   "cell_type": "code",
   "execution_count": 31,
   "id": "998b3073-95e4-4fe3-9036-acce30fad17a",
   "metadata": {
    "tags": []
   },
   "outputs": [],
   "source": [
    "import pandas as pd\n",
    "benchdf_common = pd.read_csv(\"./z-bench/common.samples.csv\")"
   ]
  },
  {
   "cell_type": "code",
   "execution_count": 32,
   "id": "9f67cb5d-cb51-4981-b47f-145647fbfadc",
   "metadata": {
    "tags": []
   },
   "outputs": [
    {
     "data": {
      "text/plain": [
       "(63, 5)"
      ]
     },
     "execution_count": 32,
     "metadata": {},
     "output_type": "execute_result"
    }
   ],
   "source": [
    "benchdf_common.shape"
   ]
  },
  {
   "cell_type": "code",
   "execution_count": 33,
   "id": "2de772f0-9fdc-42cc-a1a4-57d5749c626d",
   "metadata": {
    "tags": []
   },
   "outputs": [
    {
     "name": "stdout",
     "output_type": "stream",
     "text": [
      "任务类型: `扩写` `逻辑关系` 参考回答: nan\n",
      "Prompt: 根据这些笔记写一篇餐厅评论： 餐厅名称：The Blue Wharf Lobster 很棒，很吵，服务很有礼貌，价格不错。\n",
      "ChatGLM: The Blue Wharf Lobster is an excellent choice for a casual dining experience. The atmosphere is lively and the service is top-notch. The lobster is well-prepared and the price is more than just reasonable.\n",
      "\n",
      "The moment you step into the restaurant, you will be greeted by the warm and inviting ambiance. The high ceilings and the bustling atmosphere make it an ideal place to enjoy a casual meal with friends or family. The service is nothing short of excellent, with staff who are always available to take your order and make sure your needs are met.\n",
      "\n",
      "As for the food, The Blue Wharf Lobster is known for its delicious lobster. The lobster is prepared to perfection and the seasonings used are top-notch. The mussels and clams are also excellent choices and are prepared with the utmost care.\n",
      "\n",
      "Overall, The Blue Wharf Lobster is a great choice for those looking for a casual dining experience. The atmosphere is lively, the service is top-notch, and the food is delicious. The price is also very reasonable and makes this restaurant a great value for money.\n",
      "GPT3.5: 我最近去了一家叫做\"The Blue Wharf Lobster\"的餐厅，整体感觉非常不错。首先，食物很棒，海鲜特别新鲜，尤其是那只大龙虾简直让我流口水。不过，餐厅的噪音有点太大了，这可能会对某些人的用餐体验造成影响。\n",
      "另外，服务员的服务也非常到位，非常有礼貌且注重细节。他们非常注意客人的需求，并且尽力满足客人的要求，这让我非常满意。最后，餐厅的价格也比较合理，性价比很高。\n",
      "综上所述，我非常喜欢\"The Blue Wharf Lobster\"这家餐厅，虽然噪音有点大，但食物很棒，服务也很到位，价格也非常合理。如果你喜欢海鲜，我强烈推荐你来这里一试。\n",
      "GPT4: 如果你想品尝新鲜美味的龙虾，The Blue Wharf Lobster 餐厅绝对是一个值得去的好地方。在这里，你可以享受到一系列精美的龙虾菜肴，让你大饱口福。\n",
      "不过，要注意的是，这里的环境可能会让你感到有些吵闹。人声嘈杂，但如果你想在这里享受美味佳肴，建议选择安静的用餐时间。\n",
      "另一方面，服务员的服务态度非常有礼貌，让人感到舒适和惬意。无论你需要什么，他们总是会热情地帮助你。价格也不错，非常合理，对于品质这么好的食物，它绝对是物超所值。\n",
      "总的来说，如果你是个龙虾爱好者，The Blue Wharf Lobster 餐厅是一个值得一试的地方。虽然环境可能有些吵闹，但服务质量高，价格也合理，这里的美味菜肴肯定会让你难以忘怀。\n"
     ]
    }
   ],
   "source": [
    "import random\n",
    "r = random.randint(0, 63)\n",
    "test_data = benchdf_common.iloc[r]\n",
    "\n",
    "response = predictor.predict({\"ask\": test_data[\"Prompt\"], \"params\": {\"temperature\": 0.99}})\n",
    "print(\"任务类型:\", test_data[\"任务类型\"], \"参考回答:\", test_data[\"参考回答\"])\n",
    "print(\"Prompt:\", test_data[\"Prompt\"])\n",
    "print(\"ChatGLM:\", response[\"answer\"])\n",
    "print(\"GPT3.5:\", test_data[\"GPT3.5\"])\n",
    "print(\"GPT4:\", test_data[\"GPT4\"])"
   ]
  },
  {
   "cell_type": "markdown",
   "id": "90dff972-2dda-4566-ae3c-d494f48382ab",
   "metadata": {
    "tags": []
   },
   "source": [
    "#### 进阶能力"
   ]
  },
  {
   "cell_type": "code",
   "execution_count": 34,
   "id": "54d98975-0f3d-4f31-ac6d-b2aab30f4748",
   "metadata": {
    "tags": []
   },
   "outputs": [],
   "source": [
    "import pandas as pd\n",
    "benchdf_emergent = pd.read_csv(\"./z-bench/emergent.samples.csv\")"
   ]
  },
  {
   "cell_type": "code",
   "execution_count": 35,
   "id": "5e3baecb-df84-4888-9845-f4a6d1547912",
   "metadata": {
    "tags": []
   },
   "outputs": [
    {
     "data": {
      "text/html": [
       "<div>\n",
       "<style scoped>\n",
       "    .dataframe tbody tr th:only-of-type {\n",
       "        vertical-align: middle;\n",
       "    }\n",
       "\n",
       "    .dataframe tbody tr th {\n",
       "        vertical-align: top;\n",
       "    }\n",
       "\n",
       "    .dataframe thead th {\n",
       "        text-align: right;\n",
       "    }\n",
       "</style>\n",
       "<table border=\"1\" class=\"dataframe\">\n",
       "  <thead>\n",
       "    <tr style=\"text-align: right;\">\n",
       "      <th></th>\n",
       "      <th>Prompt</th>\n",
       "      <th>任务类型</th>\n",
       "      <th>参考回答</th>\n",
       "      <th>GPT3.5</th>\n",
       "      <th>GPT4</th>\n",
       "    </tr>\n",
       "  </thead>\n",
       "  <tbody>\n",
       "    <tr>\n",
       "      <th>0</th>\n",
       "      <td>如果我在空中垂直抛球，球最初向哪个方向行进？</td>\n",
       "      <td>`物理直觉`</td>\n",
       "      <td>向上</td>\n",
       "      <td>当你在空中垂直抛球时，球最初行进的方向是向上的，也就是和地面垂直的方向。在球到达最高点时，它...</td>\n",
       "      <td>当你在空中垂直向上抛球时，球最初的方向是向上。它将沿着垂直方向受到重力的作用而减速，直至在其...</td>\n",
       "    </tr>\n",
       "    <tr>\n",
       "      <th>1</th>\n",
       "      <td>金元素属于哪一种化学键？</td>\n",
       "      <td>`物理直觉`</td>\n",
       "      <td>金属键</td>\n",
       "      <td>金是一种金属元素，因此通常会形成金属键。金属键是由金属元素组成的化学键，这些金属元素的原子之...</td>\n",
       "      <td>金属元素，如金（Au），通常与其他金属元素通过金属键（metallic bond）相互连接。...</td>\n",
       "    </tr>\n",
       "    <tr>\n",
       "      <th>2</th>\n",
       "      <td>假设一个原子发射一个光子，原子会发生什么？</td>\n",
       "      <td>`物理直觉`</td>\n",
       "      <td>失去能量</td>\n",
       "      <td>当一个原子发射一个光子时，它会处于一个激发态或高能态，并且会向低能态或基态释放能量。在这个过...</td>\n",
       "      <td>当一个原子发射一个光子时，这意味着原子中的一个电子从一个较高的能级跃迁到一个较低的能级。在这...</td>\n",
       "    </tr>\n",
       "    <tr>\n",
       "      <th>3</th>\n",
       "      <td>假设一辆车可以在 3.85s 的时间内从 0 加速到 27.8 m/s，请计算这辆车的加速度...</td>\n",
       "      <td>`物理`</td>\n",
       "      <td>7.22 m/s/s</td>\n",
       "      <td>根据运动学公式，加速度等于速度变化量除以时间。那么，这辆车的加速度为：a = (27.8 m...</td>\n",
       "      <td>为了计算加速度，我们可以使用以下公式：加速度（a）= (最终速度（vf） - 初始速度（vi...</td>\n",
       "    </tr>\n",
       "    <tr>\n",
       "      <th>4</th>\n",
       "      <td>Zdeno Chara 以 175.1 km/h 的速度创造了最快的冰球拍击记录。假设一个冰...</td>\n",
       "      <td>`物理`</td>\n",
       "      <td>a) 8.28 kg·m/s b) Chara 的拍击速度为 175.1 km/h = 48...</td>\n",
       "      <td>a) Chara 的拍击球的动量为：p = mv其中，m = 0.17 kg 是冰球的质量，...</td>\n",
       "      <td>a) 要计算冰球的动量，我们使用动量公式：p = m * v，其中 p 为动量，m 为质量，...</td>\n",
       "    </tr>\n",
       "  </tbody>\n",
       "</table>\n",
       "</div>"
      ],
      "text/plain": [
       "                                              Prompt    任务类型   \n",
       "0                             如果我在空中垂直抛球，球最初向哪个方向行进？  `物理直觉`  \\\n",
       "1                                       金元素属于哪一种化学键？  `物理直觉`   \n",
       "2                              假设一个原子发射一个光子，原子会发生什么？  `物理直觉`   \n",
       "3  假设一辆车可以在 3.85s 的时间内从 0 加速到 27.8 m/s，请计算这辆车的加速度...    `物理`   \n",
       "4  Zdeno Chara 以 175.1 km/h 的速度创造了最快的冰球拍击记录。假设一个冰...    `物理`   \n",
       "\n",
       "                                                参考回答   \n",
       "0                                                 向上  \\\n",
       "1                                                金属键   \n",
       "2                                               失去能量   \n",
       "3                                         7.22 m/s/s   \n",
       "4  a) 8.28 kg·m/s b) Chara 的拍击速度为 175.1 km/h = 48...   \n",
       "\n",
       "                                              GPT3.5   \n",
       "0  当你在空中垂直抛球时，球最初行进的方向是向上的，也就是和地面垂直的方向。在球到达最高点时，它...  \\\n",
       "1  金是一种金属元素，因此通常会形成金属键。金属键是由金属元素组成的化学键，这些金属元素的原子之...   \n",
       "2  当一个原子发射一个光子时，它会处于一个激发态或高能态，并且会向低能态或基态释放能量。在这个过...   \n",
       "3  根据运动学公式，加速度等于速度变化量除以时间。那么，这辆车的加速度为：a = (27.8 m...   \n",
       "4  a) Chara 的拍击球的动量为：p = mv其中，m = 0.17 kg 是冰球的质量，...   \n",
       "\n",
       "                                                GPT4  \n",
       "0  当你在空中垂直向上抛球时，球最初的方向是向上。它将沿着垂直方向受到重力的作用而减速，直至在其...  \n",
       "1  金属元素，如金（Au），通常与其他金属元素通过金属键（metallic bond）相互连接。...  \n",
       "2  当一个原子发射一个光子时，这意味着原子中的一个电子从一个较高的能级跃迁到一个较低的能级。在这...  \n",
       "3  为了计算加速度，我们可以使用以下公式：加速度（a）= (最终速度（vf） - 初始速度（vi...  \n",
       "4  a) 要计算冰球的动量，我们使用动量公式：p = m * v，其中 p 为动量，m 为质量，...  "
      ]
     },
     "execution_count": 35,
     "metadata": {},
     "output_type": "execute_result"
    }
   ],
   "source": [
    "benchdf_emergent.head()"
   ]
  },
  {
   "cell_type": "code",
   "execution_count": 36,
   "id": "08c7d7fc-806e-4948-b318-61355891488d",
   "metadata": {
    "tags": []
   },
   "outputs": [
    {
     "name": "stdout",
     "output_type": "stream",
     "text": [
      "任务类型: `ToM` `心理学` 参考回答: 萨莉会去篮子里找小球。\n",
      "Prompt: 萨莉把一个小球放到篮子里，然后用布将篮子盖起来后离开。安娜在萨莉走后，将小球从篮中取出放进身边的盒子里。过一会儿，萨莉回来，萨莉会到哪里去找小球呢?\n",
      "ChatGLM: 萨莉可能会回到篮子所在的位置,或者根据她的经验或者直觉来寻找小球。她可能会检查篮子周围是否有留下小球的痕迹或者留下任何线索,比如小球被放在哪里、是否被别人移动过等等。如果萨莉没有找到小球,她可能会询问其他人或者再次回到篮子所在的位置寻找。\n",
      "GPT3.5: 萨莉会去篮子里找小球。因为萨莉不知道安娜已经将小球取出来放到盒子里了，她认为小球仍然在篮子里。\n",
      "GPT4: 当萨莉回来时，她会在篮子里找小球，因为在她离开之前，她把小球放在了那里。然而，实际上小球已经被安娜移到了盒子里。\n"
     ]
    }
   ],
   "source": [
    "import random\n",
    "r = random.randint(0, 209)\n",
    "test_data = benchdf_emergent.iloc[r]\n",
    "\n",
    "response = predictor.predict({\"ask\": test_data[\"Prompt\"]})\n",
    "print(\"任务类型:\", test_data[\"任务类型\"], \"参考回答:\", test_data[\"参考回答\"])\n",
    "print(\"Prompt:\", test_data[\"Prompt\"])\n",
    "print(\"ChatGLM:\", response[\"answer\"])\n",
    "print(\"GPT3.5:\", test_data[\"GPT3.5\"])\n",
    "print(\"GPT4:\", test_data[\"GPT4\"])"
   ]
  },
  {
   "cell_type": "markdown",
   "id": "9a62fe66-79de-4410-ba38-4244acbc1fe1",
   "metadata": {},
   "source": [
    "### 垂直类的问题"
   ]
  },
  {
   "cell_type": "code",
   "execution_count": 37,
   "id": "c0bb0a78-968b-4bfb-a161-246fe2eeaedf",
   "metadata": {
    "tags": []
   },
   "outputs": [
    {
     "data": {
      "text/plain": [
       "(39, 5)"
      ]
     },
     "execution_count": 37,
     "metadata": {},
     "output_type": "execute_result"
    }
   ],
   "source": [
    "import pandas as pd\n",
    "benchdf_specialized = pd.read_csv(\"./z-bench/specialized.samples.csv\")\n",
    "benchdf_specialized.shape"
   ]
  },
  {
   "cell_type": "code",
   "execution_count": 38,
   "id": "234db7e3-3107-4757-bc5b-9a38c2f40b47",
   "metadata": {
    "tags": []
   },
   "outputs": [
    {
     "name": "stdout",
     "output_type": "stream",
     "text": [
      "任务类型: `生物` 参考回答: d\n",
      "Prompt: 同源结构经常被引用作为自然选择过程的证据。以下所有的结构都是同源结构，除了\n",
      "(A) 鸟的翅膀和蝙蝠的翅膀\n",
      "(B) 鲸鱼的鳍和人的手臂\n",
      "(C) 海豚的胸鳍和海豹的鳍\n",
      "(D) 昆虫的前腿和狗的前肢\n",
      "ChatGLM: 答案是 (D) 昆虫的前腿和狗的前肢，因为它们不属于同源结构。鸟的翅膀和蝙蝠的翅膀、鲸鱼的鳍和人的手臂、海豚的胸鳍和海豹的鳍都是同源结构，而昆虫的前腿和狗的前肢不是同源结构。\n",
      "GPT3.5: 选项 D 昆虫的前腿和狗的前肢不是同源结构。\n",
      "GPT4: (A) 鸟的翅膀和蝙蝠的翅膀\n",
      "同源结构是指具有相似结构、起源和发育过程的生物器官，但在不同物种中可能具有不同的功能。这些相似结构表明这些物种可能拥有共同的祖先。鸟的翅膀和蝙蝠的翅膀并非同源结构，而是类似功能的异源结构。虽然它们都是飞行器官，但它们的骨骼结构和起源并不相同。鸟类翅膀的骨骼基于前肢，而蝙蝠的翅膀由手指延长和皮膜连接而成。这种相似性是由于趋同进化，即不同物种独立地演化出相似的适应特征。\n"
     ]
    }
   ],
   "source": [
    "import random\n",
    "r = random.randint(0, 39)\n",
    "test_data = benchdf_specialized.iloc[r]\n",
    "\n",
    "response = predictor.predict({\"ask\": test_data[\"Prompt\"]})\n",
    "print(\"任务类型:\", test_data[\"任务类型\"], \"参考回答:\", test_data[\"参考回答\"])\n",
    "print(\"Prompt:\", test_data[\"Prompt\"])\n",
    "print(\"ChatGLM:\", response[\"answer\"])\n",
    "print(\"GPT3.5:\", test_data[\"GPT3.5\"])\n",
    "print(\"GPT4:\", test_data[\"GPT4\"])"
   ]
  },
  {
   "cell_type": "markdown",
   "id": "64e667be-8e56-40bf-9129-05f93ccb4b27",
   "metadata": {
    "tags": []
   },
   "source": [
    "### 通过Sagemaker Endpoint调用\n",
    "我们已经将模型部署到了Sagemaker Endpoint上，我们就可以通过这个Endpoint名称，来调用模型进行推理，这样即使你停止了这个notebook，也能使用已经部署的模型。"
   ]
  },
  {
   "cell_type": "code",
   "execution_count": 16,
   "id": "b6726e86-e665-4d31-82f8-6ca08decdb65",
   "metadata": {
    "tags": []
   },
   "outputs": [],
   "source": [
    "import json\n",
    "import boto3\n",
    "\n",
    "client = boto3.client('runtime.sagemaker')\n",
    "endpoint_name = 'mt-chatglm2-6b-g4dn'\n",
    "\n",
    "def query_endpoint(encoded_json):\n",
    "    response = client.invoke_endpoint(EndpointName=endpoint_name, ContentType='application/json', Body=encoded_json)\n",
    "    model_predictions = json.loads(response['Body'].read())\n",
    "    generated_text = model_predictions[\"answer\"]\n",
    "    return generated_text\n",
    "\n",
    "payload = {\"ask\": \"将下面的段落使用书面语改写，并进行适当的概括：\\n\", \"parameters\": {\"max_length\": 15000}, \"history\": []}"
   ]
  },
  {
   "cell_type": "code",
   "execution_count": 18,
   "id": "6bcdf467-c041-4468-9368-94a509dc72e0",
   "metadata": {
    "tags": []
   },
   "outputs": [
    {
     "name": "stdout",
     "output_type": "stream",
     "text": [
      "国家名:阿根廷\n",
      "人名:梅西\n",
      "CPU times: user 4.8 ms, sys: 0 ns, total: 4.8 ms\n",
      "Wall time: 559 ms\n"
     ]
    }
   ],
   "source": [
    "%%time\n",
    "payload = {\"ask\": \"信息抽取：\\n2022年世界杯的冠军是阿根廷队伍，梅西是MVP\\n问题：国家名，人名\\n答案：\"}\n",
    "resp_test = query_endpoint(json.dumps(payload).encode('utf-8'))\n",
    "print(resp_test)"
   ]
  },
  {
   "cell_type": "code",
   "execution_count": 24,
   "id": "3f507036-13e2-4cf5-a251-49076b8e6650",
   "metadata": {
    "tags": []
   },
   "outputs": [
    {
     "name": "stdout",
     "output_type": "stream",
     "text": [
      "天空之所以呈现蓝色,是由于光的散射现象造成的。当太阳光穿过大气层时,光被大气中的分子和小颗粒散射,这些颗粒包括氧气、氮气和水蒸气等。这些分子和颗粒吸收较短波长的光,如紫色和蓝色,而较长波长的光,如红色和橙色则被散射得更少。\n",
      "\n",
      "由于蓝色光的波长比红色光短,因此它更容易被散射,而在大气层中被散射的蓝色光会向各个方向散射,包括朝着我们的眼睛,因此天空呈现出蓝色。在日出和日落时,太阳光穿过更长的大气层路径,较多的光被散射,因此天空呈现出更温暖的色调,如红色、橙色和黄色。\n",
      "233\n",
      "CPU times: user 5.07 ms, sys: 0 ns, total: 5.07 ms\n",
      "Wall time: 8.53 s\n"
     ]
    }
   ],
   "source": [
    "%%time\n",
    "payload = {\"ask\": \"天为什么是蓝色的？\"}\n",
    "answer = query_endpoint(json.dumps(payload).encode('utf-8'))\n",
    "print(answer)\n",
    "print(len(answer))"
   ]
  },
  {
   "cell_type": "code",
   "execution_count": 19,
   "id": "5a61c459-c66a-4838-8e98-a853a3c15056",
   "metadata": {},
   "outputs": [
    {
     "name": "stdout",
     "output_type": "stream",
     "text": [
      "4加2等于6。\n",
      "CPU times: user 5.53 ms, sys: 0 ns, total: 5.53 ms\n",
      "Wall time: 446 ms\n"
     ]
    }
   ],
   "source": [
    "%%time\n",
    "payload = {\"ask\": \"4加2等于几？\"}\n",
    "resp_test = query_endpoint(json.dumps(payload).encode('utf-8'))\n",
    "print(resp_test)"
   ]
  },
  {
   "cell_type": "code",
   "execution_count": 9,
   "id": "ad9bc6d0-38d9-4217-a510-b13155297fdf",
   "metadata": {},
   "outputs": [
    {
     "name": "stdout",
     "output_type": "stream",
     "text": [
      "如果你要将11乘以3,答案是33。\n",
      "CPU times: user 4.07 ms, sys: 0 ns, total: 4.07 ms\n",
      "Wall time: 817 ms\n"
     ]
    }
   ],
   "source": [
    "%%time\n",
    "payload = {\n",
    "    \"ask\": \"再乘以3呢？\",\n",
    "    \"history\": [(\"数学计算：\\n3加8等于几？\\n答案：\", \"3加8等于11。\")]}\n",
    "resp_test = query_endpoint(json.dumps(payload).encode('utf-8'))\n",
    "print(resp_test)"
   ]
  },
  {
   "cell_type": "code",
   "execution_count": null,
   "id": "25802a57-844a-43cc-a837-a5ab2916052f",
   "metadata": {},
   "outputs": [],
   "source": []
  },
  {
   "cell_type": "markdown",
   "id": "e657e006-faf6-4d41-82d8-629454fd2267",
   "metadata": {
    "tags": []
   },
   "source": [
    "### 删除 EndPoint"
   ]
  },
  {
   "cell_type": "code",
   "execution_count": 13,
   "id": "1e8fc003-948f-43aa-af00-ddf25902852c",
   "metadata": {
    "tags": []
   },
   "outputs": [],
   "source": [
    "predictor.delete_model()\n",
    "predictor.delete_endpoint()"
   ]
  },
  {
   "cell_type": "code",
   "execution_count": null,
   "id": "cd81af0f-edba-47fe-91f0-354196a23644",
   "metadata": {},
   "outputs": [],
   "source": []
  }
 ],
 "metadata": {
  "kernelspec": {
   "display_name": "Custom (mt_python3)",
   "language": "python",
   "name": "mt_python3"
  },
  "language_info": {
   "codemirror_mode": {
    "name": "ipython",
    "version": 3
   },
   "file_extension": ".py",
   "mimetype": "text/x-python",
   "name": "python",
   "nbconvert_exporter": "python",
   "pygments_lexer": "ipython3",
   "version": "3.10.11"
  }
 },
 "nbformat": 4,
 "nbformat_minor": 5
}
