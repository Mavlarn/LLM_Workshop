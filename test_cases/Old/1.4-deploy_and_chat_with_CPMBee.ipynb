{
 "cells": [
  {
   "cell_type": "markdown",
   "id": "dd1409b5-035c-4e66-8ed1-7e06865ad52f",
   "metadata": {},
   "source": [
    "## 部署和使用CPMBee\n",
    "进行中文问答\n",
    "部署后失败，不能推理"
   ]
  },
  {
   "cell_type": "markdown",
   "id": "36da04a2-c943-4680-864c-678546f920c7",
   "metadata": {},
   "source": [
    "### SageMaker  Endpoint 部署CPM-Bee\n"
   ]
  },
  {
   "cell_type": "markdown",
   "id": "c1fe93c1-29b8-40e3-9c82-7f7ce1b2ffaf",
   "metadata": {},
   "source": [
    "#### 准备\n",
    "1. 升级boto3, sagemaker python sdk  \n",
    "2. 准备inference.py, requirements.txt"
   ]
  },
  {
   "cell_type": "code",
   "execution_count": 1,
   "id": "18eb1530-76ea-4bc1-b5e3-7219de5f8ff8",
   "metadata": {
    "tags": []
   },
   "outputs": [],
   "source": [
    "# 如果需要，更新sagemaker和 aws python sdk boto3\n",
    "# !pip install --upgrade boto3\n",
    "# !pip install --upgrade sagemaker"
   ]
  },
  {
   "cell_type": "code",
   "execution_count": 1,
   "id": "49d80dad-12b2-4228-97db-69a89fcf951a",
   "metadata": {
    "tags": []
   },
   "outputs": [],
   "source": [
    "import boto3\n",
    "import sagemaker\n",
    "\n",
    "account_id = boto3.client('sts').get_caller_identity().get('Account')\n",
    "region_name = boto3.session.Session().region_name\n",
    "\n",
    "sagemaker_session = sagemaker.Session()\n",
    "bucket = sagemaker_session.default_bucket()\n",
    "role = sagemaker.get_execution_role()"
   ]
  },
  {
   "cell_type": "markdown",
   "id": "55d7e43b-5e84-4a4a-85e6-599e9e47c5a9",
   "metadata": {},
   "source": [
    "接下来，我们使用Sagemaker进行模型部署。"
   ]
  },
  {
   "cell_type": "code",
   "execution_count": 16,
   "id": "357920bb-e661-408e-8444-abbd995de2dd",
   "metadata": {
    "tags": []
   },
   "outputs": [
    {
     "name": "stdout",
     "output_type": "stream",
     "text": [
      "dummy\n"
     ]
    }
   ],
   "source": [
    "from sagemaker.pytorch.model import PyTorchModel\n",
    "\n",
    "model_name = None\n",
    "framework_version = '1.13.1'\n",
    "py_version = 'py39'\n",
    "model_environment = {\n",
    "    'SAGEMAKER_MODEL_SERVER_TIMEOUT':'600', \n",
    "    'SAGEMAKER_MODEL_SERVER_WORKERS': '1', \n",
    "}\n",
    "\n",
    "!touch dummy\n",
    "!tar czvf model.tar.gz dummy\n",
    "!rm -f dummy\n",
    "\n",
    "model = PyTorchModel(\n",
    "    name = model_name,\n",
    "    model_data = \"./model.tar.gz\",\n",
    "    entry_point = 'inference-cpmbee.py',\n",
    "    source_dir = './code-cpmbee',\n",
    "    role = role,\n",
    "    framework_version = framework_version, \n",
    "    py_version = py_version,\n",
    "    env = model_environment\n",
    ")"
   ]
  },
  {
   "cell_type": "markdown",
   "id": "f3ca1feb-36f2-480e-bdce-b6896eac30a3",
   "metadata": {
    "tags": []
   },
   "source": [
    "我们使用了bring your own script 的方式部署模型，通过提供一个dummy的模型文件（model.tar.gz），在 *code/inference-chatglm.py* python脚本里面，部署了模型：\n",
    "```python\n",
    "def model_fn(model_dir):\n",
    "    model = AutoModel.from_pretrained(\"THUDM/chatglm2-6b\", trust_remote_code=True).half().cuda()\n",
    "    return model\n",
    "```\n"
   ]
  },
  {
   "cell_type": "markdown",
   "id": "f124bb73-8f39-4d74-8e9f-6d1c6f601519",
   "metadata": {},
   "source": [
    "然后部署该模型为 Sagemaker endpoint"
   ]
  },
  {
   "cell_type": "code",
   "execution_count": 17,
   "id": "9b5c0454-df30-4bdc-8864-664e9c46a0b7",
   "metadata": {
    "tags": []
   },
   "outputs": [
    {
     "name": "stdout",
     "output_type": "stream",
     "text": [
      "------------!"
     ]
    }
   ],
   "source": [
    "\n",
    "# deploy as sagemaker endpoint\n",
    "endpoint_name = 'mt-cpmbee-g4dn'\n",
    "instance_type = 'ml.g4dn.2xlarge'\n",
    "instance_count = 1\n",
    "\n",
    "from sagemaker.serializers import JSONSerializer\n",
    "from sagemaker.deserializers import JSONDeserializer\n",
    "predictor = model.deploy(\n",
    "    endpoint_name = endpoint_name,\n",
    "    instance_type = instance_type,\n",
    "    initial_instance_count = instance_count,\n",
    "    serializer = JSONSerializer(),\n",
    "    deserializer = JSONDeserializer()\n",
    ")"
   ]
  },
  {
   "cell_type": "code",
   "execution_count": 32,
   "id": "37ba118c-12bd-426a-bc59-aec13ac28f01",
   "metadata": {
    "tags": []
   },
   "outputs": [],
   "source": [
    "from sagemaker import serializers, deserializers\n",
    "\n",
    "del_predictor = sagemaker.Predictor(\n",
    "    endpoint_name=\"mt-cpmbee-5b-g4dn\", \n",
    "    sagemaker_session=sagemaker_session, \n",
    "    serializer=serializers.JSONSerializer(), \n",
    "    deserializer=deserializers.JSONDeserializer())\n",
    "del_predictor.delete_model()\n",
    "del_predictor.delete_endpoint()\n",
    "# predictor.delete_model()\n",
    "# predictor.delete_endpoint()"
   ]
  },
  {
   "cell_type": "code",
   "execution_count": 2,
   "id": "a5590a27-a228-4787-8373-3da412fdba39",
   "metadata": {
    "tags": []
   },
   "outputs": [],
   "source": [
    "from sagemaker import serializers, deserializers\n",
    "\n",
    "predictor = sagemaker.Predictor(\n",
    "    endpoint_name=\"mt-cpmbee-g4dn\",\n",
    "    sagemaker_session=sagemaker_session, \n",
    "    serializer=serializers.JSONSerializer(), \n",
    "    deserializer=deserializers.JSONDeserializer())"
   ]
  },
  {
   "cell_type": "code",
   "execution_count": 18,
   "id": "ee63cd2f-8f70-478e-bf13-20b8e32758bd",
   "metadata": {
    "tags": []
   },
   "outputs": [
    {
     "name": "stdout",
     "output_type": "stream",
     "text": [
      "\n",
      "\n",
      "问题:  写一首关于交通信号灯的诗 \n",
      "回答:\n",
      " [{'input': '写一首关于交通信号灯的诗', '<ans>': '写一首关于交通信号灯的诗'}]\n",
      "\n",
      "\n",
      "问题:  陨石为什么总能落在陨石坑里? \n",
      "回答:\n",
      " [{'input': '陨石为什么总能落在陨石坑里?', '<ans>': 'Why do meteorites always fall in craters?'}]\n",
      "\n",
      "\n",
      "问题:  为什么爸妈结婚没叫我参加婚礼? \n",
      "回答:\n",
      " [{'input': '为什么爸妈结婚没叫我参加婚礼?', '<ans>': '为什么爸妈结婚没叫我参加婚礼？'}]\n"
     ]
    }
   ],
   "source": [
    "inputs= [\n",
    "    {\"inputs\": {\"input\": \"写一首关于交通信号灯的诗\", \"<ans>\": \"\"}, \"parameters\": {\"max_new_tokens\": 1000}},\n",
    "    {\"inputs\": {\"input\": \"陨石为什么总能落在陨石坑里?\", \"<ans>\": \"\"}, \"parameters\": {\"max_new_tokens\": 1000}},\n",
    "    {\"inputs\": {\"input\": \"为什么爸妈结婚没叫我参加婚礼?\", \"<ans>\": \"\"}, \"parameters\": {\"max_new_tokens\": 1000}}\n",
    "]\n",
    "response = predictor.predict(inputs[0])\n",
    "print(\"\\n\\n问题: \", inputs[0][\"inputs\"][\"input\"], \"\\n回答:\\n\", response[\"outputs\"])\n",
    "response = predictor.predict(inputs[1])\n",
    "print(\"\\n\\n问题: \", inputs[1][\"inputs\"][\"input\"], \"\\n回答:\\n\", response[\"outputs\"])\n",
    "response = predictor.predict(inputs[2])\n",
    "print(\"\\n\\n问题: \", inputs[2][\"inputs\"][\"input\"], \"\\n回答:\\n\", response[\"outputs\"])"
   ]
  },
  {
   "cell_type": "code",
   "execution_count": 21,
   "id": "4cfcf263-246d-434e-8981-41ed3abcc14e",
   "metadata": {
    "tags": []
   },
   "outputs": [
    {
     "name": "stdout",
     "output_type": "stream",
     "text": [
      "{'input': '今天天气是真的', 'prompt': '往后写两句话', '<ans>': '好啊，阳光明媚，万里无云。\\n今天天气是真的好啊，阳光明媚，万里无云。'}\n",
      "{'input': '北京市气象台提示，4月12日午后偏南风加大，阵风可达6级左右，南下的沙尘可能伴随回流北上进京，外出仍需注意<mask_0>，做好健康防护。天津市气象台也提示，受<mask_1>影响，我市4月12日有浮尘天气，PM10浓度<mask_2>。请注意关好门窗，老人儿童尽量减少户外活动，外出注意带好<mask_3>。” ', '<ans>': {'<mask_0>': '防风', '<mask_1>': '沙尘天气', '<mask_2>': '较高', '<mask_3>': '口罩、护目镜等防护用品'}}\n",
      "CPU times: user 4.04 ms, sys: 1e+03 ns, total: 4.04 ms\n",
      "Wall time: 2.09 s\n"
     ]
    }
   ],
   "source": [
    "%%time\n",
    "import json\n",
    "\n",
    "data_list = [\n",
    "    {\"input\": \"今天天气是真的\", \"prompt\": \"往后写两句话\", \"<ans>\": \"\"},\n",
    "    {\"input\": \"北京市气象台提示，4月12日午后偏南风加大，阵风可达6级左右，南下的沙尘可能伴随回流北上进京，外出仍需注意<mask_0>，做好健康防护。天津市气象台也提示，受<mask_1>影响，我市4月12日有浮尘天气，PM10浓度<mask_2>。请注意关好门窗，老人儿童尽量减少户外活动，外出注意带好<mask_3>。” \",\"<ans>\":{\"<mask_0>\":\"\",\"<mask_1>\":\"\",\"<mask_2>\":\"\",\"<mask_3>\":\"\"}},\n",
    "]\n",
    "# result = model.generate({\"input\": \"今天天气不错，\", \"<ans>\": \"\"}, tokenizer)\n",
    "result = predictor.predict({ \n",
    "                    \"inputs\" : data_list,\n",
    "                    \"parameters\": {\"max_new_tokens\": 50, \"repetition_penalty\": 1.1, \"temperature\": 0.5}\n",
    "                })\n",
    "for res in result[\"outputs\"]:\n",
    "    print(res)"
   ]
  },
  {
   "cell_type": "code",
   "execution_count": 3,
   "id": "edcd1aa9-b25c-4694-a951-235066a2e433",
   "metadata": {
    "tags": []
   },
   "outputs": [],
   "source": [
    "def create_input():\n",
    "    return {\n",
    "        \"inputs\" : {\n",
    "            \"input\": \"\",\n",
    "            \"prompt\": \"\",\n",
    "            \"question\": \"\",\n",
    "            \"<ans>\": \"\"\n",
    "        }, \n",
    "        \"parameters\": { \"max_new_tokens\": 2048, \"temperature\": 0.01 }\n",
    "    }\n",
    "    \n",
    "inputs = create_input()"
   ]
  },
  {
   "cell_type": "code",
   "execution_count": 4,
   "id": "dfb3da3b-a3d0-4ef6-8510-4c184730c150",
   "metadata": {
    "tags": []
   },
   "outputs": [
    {
     "data": {
      "text/plain": [
       "{'outputs': [{'input': '',\n",
       "   'prompt': '',\n",
       "   'question': '如果我在空中垂直抛球，球最初向哪个方向行进？',\n",
       "   '<ans>': '垂直'}]}"
      ]
     },
     "execution_count": 4,
     "metadata": {},
     "output_type": "execute_result"
    }
   ],
   "source": [
    "inputs[\"inputs\"][\"input\"] = \"\"\n",
    "inputs[\"inputs\"][\"prompt\"] = \"\"\n",
    "inputs[\"inputs\"][\"question\"] = \"如果我在空中垂直抛球，球最初向哪个方向行进？\"\n",
    "predictor.predict(inputs)"
   ]
  },
  {
   "cell_type": "code",
   "execution_count": 5,
   "id": "f77bfac8-0398-4d11-9705-8ed95a25e67f",
   "metadata": {
    "tags": []
   },
   "outputs": [
    {
     "name": "stdout",
     "output_type": "stream",
     "text": [
      "CPU times: user 0 ns, sys: 3.53 ms, total: 3.53 ms\n",
      "Wall time: 359 ms\n"
     ]
    },
    {
     "data": {
      "text/plain": [
       "{'outputs': [{'input': '',\n",
       "   'prompt': '',\n",
       "   'question': '萨莉把一个小球放到篮子里，然后用布将篮子盖起来后离开。安娜在萨莉走后，将小球从篮中取出放进身边的盒子里。过一会儿，萨莉回来，萨莉会到哪里去找小球呢？',\n",
       "   '<ans>': '篮子'}]}"
      ]
     },
     "execution_count": 5,
     "metadata": {},
     "output_type": "execute_result"
    }
   ],
   "source": [
    "%%time\n",
    "inputs = create_input()\n",
    "inputs[\"inputs\"][\"question\"] = \"萨莉把一个小球放到篮子里，然后用布将篮子盖起来后离开。安娜在萨莉走后，将小球从篮中取出放进身边的盒子里。过一会儿，萨莉回来，萨莉会到哪里去找小球呢？\"\n",
    "predictor.predict(inputs)"
   ]
  },
  {
   "cell_type": "code",
   "execution_count": 28,
   "id": "ffa5aa78-5ef4-43a2-8044-9bccde26cdb8",
   "metadata": {
    "tags": []
   },
   "outputs": [
    {
     "name": "stdout",
     "output_type": "stream",
     "text": [
      "CPU times: user 1.51 ms, sys: 3.02 ms, total: 4.53 ms\n",
      "Wall time: 368 ms\n"
     ]
    },
    {
     "data": {
      "text/plain": [
       "{'outputs': [{'input': '同源结构经常被引用作为自然选择过程的证据。',\n",
       "   'prompt': '选择题',\n",
       "   'question:': '以下所有的结构都是同源结构，除了:',\n",
       "   'options': {'<option_0>': '(A) 鸟的翅膀和蝙蝠的翅膀',\n",
       "    '<option_1>': '(B) 鲸鱼的鳍和人的手臂',\n",
       "    '<option_2>': '(C) 海豚的胸鳍和海豹的鳍',\n",
       "    '<option_3>': '(D) 昆虫的前腿和狗的前肢'},\n",
       "   '<ans>': '<option>'}]}"
      ]
     },
     "execution_count": 28,
     "metadata": {},
     "output_type": "execute_result"
    }
   ],
   "source": [
    "%%time\n",
    "\n",
    "inputs = create_input()\n",
    "inputs1 = {\n",
    "    \"input\": \"同源结构经常被引用作为自然选择过程的证据。\",\n",
    "    \"prompt\":\"选择题\",\n",
    "    \"question:\": \"以下所有的结构都是同源结构，除了:\",\n",
    "    \"options\": {\n",
    "      \"<option_0>\": \"(A) 鸟的翅膀和蝙蝠的翅膀\", \n",
    "      \"<option_1>\": \"(B) 鲸鱼的鳍和人的手臂\",\n",
    "      \"<option_2>\": \"(C) 海豚的胸鳍和海豹的鳍\",\n",
    "      \"<option_3>\": \"(D) 昆虫的前腿和狗的前肢\"\n",
    "    },\n",
    "    \"<ans>\": \"\"\n",
    "}\n",
    "inputs[\"inputs\"] = inputs1\n",
    "predictor.predict(inputs)"
   ]
  },
  {
   "cell_type": "code",
   "execution_count": 30,
   "id": "6a296a1d-bf5b-4829-9d51-6f7f107ec153",
   "metadata": {
    "tags": []
   },
   "outputs": [
    {
     "name": "stdout",
     "output_type": "stream",
     "text": [
      "CPU times: user 4.12 ms, sys: 0 ns, total: 4.12 ms\n",
      "Wall time: 353 ms\n"
     ]
    },
    {
     "data": {
      "text/plain": [
       "{'outputs': [{'input': '父母都希望自己的孩子诚实、勇敢、有礼貌。要想让孩子成为这样的人，父母首先得从自己做起，要是连自己都做不到，又怎能要求孩子做到呢？',\n",
       "   'options': {'<option_0>': '少提要求',\n",
       "    '<option_1>': '降低标准',\n",
       "    '<option_2>': '自己先做好',\n",
       "    '<option_3>': '让孩子拿主意'},\n",
       "   'question': '教育孩子时，父母应该：',\n",
       "   '<ans>': '<option_1>'}]}"
      ]
     },
     "execution_count": 30,
     "metadata": {},
     "output_type": "execute_result"
    }
   ],
   "source": [
    "%%time\n",
    "inputs = create_input()\n",
    "inputs1 = {\n",
    "    \"input\": \"父母都希望自己的孩子诚实、勇敢、有礼貌。要想让孩子成为这样的人，父母首先得从自己做起，要是连自己都做不到，又怎能要求孩子做到呢？\", \n",
    "    \"options\": {\n",
    "      \"<option_0>\": \"少提要求\", \n",
    "      \"<option_1>\": \"降低标准\",\n",
    "      \"<option_2>\": \"自己先做好\",\n",
    "      \"<option_3>\": \"让孩子拿主意\"\n",
    "    }, \n",
    "    \"question\": \"教育孩子时，父母应该：\", \n",
    "    \"<ans>\": \"\"\n",
    "  }\n",
    "# inputs1 = {\"input\": \"今天天气真好，\", \"prompt\":\"选择题\", \"question\": \"今天天气怎么样\", \"options\": {\"<option_0>\": \"好\", \"<option_1>\": \"坏\"}, \"<ans>\":\"\"}\n",
    "inputs[\"inputs\"] = inputs1\n",
    "predictor.predict(inputs)\n"
   ]
  },
  {
   "cell_type": "code",
   "execution_count": 6,
   "id": "7aea55aa-e89b-4648-adf5-6c8cdbdaa916",
   "metadata": {
    "tags": []
   },
   "outputs": [
    {
     "name": "stdout",
     "output_type": "stream",
     "text": [
      "CPU times: user 989 µs, sys: 3.43 ms, total: 4.42 ms\n",
      "Wall time: 461 ms\n"
     ]
    },
    {
     "data": {
      "text/plain": [
       "{'outputs': [{'input': '2022年世界杯的冠军是阿根廷队伍，梅西是MVP',\n",
       "   '<ans>': {'人名': '梅西', '国家名': '阿根廷'}}]}"
      ]
     },
     "execution_count": 6,
     "metadata": {},
     "output_type": "execute_result"
    }
   ],
   "source": [
    "%%time\n",
    "inputs = create_input()\n",
    "inputs1 = {\n",
    "    \"input\": \"2022年世界杯的冠军是阿根廷队伍，梅西是MVP\", \n",
    "    \"<ans>\": {\"人名\":\"\",\"国家名\":\"\"}\n",
    "  }\n",
    "# inputs1 = {\"input\":\"在司法部工作的小楠说，今天北京天气不错\",\"<ans>\":{\"人名\":\"\",\"地名\":\"\",\"机构名\": \"\"}}\n",
    "inputs[\"inputs\"] = inputs1\n",
    "predictor.predict(inputs)\n"
   ]
  },
  {
   "cell_type": "code",
   "execution_count": 41,
   "id": "2e89db72-bb78-497c-866e-cba98f85fcc7",
   "metadata": {
    "tags": []
   },
   "outputs": [
    {
     "name": "stdout",
     "output_type": "stream",
     "text": [
      "CPU times: user 4.28 ms, sys: 89 µs, total: 4.37 ms\n",
      "Wall time: 2.88 s\n"
     ]
    },
    {
     "data": {
      "text/plain": [
       "{'outputs': [{'input': '已知内容:\\nQ：水光针多久打一次呢?效果能维持多久?\\nA：水光针一般建议一个月左右打一次,大概就是28天,因为刚好皮肤的周期是这么久。\\n如果是第一次打水光，吸收比较快，也一些专家建议第一次和第二次间隔半个月,二十天左右就可以打第二次,之后在打就间隔一个月左右。\\n水光的功效主要看你加了什么成分，正常来说的话，一般的营养成分大概是一到两个月。可以维持,如果里面加了肉毒素的话，效果可以维持3个月\\n左右,所以像水光如果你不加肉毒素，是每个月都可以操作注射的，越打皮肤会越好。\\n\\nQ:水光针做完一次可以维持多久?\\nA:对于肤质干燥且疏于保养的人而言，其效果大约能维持3个月左右，保养越好，效果维持时间相应越长。具体来说，水光针注射效果与接受注射的次数有关，连续进行三次注射后，效果可以维持1—2年左右，但根据个人体质、肤质、生活习惯等不同，具体的维持时间也会有所差异。\\n\\nQ:水光针怎样打效果更好?\\nA:水光针的话，我认为用机器打，特别是这个34G的16针头去操作的话，效果一定会更好，然后再用到好的产品，那么就事半功倍了，然后术后的话可以多敷修复的面膜。然后在就是持续的去打，那么可以，达到一个一加一大于二的效果。\\n\\nQ:水光针多久打一次呢?效果能维持多久?\\nA:水光针一般建议一个月左右打一次,大概就是28天,因为刚好皮肤的周期是这么久。\\n如果是第一次打水光，吸收比较快，也一些专家建议第一次和第二次间隔半个月,二十天左右就可以打第二次,之后在打就间隔一个月左右。\\n水光的功效主要看你加了什么成分，正常来说的话，一般的营养成分大概是一到两个月。可以维持,如果里面加了肉毒素的话，效果可以维持3个月\\n左右,所以像水光如果你不加肉毒素，是每个月都可以操作注射的，越打皮肤会越好。\\n\\nQ:脸部、肚子溶脂针多久见效?\\nA:一般打完溶脂针的话就是五到七天会有效果，但是效果的显著程度因人而异，有的人打一次溶脂针效果就比较明显，但是有的人需要多次注射才会有明显的效果。除此之外，打完溶脂针以后，自身对手术部位的护理也会影响到溶脂针的见效速度与效果的好坏。\\n在打完溶脂针以后，要尽量的保持注射部位的清洁,在一天之内不能沾水，恢复期间也要避免外界的污染，更不能化妆，不要在这个注射部位涂抹外用的一些药物,以免刺激到注射的部位，影响溶脂针的一个效果，见效的时间也会因此而延长。\\n想要溶脂针的效果更好的,见效更快的话，多喝水也是可以起到一些的作用，虽然说打完溶脂针以后不能沾水，但是我们可以多喝水，最好是每天饮用一升以上的水，不仅可以促进身体的新陈代谢，水循环，对注射部位的恢复也会起到辅助的作用。\\n溶脂针就是注射一次,就有一次的效果,一般的话是按照疗程来注射，效果是最好的,疗程一般是六到八周左右，每两到三周就可以进行二次注射。\\n正常是第一次注射就能看到效果，第二次注射的时候的效果更加明显，第三次注射的时候就起到了一个巩固的作用。\\n\\n<sep>\\n',\n",
       "   'prompt': \"使用已知内容，以及对话记录，简单直接的回答最后的问题。如果你从已知信息中无法知道答案，就直接返回'根据已知信息无法回答该问题.', 不要使用已有知识，不要编造答案。\",\n",
       "   'question': '水光针多久打一次呢?',\n",
       "   '<ans>': '一个月'}]}"
      ]
     },
     "execution_count": 41,
     "metadata": {},
     "output_type": "execute_result"
    }
   ],
   "source": [
    "%%time\n",
    "text = \"\"\"已知内容:\n",
    "Q：水光针多久打一次呢?效果能维持多久?\n",
    "A：水光针一般建议一个月左右打一次,大概就是28天,因为刚好皮肤的周期是这么久。\n",
    "如果是第一次打水光，吸收比较快，也一些专家建议第一次和第二次间隔半个月,二十天左右就可以打第二次,之后在打就间隔一个月左右。\n",
    "水光的功效主要看你加了什么成分，正常来说的话，一般的营养成分大概是一到两个月。可以维持,如果里面加了肉毒素的话，效果可以维持3个月\n",
    "左右,所以像水光如果你不加肉毒素，是每个月都可以操作注射的，越打皮肤会越好。\n",
    "\n",
    "Q:水光针做完一次可以维持多久?\n",
    "A:对于肤质干燥且疏于保养的人而言，其效果大约能维持3个月左右，保养越好，效果维持时间相应越长。具体来说，水光针注射效果与接受注射的次数有关，连续进行三次注射后，效果可以维持1—2年左右，但根据个人体质、肤质、生活习惯等不同，具体的维持时间也会有所差异。\n",
    "\n",
    "Q:水光针怎样打效果更好?\n",
    "A:水光针的话，我认为用机器打，特别是这个34G的16针头去操作的话，效果一定会更好，然后再用到好的产品，那么就事半功倍了，然后术后的话可以多敷修复的面膜。然后在就是持续的去打，那么可以，达到一个一加一大于二的效果。\n",
    "\n",
    "Q:水光针多久打一次呢?效果能维持多久?\n",
    "A:水光针一般建议一个月左右打一次,大概就是28天,因为刚好皮肤的周期是这么久。\n",
    "如果是第一次打水光，吸收比较快，也一些专家建议第一次和第二次间隔半个月,二十天左右就可以打第二次,之后在打就间隔一个月左右。\n",
    "水光的功效主要看你加了什么成分，正常来说的话，一般的营养成分大概是一到两个月。可以维持,如果里面加了肉毒素的话，效果可以维持3个月\n",
    "左右,所以像水光如果你不加肉毒素，是每个月都可以操作注射的，越打皮肤会越好。\n",
    "\n",
    "Q:脸部、肚子溶脂针多久见效?\n",
    "A:一般打完溶脂针的话就是五到七天会有效果，但是效果的显著程度因人而异，有的人打一次溶脂针效果就比较明显，但是有的人需要多次注射才会有明显的效果。除此之外，打完溶脂针以后，自身对手术部位的护理也会影响到溶脂针的见效速度与效果的好坏。\n",
    "在打完溶脂针以后，要尽量的保持注射部位的清洁,在一天之内不能沾水，恢复期间也要避免外界的污染，更不能化妆，不要在这个注射部位涂抹外用的一些药物,以免刺激到注射的部位，影响溶脂针的一个效果，见效的时间也会因此而延长。\n",
    "想要溶脂针的效果更好的,见效更快的话，多喝水也是可以起到一些的作用，虽然说打完溶脂针以后不能沾水，但是我们可以多喝水，最好是每天饮用一升以上的水，不仅可以促进身体的新陈代谢，水循环，对注射部位的恢复也会起到辅助的作用。\n",
    "溶脂针就是注射一次,就有一次的效果,一般的话是按照疗程来注射，效果是最好的,疗程一般是六到八周左右，每两到三周就可以进行二次注射。\n",
    "正常是第一次注射就能看到效果，第二次注射的时候的效果更加明显，第三次注射的时候就起到了一个巩固的作用。\n",
    "\n",
    "<sep>\n",
    "\"\"\"\n",
    "inputs1 = {\n",
    "    \"input\": text,\n",
    "    # \"prompt\": \"问答\",\n",
    "    \"prompt\":\"使用已知内容，以及对话记录，简单直接的回答最后的问题。如果你从已知信息中无法知道答案，就直接返回'根据已知信息无法回答该问题.', 不要使用已有知识，不要编造答案。\",\n",
    "    \"question\": \"水光针多久打一次呢?\",\n",
    "    \"<ans>\":\"\"\n",
    "}\n",
    "\n",
    "inputs = create_input()\n",
    "inputs[\"inputs\"] = inputs1\n",
    "predictor.predict(inputs)\n"
   ]
  },
  {
   "cell_type": "code",
   "execution_count": 39,
   "id": "c3a32877-64e7-40db-88db-9d76003749ab",
   "metadata": {
    "tags": []
   },
   "outputs": [
    {
     "name": "stdout",
     "output_type": "stream",
     "text": [
      "CPU times: user 4.26 ms, sys: 64 µs, total: 4.32 ms\n",
      "Wall time: 2.22 s\n"
     ]
    },
    {
     "data": {
      "text/plain": [
       "{'outputs': [{'input': '已知内容:\\nQ:水光针多久打一次呢?效果能维持多久?\\nA:水光针一般建议一个月左右打一次,大概就是28天,因为刚好皮肤的周期是这么久。\\n如果是第一次打水光，吸收比较快，也一些专家建议第一次和第二次间隔半个月,二十天左右就可以打第二次,之后在打就间隔一个月左右。\\n水光的功效主要看你加了什么成分，正常来说的话，一般的营养成分大概是一到两个月。可以维持,如果里面加了肉毒素的话，效果可以维持3个月\\n左右,所以像水光如果你不加肉毒素，是每个月都可以操作注射的，越打皮肤会越好。\\n\\nQ：水光针多久打一次呢?效果能维持多久?\\nA：水光针一般建议一个月左右打一次,大概就是28天,因为刚好皮肤的周期是这么久。\\n如果是第一次打水光，吸收比较快，也一些专家建议第一次和第二次间隔半个月,二十天左右就可以打第二次,之后在打就间隔一个月左右。\\n水光的功效主要看你加了什么成分，正常来说的话，一般的营养成分大概是一到两个月。可以维持,如果里面加了肉毒素的话，效果可以维持3个月\\n左右,所以像水光如果你不加肉毒素，是每个月都可以操作注射的，越打皮肤会越好。\\n\\nQ:水光针做完一次可以维持多久?\\nA:对于肤质干燥且疏于保养的人而言，其效果大约能维持3个月左右，保养越好，效果维持时间相应越长。具体来说，水光针注射效果与接受注射的次数有关，连续进行三次注射后，效果可以维持1—2年左右，但根据个人体质、肤质、生活习惯等不同，具体的维持时间也会有所差异。\\n\\nQ:水光针怎样打效果更好?\\nA:水光针的话，我认为用机器打，特别是这个34G的16针头去操作的话，效果一定会更好，然后再用到好的产品，那么就事半功倍了，然后术后的话可以多敷修复的面膜。然后在就是持续的去打，那么可以，达到一个一加一大于二的效果。\\n\\nQ:脸部、肚子溶脂针多久见效?\\nA:一般打完溶脂针的话就是五到七天会有效果，但是效果的显著程度因人而异，有的人打一次溶脂针效果就比较明显，但是有的人需要多次注射才会有明显的效果。除此之外，打完溶脂针以后，自身对手术部位的护理也会影响到溶脂针的见效速度与效果的好坏。\\n在打完溶脂针以后，要尽量的保持注射部位的清洁,在一天之内不能沾水，恢复期间也要避免外界的污染，更不能化妆，不要在这个注射部位涂抹外用的一些药物,以免刺激到注射的部位，影响溶脂针的一个效果，见效的时间也会因此而延长。\\n想要溶脂针的效果更好的,见效更快的话，多喝水也是可以起到一些的作用，虽然说打完溶脂针以后不能沾水，但是我们可以多喝水，最好是每天饮用一升以上的水，不仅可以促进身体的新陈代谢，水循环，对注射部位的恢复也会起到辅助的作用。\\n溶脂针就是注射一次,就有一次的效果,一般的话是按照疗程来注射，效果是最好的,疗程一般是六到八周左右，每两到三周就可以进行二次注射。\\n正常是第一次注射就能看到效果，第二次注射的时候的效果更加明显，第三次注射的时候就起到了一个巩固的作用。\\n\\n<sep>问题: 水光针多久打一次呢?\\n<sep>回答：一个月\\n',\n",
       "   'prompt': \"使用已知内容，以及对话记录，简单直接的回答最后的问题。如果你从已知信息中无法知道答案，就直接返回'根据已知信息无法回答该问题.', 不要使用已有知识，不要编造答案。\",\n",
       "   'question': '如果加了肉毒呢?',\n",
       "   '<ans>': '3个月'}]}"
      ]
     },
     "execution_count": 39,
     "metadata": {},
     "output_type": "execute_result"
    }
   ],
   "source": [
    "%%time\n",
    "text = \"\"\"已知内容:\n",
    "Q:水光针多久打一次呢?效果能维持多久?\n",
    "A:水光针一般建议一个月左右打一次,大概就是28天,因为刚好皮肤的周期是这么久。\n",
    "如果是第一次打水光，吸收比较快，也一些专家建议第一次和第二次间隔半个月,二十天左右就可以打第二次,之后在打就间隔一个月左右。\n",
    "水光的功效主要看你加了什么成分，正常来说的话，一般的营养成分大概是一到两个月。可以维持,如果里面加了肉毒素的话，效果可以维持3个月\n",
    "左右,所以像水光如果你不加肉毒素，是每个月都可以操作注射的，越打皮肤会越好。\n",
    "\n",
    "Q：水光针多久打一次呢?效果能维持多久?\n",
    "A：水光针一般建议一个月左右打一次,大概就是28天,因为刚好皮肤的周期是这么久。\n",
    "如果是第一次打水光，吸收比较快，也一些专家建议第一次和第二次间隔半个月,二十天左右就可以打第二次,之后在打就间隔一个月左右。\n",
    "水光的功效主要看你加了什么成分，正常来说的话，一般的营养成分大概是一到两个月。可以维持,如果里面加了肉毒素的话，效果可以维持3个月\n",
    "左右,所以像水光如果你不加肉毒素，是每个月都可以操作注射的，越打皮肤会越好。\n",
    "\n",
    "Q:水光针做完一次可以维持多久?\n",
    "A:对于肤质干燥且疏于保养的人而言，其效果大约能维持3个月左右，保养越好，效果维持时间相应越长。具体来说，水光针注射效果与接受注射的次数有关，连续进行三次注射后，效果可以维持1—2年左右，但根据个人体质、肤质、生活习惯等不同，具体的维持时间也会有所差异。\n",
    "\n",
    "Q:水光针怎样打效果更好?\n",
    "A:水光针的话，我认为用机器打，特别是这个34G的16针头去操作的话，效果一定会更好，然后再用到好的产品，那么就事半功倍了，然后术后的话可以多敷修复的面膜。然后在就是持续的去打，那么可以，达到一个一加一大于二的效果。\n",
    "\n",
    "Q:脸部、肚子溶脂针多久见效?\n",
    "A:一般打完溶脂针的话就是五到七天会有效果，但是效果的显著程度因人而异，有的人打一次溶脂针效果就比较明显，但是有的人需要多次注射才会有明显的效果。除此之外，打完溶脂针以后，自身对手术部位的护理也会影响到溶脂针的见效速度与效果的好坏。\n",
    "在打完溶脂针以后，要尽量的保持注射部位的清洁,在一天之内不能沾水，恢复期间也要避免外界的污染，更不能化妆，不要在这个注射部位涂抹外用的一些药物,以免刺激到注射的部位，影响溶脂针的一个效果，见效的时间也会因此而延长。\n",
    "想要溶脂针的效果更好的,见效更快的话，多喝水也是可以起到一些的作用，虽然说打完溶脂针以后不能沾水，但是我们可以多喝水，最好是每天饮用一升以上的水，不仅可以促进身体的新陈代谢，水循环，对注射部位的恢复也会起到辅助的作用。\n",
    "溶脂针就是注射一次,就有一次的效果,一般的话是按照疗程来注射，效果是最好的,疗程一般是六到八周左右，每两到三周就可以进行二次注射。\n",
    "正常是第一次注射就能看到效果，第二次注射的时候的效果更加明显，第三次注射的时候就起到了一个巩固的作用。\n",
    "\n",
    "<sep>问题: 水光针多久打一次呢?\n",
    "<sep>回答：一个月\n",
    "\"\"\"\n",
    "inputs1 = {\n",
    "    \"input\": text,\n",
    "    # \"prompt\": \"问答\",\n",
    "    \"prompt\":\"使用已知内容，以及对话记录，简单直接的回答最后的问题。如果你从已知信息中无法知道答案，就直接返回'根据已知信息无法回答该问题.', 不要使用已有知识，不要编造答案。\",\n",
    "    \"question\": \"如果加了肉毒呢?\",\n",
    "    \"<ans>\":\"\"\n",
    "}\n",
    "\n",
    "inputs = create_input()\n",
    "inputs[\"inputs\"] = inputs1\n",
    "predictor.predict(inputs)\n",
    "\n"
   ]
  },
  {
   "cell_type": "markdown",
   "id": "cd303123-ad8c-4f43-b430-16b73a2a6d18",
   "metadata": {
    "tags": []
   },
   "source": [
    "### 使用z-bench测试\n",
    "\n",
    "下面，我们使用真格资金建立的一套中文语言模型的测试集，来对这个模型进行测试：\n",
    "https://github.com/zhenbench/z-bench"
   ]
  },
  {
   "cell_type": "markdown",
   "id": "f4a9289a-b78e-48dc-9a8d-235ea08aeb72",
   "metadata": {},
   "source": [
    "真格基金提供了3个级别的测试集，基础能力、进阶能力和垂直能力，并且提供了使用 GPT3.5 和 GPT4 的参考答案，可以用这个测试集进行问答测试，并跟GPT的结果进行比较，来检验语言模型的能力。"
   ]
  },
  {
   "cell_type": "markdown",
   "id": "f53725c8-10d0-4879-9e6f-a5cf3b58db6c",
   "metadata": {
    "tags": []
   },
   "source": [
    "#### 基础能力\n",
    "首先来看看基础能力："
   ]
  },
  {
   "cell_type": "code",
   "execution_count": 31,
   "id": "998b3073-95e4-4fe3-9036-acce30fad17a",
   "metadata": {
    "tags": []
   },
   "outputs": [],
   "source": [
    "import pandas as pd\n",
    "benchdf_common = pd.read_csv(\"./z-bench/common.samples.csv\")"
   ]
  },
  {
   "cell_type": "code",
   "execution_count": 32,
   "id": "9f67cb5d-cb51-4981-b47f-145647fbfadc",
   "metadata": {
    "tags": []
   },
   "outputs": [
    {
     "data": {
      "text/plain": [
       "(63, 5)"
      ]
     },
     "execution_count": 32,
     "metadata": {},
     "output_type": "execute_result"
    }
   ],
   "source": [
    "benchdf_common.shape"
   ]
  },
  {
   "cell_type": "code",
   "execution_count": 33,
   "id": "2de772f0-9fdc-42cc-a1a4-57d5749c626d",
   "metadata": {
    "tags": []
   },
   "outputs": [
    {
     "name": "stdout",
     "output_type": "stream",
     "text": [
      "任务类型: `扩写` `逻辑关系` 参考回答: nan\n",
      "Prompt: 根据这些笔记写一篇餐厅评论： 餐厅名称：The Blue Wharf Lobster 很棒，很吵，服务很有礼貌，价格不错。\n",
      "ChatGLM: The Blue Wharf Lobster is an excellent choice for a casual dining experience. The atmosphere is lively and the service is top-notch. The lobster is well-prepared and the price is more than just reasonable.\n",
      "\n",
      "The moment you step into the restaurant, you will be greeted by the warm and inviting ambiance. The high ceilings and the bustling atmosphere make it an ideal place to enjoy a casual meal with friends or family. The service is nothing short of excellent, with staff who are always available to take your order and make sure your needs are met.\n",
      "\n",
      "As for the food, The Blue Wharf Lobster is known for its delicious lobster. The lobster is prepared to perfection and the seasonings used are top-notch. The mussels and clams are also excellent choices and are prepared with the utmost care.\n",
      "\n",
      "Overall, The Blue Wharf Lobster is a great choice for those looking for a casual dining experience. The atmosphere is lively, the service is top-notch, and the food is delicious. The price is also very reasonable and makes this restaurant a great value for money.\n",
      "GPT3.5: 我最近去了一家叫做\"The Blue Wharf Lobster\"的餐厅，整体感觉非常不错。首先，食物很棒，海鲜特别新鲜，尤其是那只大龙虾简直让我流口水。不过，餐厅的噪音有点太大了，这可能会对某些人的用餐体验造成影响。\n",
      "另外，服务员的服务也非常到位，非常有礼貌且注重细节。他们非常注意客人的需求，并且尽力满足客人的要求，这让我非常满意。最后，餐厅的价格也比较合理，性价比很高。\n",
      "综上所述，我非常喜欢\"The Blue Wharf Lobster\"这家餐厅，虽然噪音有点大，但食物很棒，服务也很到位，价格也非常合理。如果你喜欢海鲜，我强烈推荐你来这里一试。\n",
      "GPT4: 如果你想品尝新鲜美味的龙虾，The Blue Wharf Lobster 餐厅绝对是一个值得去的好地方。在这里，你可以享受到一系列精美的龙虾菜肴，让你大饱口福。\n",
      "不过，要注意的是，这里的环境可能会让你感到有些吵闹。人声嘈杂，但如果你想在这里享受美味佳肴，建议选择安静的用餐时间。\n",
      "另一方面，服务员的服务态度非常有礼貌，让人感到舒适和惬意。无论你需要什么，他们总是会热情地帮助你。价格也不错，非常合理，对于品质这么好的食物，它绝对是物超所值。\n",
      "总的来说，如果你是个龙虾爱好者，The Blue Wharf Lobster 餐厅是一个值得一试的地方。虽然环境可能有些吵闹，但服务质量高，价格也合理，这里的美味菜肴肯定会让你难以忘怀。\n"
     ]
    }
   ],
   "source": [
    "import random\n",
    "r = random.randint(0, 63)\n",
    "test_data = benchdf_common.iloc[r]\n",
    "\n",
    "response = predictor.predict({\"ask\": test_data[\"Prompt\"], \"params\": {\"temperature\": 0.99}})\n",
    "print(\"任务类型:\", test_data[\"任务类型\"], \"参考回答:\", test_data[\"参考回答\"])\n",
    "print(\"Prompt:\", test_data[\"Prompt\"])\n",
    "print(\"ChatGLM:\", response[\"answer\"])\n",
    "print(\"GPT3.5:\", test_data[\"GPT3.5\"])\n",
    "print(\"GPT4:\", test_data[\"GPT4\"])"
   ]
  },
  {
   "cell_type": "markdown",
   "id": "90dff972-2dda-4566-ae3c-d494f48382ab",
   "metadata": {
    "tags": []
   },
   "source": [
    "#### 进阶能力"
   ]
  },
  {
   "cell_type": "code",
   "execution_count": 34,
   "id": "54d98975-0f3d-4f31-ac6d-b2aab30f4748",
   "metadata": {
    "tags": []
   },
   "outputs": [],
   "source": [
    "import pandas as pd\n",
    "benchdf_emergent = pd.read_csv(\"./z-bench/emergent.samples.csv\")"
   ]
  },
  {
   "cell_type": "code",
   "execution_count": 35,
   "id": "5e3baecb-df84-4888-9845-f4a6d1547912",
   "metadata": {
    "tags": []
   },
   "outputs": [
    {
     "data": {
      "text/html": [
       "<div>\n",
       "<style scoped>\n",
       "    .dataframe tbody tr th:only-of-type {\n",
       "        vertical-align: middle;\n",
       "    }\n",
       "\n",
       "    .dataframe tbody tr th {\n",
       "        vertical-align: top;\n",
       "    }\n",
       "\n",
       "    .dataframe thead th {\n",
       "        text-align: right;\n",
       "    }\n",
       "</style>\n",
       "<table border=\"1\" class=\"dataframe\">\n",
       "  <thead>\n",
       "    <tr style=\"text-align: right;\">\n",
       "      <th></th>\n",
       "      <th>Prompt</th>\n",
       "      <th>任务类型</th>\n",
       "      <th>参考回答</th>\n",
       "      <th>GPT3.5</th>\n",
       "      <th>GPT4</th>\n",
       "    </tr>\n",
       "  </thead>\n",
       "  <tbody>\n",
       "    <tr>\n",
       "      <th>0</th>\n",
       "      <td>如果我在空中垂直抛球，球最初向哪个方向行进？</td>\n",
       "      <td>`物理直觉`</td>\n",
       "      <td>向上</td>\n",
       "      <td>当你在空中垂直抛球时，球最初行进的方向是向上的，也就是和地面垂直的方向。在球到达最高点时，它...</td>\n",
       "      <td>当你在空中垂直向上抛球时，球最初的方向是向上。它将沿着垂直方向受到重力的作用而减速，直至在其...</td>\n",
       "    </tr>\n",
       "    <tr>\n",
       "      <th>1</th>\n",
       "      <td>金元素属于哪一种化学键？</td>\n",
       "      <td>`物理直觉`</td>\n",
       "      <td>金属键</td>\n",
       "      <td>金是一种金属元素，因此通常会形成金属键。金属键是由金属元素组成的化学键，这些金属元素的原子之...</td>\n",
       "      <td>金属元素，如金（Au），通常与其他金属元素通过金属键（metallic bond）相互连接。...</td>\n",
       "    </tr>\n",
       "    <tr>\n",
       "      <th>2</th>\n",
       "      <td>假设一个原子发射一个光子，原子会发生什么？</td>\n",
       "      <td>`物理直觉`</td>\n",
       "      <td>失去能量</td>\n",
       "      <td>当一个原子发射一个光子时，它会处于一个激发态或高能态，并且会向低能态或基态释放能量。在这个过...</td>\n",
       "      <td>当一个原子发射一个光子时，这意味着原子中的一个电子从一个较高的能级跃迁到一个较低的能级。在这...</td>\n",
       "    </tr>\n",
       "    <tr>\n",
       "      <th>3</th>\n",
       "      <td>假设一辆车可以在 3.85s 的时间内从 0 加速到 27.8 m/s，请计算这辆车的加速度...</td>\n",
       "      <td>`物理`</td>\n",
       "      <td>7.22 m/s/s</td>\n",
       "      <td>根据运动学公式，加速度等于速度变化量除以时间。那么，这辆车的加速度为：a = (27.8 m...</td>\n",
       "      <td>为了计算加速度，我们可以使用以下公式：加速度（a）= (最终速度（vf） - 初始速度（vi...</td>\n",
       "    </tr>\n",
       "    <tr>\n",
       "      <th>4</th>\n",
       "      <td>Zdeno Chara 以 175.1 km/h 的速度创造了最快的冰球拍击记录。假设一个冰...</td>\n",
       "      <td>`物理`</td>\n",
       "      <td>a) 8.28 kg·m/s b) Chara 的拍击速度为 175.1 km/h = 48...</td>\n",
       "      <td>a) Chara 的拍击球的动量为：p = mv其中，m = 0.17 kg 是冰球的质量，...</td>\n",
       "      <td>a) 要计算冰球的动量，我们使用动量公式：p = m * v，其中 p 为动量，m 为质量，...</td>\n",
       "    </tr>\n",
       "  </tbody>\n",
       "</table>\n",
       "</div>"
      ],
      "text/plain": [
       "                                              Prompt    任务类型   \n",
       "0                             如果我在空中垂直抛球，球最初向哪个方向行进？  `物理直觉`  \\\n",
       "1                                       金元素属于哪一种化学键？  `物理直觉`   \n",
       "2                              假设一个原子发射一个光子，原子会发生什么？  `物理直觉`   \n",
       "3  假设一辆车可以在 3.85s 的时间内从 0 加速到 27.8 m/s，请计算这辆车的加速度...    `物理`   \n",
       "4  Zdeno Chara 以 175.1 km/h 的速度创造了最快的冰球拍击记录。假设一个冰...    `物理`   \n",
       "\n",
       "                                                参考回答   \n",
       "0                                                 向上  \\\n",
       "1                                                金属键   \n",
       "2                                               失去能量   \n",
       "3                                         7.22 m/s/s   \n",
       "4  a) 8.28 kg·m/s b) Chara 的拍击速度为 175.1 km/h = 48...   \n",
       "\n",
       "                                              GPT3.5   \n",
       "0  当你在空中垂直抛球时，球最初行进的方向是向上的，也就是和地面垂直的方向。在球到达最高点时，它...  \\\n",
       "1  金是一种金属元素，因此通常会形成金属键。金属键是由金属元素组成的化学键，这些金属元素的原子之...   \n",
       "2  当一个原子发射一个光子时，它会处于一个激发态或高能态，并且会向低能态或基态释放能量。在这个过...   \n",
       "3  根据运动学公式，加速度等于速度变化量除以时间。那么，这辆车的加速度为：a = (27.8 m...   \n",
       "4  a) Chara 的拍击球的动量为：p = mv其中，m = 0.17 kg 是冰球的质量，...   \n",
       "\n",
       "                                                GPT4  \n",
       "0  当你在空中垂直向上抛球时，球最初的方向是向上。它将沿着垂直方向受到重力的作用而减速，直至在其...  \n",
       "1  金属元素，如金（Au），通常与其他金属元素通过金属键（metallic bond）相互连接。...  \n",
       "2  当一个原子发射一个光子时，这意味着原子中的一个电子从一个较高的能级跃迁到一个较低的能级。在这...  \n",
       "3  为了计算加速度，我们可以使用以下公式：加速度（a）= (最终速度（vf） - 初始速度（vi...  \n",
       "4  a) 要计算冰球的动量，我们使用动量公式：p = m * v，其中 p 为动量，m 为质量，...  "
      ]
     },
     "execution_count": 35,
     "metadata": {},
     "output_type": "execute_result"
    }
   ],
   "source": [
    "benchdf_emergent.head()"
   ]
  },
  {
   "cell_type": "code",
   "execution_count": 36,
   "id": "08c7d7fc-806e-4948-b318-61355891488d",
   "metadata": {
    "tags": []
   },
   "outputs": [
    {
     "name": "stdout",
     "output_type": "stream",
     "text": [
      "任务类型: `ToM` `心理学` 参考回答: 萨莉会去篮子里找小球。\n",
      "Prompt: 萨莉把一个小球放到篮子里，然后用布将篮子盖起来后离开。安娜在萨莉走后，将小球从篮中取出放进身边的盒子里。过一会儿，萨莉回来，萨莉会到哪里去找小球呢?\n",
      "ChatGLM: 萨莉可能会回到篮子所在的位置,或者根据她的经验或者直觉来寻找小球。她可能会检查篮子周围是否有留下小球的痕迹或者留下任何线索,比如小球被放在哪里、是否被别人移动过等等。如果萨莉没有找到小球,她可能会询问其他人或者再次回到篮子所在的位置寻找。\n",
      "GPT3.5: 萨莉会去篮子里找小球。因为萨莉不知道安娜已经将小球取出来放到盒子里了，她认为小球仍然在篮子里。\n",
      "GPT4: 当萨莉回来时，她会在篮子里找小球，因为在她离开之前，她把小球放在了那里。然而，实际上小球已经被安娜移到了盒子里。\n"
     ]
    }
   ],
   "source": [
    "import random\n",
    "r = random.randint(0, 209)\n",
    "test_data = benchdf_emergent.iloc[r]\n",
    "\n",
    "response = predictor.predict({\"ask\": test_data[\"Prompt\"]})\n",
    "print(\"任务类型:\", test_data[\"任务类型\"], \"参考回答:\", test_data[\"参考回答\"])\n",
    "print(\"Prompt:\", test_data[\"Prompt\"])\n",
    "print(\"ChatGLM:\", response[\"answer\"])\n",
    "print(\"GPT3.5:\", test_data[\"GPT3.5\"])\n",
    "print(\"GPT4:\", test_data[\"GPT4\"])"
   ]
  },
  {
   "cell_type": "markdown",
   "id": "9a62fe66-79de-4410-ba38-4244acbc1fe1",
   "metadata": {},
   "source": [
    "### 垂直类的问题"
   ]
  },
  {
   "cell_type": "code",
   "execution_count": 37,
   "id": "c0bb0a78-968b-4bfb-a161-246fe2eeaedf",
   "metadata": {
    "tags": []
   },
   "outputs": [
    {
     "data": {
      "text/plain": [
       "(39, 5)"
      ]
     },
     "execution_count": 37,
     "metadata": {},
     "output_type": "execute_result"
    }
   ],
   "source": [
    "import pandas as pd\n",
    "benchdf_specialized = pd.read_csv(\"./z-bench/specialized.samples.csv\")\n",
    "benchdf_specialized.shape"
   ]
  },
  {
   "cell_type": "code",
   "execution_count": 38,
   "id": "234db7e3-3107-4757-bc5b-9a38c2f40b47",
   "metadata": {
    "tags": []
   },
   "outputs": [
    {
     "name": "stdout",
     "output_type": "stream",
     "text": [
      "任务类型: `生物` 参考回答: d\n",
      "Prompt: 同源结构经常被引用作为自然选择过程的证据。以下所有的结构都是同源结构，除了\n",
      "(A) 鸟的翅膀和蝙蝠的翅膀\n",
      "(B) 鲸鱼的鳍和人的手臂\n",
      "(C) 海豚的胸鳍和海豹的鳍\n",
      "(D) 昆虫的前腿和狗的前肢\n",
      "ChatGLM: 答案是 (D) 昆虫的前腿和狗的前肢，因为它们不属于同源结构。鸟的翅膀和蝙蝠的翅膀、鲸鱼的鳍和人的手臂、海豚的胸鳍和海豹的鳍都是同源结构，而昆虫的前腿和狗的前肢不是同源结构。\n",
      "GPT3.5: 选项 D 昆虫的前腿和狗的前肢不是同源结构。\n",
      "GPT4: (A) 鸟的翅膀和蝙蝠的翅膀\n",
      "同源结构是指具有相似结构、起源和发育过程的生物器官，但在不同物种中可能具有不同的功能。这些相似结构表明这些物种可能拥有共同的祖先。鸟的翅膀和蝙蝠的翅膀并非同源结构，而是类似功能的异源结构。虽然它们都是飞行器官，但它们的骨骼结构和起源并不相同。鸟类翅膀的骨骼基于前肢，而蝙蝠的翅膀由手指延长和皮膜连接而成。这种相似性是由于趋同进化，即不同物种独立地演化出相似的适应特征。\n"
     ]
    }
   ],
   "source": [
    "import random\n",
    "r = random.randint(0, 39)\n",
    "test_data = benchdf_specialized.iloc[r]\n",
    "\n",
    "response = predictor.predict({\"ask\": test_data[\"Prompt\"]})\n",
    "print(\"任务类型:\", test_data[\"任务类型\"], \"参考回答:\", test_data[\"参考回答\"])\n",
    "print(\"Prompt:\", test_data[\"Prompt\"])\n",
    "print(\"ChatGLM:\", response[\"answer\"])\n",
    "print(\"GPT3.5:\", test_data[\"GPT3.5\"])\n",
    "print(\"GPT4:\", test_data[\"GPT4\"])"
   ]
  },
  {
   "cell_type": "markdown",
   "id": "64e667be-8e56-40bf-9129-05f93ccb4b27",
   "metadata": {
    "tags": []
   },
   "source": [
    "### 通过Sagemaker Endpoint调用\n",
    "我们已经将模型部署到了Sagemaker Endpoint上，我们就可以通过这个Endpoint名称，来调用模型进行推理，这样即使你停止了这个notebook，也能使用已经部署的模型。"
   ]
  },
  {
   "cell_type": "code",
   "execution_count": null,
   "id": "b6726e86-e665-4d31-82f8-6ca08decdb65",
   "metadata": {
    "tags": []
   },
   "outputs": [],
   "source": [
    "import json\n",
    "import boto3\n",
    "\n",
    "client = boto3.client('runtime.sagemaker')\n",
    "endpoint_name = 'mt-cpmbee-5b-g4dn'\n",
    "\n",
    "def query_endpoint(encoded_json):\n",
    "    response = client.invoke_endpoint(EndpointName=endpoint_name, ContentType='application/json', Body=encoded_json)\n",
    "    model_predictions = json.loads(response['Body'].read())\n",
    "    generated_text = model_predictions[\"answer\"]\n",
    "    return generated_text\n",
    "\n",
    "payload = {\"inputs\": {\"input\": \"今天天气是真的\", \"prompt\": \"往后写两句话\", \"<ans>\": \"\"},, \"parameters\": {\"max_new_tokens\": 15000}, \"history\": []}"
   ]
  },
  {
   "cell_type": "code",
   "execution_count": null,
   "id": "6bcdf467-c041-4468-9368-94a509dc72e0",
   "metadata": {
    "tags": []
   },
   "outputs": [],
   "source": [
    "%%time\n",
    "\n",
    "payload = {\"ask\": \"信息抽取：\\n2022年世界杯的冠军是阿根廷队伍，梅西是MVP\\n问题：国家名，人名\\n答案：\"}\n",
    "payload = {\"inputs\": {\"input\": \"2022年世界杯的冠军是阿根廷队伍，梅西是MVP\", \"prompt\": \"信息抽取\", \"options\": {\"<option_0>\": \"人名:\", \"<option_1>\": \"国家名:\"}}, \"parameters\": {\"max_new_tokens\": 15000}, \"history\": []}\n",
    "\n",
    "resp_test = query_endpoint(json.dumps(payload).encode('utf-8'))\n",
    "print(resp_test)"
   ]
  },
  {
   "cell_type": "code",
   "execution_count": 24,
   "id": "3f507036-13e2-4cf5-a251-49076b8e6650",
   "metadata": {
    "tags": []
   },
   "outputs": [
    {
     "name": "stdout",
     "output_type": "stream",
     "text": [
      "天空之所以呈现蓝色,是由于光的散射现象造成的。当太阳光穿过大气层时,光被大气中的分子和小颗粒散射,这些颗粒包括氧气、氮气和水蒸气等。这些分子和颗粒吸收较短波长的光,如紫色和蓝色,而较长波长的光,如红色和橙色则被散射得更少。\n",
      "\n",
      "由于蓝色光的波长比红色光短,因此它更容易被散射,而在大气层中被散射的蓝色光会向各个方向散射,包括朝着我们的眼睛,因此天空呈现出蓝色。在日出和日落时,太阳光穿过更长的大气层路径,较多的光被散射,因此天空呈现出更温暖的色调,如红色、橙色和黄色。\n",
      "233\n",
      "CPU times: user 5.07 ms, sys: 0 ns, total: 5.07 ms\n",
      "Wall time: 8.53 s\n"
     ]
    }
   ],
   "source": [
    "%%time\n",
    "payload = {\"ask\": \"天为什么是蓝色的？\"}\n",
    "answer = query_endpoint(json.dumps(payload).encode('utf-8'))\n",
    "print(answer)\n",
    "print(len(answer))"
   ]
  },
  {
   "cell_type": "code",
   "execution_count": 19,
   "id": "5a61c459-c66a-4838-8e98-a853a3c15056",
   "metadata": {},
   "outputs": [
    {
     "name": "stdout",
     "output_type": "stream",
     "text": [
      "4加2等于6。\n",
      "CPU times: user 5.53 ms, sys: 0 ns, total: 5.53 ms\n",
      "Wall time: 446 ms\n"
     ]
    }
   ],
   "source": [
    "%%time\n",
    "payload = {\"ask\": \"4加2等于几？\"}\n",
    "resp_test = query_endpoint(json.dumps(payload).encode('utf-8'))\n",
    "print(resp_test)"
   ]
  },
  {
   "cell_type": "code",
   "execution_count": 9,
   "id": "ad9bc6d0-38d9-4217-a510-b13155297fdf",
   "metadata": {},
   "outputs": [
    {
     "name": "stdout",
     "output_type": "stream",
     "text": [
      "如果你要将11乘以3,答案是33。\n",
      "CPU times: user 4.07 ms, sys: 0 ns, total: 4.07 ms\n",
      "Wall time: 817 ms\n"
     ]
    }
   ],
   "source": [
    "%%time\n",
    "payload = {\n",
    "    \"ask\": \"再乘以3呢？\",\n",
    "    \"history\": [(\"数学计算：\\n3加8等于几？\\n答案：\", \"3加8等于11。\")]}\n",
    "resp_test = query_endpoint(json.dumps(payload).encode('utf-8'))\n",
    "print(resp_test)"
   ]
  },
  {
   "cell_type": "code",
   "execution_count": null,
   "id": "25802a57-844a-43cc-a837-a5ab2916052f",
   "metadata": {},
   "outputs": [],
   "source": []
  },
  {
   "cell_type": "markdown",
   "id": "e657e006-faf6-4d41-82d8-629454fd2267",
   "metadata": {
    "tags": []
   },
   "source": [
    "### 删除 EndPoint"
   ]
  },
  {
   "cell_type": "code",
   "execution_count": 13,
   "id": "1e8fc003-948f-43aa-af00-ddf25902852c",
   "metadata": {
    "tags": []
   },
   "outputs": [],
   "source": [
    "predictor.delete_model()\n",
    "predictor.delete_endpoint()"
   ]
  },
  {
   "cell_type": "code",
   "execution_count": null,
   "id": "cd81af0f-edba-47fe-91f0-354196a23644",
   "metadata": {},
   "outputs": [],
   "source": []
  }
 ],
 "metadata": {
  "kernelspec": {
   "display_name": "Custom (mt_python3)",
   "language": "python",
   "name": "mt_python3"
  },
  "language_info": {
   "codemirror_mode": {
    "name": "ipython",
    "version": 3
   },
   "file_extension": ".py",
   "mimetype": "text/x-python",
   "name": "python",
   "nbconvert_exporter": "python",
   "pygments_lexer": "ipython3",
   "version": "3.10.11"
  }
 },
 "nbformat": 4,
 "nbformat_minor": 5
}
