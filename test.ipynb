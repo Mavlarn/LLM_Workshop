{
 "cells": [
  {
   "cell_type": "code",
   "execution_count": null,
   "id": "03383731-aeea-4fe9-a4e9-ded8c52f1ba1",
   "metadata": {},
   "outputs": [],
   "source": []
  },
  {
   "cell_type": "code",
   "execution_count": 11,
   "id": "720ad7e0-f691-464a-9cae-d156738a9655",
   "metadata": {
    "tags": []
   },
   "outputs": [],
   "source": [
    "endpoint_name = \"mt-chatglm2-g4dn\""
   ]
  },
  {
   "cell_type": "code",
   "execution_count": 32,
   "id": "ed380a53-c36a-44bb-b349-e1d97324048b",
   "metadata": {
    "tags": []
   },
   "outputs": [],
   "source": [
    "import json\n",
    "import boto3\n",
    "\n",
    "client = boto3.client('runtime.sagemaker')\n",
    "\n",
    "def query_endpoint(encoded_json):\n",
    "    response = client.invoke_endpoint(EndpointName=endpoint_name, ContentType='application/json', Body=encoded_json)\n",
    "    model_predictions = json.loads(response['Body'].read())\n",
    "    generated_text = model_predictions[\"outputs\"]\n",
    "    return generated_text\n"
   ]
  },
  {
   "cell_type": "code",
   "execution_count": 61,
   "id": "43841175-6b8d-43fa-a043-d01616214758",
   "metadata": {
    "tags": []
   },
   "outputs": [
    {
     "data": {
      "text/plain": [
       "<module 'prompt_generator' from '/home/ec2-user/SageMaker/LLM_Workshop/prompt_generator.py'>"
      ]
     },
     "execution_count": 61,
     "metadata": {},
     "output_type": "execute_result"
    }
   ],
   "source": [
    "# from prompt_generator import generate_prompt as gen_prompt\n",
    "import prompt_generator as pg\n",
    "import importlib\n",
    "\n",
    "importlib.reload(pg)"
   ]
  },
  {
   "cell_type": "code",
   "execution_count": 62,
   "id": "63639078-61e8-432a-ae22-c511bd747a86",
   "metadata": {
    "tags": []
   },
   "outputs": [],
   "source": [
    "model_code = \"chatglm\""
   ]
  },
  {
   "cell_type": "code",
   "execution_count": 63,
   "id": "3d6f4a32-61c5-440f-9d60-05378f095f5a",
   "metadata": {
    "tags": []
   },
   "outputs": [],
   "source": [
    "txt = \"\"\"请基于以下的3引号里面的内容，简洁、准确的回答最后的问题，并使用中文。如果你无法从已知内容获取答案，就直接返回'根据已知信息无法回答该问题。'，不要编造答案。\n",
    "\n",
    "```\n",
    "比亚迪电动汽车总电压为500v，能量13度，磷酸铁锂电池单体电压3.2v，因此，应是500/3.2=156节单体电池串联，这样重新计算总电压为499.2V；容量为13000/500=26安时，因此，如果电池系统采用的是一并的连接方式，单体电池容量为26安时。\n",
    "比亚迪电动汽车电池容量是多少？\n",
    "以比亚迪唐为例，比亚迪唐的动力系统分为两套，其中常规的汽油动力系统采用了它自主研发的2.0Ti发动机以及新的湿式双离合变速箱。这台2.0Ti发动机最大功率为151kW（205hp）/5500rpm，最大扭矩为320N·m/1750-4500rpm。电动动力系统则是由两套分别放置在前后轴的电动机组成，每台电动机的最大功率为110kW，最大扭矩为250N·m。当车辆急加速的时候，汽油发动机和电动机同时工作，这样发动机+电动机可以输出最大功率为370kW，最大扭矩为720N·m。而对于这款车的加速性能，厂家公布的唐0-100km/h的时间为4.9s。虽然与已经上市的秦采用同样的DM II混动系统，在蓄电池的电池容量上唐则进行了一些升级，最大电池容量达到18.4千瓦·时，这样唐在纯电动的情况下可以实现85公里的续航里程。\n",
    "然而电动轿车的寿命决定于电机。驱动电机不同，其成本也差异甚大，若采用直流有刷电机，车载电源可直接供给电机，使用这种电机采用晶闸管式控制器斩波方式调速。电池的寿命有\"干贮存寿命\"和\"湿贮存寿命\"。这两个概念仅是针对电池自放电大小而言的，并非电池的实际使用期限。电池的真正寿命是指电池实际使用的时间长短。对一次电池而言，电池的寿命是表征给出额定容量的工作时间(与放电倍率大小有关)。对二次电池而言，电池的寿命分充放电循环寿命和湿搁置使用寿命两种。\n",
    "```\n",
    "\n",
    "问题: 比亚迪唐2.0Ti发动机最大功率是多少？\n",
    "答案:\"\"\"\n",
    "\n",
    "\n",
    "txt2 = \"\"\"使用下面的已知内容，简洁、准确的回答最后的问题，并使用中文。如果你无法从已知内容获取答案，就直接返回'根据已知信息无法回答该问题。'，不要编造答案。\n",
    "\n",
    "已知内容:\n",
    "比亚迪电动汽车总电压为500v，能量13度，磷酸铁锂电池单体电压3.2v，因此，应是500/3.2=156节单体电池串联，这样重新计算总电压为499.2V；容量为13000/500=26安时，因此，如果电池系统采用的是一并的连接方式，单体电池容量为26安时。\n",
    "比亚迪电动汽车电池容量是多少？\n",
    "以比亚迪唐为例，比亚迪唐的动力系统分为两套，其中常规的汽油动力系统采用了它自主研发的2.0Ti发动机以及新的湿式双离合变速箱。这台2.0Ti发动机最大功率为151kW（205hp）/5500rpm，最大扭矩为320N·m/1750-4500rpm。电动动力系统则是由两套分别放置在前后轴的电动机组成，每台电动机的最大功率为110kW，最大扭矩为250N·m。当车辆急加速的时候，汽油发动机和电动机同时工作，这样发动机+电动机可以输出最大功率为370kW，最大扭矩为720N·m。而对于这款车的加速性能，厂家公布的唐0-100km/h的时间为4.9s。虽然与已经上市的秦采用同样的DM II混动系统，在蓄电池的电池容量上唐则进行了一些升级，最大电池容量达到18.4千瓦·时，这样唐在纯电动的情况下可以实现85公里的续航里程。\n",
    "然而电动轿车的寿命决定于电机。驱动电机不同，其成本也差异甚大，若采用直流有刷电机，车载电源可直接供给电机，使用这种电机采用晶闸管式控制器斩波方式调速。电池的寿命有\"干贮存寿命\"和\"湿贮存寿命\"。这两个概念仅是针对电池自放电大小而言的，并非电池的实际使用期限。电池的真正寿命是指电池实际使用的时间长短。对一次电池而言，电池的寿命是表征给出额定容量的工作时间(与放电倍率大小有关)。对二次电池而言，电池的寿命分充放电循环寿命和湿搁置使用寿命两种。\n",
    "\n",
    "问题: 比亚迪唐2.0Ti发动机最大功率是多少？\n",
    "答案:\"\"\"\n",
    "\n",
    "txt3 = \"\"\"已知内容:\n",
    "\n",
    "比亚迪电动汽车总电压为500v，能量13度，磷酸铁锂电池单体电压3.2v，因此，应是500/3.2=156节单体电池串联，这样重新计算总电压为499.2V；容量为13000/500=26安时，因此，如果电池系统采用的是一并的连接方式，单体电池容量为26安时。\n",
    "\n",
    "比亚迪电动汽车电池容量是多少？以比亚迪唐为例，比亚迪唐的动力系统分为两套，其中常规的汽油动力系统采用了它自主研发的2.0Ti发动机以及新的湿式双离合变速箱。这台2.0Ti发动机最大功率为151kW（205hp）/5500rpm，最大扭矩为320N·m/1750-4500rpm。电动动力系统则是由两套分别放置在前后轴的电动机组成，每台电动机的最大功率为110kW，最大扭矩为250N·m。当车辆急加速的时候，汽油发动机和电动机同时工作，这样发动机+电动机可以输出最大功率为370kW，最大扭矩为720N·m。而对于这款车的加速性能，厂家公布的唐0-100km/h的时间为4.9s。虽然与已经上市的秦采用同样的DM II混动系统，在蓄电池的电池容量上唐则进行了一些升级，最大电池容量达到18.4千瓦·时，这样唐在纯电动的情况下可以实现85公里的续航里程。\n",
    "\n",
    "然而电动轿车的寿命决定于电机。驱动电机不同，其成本也差异甚大，若采用直流有刷电机，车载电源可直接供给电机，使用这种电机采用晶闸管式控制器斩波方式调速。电池的寿命有\"干贮存寿命\"和\"湿贮存寿命\"。这两个概念仅是针对电池自放电大小而言的，并非电池的实际使用期限。电池的真正寿命是指电池实际使用的时间长短。对一次电池而言，电池的寿命是表征给出额定容量的工作时间(与放电倍率大小有关)。对二次电池而言，电池的寿命分充放电循环寿命和湿搁置使用寿命两种。\n",
    "\n",
    "基于以上的已知内容，简洁、准确的回答最后的问题，并使用中文。如果你无法从已知内容获取答案，就直接返回'根据已知信息无法回答该问题。'，不要编造答案。\n",
    "\n",
    "问题: 比亚迪电动汽车总电压是多少？\n",
    "答案:\n",
    "\"\"\""
   ]
  },
  {
   "cell_type": "code",
   "execution_count": 64,
   "id": "d73d691f-7166-4ed7-90c4-a2048a49e133",
   "metadata": {
    "tags": []
   },
   "outputs": [],
   "source": [
    "# pg.create_payload(txt)"
   ]
  },
  {
   "cell_type": "code",
   "execution_count": 65,
   "id": "1ccfee22-0b96-4be8-9872-2ce491ad7b4c",
   "metadata": {
    "tags": []
   },
   "outputs": [
    {
     "data": {
      "text/plain": [
       "'比亚迪唐2.0Ti发动机最大功率为151kW（205hp）/5500rpm。'"
      ]
     },
     "execution_count": 65,
     "metadata": {},
     "output_type": "execute_result"
    }
   ],
   "source": [
    "payload = pg.create_payload(txt, model_code)\n",
    "query_endpoint(json.dumps(payload).encode('utf-8'))"
   ]
  },
  {
   "cell_type": "code",
   "execution_count": null,
   "id": "c8c229a7-d7c6-48d1-97a1-4b7cd470bed1",
   "metadata": {},
   "outputs": [],
   "source": []
  },
  {
   "cell_type": "code",
   "execution_count": 34,
   "id": "ec830e39-961a-4fa0-adf4-d8a04f288ed3",
   "metadata": {
    "tags": []
   },
   "outputs": [
    {
     "data": {
      "text/plain": [
       "'首先，小明有200元钱，买书花了66元，买文具花了12元，那么他剩下的钱数是多少呢？我们可以用减法来计算：200-66-12=122（元）。所以，小明剩下的钱比原来少了122元。'"
      ]
     },
     "execution_count": 34,
     "metadata": {},
     "output_type": "execute_result"
    }
   ],
   "source": [
    "\n",
    "payload = pg.create_payload(\"小明有200元，买书花了66元，买文具花了12元，小明剩下的钱比原来少了多少元？\", model_code)\n",
    "query_endpoint(json.dumps(payload).encode('utf-8'))"
   ]
  },
  {
   "cell_type": "code",
   "execution_count": 31,
   "id": "eb0d6109-acdb-4ea1-9f2e-e9ab5217eba3",
   "metadata": {
    "tags": []
   },
   "outputs": [
    {
     "data": {
      "text/plain": [
       "'首先，小明有200元钱，买书花了66元，买文具花了12元。那么，小明剩下的钱数就是200-66-12=122元。\\n\\n接下来，我们需要求出小明剩下的钱比原来少了多少元。根据上面的计算，小明剩下的钱数是122元，而原来有200元钱，所以小明剩下的钱比原来少了200-122=78元。\\n\\n因此，答案是小明剩下的钱比原来少了78元。'"
      ]
     },
     "execution_count": 31,
     "metadata": {},
     "output_type": "execute_result"
    }
   ],
   "source": [
    "answer"
   ]
  },
  {
   "cell_type": "code",
   "execution_count": 4,
   "id": "86c7210d-5fa3-4d8c-bb7c-ce4283c2ac51",
   "metadata": {
    "tags": []
   },
   "outputs": [
    {
     "ename": "NameError",
     "evalue": "name 'vector_store' is not defined",
     "output_type": "error",
     "traceback": [
      "\u001b[0;31m---------------------------------------------------------------------------\u001b[0m",
      "\u001b[0;31mNameError\u001b[0m                                 Traceback (most recent call last)",
      "Cell \u001b[0;32mIn[4], line 63\u001b[0m\n\u001b[1;32m     57\u001b[0m PROMPT \u001b[38;5;241m=\u001b[39m PromptTemplate(\n\u001b[1;32m     58\u001b[0m     template\u001b[38;5;241m=\u001b[39mprompt_template, input_variables\u001b[38;5;241m=\u001b[39m[\u001b[38;5;124m\"\u001b[39m\u001b[38;5;124mcontext\u001b[39m\u001b[38;5;124m\"\u001b[39m, \u001b[38;5;124m\"\u001b[39m\u001b[38;5;124mquestion\u001b[39m\u001b[38;5;124m\"\u001b[39m]\n\u001b[1;32m     59\u001b[0m )\n\u001b[1;32m     60\u001b[0m chain_type_kwargs \u001b[38;5;241m=\u001b[39m {\u001b[38;5;124m\"\u001b[39m\u001b[38;5;124mprompt\u001b[39m\u001b[38;5;124m\"\u001b[39m: PROMPT}\n\u001b[1;32m     62\u001b[0m chain \u001b[38;5;241m=\u001b[39m RetrievalQA\u001b[38;5;241m.\u001b[39mfrom_chain_type(\n\u001b[0;32m---> 63\u001b[0m     llm\u001b[38;5;241m=\u001b[39mchatglm_model, chain_type\u001b[38;5;241m=\u001b[39m\u001b[38;5;124m\"\u001b[39m\u001b[38;5;124mstuff\u001b[39m\u001b[38;5;124m\"\u001b[39m, retriever\u001b[38;5;241m=\u001b[39m\u001b[43mvector_store\u001b[49m\u001b[38;5;241m.\u001b[39mas_retriever(),\n\u001b[1;32m     64\u001b[0m     chain_type_kwargs\u001b[38;5;241m=\u001b[39mchain_type_kwargs\n\u001b[1;32m     65\u001b[0m )\n",
      "\u001b[0;31mNameError\u001b[0m: name 'vector_store' is not defined"
     ]
    }
   ],
   "source": [
    "\n",
    "\n",
    "from typing import Dict\n",
    "from langchain.prompts import PromptTemplate\n",
    "from langchain import SagemakerEndpoint\n",
    "from langchain.llms.sagemaker_endpoint import LLMContentHandler\n",
    "from langchain.chains.question_answering import load_qa_chain\n",
    "import json\n",
    "\n",
    "from langchain.chains import RetrievalQA\n",
    "\n",
    "import logging\n",
    "logger = logging.getLogger()\n",
    "logger.setLevel(logging.INFO)\n",
    "\n",
    "sagemaker_endpoint_name = \"mt-chatglm2-g4dn\"\n",
    "\n",
    "class ContentHandler(LLMContentHandler):\n",
    "    content_type = \"application/json\"\n",
    "    accepts = \"application/json\"\n",
    "\n",
    "    def transform_input(self, prompt: str, model_kwargs: Dict) -> bytes:\n",
    "        parameters = {\"temperature\": 0.01}\n",
    "        input = {\"inputs\": prompt, \"parameters\": parameters }\n",
    "        logging.info(\"prompt: %s\", prompt)\n",
    "        logging.info(\"model parameters: %s\", parameters)\n",
    "        input_str = json.dumps(input)\n",
    "        return input_str.encode('utf-8')\n",
    "    \n",
    "    def transform_output(self, output: bytes) -> str:\n",
    "        response_json = json.loads(output.read().decode(\"utf-8\"))\n",
    "        logging.info(\"response_json: %s\", response_json)\n",
    "        return response_json[\"outputs\"]\n",
    "\n",
    "content_handler = ContentHandler()\n",
    "\n",
    "chatglm_model = SagemakerEndpoint(\n",
    "    endpoint_name=sagemaker_endpoint_name, \n",
    "    region_name=\"us-east-1\", \n",
    "    content_handler=content_handler\n",
    ")\n",
    "\n",
    "prompt_template2 = \"\"\"你是技术领域的智能问答机器人AIBot，请严格根据反括号中的资料提取相关信息，回答用户的各种问题，如果无法从提供的信息中知道答案，则回答'从已知信息无法回答您的问题'。\n",
    "```\n",
    "{context}\n",
    "```\n",
    "用户: {question}\n",
    "AIBot:\"\"\"\n",
    "\n",
    "prompt_template = \"\"\"请基于以下的3引号里面的内容，简洁、准确的回答最后的问题，并使用中文。如果你无法从已知内容获取答案，就直接返回'根据已知信息无法回答该问题。'，不要编造答案。\n",
    "\n",
    "已知内容:\n",
    "```\n",
    "{context}\n",
    "```\n",
    "\n",
    "问题: {question}\n",
    "答案:\"\"\"\n",
    "PROMPT = PromptTemplate(\n",
    "    template=prompt_template, input_variables=[\"context\", \"question\"]\n",
    ")\n",
    "chain_type_kwargs = {\"prompt\": PROMPT}\n",
    "\n",
    "chain = RetrievalQA.from_chain_type(\n",
    "    llm=chatglm_model, chain_type=\"stuff\", retriever=vector_store.as_retriever(),\n",
    "    chain_type_kwargs=chain_type_kwargs\n",
    ")\n"
   ]
  },
  {
   "cell_type": "code",
   "execution_count": null,
   "id": "6a27d8ef-d103-4892-8f9f-e831fcece05b",
   "metadata": {},
   "outputs": [],
   "source": []
  }
 ],
 "metadata": {
  "kernelspec": {
   "display_name": "Custom (mt_python3)",
   "language": "python",
   "name": "mt_python3"
  },
  "language_info": {
   "codemirror_mode": {
    "name": "ipython",
    "version": 3
   },
   "file_extension": ".py",
   "mimetype": "text/x-python",
   "name": "python",
   "nbconvert_exporter": "python",
   "pygments_lexer": "ipython3",
   "version": "3.10.11"
  }
 },
 "nbformat": 4,
 "nbformat_minor": 5
}
