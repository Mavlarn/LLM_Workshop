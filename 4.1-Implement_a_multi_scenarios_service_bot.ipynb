{
 "cells": [
  {
   "cell_type": "markdown",
   "id": "d14e5b28-2a04-4ebe-84f2-03debb3c67e6",
   "metadata": {},
   "source": [
    "### 使用大语言模型和 Langchain 实现一个客服机器人"
   ]
  },
  {
   "cell_type": "markdown",
   "id": "8aa5dfc0-b6ac-4b9d-810e-5c4652c44846",
   "metadata": {},
   "source": [
    "客服机器人的场景，包含以下功能：\n",
    "1. 该机器人能根据用户的输入判断用户要咨询的问题类型，进行自动调用相应的方法，进行返回。\n",
    "2. 能处理的问题类型有：\n",
    "    * 预定机票\n",
    "    * 推荐商品\n",
    "    * 订单查询\n",
    "    * 一般购买咨询\n",
    "3. 要能够实现多轮对话，例如预定机票的场景下，用户提出要订机票，机器人询问要订的日期和航班信息，用户提供信息。如果用户提供的信息不完全，则会再次询问，直到获取了所有的信息，能够完成预定。"
   ]
  },
  {
   "cell_type": "markdown",
   "id": "0d56a78c-058a-4a97-bad9-a3bd923e7792",
   "metadata": {},
   "source": [
    "在这部分，我们使用 LangChain 的 *RouterChain* 来实现多场景客服。\n",
    "\n",
    "LangChain 提供了两种 *RouterChain*，它是使用语言模型通过语义理解，根据用户输入判断用户的意图，然后再结合多个不同的Chain对象，不同的意图使用不同的Chain进行处理。\n",
    "\n",
    "有两种类型的*RouterChain*， 一种是 *LLMRouterChain*，一种是 *EmbeddingRouterChain*，顾名思义，一个是使用大语言模型进行意图识别，一种是使用 Embedding模型。使用 Embedding模型可以提供比较好的性价比。"
   ]
  },
  {
   "cell_type": "markdown",
   "id": "ffc8c04b-6352-467b-9f3d-16c726a75712",
   "metadata": {},
   "source": [
    "首先还是先创建 SagemakerEndpoint 类型的model。"
   ]
  },
  {
   "cell_type": "code",
   "execution_count": 22,
   "id": "7e6fd56b-4e66-402a-9fdd-9a70951d8c01",
   "metadata": {
    "tags": []
   },
   "outputs": [
    {
     "name": "stderr",
     "output_type": "stream",
     "text": [
      "INFO:botocore.credentials:Found credentials from IAM Role: BaseNotebookInstanceEc2InstanceRole\n"
     ]
    }
   ],
   "source": [
    "from typing import Dict\n",
    "from langchain.prompts import PromptTemplate\n",
    "from langchain import SagemakerEndpoint\n",
    "from langchain.llms.sagemaker_endpoint import LLMContentHandler\n",
    "\n",
    "import json\n",
    "\n",
    "import logging\n",
    "logger = logging.getLogger()\n",
    "logging.basicConfig(level=logging.INFO)\n",
    "\n",
    "class ContentHandler(LLMContentHandler):\n",
    "    content_type = \"application/json\"\n",
    "    accepts = \"application/json\"\n",
    "\n",
    "    def transform_input(self, prompt: str, model_kwargs: Dict) -> bytes:\n",
    "        input = {\"ask\": prompt, **model_kwargs}\n",
    "        logger.info(\"prompt: %s\", prompt)\n",
    "        logger.info(\"model_kwargs: %s\", model_kwargs)\n",
    "        input_str = json.dumps(input)\n",
    "        return input_str.encode('utf-8')\n",
    "    \n",
    "    def transform_output(self, output: bytes) -> str:\n",
    "        response_json = json.loads(output.read().decode(\"utf-8\"))\n",
    "        logger.info(\"response_json: %s\", response_json)\n",
    "        return response_json[\"answer\"]\n",
    "\n",
    "content_handler = ContentHandler()\n",
    "\n",
    "alpaca_model = SagemakerEndpoint(\n",
    "    endpoint_name=\"chinese-alpaca-plus-7b\",\n",
    "    region_name=\"us-east-1\", \n",
    "    model_kwargs={\"temperature\": 0.001, \"top_p\": 0.3},\n",
    "    content_handler=content_handler\n",
    ")"
   ]
  },
  {
   "cell_type": "markdown",
   "id": "738054da-5cf6-468d-bea6-4f0459cbb7b4",
   "metadata": {},
   "source": [
    "对于客服和售前咨询的场景，我们可以使用定制的Prompt和Chain，来进行基于知识库的问答。\n",
    "\n",
    "对于商品推荐，我们将商品信息embedding后，保存到向量数据库中，推荐的时候，从该向量库中查询最相近的5个产品，然后让语言模型进行回复。\n",
    "\n",
    "对于售前咨询，也是将售前咨询信息，以知识库的形式进行保存，然后进行基于知识库的问答。"
   ]
  },
  {
   "cell_type": "code",
   "execution_count": 23,
   "id": "0d2eabbf-6af6-4290-b664-bd82e0644688",
   "metadata": {
    "tags": []
   },
   "outputs": [],
   "source": [
    "from langchain.chains import ConversationChain\n",
    "from langchain.chains.llm import LLMChain\n",
    "from langchain.prompts import PromptTemplate\n",
    "\n",
    "\n",
    "\n",
    "recommend_template = \"\"\"你是一个机器人客服，需要给客户推荐商品，根据下面搜索得到的商品信息，给用户提供推荐.\n",
    "\n",
    "商品信息:\n",
    "\n",
    "\n",
    "### Question:\n",
    "{question}\n",
    "\n",
    "### Response:\n",
    "\"\"\"\n",
    "\n",
    "faq_template = \"\"\"你是一个机器人客服, 使用下面的已知内容，简洁、准确的回答最后的问题，并使用中文。如果你不知道答案，尽量让用户提供更多的信息，不要编造答案。\n",
    "\n",
    "已知内容:\n",
    "\n",
    "\n",
    "问题: {question}\n",
    "答案:\"\"\"\n",
    "\n",
    "recommend_prompt = PromptTemplate(template=recommend_template, input_variables=[\"question\"])\n",
    "recommend_chain = LLMChain(llm=alpaca_model, prompt=recommend_prompt)\n",
    "\n",
    "faq_prompt = PromptTemplate(template=faq_template, input_variables=[\"question\"])\n",
    "faq_chain = LLMChain(llm=alpaca_model, prompt=faq_prompt)\n"
   ]
  },
  {
   "cell_type": "markdown",
   "id": "87f81eb8-ace0-40f1-8cab-187baf4d4be4",
   "metadata": {},
   "source": [
    "我们本来是要使用基于知识库的搜索，但是之前已经演示过加载知识库，这里为了方便，就使用普通的Chain，进行问答。"
   ]
  },
  {
   "cell_type": "code",
   "execution_count": 24,
   "id": "32eef2f6-0c20-4ef4-b22a-e7f39d834d53",
   "metadata": {
    "tags": []
   },
   "outputs": [
    {
     "name": "stderr",
     "output_type": "stream",
     "text": [
      "INFO:root:prompt: 你是一个机器人客服，需要给客户推荐商品，根据下面搜索得到的商品信息，给用户提供推荐.\n",
      "\n",
      "商品信息:\n",
      "\n",
      "\n",
      "### Question:\n",
      "想买一件西服\n",
      "\n",
      "### Response:\n",
      "\n",
      "INFO:root:model_kwargs: {'temperature': 0.001, 'top_p': 0.3}\n",
      "INFO:root:response_json: {'answer': '您可以考虑购买这款品牌的西装：[link]。'}\n"
     ]
    },
    {
     "data": {
      "text/plain": [
       "{'question': '想买一件西服', 'text': '您可以考虑购买这款品牌的西装：[link]。'}"
      ]
     },
     "execution_count": 24,
     "metadata": {},
     "output_type": "execute_result"
    }
   ],
   "source": [
    "recommend_chain({\"question\": \"想买一件西服\"})"
   ]
  },
  {
   "cell_type": "code",
   "execution_count": 25,
   "id": "e1d31b03-9d5c-4325-be06-d109862772d7",
   "metadata": {
    "tags": []
   },
   "outputs": [
    {
     "name": "stderr",
     "output_type": "stream",
     "text": [
      "INFO:root:prompt: 你是一个机器人客服, 使用下面的已知内容，简洁、准确的回答最后的问题，并使用中文。如果你不知道答案，尽量让用户提供更多的信息，不要编造答案。\n",
      "\n",
      "已知内容:\n",
      "\n",
      "\n",
      "问题: 上次买的西服想退货\n",
      "答案:\n",
      "INFO:root:model_kwargs: {'temperature': 0.001, 'top_p': 0.3}\n",
      "INFO:root:response_json: {'answer': '你是一个机器人客服, 使用下面的已知内容，简洁、准确的回答最后的问题，并使用中文。如果你不知道答案，尽量让用户提供更多的信息，不要编造答案。\\n\\n已知内容:\\n\\n\\n问题: 上次买的西服想退货\\n答案: 很抱歉，我们公司不支持商品的退换货服务。'}\n"
     ]
    },
    {
     "data": {
      "text/plain": [
       "{'question': '上次买的西服想退货',\n",
       " 'text': '你是一个机器人客服, 使用下面的已知内容，简洁、准确的回答最后的问题，并使用中文。如果你不知道答案，尽量让用户提供更多的信息，不要编造答案。\\n\\n已知内容:\\n\\n\\n问题: 上次买的西服想退货\\n答案: 很抱歉，我们公司不支持商品的退换货服务。'}"
      ]
     },
     "execution_count": 25,
     "metadata": {},
     "output_type": "execute_result"
    }
   ],
   "source": [
    "faq_chain({\"question\": \"上次买的西服想退货\"})"
   ]
  },
  {
   "cell_type": "markdown",
   "id": "02ab74ae-db03-4539-9f7e-432e6a1c823c",
   "metadata": {},
   "source": [
    "#### 方法调用的Chain\n",
    "在上一个实例中，我们使用Embedding识别用户意图，再对应到相应的function，然后识别函数的参数，然后进行调用，返回结果。\n",
    "\n",
    "这一次，我们使用 LangChain 的 *TransformChain* 来实现函数调用的问题。\n",
    "\n",
    "TransformChain 本来是用于通过一个函数，将输入的参数，通过函数调用转换成另一个结果。使用这个Chain，我们可以调用我们的业务方法，来实现语言模型调用业务方法。"
   ]
  },
  {
   "cell_type": "code",
   "execution_count": 36,
   "id": "6b758987-5c8f-45e7-8e52-6b356aa13b8b",
   "metadata": {
    "tags": []
   },
   "outputs": [],
   "source": [
    "import datetime, re, ast\n",
    "from langchain.chains import TransformChain\n",
    "\n",
    "import logging\n",
    "logger = logging.getLogger()\n",
    "logging.basicConfig(level=logging.INFO)\n",
    "\n",
    "def search_order(inputs: dict) -> dict:\n",
    "    logger.info(\"==== search_order inputs:\" + str(inputs))\n",
    "    inputs = inputs.get(\"params\")\n",
    "\n",
    "    if type(inputs) == str:\n",
    "        inputs = ast.literal_eval(inputs)\n",
    "    if type(inputs) == list:\n",
    "        inputs = inputs[0]\n",
    "    order_provided = inputs.get(\"order_number\")\n",
    "    if not order_provided:\n",
    "        result = \"请问您的订单号是多少？\"\n",
    "    else:\n",
    "        pattern = r\"\\d+[A-Z]+\"\n",
    "        match = re.search(pattern, order_provided)\n",
    "\n",
    "        result = \"\"\n",
    "        order_number = order_provided\n",
    "        if match:\n",
    "            order_number = match.group(0)\n",
    "            result = \"订单: \" + order_number + \"状态：已发货；发货日期：2023-05-01；预计送达时间：2023-05-10\"\n",
    "        else:\n",
    "            result = \"提供的订单号: \" + order_number +\" 不存在.\"\n",
    "    return {\"text\": result}\n",
    "\n",
    "\n",
    "def order_flight(inputs: dict) -> str:\n",
    "    logger.info(\"==== search_order inputs:\" + str(inputs))\n",
    "    inputs = inputs.get(\"params\")\n",
    "    if type(inputs) == str:\n",
    "        inputs = ast.literal_eval(inputs)\n",
    "    if type(inputs) == list:\n",
    "        inputs = inputs[0]\n",
    "        \n",
    "    result = \"\"\n",
    "    flight_date = inputs.get(\"flight_date\")\n",
    "    if type(flight_date) == list:\n",
    "        flight_date = flight_date[0]\n",
    "        \n",
    "    flight_no = inputs.get(\"flight_no\")\n",
    "    if type(flight_no) == list:\n",
    "        flight_no = flight_no[0]\n",
    "        \n",
    "    if not flight_date and not flight_no:\n",
    "        result = \"请提供出行日期和预定航班\"\n",
    "    elif not flight_date:\n",
    "        result = \"请提供出行日期\"\n",
    "    elif not flight_no:\n",
    "        result = \"请提供航班号\"\n",
    "    result = \"预定：\" + flight_date + \", 航班号：\" + flight_no\n",
    "    return {\"text\": result}\n",
    "\n",
    "\n",
    "order_search_chain = TransformChain(input_variables=[\"params\"], output_variables=[\"text\"], transform=search_order)\n",
    "\n",
    "order_flight_chain = TransformChain(input_variables=[\"params\"], output_variables=[\"text\"], transform=order_flight)\n"
   ]
  },
  {
   "cell_type": "markdown",
   "id": "7a5cb622-64a5-4d64-8c5a-5f4d55fd85c4",
   "metadata": {},
   "source": [
    "这里定义了两个TransformChain。以及两个函数，分别用于查询用户订单，和为用户预订机票。\n",
    "\n",
    "可以看到，这两个函数都不同的参数，参数的获取也要从inputs中获取，inputs的格式下面会讲到。"
   ]
  },
  {
   "cell_type": "code",
   "execution_count": 37,
   "id": "bfbc9ae3-44c7-4664-bb8c-a5b1524f5b80",
   "metadata": {
    "tags": []
   },
   "outputs": [
    {
     "name": "stderr",
     "output_type": "stream",
     "text": [
      "INFO:root:==== search_order inputs:{'params': {'order_number': '我的订单没有收到 2021ABC'}}\n"
     ]
    },
    {
     "data": {
      "text/plain": [
       "{'params': {'order_number': '我的订单没有收到 2021ABC'},\n",
       " 'text': '订单: 2021ABC状态：已发货；发货日期：2023-05-01；预计送达时间：2023-05-10'}"
      ]
     },
     "execution_count": 37,
     "metadata": {},
     "output_type": "execute_result"
    }
   ],
   "source": [
    "# 尝试调用查询订单的 chain\n",
    "order_search_chain({\"params\": {\"order_number\": \"我的订单没有收到 2021ABC\"}})"
   ]
  },
  {
   "cell_type": "markdown",
   "id": "87da8af9-1af3-41ea-b448-ef252751651e",
   "metadata": {
    "tags": []
   },
   "source": [
    "有了函数，我们还需要从用户的输入里面提取函数所需的参数，所以，我们定义了另一个Chain，用于提取参数信息。"
   ]
  },
  {
   "cell_type": "code",
   "execution_count": 38,
   "id": "78cdeb66-73bb-474c-8c51-73c37829eccf",
   "metadata": {
    "tags": []
   },
   "outputs": [],
   "source": [
    "from langchain import PromptTemplate, LLMChain\n",
    "\n",
    "prompt_template = (\n",
    "    \"Below is an instruction that describes a task. \"\n",
    "    \"Write a response that appropriately completes the request.\\n\\n\"\n",
    "    \"### Instruction: 从以下对输入中信息提取'{input}', 不要尝试回答问题, 不要编造答案, 不要使用已有知识, 找不到所需信息则返回空, 结果用json格式.\"\n",
    "    \"### Input: {question} \\n\\n\"\n",
    "    \"### Response:\\n\"\n",
    ")\n",
    "prompt = PromptTemplate(\n",
    "    input_variables=[\"question\", \"input\"],\n",
    "    template=prompt_template\n",
    ")\n",
    "\n",
    "# func_inputs 里面是每个function所需要的参数列表\n",
    "func_inputs = {\"search_order\": ['order_number'], \"order_flight\": ['flight_date', 'flight_no']}\n",
    "\n",
    "extract_chain = LLMChain(llm=alpaca_model, prompt=prompt, output_key=\"params\")"
   ]
  },
  {
   "cell_type": "code",
   "execution_count": 39,
   "id": "5140708b-bb0c-4ae0-97ea-e688e9e6f403",
   "metadata": {
    "tags": []
   },
   "outputs": [
    {
     "name": "stderr",
     "output_type": "stream",
     "text": [
      "INFO:root:prompt: Below is an instruction that describes a task. Write a response that appropriately completes the request.\n",
      "\n",
      "### Instruction: 从以下对输入中信息提取'['order_number']', 不要尝试回答问题, 不要编造答案, 不要使用已有知识, 找不到所需信息则返回空, 结果用json格式.### Input: 我的订单没有收到, 订单号是 2023ABC \n",
      "\n",
      "### Response:\n",
      "\n",
      "INFO:root:model_kwargs: {'temperature': 0.001, 'top_p': 0.3}\n",
      "INFO:root:response_json: {'answer': '[{\"order_number\": \"2023ABC\"}]'}\n"
     ]
    },
    {
     "data": {
      "text/plain": [
       "{'question': '我的订单没有收到, 订单号是 2023ABC',\n",
       " 'input': ['order_number'],\n",
       " 'params': '[{\"order_number\": \"2023ABC\"}]'}"
      ]
     },
     "execution_count": 39,
     "metadata": {},
     "output_type": "execute_result"
    }
   ],
   "source": [
    "# 调用 chain，提取参数\n",
    "extract_chain({\"question\": \"我的订单没有收到, 订单号是 2023ABC\", \"input\": func_inputs.get(\"search_order\")})"
   ]
  },
  {
   "cell_type": "code",
   "execution_count": 40,
   "id": "141a6603-3f34-46d4-828e-f7f24f00a5b1",
   "metadata": {
    "tags": []
   },
   "outputs": [
    {
     "name": "stderr",
     "output_type": "stream",
     "text": [
      "INFO:root:prompt: Below is an instruction that describes a task. Write a response that appropriately completes the request.\n",
      "\n",
      "### Instruction: 从以下对输入中信息提取'['flight_date', 'flight_no']', 不要尝试回答问题, 不要编造答案, 不要使用已有知识, 找不到所需信息则返回空, 结果用json格式.### Input: 想要预定今天到上海的CA1234的航班 \n",
      "\n",
      "### Response:\n",
      "\n",
      "INFO:root:model_kwargs: {'temperature': 0.001, 'top_p': 0.3}\n",
      "INFO:root:response_json: {'answer': '[{\"flight_date\": \"2021-08-22\", \"flight_no\": \"CA1234\"} ]'}\n"
     ]
    },
    {
     "data": {
      "text/plain": [
       "{'question': '想要预定今天到上海的CA1234的航班',\n",
       " 'input': ['flight_date', 'flight_no'],\n",
       " 'params': '[{\"flight_date\": \"2021-08-22\", \"flight_no\": \"CA1234\"} ]'}"
      ]
     },
     "execution_count": 40,
     "metadata": {},
     "output_type": "execute_result"
    }
   ],
   "source": [
    "extract_chain({\"question\": \"想要预定今天到上海的CA1234的航班\", \"input\": func_inputs.get(\"order_flight\")})"
   ]
  },
  {
   "cell_type": "markdown",
   "id": "a7afd1a2-2201-4686-b129-1f7a280b7e76",
   "metadata": {},
   "source": [
    "可以看到，不同的输入，都能够提取到参数，但是，提取的结果，虽然都是json格式的，但是航班的参数提取，放在了list里。\n",
    "\n",
    "所以，在对应的上面的 *order_flight* 和 *order_search* 方法里，我们都对输入 inputs 做了一些处理，保证在各种情况下，都能够得到参数值。\n",
    "\n",
    "```python\n",
    "inputs = inputs.get(\"params\")\n",
    "if type(inputs) == str:\n",
    "    inputs = json.loads(inputs)\n",
    "if type(inputs) == list:\n",
    "    inputs = inputs[0]\n",
    "\n",
    "result = \"\"\n",
    "flight_date = inputs.get(\"flight_date\")\n",
    "if type(flight_date) == list:\n",
    "    flight_date = flight_date[0]\n",
    "\n",
    "flight_no = inputs.get(\"flight_no\")\n",
    "if type(flight_no) == list:\n",
    "    flight_no = flight_no[0]\n",
    "```"
   ]
  },
  {
   "cell_type": "markdown",
   "id": "37300499-7472-4833-94e2-cc4d0e359fe5",
   "metadata": {},
   "source": [
    "由于我们的chain最终只接收用户问题，所以，我们需要能得到各个函数的参数列表。"
   ]
  },
  {
   "cell_type": "code",
   "execution_count": 41,
   "id": "baf32f58-7d62-4c72-88a8-bdb60f5f48e9",
   "metadata": {
    "tags": []
   },
   "outputs": [],
   "source": [
    "# func_inputs = {\"search_order\": ['order_number'], \"order_flight\": ['flight_date', 'flight_no']}\n",
    "\n",
    "def get_order_func_inputs(inputs: dict) -> list:\n",
    "    logger.info(\"get_order_func_inputs:\" + str(inputs))\n",
    "    return {\"input\": func_inputs.get(\"search_order\")}\n",
    "order_search_param_chain = TransformChain(input_variables=[\"question\"], output_variables=[\"input\"], transform=get_order_func_inputs)\n",
    "\n",
    "def get_flight_func_inputs(inputs: dict) -> list:\n",
    "    logger.info(\"get_flight_func_inputs:\" + str(inputs))\n",
    "    return {\"input\": func_inputs.get(\"order_flight\")}\n",
    "order_flight_param_chain = TransformChain(input_variables=[\"question\"], output_variables=[\"input\"], transform=get_flight_func_inputs)\n"
   ]
  },
  {
   "cell_type": "markdown",
   "id": "2b926170-ede7-4b7b-91cd-f6afd2a607e3",
   "metadata": {},
   "source": [
    "然后，就用 SequentialChain 把信息提取的chain和调用function的chain连起来。\n",
    "\n",
    "例如调用 order_search_chain_seq 的时候，调用流程如下：\n",
    "1. 先调用一个chain，调用方法 get_order_func_inputs，获取查询订单这个方法所需的参数。\n",
    "2. 再调用extract_chain提取方法参数。这时候，输入参数有 “question”，以及上一步生成的 “input”\n",
    "3. 再用这两个参数调用 order_search_chain，该chain对调用order_search 方法。"
   ]
  },
  {
   "cell_type": "code",
   "execution_count": 43,
   "id": "7a037e19-fd38-467d-9105-3bbe6e694d8b",
   "metadata": {
    "tags": []
   },
   "outputs": [],
   "source": [
    "from langchain.chains import SequentialChain\n",
    "\n",
    "order_search_chain_seq = SequentialChain(\n",
    "    chains=[order_search_param_chain, extract_chain, order_search_chain], input_variables=[\"question\"],\n",
    "    output_variables=[\"text\"], verbose=True\n",
    ")\n",
    "\n",
    "order_flight_chain_seq = SequentialChain(\n",
    "    chains=[order_flight_param_chain, extract_chain, order_flight_chain], input_variables=[\"question\"],\n",
    "    output_variables=[\"text\"], verbose=True\n",
    ")"
   ]
  },
  {
   "cell_type": "markdown",
   "id": "a7bf8576-7e11-401e-a80b-8b56243567e5",
   "metadata": {},
   "source": [
    "测试运行"
   ]
  },
  {
   "cell_type": "code",
   "execution_count": 44,
   "id": "e2f1861e-586f-4529-be1c-f0eb8fb2e57c",
   "metadata": {
    "tags": []
   },
   "outputs": [
    {
     "name": "stderr",
     "output_type": "stream",
     "text": [
      "INFO:root:get_order_func_inputs:{'question': '我的订单一直没收到，订单是 2023ABC'}\n",
      "INFO:root:prompt: Below is an instruction that describes a task. Write a response that appropriately completes the request.\n",
      "\n",
      "### Instruction: 从以下对输入中信息提取'['order_number']', 不要尝试回答问题, 不要编造答案, 不要使用已有知识, 找不到所需信息则返回空, 结果用json格式.### Input: 我的订单一直没收到，订单是 2023ABC \n",
      "\n",
      "### Response:\n",
      "\n",
      "INFO:root:model_kwargs: {'temperature': 0.001, 'top_p': 0.3}\n"
     ]
    },
    {
     "name": "stdout",
     "output_type": "stream",
     "text": [
      "\n",
      "\n",
      "\u001b[1m> Entering new SequentialChain chain...\u001b[0m\n"
     ]
    },
    {
     "name": "stderr",
     "output_type": "stream",
     "text": [
      "INFO:root:response_json: {'answer': '[{\"order_number\": \"2023ABC\"}]'}\n",
      "INFO:root:==== search_order inputs:{'question': '我的订单一直没收到，订单是 2023ABC', 'input': ['order_number'], 'params': '[{\"order_number\": \"2023ABC\"}]'}\n"
     ]
    },
    {
     "name": "stdout",
     "output_type": "stream",
     "text": [
      "\n",
      "\u001b[1m> Finished chain.\u001b[0m\n"
     ]
    },
    {
     "data": {
      "text/plain": [
       "{'question': '我的订单一直没收到，订单是 2023ABC',\n",
       " 'text': '订单: 2023ABC状态：已发货；发货日期：2023-05-01；预计送达时间：2023-05-10'}"
      ]
     },
     "execution_count": 44,
     "metadata": {},
     "output_type": "execute_result"
    }
   ],
   "source": [
    "order_search_chain_seq({\"question\": \"我的订单一直没收到，订单是 2023ABC\"})"
   ]
  },
  {
   "cell_type": "code",
   "execution_count": 45,
   "id": "9840632b-f4ff-4278-9c61-5a6ca1ac69af",
   "metadata": {
    "tags": []
   },
   "outputs": [
    {
     "name": "stderr",
     "output_type": "stream",
     "text": [
      "INFO:root:get_order_func_inputs:{'question': '我的订单一直没收到'}\n",
      "INFO:root:prompt: Below is an instruction that describes a task. Write a response that appropriately completes the request.\n",
      "\n",
      "### Instruction: 从以下对输入中信息提取'['order_number']', 不要尝试回答问题, 不要编造答案, 不要使用已有知识, 找不到所需信息则返回空, 结果用json格式.### Input: 我的订单一直没收到 \n",
      "\n",
      "### Response:\n",
      "\n",
      "INFO:root:model_kwargs: {'temperature': 0.001, 'top_p': 0.3}\n"
     ]
    },
    {
     "name": "stdout",
     "output_type": "stream",
     "text": [
      "\n",
      "\n",
      "\u001b[1m> Entering new SequentialChain chain...\u001b[0m\n"
     ]
    },
    {
     "name": "stderr",
     "output_type": "stream",
     "text": [
      "INFO:root:response_json: {'answer': '[{\"order_number\": \"\"}]'}\n",
      "INFO:root:==== search_order inputs:{'question': '我的订单一直没收到', 'input': ['order_number'], 'params': '[{\"order_number\": \"\"}]'}\n"
     ]
    },
    {
     "name": "stdout",
     "output_type": "stream",
     "text": [
      "\n",
      "\u001b[1m> Finished chain.\u001b[0m\n"
     ]
    },
    {
     "data": {
      "text/plain": [
       "{'question': '我的订单一直没收到', 'text': '请问您的订单号是多少？'}"
      ]
     },
     "execution_count": 45,
     "metadata": {},
     "output_type": "execute_result"
    }
   ],
   "source": [
    "order_search_chain_seq({\"question\": \"我的订单一直没收到\"})"
   ]
  },
  {
   "cell_type": "code",
   "execution_count": 46,
   "id": "4bd1d9ce-dae6-459d-a7c0-c92361165751",
   "metadata": {
    "tags": []
   },
   "outputs": [
    {
     "name": "stderr",
     "output_type": "stream",
     "text": [
      "INFO:root:get_flight_func_inputs:{'question': '想要预定今天到上海的CA1234的航班'}\n",
      "INFO:root:prompt: Below is an instruction that describes a task. Write a response that appropriately completes the request.\n",
      "\n",
      "### Instruction: 从以下对输入中信息提取'['flight_date', 'flight_no']', 不要尝试回答问题, 不要编造答案, 不要使用已有知识, 找不到所需信息则返回空, 结果用json格式.### Input: 想要预定今天到上海的CA1234的航班 \n",
      "\n",
      "### Response:\n",
      "\n",
      "INFO:root:model_kwargs: {'temperature': 0.001, 'top_p': 0.3}\n"
     ]
    },
    {
     "name": "stdout",
     "output_type": "stream",
     "text": [
      "\n",
      "\n",
      "\u001b[1m> Entering new SequentialChain chain...\u001b[0m\n"
     ]
    },
    {
     "name": "stderr",
     "output_type": "stream",
     "text": [
      "INFO:root:response_json: {'answer': '[{\"flight_date\": \"2021-08-22\", \"flight_no\": \"CA1234\"} ]'}\n",
      "INFO:root:==== search_order inputs:{'question': '想要预定今天到上海的CA1234的航班', 'input': ['flight_date', 'flight_no'], 'params': '[{\"flight_date\": \"2021-08-22\", \"flight_no\": \"CA1234\"} ]'}\n"
     ]
    },
    {
     "name": "stdout",
     "output_type": "stream",
     "text": [
      "\n",
      "\u001b[1m> Finished chain.\u001b[0m\n"
     ]
    },
    {
     "data": {
      "text/plain": [
       "{'question': '想要预定今天到上海的CA1234的航班', 'text': '预定：2021-08-22, 航班号：CA1234'}"
      ]
     },
     "execution_count": 46,
     "metadata": {},
     "output_type": "execute_result"
    }
   ],
   "source": [
    "order_flight_chain_seq({\"question\": \"想要预定今天到上海的CA1234的航班\"})"
   ]
  },
  {
   "cell_type": "markdown",
   "id": "5cbeb57f-7be7-47f7-af66-4abfe319e2f7",
   "metadata": {},
   "source": [
    "> 这里有一个问题就是“今天”这个时间，模型根据自己的知识将“今天”变成了某一个具体日期，但是这个日期是不对的。这个在之后会解决。"
   ]
  },
  {
   "cell_type": "markdown",
   "id": "5aa85f63-9aa1-47d5-9f32-0bbd0c4ea4e6",
   "metadata": {},
   "source": [
    "### 整合\n",
    "\n",
    "最后，我们把上面这些整合起来"
   ]
  },
  {
   "cell_type": "code",
   "execution_count": 47,
   "id": "987b8651-3136-475b-bedf-1c84e211ebe3",
   "metadata": {
    "tags": []
   },
   "outputs": [
    {
     "name": "stderr",
     "output_type": "stream",
     "text": [
      "INFO:sentence_transformers.SentenceTransformer:Load pretrained SentenceTransformer: GanymedeNil/text2vec-large-chinese\n",
      "WARNING:sentence_transformers.SentenceTransformer:No sentence-transformers model found with name /home/ec2-user/.cache/torch/sentence_transformers/GanymedeNil_text2vec-large-chinese. Creating a new one with MEAN pooling.\n",
      "INFO:sentence_transformers.SentenceTransformer:Use pytorch device: cpu\n"
     ]
    },
    {
     "data": {
      "application/vnd.jupyter.widget-view+json": {
       "model_id": "bbddf0dfc4404f8f809f658a9083d3f2",
       "version_major": 2,
       "version_minor": 0
      },
      "text/plain": [
       "Batches:   0%|          | 0/1 [00:00<?, ?it/s]"
      ]
     },
     "metadata": {},
     "output_type": "display_data"
    },
    {
     "ename": "ValidationError",
     "evalue": "12 validation errors for MultiPromptChain\ndestination_chains -> order_search -> prompt\n  field required (type=value_error.missing)\ndestination_chains -> order_search -> llm\n  field required (type=value_error.missing)\ndestination_chains -> order_search -> chains\n  extra fields not permitted (type=value_error.extra)\ndestination_chains -> order_search -> input_variables\n  extra fields not permitted (type=value_error.extra)\ndestination_chains -> order_search -> output_variables\n  extra fields not permitted (type=value_error.extra)\ndestination_chains -> order_search -> return_all\n  extra fields not permitted (type=value_error.extra)\ndestination_chains -> order_flight -> prompt\n  field required (type=value_error.missing)\ndestination_chains -> order_flight -> llm\n  field required (type=value_error.missing)\ndestination_chains -> order_flight -> chains\n  extra fields not permitted (type=value_error.extra)\ndestination_chains -> order_flight -> input_variables\n  extra fields not permitted (type=value_error.extra)\ndestination_chains -> order_flight -> output_variables\n  extra fields not permitted (type=value_error.extra)\ndestination_chains -> order_flight -> return_all\n  extra fields not permitted (type=value_error.extra)",
     "output_type": "error",
     "traceback": [
      "\u001b[0;31m---------------------------------------------------------------------------\u001b[0m",
      "\u001b[0;31mValidationError\u001b[0m                           Traceback (most recent call last)",
      "Cell \u001b[0;32mIn[47], line 27\u001b[0m\n\u001b[1;32m     22\u001b[0m router_chain \u001b[38;5;241m=\u001b[39m EmbeddingRouterChain\u001b[38;5;241m.\u001b[39mfrom_names_and_descriptions(\n\u001b[1;32m     23\u001b[0m     names_and_descriptions, FAISS, embeddings, routing_keys\u001b[38;5;241m=\u001b[39m[\u001b[38;5;124m\"\u001b[39m\u001b[38;5;124mquestion\u001b[39m\u001b[38;5;124m\"\u001b[39m]\n\u001b[1;32m     24\u001b[0m )\n\u001b[1;32m     25\u001b[0m default_chain \u001b[38;5;241m=\u001b[39m ConversationChain(llm\u001b[38;5;241m=\u001b[39malpaca_model, output_key\u001b[38;5;241m=\u001b[39m\u001b[38;5;124m\"\u001b[39m\u001b[38;5;124mtext\u001b[39m\u001b[38;5;124m\"\u001b[39m)\n\u001b[0;32m---> 27\u001b[0m chain \u001b[38;5;241m=\u001b[39m \u001b[43mMultiPromptChain\u001b[49m\u001b[43m(\u001b[49m\n\u001b[1;32m     28\u001b[0m \u001b[43m    \u001b[49m\u001b[43mrouter_chain\u001b[49m\u001b[38;5;241;43m=\u001b[39;49m\u001b[43mrouter_chain\u001b[49m\u001b[43m,\u001b[49m\n\u001b[1;32m     29\u001b[0m \u001b[43m    \u001b[49m\u001b[43mdestination_chains\u001b[49m\u001b[38;5;241;43m=\u001b[39;49m\u001b[43mdestination_chains\u001b[49m\u001b[43m,\u001b[49m\n\u001b[1;32m     30\u001b[0m \u001b[43m    \u001b[49m\u001b[43mdefault_chain\u001b[49m\u001b[38;5;241;43m=\u001b[39;49m\u001b[43mdefault_chain\u001b[49m\u001b[43m,\u001b[49m\n\u001b[1;32m     31\u001b[0m \u001b[43m    \u001b[49m\u001b[43mverbose\u001b[49m\u001b[38;5;241;43m=\u001b[39;49m\u001b[38;5;28;43;01mTrue\u001b[39;49;00m\n\u001b[1;32m     32\u001b[0m \u001b[43m)\u001b[49m\n",
      "File \u001b[0;32m~/anaconda3/envs/python3/lib/python3.10/site-packages/pydantic/main.py:341\u001b[0m, in \u001b[0;36mpydantic.main.BaseModel.__init__\u001b[0;34m()\u001b[0m\n",
      "\u001b[0;31mValidationError\u001b[0m: 12 validation errors for MultiPromptChain\ndestination_chains -> order_search -> prompt\n  field required (type=value_error.missing)\ndestination_chains -> order_search -> llm\n  field required (type=value_error.missing)\ndestination_chains -> order_search -> chains\n  extra fields not permitted (type=value_error.extra)\ndestination_chains -> order_search -> input_variables\n  extra fields not permitted (type=value_error.extra)\ndestination_chains -> order_search -> output_variables\n  extra fields not permitted (type=value_error.extra)\ndestination_chains -> order_search -> return_all\n  extra fields not permitted (type=value_error.extra)\ndestination_chains -> order_flight -> prompt\n  field required (type=value_error.missing)\ndestination_chains -> order_flight -> llm\n  field required (type=value_error.missing)\ndestination_chains -> order_flight -> chains\n  extra fields not permitted (type=value_error.extra)\ndestination_chains -> order_flight -> input_variables\n  extra fields not permitted (type=value_error.extra)\ndestination_chains -> order_flight -> output_variables\n  extra fields not permitted (type=value_error.extra)\ndestination_chains -> order_flight -> return_all\n  extra fields not permitted (type=value_error.extra)"
     ]
    }
   ],
   "source": [
    "destination_chains = {}\n",
    "destination_chains[\"recommend\"] = recommend_chain\n",
    "destination_chains[\"faq\"] = faq_chain\n",
    "destination_chains[\"order_search\"] = order_search_chain_seq\n",
    "destination_chains[\"order_flight\"] = order_flight_chain_seq\n",
    "\n",
    "names_and_descriptions = [\n",
    "    (\"recommend\", [\"商品推荐\"]),\n",
    "    (\"faq\", [\"问答-退换货及商品购买咨询\"]),\n",
    "    (\"order_search\", [\"查询商品购买订单\"]),\n",
    "    (\"order_flight\", [\"预定航班\"])\n",
    "]\n",
    "\n",
    "from langchain.chains.router.embedding_router import EmbeddingRouterChain\n",
    "from langchain.chains import ConversationChain\n",
    "from langchain.chains.router import MultiPromptChain\n",
    "from langchain.vectorstores import FAISS\n",
    "from langchain.embeddings import HuggingFaceEmbeddings\n",
    "\n",
    "embeddings = HuggingFaceEmbeddings(model_name='GanymedeNil/text2vec-large-chinese')\n",
    "\n",
    "router_chain = EmbeddingRouterChain.from_names_and_descriptions(\n",
    "    names_and_descriptions, FAISS, embeddings, routing_keys=[\"question\"]\n",
    ")\n",
    "default_chain = ConversationChain(llm=alpaca_model, input_key output_key=\"text\")\n",
    "\n",
    "chain = MultiPromptChain(\n",
    "    router_chain=router_chain,\n",
    "    destination_chains=destination_chains,\n",
    "    default_chain=default_chain,\n",
    "    verbose=True\n",
    ")\n"
   ]
  },
  {
   "cell_type": "code",
   "execution_count": 48,
   "id": "02ca9b2e-3176-4f15-bc1f-0814b7eda8dc",
   "metadata": {
    "tags": []
   },
   "outputs": [
    {
     "data": {
      "text/plain": [
       "\u001b[0;31mSignature:\u001b[0m\n",
       "\u001b[0mEmbeddingRouterChain\u001b[0m\u001b[0;34m.\u001b[0m\u001b[0mfrom_names_and_descriptions\u001b[0m\u001b[0;34m(\u001b[0m\u001b[0;34m\u001b[0m\n",
       "\u001b[0;34m\u001b[0m    \u001b[0mnames_and_descriptions\u001b[0m\u001b[0;34m:\u001b[0m \u001b[0;34m'Sequence[Tuple[str, Sequence[str]]]'\u001b[0m\u001b[0;34m,\u001b[0m\u001b[0;34m\u001b[0m\n",
       "\u001b[0;34m\u001b[0m    \u001b[0mvectorstore_cls\u001b[0m\u001b[0;34m:\u001b[0m \u001b[0;34m'Type[VectorStore]'\u001b[0m\u001b[0;34m,\u001b[0m\u001b[0;34m\u001b[0m\n",
       "\u001b[0;34m\u001b[0m    \u001b[0membeddings\u001b[0m\u001b[0;34m:\u001b[0m \u001b[0;34m'Embeddings'\u001b[0m\u001b[0;34m,\u001b[0m\u001b[0;34m\u001b[0m\n",
       "\u001b[0;34m\u001b[0m    \u001b[0;34m**\u001b[0m\u001b[0mkwargs\u001b[0m\u001b[0;34m:\u001b[0m \u001b[0;34m'Any'\u001b[0m\u001b[0;34m,\u001b[0m\u001b[0;34m\u001b[0m\n",
       "\u001b[0;34m\u001b[0m\u001b[0;34m)\u001b[0m \u001b[0;34m->\u001b[0m \u001b[0;34m'EmbeddingRouterChain'\u001b[0m\u001b[0;34m\u001b[0m\u001b[0;34m\u001b[0m\u001b[0m\n",
       "\u001b[0;31mDocstring:\u001b[0m Convenience constructor.\n",
       "\u001b[0;31mFile:\u001b[0m      ~/anaconda3/envs/python3/lib/python3.10/site-packages/langchain/chains/router/embedding_router.py\n",
       "\u001b[0;31mType:\u001b[0m      method"
      ]
     },
     "metadata": {},
     "output_type": "display_data"
    }
   ],
   "source": [
    "?EmbeddingRouterChain.from_names_and_descriptions"
   ]
  },
  {
   "cell_type": "markdown",
   "id": "39105f06-09ce-4966-ba38-ffca43ff8f70",
   "metadata": {},
   "source": [
    "#### 出错分析\n",
    "可能是因为我们使用了 TransformationChain、SequentialChain等不同的Chain，他们内部会有不同的input、output，虽然我指定了 destination_chains 中每个Chain的输入都是 “question”，输出都是 “text”，但是还是提示 input_variables、output_variables相关的错误。\n",
    "\n",
    "所以，我们还是手动的通过embedding识别意图。"
   ]
  },
  {
   "cell_type": "code",
   "execution_count": 49,
   "id": "c34b65a1-bf20-472d-a5cc-7b488cf67051",
   "metadata": {
    "tags": []
   },
   "outputs": [
    {
     "data": {
      "application/vnd.jupyter.widget-view+json": {
       "model_id": "e77223a0ca174a52bfa63b32267cd3bc",
       "version_major": 2,
       "version_minor": 0
      },
      "text/plain": [
       "Batches:   0%|          | 0/1 [00:00<?, ?it/s]"
      ]
     },
     "metadata": {},
     "output_type": "display_data"
    }
   ],
   "source": [
    "names_and_descriptions = [\n",
    "    (\"recommend\", [\"商品推荐\"]),\n",
    "    (\"faq\", [\"问答-退换货及商品购买咨询\"]),\n",
    "    (\"order_search\", [\"查询商品购买订单\"]),\n",
    "    (\"order_flight\", [\"预定航班\"])\n",
    "]\n",
    "\n",
    "from langchain.docstore.document import Document\n",
    "from langchain.vectorstores import FAISS\n",
    "\n",
    "documents = []\n",
    "for name, descriptions in names_and_descriptions:\n",
    "    for description in descriptions:\n",
    "        documents.append(\n",
    "            Document(page_content=description, metadata={\"name\": name})\n",
    "        )\n",
    "vectorstore = FAISS.from_documents(documents, embeddings)"
   ]
  },
  {
   "cell_type": "code",
   "execution_count": 53,
   "id": "5da1e5d5-4b25-46dc-8423-c30fe4ed49ad",
   "metadata": {
    "tags": []
   },
   "outputs": [
    {
     "data": {
      "application/vnd.jupyter.widget-view+json": {
       "model_id": "4c8ba41f6f2647d1bf1ca8a1e8f47558",
       "version_major": 2,
       "version_minor": 0
      },
      "text/plain": [
       "Batches:   0%|          | 0/1 [00:00<?, ?it/s]"
      ]
     },
     "metadata": {},
     "output_type": "display_data"
    }
   ],
   "source": [
    "intent = vectorstore.similarity_search(\"想要预定今天到上海的CA1234的航班\", k=1)"
   ]
  },
  {
   "cell_type": "code",
   "execution_count": 60,
   "id": "d62bec79-522d-46d9-bbf0-121512e7ff58",
   "metadata": {
    "tags": []
   },
   "outputs": [
    {
     "name": "stdout",
     "output_type": "stream",
     "text": [
      "order_flight\n"
     ]
    }
   ],
   "source": [
    "func = intent[0].metadata[\"name\"]\n",
    "print(func)"
   ]
  },
  {
   "cell_type": "code",
   "execution_count": 62,
   "id": "f1648f8b-d557-4e60-beef-7823fb3d708e",
   "metadata": {
    "tags": []
   },
   "outputs": [],
   "source": [
    "target_chain = destination_chains[func]"
   ]
  },
  {
   "cell_type": "code",
   "execution_count": 63,
   "id": "93b095f5-9151-4195-8d0c-58783ecd7524",
   "metadata": {
    "tags": []
   },
   "outputs": [
    {
     "name": "stderr",
     "output_type": "stream",
     "text": [
      "INFO:root:get_flight_func_inputs:{'question': '想要预定今天到上海的CA1234的航班'}\n",
      "INFO:root:prompt: Below is an instruction that describes a task. Write a response that appropriately completes the request.\n",
      "\n",
      "### Instruction: 从以下对输入中信息提取'['flight_date', 'flight_no']', 不要尝试回答问题, 不要编造答案, 不要使用已有知识, 找不到所需信息则返回空, 结果用json格式.### Input: 想要预定今天到上海的CA1234的航班 \n",
      "\n",
      "### Response:\n",
      "\n",
      "INFO:root:model_kwargs: {'temperature': 0.001, 'top_p': 0.3}\n"
     ]
    },
    {
     "name": "stdout",
     "output_type": "stream",
     "text": [
      "\n",
      "\n",
      "\u001b[1m> Entering new SequentialChain chain...\u001b[0m\n"
     ]
    },
    {
     "name": "stderr",
     "output_type": "stream",
     "text": [
      "INFO:root:response_json: {'answer': '[{\"flight_date\": \"2021-08-22\", \"flight_no\": \"CA1234\"} ]'}\n",
      "INFO:root:==== search_order inputs:{'question': '想要预定今天到上海的CA1234的航班', 'input': ['flight_date', 'flight_no'], 'params': '[{\"flight_date\": \"2021-08-22\", \"flight_no\": \"CA1234\"} ]'}\n"
     ]
    },
    {
     "name": "stdout",
     "output_type": "stream",
     "text": [
      "\n",
      "\u001b[1m> Finished chain.\u001b[0m\n"
     ]
    },
    {
     "data": {
      "text/plain": [
       "{'question': '想要预定今天到上海的CA1234的航班', 'text': '预定：2021-08-22, 航班号：CA1234'}"
      ]
     },
     "execution_count": 63,
     "metadata": {},
     "output_type": "execute_result"
    }
   ],
   "source": [
    "target_chain(\"想要预定今天到上海的CA1234的航班\")"
   ]
  },
  {
   "cell_type": "code",
   "execution_count": null,
   "id": "f031293f-ef83-4c9e-aa52-3ac197407b76",
   "metadata": {},
   "outputs": [],
   "source": []
  }
 ],
 "metadata": {
  "kernelspec": {
   "display_name": "conda_python3",
   "language": "python",
   "name": "conda_python3"
  },
  "language_info": {
   "codemirror_mode": {
    "name": "ipython",
    "version": 3
   },
   "file_extension": ".py",
   "mimetype": "text/x-python",
   "name": "python",
   "nbconvert_exporter": "python",
   "pygments_lexer": "ipython3",
   "version": "3.10.10"
  }
 },
 "nbformat": 4,
 "nbformat_minor": 5
}
