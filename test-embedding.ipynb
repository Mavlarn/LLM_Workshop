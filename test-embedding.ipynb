{
 "cells": [
  {
   "cell_type": "code",
   "execution_count": 2,
   "id": "d5a8ed3c-0984-47f8-a9a4-46e21fd1fd80",
   "metadata": {
    "tags": []
   },
   "outputs": [],
   "source": [
    "import logging\n",
    "logger = logging.getLogger()\n",
    "logger.setLevel(logging.INFO)"
   ]
  },
  {
   "cell_type": "code",
   "execution_count": 1,
   "id": "4ba89107-9620-4c03-bd9a-bb50a1c8f8aa",
   "metadata": {
    "tags": []
   },
   "outputs": [
    {
     "name": "stdout",
     "output_type": "stream",
     "text": [
      "0.0.288\n"
     ]
    }
   ],
   "source": [
    "from langchain import __version__\n",
    "print(__version__)"
   ]
  },
  {
   "cell_type": "code",
   "execution_count": 5,
   "id": "cf48dad1-58d6-4b82-817e-bb21a3b03305",
   "metadata": {
    "tags": []
   },
   "outputs": [
    {
     "name": "stderr",
     "output_type": "stream",
     "text": [
      "No sentence-transformers model found with name ~/SageMaker/.cache/GanymedeNil_text2vec-large-chinese. Creating a new one with MEAN pooling.\n",
      "2023-Sep-14 04:26:28.0997 16965:16965 ERROR  TDRV:tdrv_get_dev_info                       No neuron device available\n",
      "INFO:torch_xla:Letting libtpu.so load fail during _XLAC import. libtpu.so will be loaded from `libtpu` Python package when the ComputationClient is created.\n",
      "INFO:sentence_transformers.SentenceTransformer:Use pytorch device: cpu\n"
     ]
    }
   ],
   "source": [
    "from langchain.embeddings import HuggingFaceEmbeddings\n",
    "\n",
    "t2v_embeddings = HuggingFaceEmbeddings(\n",
    "    model_name='GanymedeNil/text2vec-large-chinese',\n",
    "    cache_folder=\"~/SageMaker/.cache\"\n",
    ")"
   ]
  },
  {
   "cell_type": "code",
   "execution_count": null,
   "id": "11f6315f-4e65-4abc-83b0-b8e6b56a8d52",
   "metadata": {},
   "outputs": [],
   "source": []
  },
  {
   "cell_type": "code",
   "execution_count": 5,
   "id": "13b54c70-9af2-4a0d-b0f8-f0225ef402ab",
   "metadata": {
    "tags": []
   },
   "outputs": [],
   "source": [
    "# %pip install -U FlagEmbedding"
   ]
  },
  {
   "cell_type": "code",
   "execution_count": 6,
   "id": "ede9d078-4355-4630-83aa-14b135317648",
   "metadata": {
    "tags": []
   },
   "outputs": [],
   "source": [
    "from langchain.embeddings import HuggingFaceBgeEmbeddings"
   ]
  },
  {
   "cell_type": "code",
   "execution_count": 7,
   "id": "9c8c7156-bcff-4c2f-90a2-cdb2fdc982be",
   "metadata": {
    "tags": []
   },
   "outputs": [
    {
     "name": "stderr",
     "output_type": "stream",
     "text": [
      "INFO:sentence_transformers.SentenceTransformer:Load pretrained SentenceTransformer: BAAI/bge-large-zh\n"
     ]
    }
   ],
   "source": [
    "model_name = \"BAAI/bge-large-zh\"\n",
    "model_kwargs = {'device': 'cpu'}\n",
    "encode_kwargs = {'normalize_embeddings': False}\n",
    "bge_embeddings = HuggingFaceBgeEmbeddings(\n",
    "    model_name=model_name,\n",
    "    cache_folder=\"~/SageMaker/.cache\",\n",
    "    model_kwargs=model_kwargs,\n",
    "    encode_kwargs=encode_kwargs\n",
    ")"
   ]
  },
  {
   "cell_type": "code",
   "execution_count": 8,
   "id": "302256d5-f9e6-4926-b0de-ae06bf05d53f",
   "metadata": {
    "tags": []
   },
   "outputs": [
    {
     "data": {
      "text/plain": [
       "'为这个句子生成表示以用于检索相关文章：'"
      ]
     },
     "execution_count": 8,
     "metadata": {},
     "output_type": "execute_result"
    }
   ],
   "source": [
    "bge_embeddings.query_instruction"
   ]
  },
  {
   "cell_type": "code",
   "execution_count": 39,
   "id": "654eeeb1-656e-4cd6-837f-89946f18d03b",
   "metadata": {
    "tags": []
   },
   "outputs": [],
   "source": []
  },
  {
   "cell_type": "code",
   "execution_count": 9,
   "id": "87d09d98-39c6-472a-9c61-7778406f7d22",
   "metadata": {
    "tags": []
   },
   "outputs": [],
   "source": [
    "txt1 = \"布洛芬作为临床上常见的非甾体类药物，用于退热、消炎、止痛，更是家庭小药箱的常备。甚至很多人无论哪里疼都吃布洛芬，那么布洛芬真是万能止痛药？吃多了有什么副作用？哪些情况不能使用布洛芬？今天我们就来好好聊聊吧！\"\n",
    "\n",
    "txt2 = \"布洛芬可以缓解多种疼痛，包括头痛、关节痛、偏头痛、牙痛、肌肉痛、神经痛、痛经、术后疼痛、腰痛、运动后损伤性疼痛；劳损、腱鞘炎、滑囊炎引起的疼痛；类风湿关节炎、骨关节炎、其他非类风湿关节炎及急性痛风。注意布洛芬的禁忌人群：孕妇、哺乳期妇女、备孕女性禁用；消化性溃疡或胃肠道出血患者禁用；心脏疾病患者，增加心脏病发作和卒中风险；患有肝病、肾病的患者，可能会加重病情。布洛芬的功效几乎涵盖了日常生活中会遇到的各种疼痛，但请大家注意，遇到某些疼痛时，如果盲目服用止痛药可能会耽误病情。其中最危险的是心脏疾病引起的疼痛，如心绞痛，发作时可能会导致心源性牙痛、后背疼痛、肩膀疼痛、胸部疼痛。发生时应尽快就医，不可自行服用止痛药，耽误最佳治疗时间。\"\n",
    "\n",
    "txt2_2 = \"布洛芬可以缓解多种疼痛，包括头痛、关节痛、偏头痛、牙痛、肌肉痛、神经痛、痛经、术后疼痛、腰痛、运动后损伤性疼痛；劳损、腱鞘炎、滑囊炎引起的疼痛；类风湿关节炎、骨关节炎、其他非类风湿关节炎及急性痛风。注意布洛芬的禁忌人群：孕妇、哺乳期妇女、备孕女性禁用；消化性溃疡或胃肠道出血患者禁用；心脏疾病患者，增加心脏病发作和卒中风险；患有肝病、肾病的患者，可能会加重病情。如果是心绞痛，应尽快就医。\"\n",
    "\n",
    "txt3 = \"正常服用布洛芬后可能出现以下副作用：恶心、呕吐、胃烧灼感、轻度消化不良、头痛、头晕、耳鸣、视物模糊、精神紧张、嗜睡、下肢水肿或体重骤增等。如果过量或长期服用，可能引起严重的副作用，包括严重胃肠道反应(如出血、溃疡、穿孔，表现为呕血、黑便、腹痛、腹胀等)、严重心血管血栓事件(可表现为胸痛、气短、无力、言语含糊等)、严重皮肤反应(如剥脱性皮炎、史约综合征)。如用药期间出现以上症状，或在第一次服药时出现皮疹或其他过敏反应，请停药就诊。因为布洛芬最常见的副作用是胃刺激，所以建议饭后服用！\"\n",
    "\n",
    "txt4 = \"布洛芬不与它们同服：阿司匹林、甲氨蝶呤、地高辛肝素、呋塞米、降压药、降糖药等药物，不建议与布洛芬同时使用。\""
   ]
  },
  {
   "cell_type": "code",
   "execution_count": 49,
   "id": "7bbb7e3c-4a70-4c61-8878-459509cf3f56",
   "metadata": {
    "tags": []
   },
   "outputs": [
    {
     "data": {
      "text/plain": [
       "\u001b[0;31mSignature:\u001b[0m \u001b[0mbge_embeddings\u001b[0m\u001b[0;34m.\u001b[0m\u001b[0membed_query\u001b[0m\u001b[0;34m(\u001b[0m\u001b[0mtext\u001b[0m\u001b[0;34m:\u001b[0m \u001b[0mstr\u001b[0m\u001b[0;34m)\u001b[0m \u001b[0;34m->\u001b[0m \u001b[0mList\u001b[0m\u001b[0;34m[\u001b[0m\u001b[0mfloat\u001b[0m\u001b[0;34m]\u001b[0m\u001b[0;34m\u001b[0m\u001b[0;34m\u001b[0m\u001b[0m\n",
       "\u001b[0;31mSource:\u001b[0m   \n",
       "    \u001b[0;32mdef\u001b[0m \u001b[0membed_query\u001b[0m\u001b[0;34m(\u001b[0m\u001b[0mself\u001b[0m\u001b[0;34m,\u001b[0m \u001b[0mtext\u001b[0m\u001b[0;34m:\u001b[0m \u001b[0mstr\u001b[0m\u001b[0;34m)\u001b[0m \u001b[0;34m->\u001b[0m \u001b[0mList\u001b[0m\u001b[0;34m[\u001b[0m\u001b[0mfloat\u001b[0m\u001b[0;34m]\u001b[0m\u001b[0;34m:\u001b[0m\u001b[0;34m\u001b[0m\n",
       "\u001b[0;34m\u001b[0m        \u001b[0;34m\"\"\"Compute query embeddings using a HuggingFace transformer model.\u001b[0m\n",
       "\u001b[0;34m\u001b[0m\n",
       "\u001b[0;34m        Args:\u001b[0m\n",
       "\u001b[0;34m            text: The text to embed.\u001b[0m\n",
       "\u001b[0;34m\u001b[0m\n",
       "\u001b[0;34m        Returns:\u001b[0m\n",
       "\u001b[0;34m            Embeddings for the text.\u001b[0m\n",
       "\u001b[0;34m        \"\"\"\u001b[0m\u001b[0;34m\u001b[0m\n",
       "\u001b[0;34m\u001b[0m        \u001b[0mtext\u001b[0m \u001b[0;34m=\u001b[0m \u001b[0mtext\u001b[0m\u001b[0;34m.\u001b[0m\u001b[0mreplace\u001b[0m\u001b[0;34m(\u001b[0m\u001b[0;34m\"\\n\"\u001b[0m\u001b[0;34m,\u001b[0m \u001b[0;34m\" \"\u001b[0m\u001b[0;34m)\u001b[0m\u001b[0;34m\u001b[0m\n",
       "\u001b[0;34m\u001b[0m        \u001b[0membedding\u001b[0m \u001b[0;34m=\u001b[0m \u001b[0mself\u001b[0m\u001b[0;34m.\u001b[0m\u001b[0mclient\u001b[0m\u001b[0;34m.\u001b[0m\u001b[0mencode\u001b[0m\u001b[0;34m(\u001b[0m\u001b[0;34m\u001b[0m\n",
       "\u001b[0;34m\u001b[0m            \u001b[0mself\u001b[0m\u001b[0;34m.\u001b[0m\u001b[0mquery_instruction\u001b[0m \u001b[0;34m+\u001b[0m \u001b[0mtext\u001b[0m\u001b[0;34m,\u001b[0m \u001b[0;34m**\u001b[0m\u001b[0mself\u001b[0m\u001b[0;34m.\u001b[0m\u001b[0mencode_kwargs\u001b[0m\u001b[0;34m\u001b[0m\n",
       "\u001b[0;34m\u001b[0m        \u001b[0;34m)\u001b[0m\u001b[0;34m\u001b[0m\n",
       "\u001b[0;34m\u001b[0m        \u001b[0;32mreturn\u001b[0m \u001b[0membedding\u001b[0m\u001b[0;34m.\u001b[0m\u001b[0mtolist\u001b[0m\u001b[0;34m(\u001b[0m\u001b[0;34m)\u001b[0m\u001b[0;34m\u001b[0m\u001b[0;34m\u001b[0m\u001b[0m\n",
       "\u001b[0;31mFile:\u001b[0m      ~/SageMaker/custom-miniconda/miniconda/envs/mt_python3/lib/python3.10/site-packages/langchain/embeddings/huggingface.py\n",
       "\u001b[0;31mType:\u001b[0m      method"
      ]
     },
     "metadata": {},
     "output_type": "display_data"
    }
   ],
   "source": [
    "??bge_embeddings.embed_query"
   ]
  },
  {
   "cell_type": "code",
   "execution_count": 44,
   "id": "d53bc397-fa37-463c-b923-4946db8b5635",
   "metadata": {
    "tags": []
   },
   "outputs": [
    {
     "data": {
      "application/vnd.jupyter.widget-view+json": {
       "model_id": "f56457dede93444588302d056eafc635",
       "version_major": 2,
       "version_minor": 0
      },
      "text/plain": [
       "Batches:   0%|          | 0/1 [00:00<?, ?it/s]"
      ]
     },
     "metadata": {},
     "output_type": "display_data"
    }
   ],
   "source": [
    "embedding = bge_embeddings.embed_query(txt2)"
   ]
  },
  {
   "cell_type": "code",
   "execution_count": 14,
   "id": "0a0dfde1-2126-42f0-b094-74e2c79450a9",
   "metadata": {
    "tags": []
   },
   "outputs": [
    {
     "data": {
      "text/plain": [
       "1024"
      ]
     },
     "execution_count": 14,
     "metadata": {},
     "output_type": "execute_result"
    }
   ],
   "source": [
    "len(embedding)"
   ]
  },
  {
   "cell_type": "code",
   "execution_count": 46,
   "id": "5b913fc9-a44b-4c08-9ef5-710f915e9a64",
   "metadata": {
    "tags": []
   },
   "outputs": [
    {
     "data": {
      "application/vnd.jupyter.widget-view+json": {
       "model_id": "e0e673b43996451aa3b041b9e8e5a77a",
       "version_major": 2,
       "version_minor": 0
      },
      "text/plain": [
       "Batches:   0%|          | 0/1 [00:00<?, ?it/s]"
      ]
     },
     "metadata": {},
     "output_type": "display_data"
    },
    {
     "data": {
      "application/vnd.jupyter.widget-view+json": {
       "model_id": "044d877621da4fa09fb52ddf5013880b",
       "version_major": 2,
       "version_minor": 0
      },
      "text/plain": [
       "Batches:   0%|          | 0/1 [00:00<?, ?it/s]"
      ]
     },
     "metadata": {},
     "output_type": "display_data"
    }
   ],
   "source": [
    "embeddings_txt = bge_embeddings.client.encode(txt2)\n",
    "embeddings_1 = bge_embeddings.client.encode(\"心绞痛可以服用布洛芬吗?\")"
   ]
  },
  {
   "cell_type": "code",
   "execution_count": 47,
   "id": "dcac7b27-828a-45f9-aaf1-65257b34c2e2",
   "metadata": {
    "tags": []
   },
   "outputs": [
    {
     "data": {
      "text/plain": [
       "174.55795"
      ]
     },
     "execution_count": 47,
     "metadata": {},
     "output_type": "execute_result"
    }
   ],
   "source": [
    "embeddings_txt @ embeddings_txt.T"
   ]
  },
  {
   "cell_type": "code",
   "execution_count": 22,
   "id": "7bb9d0ca-4b0d-46de-9bfd-de3e1f61f35e",
   "metadata": {
    "tags": []
   },
   "outputs": [],
   "source": []
  },
  {
   "cell_type": "code",
   "execution_count": 42,
   "id": "18f5c35a-6b91-4aca-936f-27ac3066be9f",
   "metadata": {
    "tags": []
   },
   "outputs": [
    {
     "data": {
      "application/vnd.jupyter.widget-view+json": {
       "model_id": "712b30f2b38943349eec5b6cef499024",
       "version_major": 2,
       "version_minor": 0
      },
      "text/plain": [
       "Batches:   0%|          | 0/1 [00:00<?, ?it/s]"
      ]
     },
     "metadata": {},
     "output_type": "display_data"
    },
    {
     "name": "stdout",
     "output_type": "stream",
     "text": [
      "[[174.55801 166.67966 149.29376 148.19781]\n",
      " [166.67966 166.92181 148.33249 148.04071]\n",
      " [149.29376 148.33249 202.81183 195.49854]\n",
      " [148.19781 148.04071 195.49854 198.49742]]\n"
     ]
    }
   ],
   "source": [
    "sentences = [\"样例数据\", \"样例数据\"]\n",
    "emb_1 = bge_embeddings.client.encode(sentences)\n",
    "similarity = emb_1 @ emb_1.T\n",
    "print(similarity)"
   ]
  },
  {
   "cell_type": "code",
   "execution_count": null,
   "id": "958338a4-07c4-402e-8f8e-9f6e341f4e07",
   "metadata": {
    "tags": []
   },
   "outputs": [],
   "source": [
    "print(txt2)\n",
    "print('----------------------')\n",
    "print(txt2_2)"
   ]
  },
  {
   "cell_type": "code",
   "execution_count": 19,
   "id": "9ba2a2bf-7c85-45e0-beb1-def9ac600294",
   "metadata": {
    "tags": []
   },
   "outputs": [
    {
     "data": {
      "application/vnd.jupyter.widget-view+json": {
       "model_id": "858e1bba15b7471fa0f979094ec08c48",
       "version_major": 2,
       "version_minor": 0
      },
      "text/plain": [
       "Batches:   0%|          | 0/1 [00:00<?, ?it/s]"
      ]
     },
     "metadata": {},
     "output_type": "display_data"
    },
    {
     "name": "stdout",
     "output_type": "stream",
     "text": [
      "[[174.55801 166.67966 149.29376 148.19781]\n",
      " [166.67966 166.92181 148.33249 148.04071]\n",
      " [149.29376 148.33249 202.81183 195.49854]\n",
      " [148.19781 148.04071 195.49854 198.49742]]\n"
     ]
    }
   ],
   "source": [
    "sentences = [txt2, txt2_2, \"心绞痛可以服用布洛芬吗\", \"心绞痛可以服用布洛芬吗?\"]\n",
    "emb_1 = bge_embeddings.client.encode(sentences)\n",
    "similarity = emb_1 @ emb_1.T\n",
    "print(similarity)"
   ]
  },
  {
   "cell_type": "code",
   "execution_count": 3,
   "id": "d10606da-72c0-4fc8-b341-96e1ba32b554",
   "metadata": {
    "tags": []
   },
   "outputs": [],
   "source": [
    "# ??load_evaluator"
   ]
  },
  {
   "cell_type": "code",
   "execution_count": 10,
   "id": "ab65fcd1-4032-4051-ae6c-b45d61a00a41",
   "metadata": {
    "tags": []
   },
   "outputs": [],
   "source": [
    "from langchain.evaluation import load_evaluator\n",
    "\n",
    "bge_evaluator = load_evaluator(\"embedding_distance\", embeddings=bge_embeddings)"
   ]
  },
  {
   "cell_type": "code",
   "execution_count": 13,
   "id": "8e6d7f9a-fd12-4d2e-a8ad-3f06093f9872",
   "metadata": {
    "tags": []
   },
   "outputs": [
    {
     "data": {
      "application/vnd.jupyter.widget-view+json": {
       "model_id": "fa2c86e73f8b4c458750f5a6a697ec27",
       "version_major": 2,
       "version_minor": 0
      },
      "text/plain": [
       "Batches:   0%|          | 0/1 [00:00<?, ?it/s]"
      ]
     },
     "metadata": {},
     "output_type": "display_data"
    },
    {
     "data": {
      "text/plain": [
       "{'score': 0.04215867779681992}"
      ]
     },
     "execution_count": 13,
     "metadata": {},
     "output_type": "execute_result"
    }
   ],
   "source": [
    "bge_evaluator.evaluate_strings(prediction=\"I shall go\", reference=\"I will go\")"
   ]
  },
  {
   "cell_type": "code",
   "execution_count": 17,
   "id": "a182fa71-b7f4-42cc-a6a2-e9ce9c843b03",
   "metadata": {
    "tags": []
   },
   "outputs": [
    {
     "data": {
      "application/vnd.jupyter.widget-view+json": {
       "model_id": "1cf548c9abe84d738742d6e34b1b17c9",
       "version_major": 2,
       "version_minor": 0
      },
      "text/plain": [
       "Batches:   0%|          | 0/1 [00:00<?, ?it/s]"
      ]
     },
     "metadata": {},
     "output_type": "display_data"
    },
    {
     "data": {
      "text/plain": [
       "{'score': 0.017590257632474793}"
      ]
     },
     "execution_count": 17,
     "metadata": {},
     "output_type": "execute_result"
    }
   ],
   "source": [
    "bge_evaluator.evaluate_strings(prediction=\"I shall go\", reference=\"I should go\")"
   ]
  },
  {
   "cell_type": "code",
   "execution_count": 15,
   "id": "800092af-78e6-4622-b9e4-2927010a8efe",
   "metadata": {
    "tags": []
   },
   "outputs": [
    {
     "data": {
      "application/vnd.jupyter.widget-view+json": {
       "model_id": "cf83e9088023404b91976a46e0715a63",
       "version_major": 2,
       "version_minor": 0
      },
      "text/plain": [
       "Batches:   0%|          | 0/1 [00:00<?, ?it/s]"
      ]
     },
     "metadata": {},
     "output_type": "display_data"
    },
    {
     "data": {
      "text/plain": [
       "{'score': 0.2038510231363202}"
      ]
     },
     "execution_count": 15,
     "metadata": {},
     "output_type": "execute_result"
    }
   ],
   "source": [
    "bge_evaluator.evaluate_strings(prediction=txt2, reference=\"心绞痛可以服用布洛芬吗?\")"
   ]
  },
  {
   "cell_type": "code",
   "execution_count": 16,
   "id": "22e6f1d6-538c-436b-8f34-1bcab885efd5",
   "metadata": {
    "tags": []
   },
   "outputs": [
    {
     "data": {
      "application/vnd.jupyter.widget-view+json": {
       "model_id": "786e8dcf4da54b33838c1ffec67372b9",
       "version_major": 2,
       "version_minor": 0
      },
      "text/plain": [
       "Batches:   0%|          | 0/1 [00:00<?, ?it/s]"
      ]
     },
     "metadata": {},
     "output_type": "display_data"
    },
    {
     "data": {
      "text/plain": [
       "{'score': 0.1867064237170366}"
      ]
     },
     "execution_count": 16,
     "metadata": {},
     "output_type": "execute_result"
    }
   ],
   "source": [
    "bge_evaluator.evaluate_strings(prediction=txt2_2, reference=\"心绞痛可以服用布洛芬吗?\")"
   ]
  },
  {
   "cell_type": "code",
   "execution_count": 38,
   "id": "fb1d5f77-2040-4d2b-b2ad-99dc6070968b",
   "metadata": {
    "tags": []
   },
   "outputs": [],
   "source": [
    "# emb_1[1].tolist()"
   ]
  },
  {
   "cell_type": "code",
   "execution_count": 21,
   "id": "7918fb65-4c35-42d1-a99e-b2128fd8546c",
   "metadata": {
    "tags": []
   },
   "outputs": [],
   "source": [
    "from sklearn.metrics.pairwise import cosine_similarity"
   ]
  },
  {
   "cell_type": "code",
   "execution_count": 41,
   "id": "31d70288-6020-40d6-ab55-338829da32ff",
   "metadata": {
    "tags": []
   },
   "outputs": [
    {
     "data": {
      "text/plain": [
       "array([[0.9999993 , 0.97646433, 0.7934593 , 0.7961487 ],\n",
       "       [0.97646433, 0.9999995 , 0.8061818 , 0.8132936 ],\n",
       "       [0.7934593 , 0.8061818 , 1.0000001 , 0.9743607 ],\n",
       "       [0.7961487 , 0.8132936 , 0.9743607 , 1.0000002 ]], dtype=float32)"
      ]
     },
     "execution_count": 41,
     "metadata": {},
     "output_type": "execute_result"
    }
   ],
   "source": [
    "cosine_similarity(emb_1)"
   ]
  },
  {
   "cell_type": "code",
   "execution_count": 52,
   "id": "3c54e2ef-40bd-40aa-8e4b-09ab34020b6b",
   "metadata": {
    "tags": []
   },
   "outputs": [],
   "source": [
    "# bge_embeddings.client"
   ]
  },
  {
   "cell_type": "code",
   "execution_count": 55,
   "id": "0f6b0368-0834-44fb-9d9e-b8c3c47cdf87",
   "metadata": {
    "tags": []
   },
   "outputs": [],
   "source": [
    "instruction = \"为这个句子生成表示以用于检索相关文章：\"\n",
    "query1 = \"心绞痛可以服用布洛芬吗?\"\n",
    "query2 = \"心绞痛可以服用布洛芬吗\""
   ]
  },
  {
   "cell_type": "code",
   "execution_count": 57,
   "id": "fab23e1d-7063-42ee-bd0c-cedd2b22777b",
   "metadata": {
    "tags": []
   },
   "outputs": [
    {
     "data": {
      "application/vnd.jupyter.widget-view+json": {
       "model_id": "6c918f3c8ff844158b91e65591ef0e1d",
       "version_major": 2,
       "version_minor": 0
      },
      "text/plain": [
       "Batches:   0%|          | 0/1 [00:00<?, ?it/s]"
      ]
     },
     "metadata": {},
     "output_type": "display_data"
    },
    {
     "data": {
      "application/vnd.jupyter.widget-view+json": {
       "model_id": "95c30ac837cc41b88ea57ad74e1b0205",
       "version_major": 2,
       "version_minor": 0
      },
      "text/plain": [
       "Batches:   0%|          | 0/1 [00:00<?, ?it/s]"
      ]
     },
     "metadata": {},
     "output_type": "display_data"
    },
    {
     "name": "stdout",
     "output_type": "stream",
     "text": [
      "[[155.3031  154.70758]\n",
      " [154.2406  151.95166]]\n"
     ]
    }
   ],
   "source": [
    "instruction = \"为这个句子生成表示以用于检索相关文章：\"\n",
    "passages = [txt2, txt2_2]\n",
    "queries = [query1, query2]\n",
    "\n",
    "q_embeddings = bge_embeddings.client.encode([instruction+q for q in queries])\n",
    "p_embeddings = bge_embeddings.client.encode(passages)\n",
    "\n",
    "scores = q_embeddings @ p_embeddings.T\n",
    "print(scores)"
   ]
  },
  {
   "cell_type": "code",
   "execution_count": null,
   "id": "7737d1ba-0018-4089-a12d-c429eee734e2",
   "metadata": {},
   "outputs": [],
   "source": []
  },
  {
   "cell_type": "code",
   "execution_count": 39,
   "id": "fdbf98bd-9f4f-4586-9045-d498898fe8e8",
   "metadata": {
    "tags": []
   },
   "outputs": [],
   "source": [
    "from langchain.docstore.document import Document\n",
    "docs = []\n",
    "for txt in [txt1, txt2, txt2_2, txt3, txt4]:\n",
    "    docs.append(Document(page_content=txt))"
   ]
  },
  {
   "cell_type": "code",
   "execution_count": 59,
   "id": "9d97f4fa-ce42-46d1-bd72-03ad09aa768a",
   "metadata": {
    "tags": []
   },
   "outputs": [],
   "source": [
    "from langchain.vectorstores import FAISS, Chroma\n",
    "\n",
    "# vs_faiss = FAISS.from_documents(docs, bge_embeddings)\n",
    "# vs_chroma = Chroma.from_documents(docs, bge_embeddings)"
   ]
  },
  {
   "cell_type": "code",
   "execution_count": 60,
   "id": "6d1d03b7-e58b-4f97-9482-5aa9d234a54c",
   "metadata": {
    "tags": []
   },
   "outputs": [
    {
     "data": {
      "text/plain": [
       "\u001b[0;31mSignature:\u001b[0m\n",
       "\u001b[0mFAISS\u001b[0m\u001b[0;34m.\u001b[0m\u001b[0mfrom_documents\u001b[0m\u001b[0;34m(\u001b[0m\u001b[0;34m\u001b[0m\n",
       "\u001b[0;34m\u001b[0m    \u001b[0mdocuments\u001b[0m\u001b[0;34m:\u001b[0m \u001b[0;34m'List[Document]'\u001b[0m\u001b[0;34m,\u001b[0m\u001b[0;34m\u001b[0m\n",
       "\u001b[0;34m\u001b[0m    \u001b[0membedding\u001b[0m\u001b[0;34m:\u001b[0m \u001b[0;34m'Embeddings'\u001b[0m\u001b[0;34m,\u001b[0m\u001b[0;34m\u001b[0m\n",
       "\u001b[0;34m\u001b[0m    \u001b[0;34m**\u001b[0m\u001b[0mkwargs\u001b[0m\u001b[0;34m:\u001b[0m \u001b[0;34m'Any'\u001b[0m\u001b[0;34m,\u001b[0m\u001b[0;34m\u001b[0m\n",
       "\u001b[0;34m\u001b[0m\u001b[0;34m)\u001b[0m \u001b[0;34m->\u001b[0m \u001b[0;34m'VST'\u001b[0m\u001b[0;34m\u001b[0m\u001b[0;34m\u001b[0m\u001b[0m\n",
       "\u001b[0;31mSource:\u001b[0m   \n",
       "    \u001b[0;34m@\u001b[0m\u001b[0mclassmethod\u001b[0m\u001b[0;34m\u001b[0m\n",
       "\u001b[0;34m\u001b[0m    \u001b[0;32mdef\u001b[0m \u001b[0mfrom_documents\u001b[0m\u001b[0;34m(\u001b[0m\u001b[0;34m\u001b[0m\n",
       "\u001b[0;34m\u001b[0m        \u001b[0mcls\u001b[0m\u001b[0;34m:\u001b[0m \u001b[0mType\u001b[0m\u001b[0;34m[\u001b[0m\u001b[0mVST\u001b[0m\u001b[0;34m]\u001b[0m\u001b[0;34m,\u001b[0m\u001b[0;34m\u001b[0m\n",
       "\u001b[0;34m\u001b[0m        \u001b[0mdocuments\u001b[0m\u001b[0;34m:\u001b[0m \u001b[0mList\u001b[0m\u001b[0;34m[\u001b[0m\u001b[0mDocument\u001b[0m\u001b[0;34m]\u001b[0m\u001b[0;34m,\u001b[0m\u001b[0;34m\u001b[0m\n",
       "\u001b[0;34m\u001b[0m        \u001b[0membedding\u001b[0m\u001b[0;34m:\u001b[0m \u001b[0mEmbeddings\u001b[0m\u001b[0;34m,\u001b[0m\u001b[0;34m\u001b[0m\n",
       "\u001b[0;34m\u001b[0m        \u001b[0;34m**\u001b[0m\u001b[0mkwargs\u001b[0m\u001b[0;34m:\u001b[0m \u001b[0mAny\u001b[0m\u001b[0;34m,\u001b[0m\u001b[0;34m\u001b[0m\n",
       "\u001b[0;34m\u001b[0m    \u001b[0;34m)\u001b[0m \u001b[0;34m->\u001b[0m \u001b[0mVST\u001b[0m\u001b[0;34m:\u001b[0m\u001b[0;34m\u001b[0m\n",
       "\u001b[0;34m\u001b[0m        \u001b[0;34m\"\"\"Return VectorStore initialized from documents and embeddings.\"\"\"\u001b[0m\u001b[0;34m\u001b[0m\n",
       "\u001b[0;34m\u001b[0m        \u001b[0mtexts\u001b[0m \u001b[0;34m=\u001b[0m \u001b[0;34m[\u001b[0m\u001b[0md\u001b[0m\u001b[0;34m.\u001b[0m\u001b[0mpage_content\u001b[0m \u001b[0;32mfor\u001b[0m \u001b[0md\u001b[0m \u001b[0;32min\u001b[0m \u001b[0mdocuments\u001b[0m\u001b[0;34m]\u001b[0m\u001b[0;34m\u001b[0m\n",
       "\u001b[0;34m\u001b[0m        \u001b[0mmetadatas\u001b[0m \u001b[0;34m=\u001b[0m \u001b[0;34m[\u001b[0m\u001b[0md\u001b[0m\u001b[0;34m.\u001b[0m\u001b[0mmetadata\u001b[0m \u001b[0;32mfor\u001b[0m \u001b[0md\u001b[0m \u001b[0;32min\u001b[0m \u001b[0mdocuments\u001b[0m\u001b[0;34m]\u001b[0m\u001b[0;34m\u001b[0m\n",
       "\u001b[0;34m\u001b[0m        \u001b[0;32mreturn\u001b[0m \u001b[0mcls\u001b[0m\u001b[0;34m.\u001b[0m\u001b[0mfrom_texts\u001b[0m\u001b[0;34m(\u001b[0m\u001b[0mtexts\u001b[0m\u001b[0;34m,\u001b[0m \u001b[0membedding\u001b[0m\u001b[0;34m,\u001b[0m \u001b[0mmetadatas\u001b[0m\u001b[0;34m=\u001b[0m\u001b[0mmetadatas\u001b[0m\u001b[0;34m,\u001b[0m \u001b[0;34m**\u001b[0m\u001b[0mkwargs\u001b[0m\u001b[0;34m)\u001b[0m\u001b[0;34m\u001b[0m\u001b[0;34m\u001b[0m\u001b[0m\n",
       "\u001b[0;31mFile:\u001b[0m      ~/SageMaker/custom-miniconda/miniconda/envs/mt_python3/lib/python3.10/site-packages/langchain/vectorstores/base.py\n",
       "\u001b[0;31mType:\u001b[0m      method"
      ]
     },
     "metadata": {},
     "output_type": "display_data"
    }
   ],
   "source": [
    "??FAISS.from_documents"
   ]
  },
  {
   "cell_type": "code",
   "execution_count": 61,
   "id": "6029a079-e803-4c5e-b7a2-23b02588849d",
   "metadata": {
    "tags": []
   },
   "outputs": [
    {
     "data": {
      "text/plain": [
       "\u001b[0;31mSignature:\u001b[0m \u001b[0mHuggingFaceBgeEmbeddings\u001b[0m\u001b[0;34m.\u001b[0m\u001b[0membed_documents\u001b[0m\u001b[0;34m(\u001b[0m\u001b[0mself\u001b[0m\u001b[0;34m,\u001b[0m \u001b[0mtexts\u001b[0m\u001b[0;34m:\u001b[0m \u001b[0mList\u001b[0m\u001b[0;34m[\u001b[0m\u001b[0mstr\u001b[0m\u001b[0;34m]\u001b[0m\u001b[0;34m)\u001b[0m \u001b[0;34m->\u001b[0m \u001b[0mList\u001b[0m\u001b[0;34m[\u001b[0m\u001b[0mList\u001b[0m\u001b[0;34m[\u001b[0m\u001b[0mfloat\u001b[0m\u001b[0;34m]\u001b[0m\u001b[0;34m]\u001b[0m\u001b[0;34m\u001b[0m\u001b[0;34m\u001b[0m\u001b[0m\n",
       "\u001b[0;31mSource:\u001b[0m   \n",
       "    \u001b[0;32mdef\u001b[0m \u001b[0membed_documents\u001b[0m\u001b[0;34m(\u001b[0m\u001b[0mself\u001b[0m\u001b[0;34m,\u001b[0m \u001b[0mtexts\u001b[0m\u001b[0;34m:\u001b[0m \u001b[0mList\u001b[0m\u001b[0;34m[\u001b[0m\u001b[0mstr\u001b[0m\u001b[0;34m]\u001b[0m\u001b[0;34m)\u001b[0m \u001b[0;34m->\u001b[0m \u001b[0mList\u001b[0m\u001b[0;34m[\u001b[0m\u001b[0mList\u001b[0m\u001b[0;34m[\u001b[0m\u001b[0mfloat\u001b[0m\u001b[0;34m]\u001b[0m\u001b[0;34m]\u001b[0m\u001b[0;34m:\u001b[0m\u001b[0;34m\u001b[0m\n",
       "\u001b[0;34m\u001b[0m        \u001b[0;34m\"\"\"Compute doc embeddings using a HuggingFace transformer model.\u001b[0m\n",
       "\u001b[0;34m\u001b[0m\n",
       "\u001b[0;34m        Args:\u001b[0m\n",
       "\u001b[0;34m            texts: The list of texts to embed.\u001b[0m\n",
       "\u001b[0;34m\u001b[0m\n",
       "\u001b[0;34m        Returns:\u001b[0m\n",
       "\u001b[0;34m            List of embeddings, one for each text.\u001b[0m\n",
       "\u001b[0;34m        \"\"\"\u001b[0m\u001b[0;34m\u001b[0m\n",
       "\u001b[0;34m\u001b[0m        \u001b[0mtexts\u001b[0m \u001b[0;34m=\u001b[0m \u001b[0;34m[\u001b[0m\u001b[0mt\u001b[0m\u001b[0;34m.\u001b[0m\u001b[0mreplace\u001b[0m\u001b[0;34m(\u001b[0m\u001b[0;34m\"\\n\"\u001b[0m\u001b[0;34m,\u001b[0m \u001b[0;34m\" \"\u001b[0m\u001b[0;34m)\u001b[0m \u001b[0;32mfor\u001b[0m \u001b[0mt\u001b[0m \u001b[0;32min\u001b[0m \u001b[0mtexts\u001b[0m\u001b[0;34m]\u001b[0m\u001b[0;34m\u001b[0m\n",
       "\u001b[0;34m\u001b[0m        \u001b[0membeddings\u001b[0m \u001b[0;34m=\u001b[0m \u001b[0mself\u001b[0m\u001b[0;34m.\u001b[0m\u001b[0mclient\u001b[0m\u001b[0;34m.\u001b[0m\u001b[0mencode\u001b[0m\u001b[0;34m(\u001b[0m\u001b[0mtexts\u001b[0m\u001b[0;34m,\u001b[0m \u001b[0;34m**\u001b[0m\u001b[0mself\u001b[0m\u001b[0;34m.\u001b[0m\u001b[0mencode_kwargs\u001b[0m\u001b[0;34m)\u001b[0m\u001b[0;34m\u001b[0m\n",
       "\u001b[0;34m\u001b[0m        \u001b[0;32mreturn\u001b[0m \u001b[0membeddings\u001b[0m\u001b[0;34m.\u001b[0m\u001b[0mtolist\u001b[0m\u001b[0;34m(\u001b[0m\u001b[0;34m)\u001b[0m\u001b[0;34m\u001b[0m\u001b[0;34m\u001b[0m\u001b[0m\n",
       "\u001b[0;31mFile:\u001b[0m      ~/SageMaker/custom-miniconda/miniconda/envs/mt_python3/lib/python3.10/site-packages/langchain/embeddings/huggingface.py\n",
       "\u001b[0;31mType:\u001b[0m      function"
      ]
     },
     "metadata": {},
     "output_type": "display_data"
    }
   ],
   "source": [
    "??HuggingFaceBgeEmbeddings.embed_documents"
   ]
  },
  {
   "cell_type": "code",
   "execution_count": null,
   "id": "3fe9586a-b7c6-4cb1-b8d4-435ef696a646",
   "metadata": {},
   "outputs": [],
   "source": [
    "from langchain.docstore.document import Document\n",
    "\n",
    "documents = []\n",
    "for prod in [prod1, prod2, prod3, prod4, prod5, prod6]:\n",
    "    prod = prod.replace('\\n', ' ')\n",
    "    new_doc = Document(\n",
    "        page_content=prod, metadata={'type': 'Prod'}\n",
    "    )\n",
    "    documents.append(new_doc)"
   ]
  }
 ],
 "metadata": {
  "kernelspec": {
   "display_name": "Custom (mt_python3)",
   "language": "python",
   "name": "mt_python3"
  },
  "language_info": {
   "codemirror_mode": {
    "name": "ipython",
    "version": 3
   },
   "file_extension": ".py",
   "mimetype": "text/x-python",
   "name": "python",
   "nbconvert_exporter": "python",
   "pygments_lexer": "ipython3",
   "version": "3.10.11"
  }
 },
 "nbformat": 4,
 "nbformat_minor": 5
}
