{
 "cells": [
  {
   "cell_type": "markdown",
   "id": "2664dd0a-2461-489c-9243-d15f205d248b",
   "metadata": {},
   "source": [
    "### 测试商品推荐场景下的LLM的能力\n"
   ]
  },
  {
   "cell_type": "markdown",
   "id": "0f72b234-4c03-478f-993f-b98585bb8a64",
   "metadata": {},
   "source": [
    "使用chromapip install chromadb"
   ]
  },
  {
   "cell_type": "code",
   "execution_count": null,
   "id": "d7b9eda7-ad41-466d-af5f-514a6ca2ac11",
   "metadata": {
    "tags": []
   },
   "outputs": [],
   "source": [
    "# %pip install chromadb"
   ]
  },
  {
   "cell_type": "code",
   "execution_count": 126,
   "id": "6532ebc4-4b16-4281-ba79-1aa2a12d0883",
   "metadata": {
    "tags": []
   },
   "outputs": [],
   "source": [
    "prod1 = \"\"\"歌莉娅官方正品真丝缎面打底背心女V领无袖西装内搭吊带醋酸上衣\n",
    "价格82.89元\n",
    "品牌：GLORIA/歌莉娅\n",
    "尺码：S,M,L,XL,2XL,3XL\n",
    "质地：其他/other\n",
    "图案：纯色\n",
    "风格：通勤\n",
    "流行元素：拼接\n",
    "颜色分类：香槟色,白色,黑色\n",
    "组合形式：单件\n",
    "货号：1192051\n",
    "年份季节：2022年春季\n",
    "衣长：常规\n",
    "款式：吊带\n",
    "材质成分：其他材质100%\n",
    "购买链接：https://www.taobao.com/list/item/709454170667.htm?spm=a21wu.10013406.taglist-content.3.d2756680mzL0uL\n",
    "\"\"\"\n",
    "\n",
    "prod2 = \"\"\"歌莉娅蝴蝶碎花v领连衣裙女装夏装显瘦气质礼服裙子1A6H4KAKA\n",
    "会员价格：309元。非会员价格399.00元。\n",
    "品牌：GLORIA/歌莉娅\n",
    "适用年龄：25-29周岁\n",
    "尺码：XS S M L XL XXL\n",
    "图案：花色\n",
    "风格：通勤\n",
    "通勤：简约\n",
    "领型：V领\n",
    "腰型：高腰\n",
    "衣门襟：套头\n",
    "颜色分类：27D黑底印花\n",
    "袖型：常规\n",
    "货号：1A6H4KAKA\n",
    "裙型：A字裙\n",
    "年份季节：2022年夏季\n",
    "袖长：短袖\n",
    "裙长：中裙\n",
    "流行元素/工艺：印花\n",
    "款式：v领连衣裙\n",
    "销售渠道类型：商场同款(线上线下都销售)\n",
    "廓形：A型\n",
    "材质成分：粘胶纤维(粘纤)100%\n",
    "购买链接：https://www.taobao.com/list/item/678724503513.htm?spm=a21wu.10013406.taglist-content.1.d2756680mzL0uL\n",
    "\n",
    "洗涤说明：\n",
    "手洗，洗涤温度不高于40°C 不可漂白 在阴凉处悬挂滴干 不可翻转干燥 熨斗底板\n",
    "温度不高预售110°C 不可干洗整件衣服在穿着时请小心，以免勾纱 深浅色衣物\n",
    "分开洗涤 避开脚钮熨烫 不可扭干，理平晾干 衣服洗后易起皱，为美观起见，\n",
    "每次洗后请熨烫平整后再穿着 因面料特性，衣服折叠易产生折痕，请悬挂存放。\"\"\"\n",
    "\n",
    "prod3 = \"\"\"JNBY/江南布衣23夏新品连衣裙音符印花宽松5N4210770款式的商品详细信息：\n",
    "5N4210770非会员价价格是995元，会员价格889元。\n",
    "品牌：JNBY/江南布衣 \n",
    "适用年龄：25-29周岁\n",
    "尺码：XS S M L\n",
    "图案：印花\n",
    "风格：通勤\n",
    "通勤：淑女\n",
    "领型：圆领\n",
    "衣门襟：一粒扣\n",
    "颜色分类：853/杂桔 077/杂灰咖 973/米黑双色\n",
    "袖型：常规\n",
    "组合形式：单件\n",
    "货号：5N4210770\n",
    "裙型：A字裙\n",
    "适用季节：夏季\n",
    "年份季节：2023年夏季\n",
    "袖长：短袖\n",
    "裙长：短裙\n",
    "流行元素/工艺：印花\n",
    "款式：印花裙\n",
    "销售渠道类型：商场同款(线上线下都销售)\n",
    "廓形：A型\n",
    "\n",
    "材质成分：棉100%\n",
    "\n",
    "如果想购买，可以访问一下【https://www.taobao.com/list/item/698737921676.htm?spm=a21wu.10013406.taglist-content.1.3a0359e5vRvpmC】链接进行购买\n",
    "\n",
    "洗护方式如下：\n",
    "洗涤说明：不可漂白、悬挂阴干、最高水温40°C、小心手洗\n",
    "护理说明\n",
    "①建议在阴凉通风,处悬挂阴干，以免拉长变形。\n",
    "②不建议机洗，推荐中性洗涤剂手洗，注意深浅颜色分开。\n",
    "③通风透气、保持干燥，应放置适量的专用防霉防蛀药剂，以免发霉、虫蛀。\n",
    "温馨提示：具体洗涤维护请以洗唛为准。\"\"\"\n",
    "\n",
    "\n",
    "prod4 = \"\"\"品牌：JNBY/江南布衣\n",
    "商品名称：JNBY/江南布衣23夏新款印花连衣裙5N4210780\n",
    "价格：非会员价为1188元，会员价格为1069元\n",
    "适用年龄：25-29周岁\n",
    "尺码：XS S M L\n",
    "图案：印花\n",
    "风格：休闲\n",
    "适用季节：夏季\n",
    "领型：V领\n",
    "衣门襟：一粒扣\n",
    "颜色分类：567/杂蓝 902/黑色 155/白色\n",
    "袖型：短袖\n",
    "组合形式：单件\n",
    "货号：5N4210780\n",
    "裙型：修身裙\n",
    "年份季节：2023年夏季\n",
    "裙长：中裙\n",
    "流行元素/工艺：印花\n",
    "销售渠道类型：线上销售\n",
    "材质成分：棉80%，聚酯纤维20%\n",
    "购买链接：【xxx\n",
    "\"\"\"\n",
    "\n",
    "prod5=\"\"\"品牌：JNBY/江南布衣\n",
    "商品名称：JNBY/江南布衣23夏季新款宽松连衣裙5N4210790\n",
    "价格：非会员价为899元，会员价格为809元\n",
    "适用年龄：25-29周岁\n",
    "尺码：XS S M L\n",
    "图案：纯色\n",
    "风格：休闲\n",
    "适用季节：夏季\n",
    "领型：圆领\n",
    "衣门襟：没有扣子\n",
    "颜色分类：315/粉色 620/天蓝色 001/黑色\n",
    "袖型：短袖\n",
    "组合形式：单件\n",
    "货号：5N4210790\n",
    "裙型：宽松裙\n",
    "年份季节：2023年夏季\n",
    "裙长：短裙\n",
    "流行元素/工艺：简约\n",
    "销售渠道类型：线上销售\n",
    "材质成分：棉95%，氨纶5%\n",
    "购买链接：【xxx】\"\"\"\n",
    "\n",
    "prod6=\"\"\"\n",
    "品牌：JNBY/江南布衣\n",
    "商品名称：JNBY/江南布衣23夏季新款连衣裙5N4210800\n",
    "价格：非会员价为1299元，会员价格为1169元\n",
    "适用年龄：25-29周岁\n",
    "尺码：XS S M L\n",
    "图案：条纹\n",
    "风格：时尚\n",
    "适用季节：夏季\n",
    "领型：方领\n",
    "衣门襟：拉链\n",
    "颜色分类：819/红色条纹 502/蓝色条纹 004/黑色条纹\n",
    "袖型：无袖\n",
    "组合形式：单件\n",
    "货号：5N4210800\n",
    "裙型：修身裙\n",
    "年份季节：2023年夏季\n",
    "裙长：中裙\n",
    "流行元素/工艺：拼接\n",
    "销售渠道类型：商场同款(线上线下都销售)\n",
    "材质成分：棉70%，聚酯纤维30%\n",
    "购买链接：【xxx】\"\"\""
   ]
  },
  {
   "cell_type": "code",
   "execution_count": 127,
   "id": "93777593-7715-4cbe-9c40-30eba110c6a5",
   "metadata": {
    "tags": []
   },
   "outputs": [],
   "source": [
    "from langchain.docstore.document import Document\n",
    "\n",
    "documents = []\n",
    "for prod in [prod1, prod2, prod3, prod4, prod5, prod6]:\n",
    "    prod = prod.replace('\\n', ' ')\n",
    "    new_doc = Document(\n",
    "        page_content=prod, metadata={'type': 'Prod'}\n",
    "    )\n",
    "    documents.append(new_doc)"
   ]
  },
  {
   "cell_type": "code",
   "execution_count": 128,
   "id": "83bbfcca-8e6c-4cd7-9e90-10b3e6da1556",
   "metadata": {
    "tags": []
   },
   "outputs": [
    {
     "data": {
      "text/plain": [
       "Document(page_content='歌莉娅蝴蝶碎花v领连衣裙女装夏装显瘦气质礼服裙子1A6H4KAKA 会员价格：309元。非会员价格399.00元。 品牌：GLORIA/歌莉娅 适用年龄：25-29周岁 尺码：XS S M L XL XXL 图案：花色 风格：通勤 通勤：简约 领型：V领 腰型：高腰 衣门襟：套头 颜色分类：27D黑底印花 袖型：常规 货号：1A6H4KAKA 裙型：A字裙 年份季节：2022年夏季 袖长：短袖 裙长：中裙 流行元素/工艺：印花 款式：v领连衣裙 销售渠道类型：商场同款(线上线下都销售) 廓形：A型 材质成分：粘胶纤维(粘纤)100% 购买链接：https://www.taobao.com/list/item/678724503513.htm?spm=a21wu.10013406.taglist-content.1.d2756680mzL0uL  洗涤说明： 手洗，洗涤温度不高于40°C 不可漂白 在阴凉处悬挂滴干 不可翻转干燥 熨斗底板 温度不高预售110°C 不可干洗整件衣服在穿着时请小心，以免勾纱 深浅色衣物 分开洗涤 避开脚钮熨烫 不可扭干，理平晾干 衣服洗后易起皱，为美观起见， 每次洗后请熨烫平整后再穿着 因面料特性，衣服折叠易产生折痕，请悬挂存放。', metadata={'type': 'Prod'})"
      ]
     },
     "execution_count": 128,
     "metadata": {},
     "output_type": "execute_result"
    }
   ],
   "source": [
    "documents[1]"
   ]
  },
  {
   "cell_type": "code",
   "execution_count": 12,
   "id": "da340b63-0b6f-4045-8f7c-74fd7dccebfb",
   "metadata": {
    "tags": []
   },
   "outputs": [
    {
     "name": "stderr",
     "output_type": "stream",
     "text": [
      "No sentence-transformers model found with name /home/ec2-user/.cache/torch/sentence_transformers/GanymedeNil_text2vec-large-chinese. Creating a new one with MEAN pooling.\n"
     ]
    }
   ],
   "source": [
    "from langchain.embeddings import HuggingFaceEmbeddings\n",
    "\n",
    "embeddings = HuggingFaceEmbeddings(model_name='GanymedeNil/text2vec-large-chinese')"
   ]
  },
  {
   "cell_type": "code",
   "execution_count": 129,
   "id": "cc910e48-8c16-4ef8-b8bc-69a6d518311c",
   "metadata": {
    "tags": []
   },
   "outputs": [
    {
     "name": "stderr",
     "output_type": "stream",
     "text": [
      "INFO:chromadb.telemetry.posthog:Anonymized telemetry enabled. See https://docs.trychroma.com/telemetry for more information.\n"
     ]
    },
    {
     "data": {
      "application/vnd.jupyter.widget-view+json": {
       "model_id": "dff99c81d1bb4123bc8dadceb95f7854",
       "version_major": 2,
       "version_minor": 0
      },
      "text/plain": [
       "Batches:   0%|          | 0/1 [00:00<?, ?it/s]"
      ]
     },
     "metadata": {},
     "output_type": "display_data"
    },
    {
     "name": "stdout",
     "output_type": "stream",
     "text": [
      "CPU times: user 18.8 s, sys: 5.32 s, total: 24.2 s\n",
      "Wall time: 27.6 s\n"
     ]
    }
   ],
   "source": [
    "%%time\n",
    "from langchain.vectorstores import FAISS, Chroma\n",
    "\n",
    "vector_store = Chroma.from_documents(documents, embeddings)"
   ]
  },
  {
   "cell_type": "code",
   "execution_count": 130,
   "id": "9fa90e98-e501-4db2-a4a7-92d2b2986434",
   "metadata": {
    "tags": []
   },
   "outputs": [
    {
     "data": {
      "application/vnd.jupyter.widget-view+json": {
       "model_id": "7168303e39ff453784cd95a65a8f7f31",
       "version_major": 2,
       "version_minor": 0
      },
      "text/plain": [
       "Batches:   0%|          | 0/1 [00:00<?, ?it/s]"
      ]
     },
     "metadata": {},
     "output_type": "display_data"
    },
    {
     "name": "stderr",
     "output_type": "stream",
     "text": [
      "INFO:faiss.loader:Loading faiss with AVX2 support.\n",
      "INFO:faiss.loader:Successfully loaded faiss with AVX2 support.\n"
     ]
    },
    {
     "name": "stdout",
     "output_type": "stream",
     "text": [
      "CPU times: user 18.6 s, sys: 5.35 s, total: 23.9 s\n",
      "Wall time: 27.2 s\n"
     ]
    }
   ],
   "source": [
    "%%time\n",
    "\n",
    "vector_store2 = FAISS.from_documents(documents, embeddings)"
   ]
  },
  {
   "cell_type": "code",
   "execution_count": 132,
   "id": "93025b64-a3a4-43d0-a853-a4a2e485ec4d",
   "metadata": {
    "tags": []
   },
   "outputs": [
    {
     "data": {
      "application/vnd.jupyter.widget-view+json": {
       "model_id": "43a260a2e11b4b7a8ea9a9f1f703bbaf",
       "version_major": 2,
       "version_minor": 0
      },
      "text/plain": [
       "Batches:   0%|          | 0/1 [00:00<?, ?it/s]"
      ]
     },
     "metadata": {},
     "output_type": "display_data"
    },
    {
     "name": "stdout",
     "output_type": "stream",
     "text": [
      "CPU times: user 303 ms, sys: 2.08 ms, total: 305 ms\n",
      "Wall time: 338 ms\n"
     ]
    },
    {
     "name": "stderr",
     "output_type": "stream",
     "text": [
      "/home/ec2-user/SageMaker/custom-miniconda/miniconda/envs/mt_python3/lib/python3.10/site-packages/langchain/vectorstores/base.py:148: UserWarning: Relevance scores must be between 0 and 1, got [(Document(page_content='歌莉娅蝴蝶碎花v领连衣裙女装夏装显瘦气质礼服裙子1A6H4KAKA 会员价格：309元。非会员价格399.00元。 品牌：GLORIA/歌莉娅 适用年龄：25-29周岁 尺码：XS S M L XL XXL 图案：花色 风格：通勤 通勤：简约 领型：V领 腰型：高腰 衣门襟：套头 颜色分类：27D黑底印花 袖型：常规 货号：1A6H4KAKA 裙型：A字裙 年份季节：2022年夏季 袖长：短袖 裙长：中裙 流行元素/工艺：印花 款式：v领连衣裙 销售渠道类型：商场同款(线上线下都销售) 廓形：A型 材质成分：粘胶纤维(粘纤)100% 购买链接：https://www.taobao.com/list/item/678724503513.htm?spm=a21wu.10013406.taglist-content.1.d2756680mzL0uL  洗涤说明： 手洗，洗涤温度不高于40°C 不可漂白 在阴凉处悬挂滴干 不可翻转干燥 熨斗底板 温度不高预售110°C 不可干洗整件衣服在穿着时请小心，以免勾纱 深浅色衣物 分开洗涤 避开脚钮熨烫 不可扭干，理平晾干 衣服洗后易起皱，为美观起见， 每次洗后请熨烫平整后再穿着 因面料特性，衣服折叠易产生折痕，请悬挂存放。', metadata={'type': 'Prod'}), -652.1138009096943), (Document(page_content='JNBY/江南布衣23夏新品连衣裙音符印花宽松5N4210770款式的商品详细信息： 5N4210770非会员价价格是995元，会员价格889元。 品牌：JNBY/江南布衣  适用年龄：25-29周岁 尺码：XS S M L 图案：印花 风格：通勤 通勤：淑女 领型：圆领 衣门襟：一粒扣 颜色分类：853/杂桔 077/杂灰咖 973/米黑双色 袖型：常规 组合形式：单件 货号：5N4210770 裙型：A字裙 适用季节：夏季 年份季节：2023年夏季 袖长：短袖 裙长：短裙 流行元素/工艺：印花 款式：印花裙 销售渠道类型：商场同款(线上线下都销售) 廓形：A型  材质成分：棉100%  如果想购买，可以访问一下【https://www.taobao.com/list/item/698737921676.htm?spm=a21wu.10013406.taglist-content.1.3a0359e5vRvpmC】链接进行购买  洗护方式如下： 洗涤说明：不可漂白、悬挂阴干、最高水温40°C、小心手洗 护理说明 ①建议在阴凉通风,处悬挂阴干，以免拉长变形。 ②不建议机洗，推荐中性洗涤剂手洗，注意深浅颜色分开。 ③通风透气、保持干燥，应放置适量的专用防霉防蛀药剂，以免发霉、虫蛀。 温馨提示：具体洗涤维护请以洗唛为准。', metadata={'type': 'Prod'}), -658.9647610198965), (Document(page_content=' 品牌：JNBY/江南布衣 商品名称：JNBY/江南布衣23夏季新款连衣裙5N4210800 价格：非会员价为1299元，会员价格为1169元 适用年龄：25-29周岁 尺码：XS S M L 图案：条纹 风格：时尚 适用季节：夏季 领型：方领 衣门襟：拉链 颜色分类：819/红色条纹 502/蓝色条纹 004/黑色条纹 袖型：无袖 组合形式：单件 货号：5N4210800 裙型：修身裙 年份季节：2023年夏季 裙长：中裙 流行元素/工艺：拼接 销售渠道类型：商场同款(线上线下都销售) 材质成分：棉70%，聚酯纤维30% 购买链接：【xxx】', metadata={'type': 'Prod'}), -660.0870081897692)]\n",
      "  warnings.warn(\n"
     ]
    },
    {
     "data": {
      "text/plain": [
       "[(Document(page_content='歌莉娅蝴蝶碎花v领连衣裙女装夏装显瘦气质礼服裙子1A6H4KAKA 会员价格：309元。非会员价格399.00元。 品牌：GLORIA/歌莉娅 适用年龄：25-29周岁 尺码：XS S M L XL XXL 图案：花色 风格：通勤 通勤：简约 领型：V领 腰型：高腰 衣门襟：套头 颜色分类：27D黑底印花 袖型：常规 货号：1A6H4KAKA 裙型：A字裙 年份季节：2022年夏季 袖长：短袖 裙长：中裙 流行元素/工艺：印花 款式：v领连衣裙 销售渠道类型：商场同款(线上线下都销售) 廓形：A型 材质成分：粘胶纤维(粘纤)100% 购买链接：https://www.taobao.com/list/item/678724503513.htm?spm=a21wu.10013406.taglist-content.1.d2756680mzL0uL  洗涤说明： 手洗，洗涤温度不高于40°C 不可漂白 在阴凉处悬挂滴干 不可翻转干燥 熨斗底板 温度不高预售110°C 不可干洗整件衣服在穿着时请小心，以免勾纱 深浅色衣物 分开洗涤 避开脚钮熨烫 不可扭干，理平晾干 衣服洗后易起皱，为美观起见， 每次洗后请熨烫平整后再穿着 因面料特性，衣服折叠易产生折痕，请悬挂存放。', metadata={'type': 'Prod'}),\n",
       "  -652.1138009096943),\n",
       " (Document(page_content='JNBY/江南布衣23夏新品连衣裙音符印花宽松5N4210770款式的商品详细信息： 5N4210770非会员价价格是995元，会员价格889元。 品牌：JNBY/江南布衣  适用年龄：25-29周岁 尺码：XS S M L 图案：印花 风格：通勤 通勤：淑女 领型：圆领 衣门襟：一粒扣 颜色分类：853/杂桔 077/杂灰咖 973/米黑双色 袖型：常规 组合形式：单件 货号：5N4210770 裙型：A字裙 适用季节：夏季 年份季节：2023年夏季 袖长：短袖 裙长：短裙 流行元素/工艺：印花 款式：印花裙 销售渠道类型：商场同款(线上线下都销售) 廓形：A型  材质成分：棉100%  如果想购买，可以访问一下【https://www.taobao.com/list/item/698737921676.htm?spm=a21wu.10013406.taglist-content.1.3a0359e5vRvpmC】链接进行购买  洗护方式如下： 洗涤说明：不可漂白、悬挂阴干、最高水温40°C、小心手洗 护理说明 ①建议在阴凉通风,处悬挂阴干，以免拉长变形。 ②不建议机洗，推荐中性洗涤剂手洗，注意深浅颜色分开。 ③通风透气、保持干燥，应放置适量的专用防霉防蛀药剂，以免发霉、虫蛀。 温馨提示：具体洗涤维护请以洗唛为准。', metadata={'type': 'Prod'}),\n",
       "  -658.9647610198965),\n",
       " (Document(page_content=' 品牌：JNBY/江南布衣 商品名称：JNBY/江南布衣23夏季新款连衣裙5N4210800 价格：非会员价为1299元，会员价格为1169元 适用年龄：25-29周岁 尺码：XS S M L 图案：条纹 风格：时尚 适用季节：夏季 领型：方领 衣门襟：拉链 颜色分类：819/红色条纹 502/蓝色条纹 004/黑色条纹 袖型：无袖 组合形式：单件 货号：5N4210800 裙型：修身裙 年份季节：2023年夏季 裙长：中裙 流行元素/工艺：拼接 销售渠道类型：商场同款(线上线下都销售) 材质成分：棉70%，聚酯纤维30% 购买链接：【xxx】', metadata={'type': 'Prod'}),\n",
       "  -660.0870081897692)]"
      ]
     },
     "execution_count": 132,
     "metadata": {},
     "output_type": "execute_result"
    }
   ],
   "source": [
    "%%time\n",
    "vector_store.similarity_search_with_relevance_scores('高腰', k=3)"
   ]
  },
  {
   "cell_type": "code",
   "execution_count": null,
   "id": "1cdb3cb0-3296-49d0-92ab-569a863bf46d",
   "metadata": {},
   "outputs": [],
   "source": []
  },
  {
   "cell_type": "code",
   "execution_count": 116,
   "id": "e3c1106d-1184-49a1-8e86-c4a39bd33e00",
   "metadata": {},
   "outputs": [
    {
     "data": {
      "text/plain": [
       "<module 'prompt_generator' from '/home/ec2-user/SageMaker/LLM_Workshop/prompt_generator.py'>"
      ]
     },
     "execution_count": 116,
     "metadata": {},
     "output_type": "execute_result"
    }
   ],
   "source": [
    "# from prompt_generator import generate_prompt as gen_prompt\n",
    "import prompt_generator as pg\n",
    "import importlib\n",
    "\n",
    "importlib.reload(pg)"
   ]
  },
  {
   "cell_type": "code",
   "execution_count": 102,
   "id": "7991a766-7101-4874-a8c8-bf539b588c8f",
   "metadata": {
    "tags": []
   },
   "outputs": [
    {
     "name": "stderr",
     "output_type": "stream",
     "text": [
      "INFO:botocore.credentials:Found credentials from IAM Role: BaseNotebookInstanceEc2InstanceRole\n"
     ]
    }
   ],
   "source": [
    "from typing import Dict\n",
    "from langchain.prompts import PromptTemplate\n",
    "from langchain import SagemakerEndpoint\n",
    "from langchain.llms.sagemaker_endpoint import LLMContentHandler\n",
    "from langchain.chains.question_answering import load_qa_chain\n",
    "from langchain.memory import ConversationBufferWindowMemory\n",
    "from langchain.chains import RetrievalQA\n",
    "\n",
    "import json\n",
    "\n",
    "import logging\n",
    "logger = logging.getLogger()\n",
    "logger.setLevel(logging.INFO)\n",
    "\n",
    "sagemaker_endpoint_name = \"mt-cpmbee-g4dn\"\n",
    "# sagemaker_endpoint_name = \"mt-chatglm2-g4dn\"\n",
    "# sagemaker_endpoint_name = \"mt-cn-alpaca2-7b-g5\"\n",
    "# sagemaker_endpoint_name = \"mt-djl-chatglm2-ds-g4dn\"\n",
    "\n",
    "class ContentHandler(LLMContentHandler):\n",
    "    content_type = \"application/json\"\n",
    "    accepts = \"application/json\"\n",
    "\n",
    "    def transform_input(self, prompt: str, model_kwargs: Dict) -> bytes:\n",
    "        parameters = {\"temperature\": 0.5}\n",
    "        input = {\"inputs\": prompt, \"parameters\": parameters }\n",
    "        logging.info(\"prompt: %s\", prompt)\n",
    "        logging.info(\"model parameters: %s\", parameters)\n",
    "        input_str = json.dumps(input)\n",
    "        return input_str.encode('utf-8')\n",
    "    \n",
    "    def transform_output(self, output: bytes) -> str:\n",
    "        response_json = json.loads(output.read().decode(\"utf-8\"))\n",
    "        logging.info(\"response_json: %s\", response_json)\n",
    "        return response_json[\"outputs\"]\n",
    "\n",
    "content_handler = ContentHandler()\n",
    "\n",
    "chatglm_model = SagemakerEndpoint(\n",
    "    endpoint_name=sagemaker_endpoint_name, \n",
    "    region_name=\"us-east-1\", \n",
    "    content_handler=content_handler\n",
    ")\n",
    "\n",
    "# prompt_template = pg.generate_prompt_conversional_qa('baichuan')\n",
    "# input = f\"\"\"[INST] <<SYS>>\\nYou are a helpful assistant. 你是一个乐于助人的助手。\\n<</SYS>>\\n\\n{text} [/INST]\"\"\"\n",
    "\n",
    "prompt_template_cpmbee = \"\"\"{{\n",
    "        \"input\": \"{context}\",\n",
    "        \"prompt\": \"问答\",\n",
    "        \"question\": \"{question}\",\n",
    "        \"<ans>\":\"\"\n",
    "    }}\"\"\"\n",
    "\n",
    "prompt_template_llama2 = \"\"\"<s>[INST] <<SYS>>\n",
    "You are a helpful assistant. 你是一个乐于助人的助手。\n",
    "<</SYS>>\n",
    "\n",
    "{context}\n",
    "{question} [/INST]\"\"\"\n",
    "\n",
    "prompt_template_baichuan = \"\"\"Below is an instruction that describes a task. Write a response that appropriately completes the request.\\n\\n### Instruction:\\n{}\\n\\n### Response:\"\"\"\n",
    "\n",
    "prompt_template_llama1 = \"\"\"Below is an instruction that describes a task. Write a response that appropriately completes the request.\n",
    "\n",
    "### Instruction:\n",
    "使用下面的商品信息，简洁的回答用户的问题，不要使用已有的知识，不要编造答案。\n",
    "\n",
    "已知内容:\n",
    "{context}\n",
    "\n",
    "历史记录:\n",
    "{chat_history}\n",
    "\n",
    "问题: {question}\n",
    "\n",
    "### Response:\"\"\"\n",
    "\n",
    "prompt_template_chatglm = \"\"\"Below is an instruction that describes a task. Write a response that appropriately completes the request.\n",
    "\n",
    "### Instruction:\n",
    "使用下面的商品信息，简洁的回答用户的问题，不要使用已有的知识，不要编造答案。\n",
    "\n",
    "已知内容:\n",
    "{context}\n",
    "\n",
    "历史记录:\n",
    "{chat_history}\n",
    "\n",
    "问题: {question}\n",
    "\n",
    "### Response:\"\"\"\n",
    "\n",
    "PROMPT = PromptTemplate(\n",
    "    template=prompt_template_cpmbee, input_variables=[\"context\", \"question\"]\n",
    ")\n",
    "# PROMPT = PromptTemplate(\n",
    "#     template=prompt_template_chatglm, input_variables=[\"context\", \"chat_history\", \"question\"]\n",
    "# )\n",
    "# chain_type_kwargs = {\"prompt\": PROMPT}\n",
    "conversation_memory = ConversationBufferWindowMemory(memory_key=\"chat_history\", input_key=\"question\", k=3)\n",
    "\n",
    "# chain = RetrievalQA.from_chain_type(\n",
    "#     llm=chatglm_model, chain_type=\"stuff\", retriever=vector_store.as_retriever(),\n",
    "#     # chain_type_kwargs=chain_type_kwargs,\n",
    "#     prompt=PROMPT,\n",
    "#     memory=conversation_memory,\n",
    "# )\n",
    "chain = load_qa_chain(\n",
    "    llm=chatglm_model, chain_type=\"stuff\",\n",
    "    # memory=conversation_memory,\n",
    "    prompt=PROMPT\n",
    ")"
   ]
  },
  {
   "cell_type": "code",
   "execution_count": 122,
   "id": "dce251e4-0cb5-47c3-b5b5-0f55313e1347",
   "metadata": {
    "tags": []
   },
   "outputs": [],
   "source": [
    "def customer_qa(query: str):\n",
    "    # query = \"歌莉娅是什么品牌？\"\n",
    "    chat_history = conversation_memory.load_memory_variables({})\n",
    "    chat_history = chat_history['chat_history']\n",
    "    full_question = chat_history + '\\nHuman:' + query\n",
    "    docs = vector_store.similarity_search(full_question, k=1)\n",
    "    return chain({\"input_documents\": docs, \"question\": query})"
   ]
  },
  {
   "cell_type": "code",
   "execution_count": 123,
   "id": "adb5f72b-2980-426e-a005-e553174a7ec1",
   "metadata": {
    "tags": []
   },
   "outputs": [],
   "source": [
    "conversation_memory.clear()"
   ]
  },
  {
   "cell_type": "code",
   "execution_count": 124,
   "id": "90d6c1fe-52dc-4053-8001-036dd10c8d0b",
   "metadata": {
    "tags": []
   },
   "outputs": [
    {
     "data": {
      "application/vnd.jupyter.widget-view+json": {
       "model_id": "f3f94fec5ae44e6ca4b71aee906f210b",
       "version_major": 2,
       "version_minor": 0
      },
      "text/plain": [
       "Batches:   0%|          | 0/1 [00:00<?, ?it/s]"
      ]
     },
     "metadata": {},
     "output_type": "display_data"
    },
    {
     "name": "stderr",
     "output_type": "stream",
     "text": [
      "INFO:root:prompt: {\n",
      "        \"input\": \"歌莉娅官方正品真丝缎面打底背心女V领无袖西装内搭吊带醋酸上衣 价格82.89元 品牌：GLORIA/歌莉娅 尺码：S,M,L,XL,2XL,3XL 质地：其他/other 图案：纯色 风格：通勤 流行元素：拼接 颜色分类：香槟色,白色,黑色 组合形式：单件 货号：1192051 年份季节：2022年春季 衣长：常规 款式：吊带 材质成分：其他材质100% 购买链接：https://www.taobao.com/list/item/709454170667.htm?spm=a21wu.10013406.taglist-content.3.d2756680mzL0uL \",\n",
      "        \"prompt\": \"问答\",\n",
      "        \"question\": \"歌莉娅是什么品牌？\",\n",
      "        \"<ans>\":\"\"\n",
      "    }\n",
      "INFO:root:model parameters: {'temperature': 0.5}\n",
      "INFO:root:response_json: {'outputs': [{'input': '歌莉娅官方正品真丝缎面打底背心女V领无袖西装内搭吊带醋酸上衣 价格82.89元 品牌：GLORIA/歌莉娅 尺码：S,M,L,XL,2XL,3XL 质地：其他/other 图案：纯色 风格：通勤 流行元素：拼接 颜色分类：香槟色,白色,黑色 组合形式：单件 货号：1192051 年份季节：2022年春季 衣长：常规 款式：吊带 材质成分：其他材质100% 购买链接：https://www.taobao.com/list/item/709454170667.htm?spm=a21wu.10013406.taglist-content.3.d2756680mzL0uL ', 'prompt': '问答', 'question': '歌莉娅是什么品牌？', '<ans>': '歌莉娅(GLORIA)'}]}\n"
     ]
    },
    {
     "name": "stdout",
     "output_type": "stream",
     "text": [
      "Unexpected exception formatting exception. Falling back to standard exception\n"
     ]
    },
    {
     "name": "stderr",
     "output_type": "stream",
     "text": [
      "Traceback (most recent call last):\n",
      "  File \"/home/ec2-user/SageMaker/custom-miniconda/miniconda/envs/mt_python3/lib/python3.10/site-packages/IPython/core/interactiveshell.py\", line 3508, in run_code\n",
      "    exec(code_obj, self.user_global_ns, self.user_ns)\n",
      "  File \"/tmp/ipykernel_15422/1288451632.py\", line 1, in <module>\n",
      "    customer_qa(\"歌莉娅是什么品牌？\")\n",
      "  File \"/tmp/ipykernel_15422/2612908289.py\", line 7, in customer_qa\n",
      "    return chain({\"input_documents\": docs, \"question\": query})\n",
      "  File \"/home/ec2-user/SageMaker/custom-miniconda/miniconda/envs/mt_python3/lib/python3.10/site-packages/langchain/chains/base.py\", line 166, in __call__\n",
      "  File \"/home/ec2-user/SageMaker/custom-miniconda/miniconda/envs/mt_python3/lib/python3.10/site-packages/langchain/chains/base.py\", line 160, in __call__\n",
      "    \"\"\"Keys expected to be in the chain input.\"\"\"\n",
      "  File \"/home/ec2-user/SageMaker/custom-miniconda/miniconda/envs/mt_python3/lib/python3.10/site-packages/langchain/chains/combine_documents/base.py\", line 84, in _call\n",
      "  File \"/home/ec2-user/SageMaker/custom-miniconda/miniconda/envs/mt_python3/lib/python3.10/site-packages/langchain/chains/combine_documents/stuff.py\", line 87, in combine_docs\n",
      "    if len(llm_chain_variables) == 1:\n",
      "  File \"/home/ec2-user/SageMaker/custom-miniconda/miniconda/envs/mt_python3/lib/python3.10/site-packages/langchain/chains/llm.py\", line 252, in predict\n",
      "  File \"/home/ec2-user/SageMaker/custom-miniconda/miniconda/envs/mt_python3/lib/python3.10/site-packages/langchain/chains/base.py\", line 166, in __call__\n",
      "  File \"/home/ec2-user/SageMaker/custom-miniconda/miniconda/envs/mt_python3/lib/python3.10/site-packages/langchain/chains/base.py\", line 160, in __call__\n",
      "    \"\"\"Keys expected to be in the chain input.\"\"\"\n",
      "  File \"/home/ec2-user/SageMaker/custom-miniconda/miniconda/envs/mt_python3/lib/python3.10/site-packages/langchain/chains/llm.py\", line 92, in _call\n",
      "    return self.create_outputs(response)[0]\n",
      "  File \"/home/ec2-user/SageMaker/custom-miniconda/miniconda/envs/mt_python3/lib/python3.10/site-packages/langchain/chains/llm.py\", line 102, in generate\n",
      "    prompts,\n",
      "  File \"/home/ec2-user/SageMaker/custom-miniconda/miniconda/envs/mt_python3/lib/python3.10/site-packages/langchain/llms/base.py\", line 140, in generate_prompt\n",
      "    def update_cache(\n",
      "  File \"/home/ec2-user/SageMaker/custom-miniconda/miniconda/envs/mt_python3/lib/python3.10/site-packages/langchain/llms/base.py\", line 206, in generate\n",
      "    elif isinstance(input, list):\n",
      "  File \"/home/ec2-user/SageMaker/custom-miniconda/miniconda/envs/mt_python3/lib/python3.10/site-packages/langchain/llms/base.py\", line 198, in generate\n",
      "  File \"/home/ec2-user/SageMaker/custom-miniconda/miniconda/envs/mt_python3/lib/python3.10/site-packages/langchain/llms/base.py\", line 502, in _generate\n",
      "    for run_manager in run_managers:\n",
      "  File \"/home/ec2-user/SageMaker/custom-miniconda/miniconda/envs/mt_python3/lib/python3.10/site-packages/langchain/load/serializable.py\", line 64, in __init__\n",
      "    constructor.\n",
      "  File \"pydantic/main.py\", line 341, in pydantic.main.BaseModel.__init__\n",
      "pydantic.error_wrappers.ValidationError: 1 validation error for Generation\n",
      "text\n",
      "  str type expected (type=type_error.str)\n",
      "\n",
      "During handling of the above exception, another exception occurred:\n",
      "\n",
      "Traceback (most recent call last):\n",
      "  File \"/home/ec2-user/SageMaker/custom-miniconda/miniconda/envs/mt_python3/lib/python3.10/site-packages/IPython/core/interactiveshell.py\", line 2105, in showtraceback\n",
      "    stb = self.InteractiveTB.structured_traceback(\n",
      "  File \"/home/ec2-user/SageMaker/custom-miniconda/miniconda/envs/mt_python3/lib/python3.10/site-packages/IPython/core/ultratb.py\", line 1428, in structured_traceback\n",
      "    return FormattedTB.structured_traceback(\n",
      "  File \"/home/ec2-user/SageMaker/custom-miniconda/miniconda/envs/mt_python3/lib/python3.10/site-packages/IPython/core/ultratb.py\", line 1319, in structured_traceback\n",
      "    return VerboseTB.structured_traceback(\n",
      "  File \"/home/ec2-user/SageMaker/custom-miniconda/miniconda/envs/mt_python3/lib/python3.10/site-packages/IPython/core/ultratb.py\", line 1172, in structured_traceback\n",
      "    formatted_exception = self.format_exception_as_a_whole(etype, evalue, etb, number_of_lines_of_context,\n",
      "  File \"/home/ec2-user/SageMaker/custom-miniconda/miniconda/envs/mt_python3/lib/python3.10/site-packages/IPython/core/ultratb.py\", line 1087, in format_exception_as_a_whole\n",
      "    frames.append(self.format_record(record))\n",
      "  File \"/home/ec2-user/SageMaker/custom-miniconda/miniconda/envs/mt_python3/lib/python3.10/site-packages/IPython/core/ultratb.py\", line 969, in format_record\n",
      "    frame_info.lines, Colors, self.has_colors, lvals\n",
      "  File \"/home/ec2-user/SageMaker/custom-miniconda/miniconda/envs/mt_python3/lib/python3.10/site-packages/IPython/core/ultratb.py\", line 792, in lines\n",
      "    return self._sd.lines\n",
      "  File \"/home/ec2-user/SageMaker/custom-miniconda/miniconda/envs/mt_python3/lib/python3.10/site-packages/stack_data/utils.py\", line 144, in cached_property_wrapper\n",
      "    value = obj.__dict__[self.func.__name__] = self.func(obj)\n",
      "  File \"/home/ec2-user/SageMaker/custom-miniconda/miniconda/envs/mt_python3/lib/python3.10/site-packages/stack_data/core.py\", line 734, in lines\n",
      "    pieces = self.included_pieces\n",
      "  File \"/home/ec2-user/SageMaker/custom-miniconda/miniconda/envs/mt_python3/lib/python3.10/site-packages/stack_data/utils.py\", line 144, in cached_property_wrapper\n",
      "    value = obj.__dict__[self.func.__name__] = self.func(obj)\n",
      "  File \"/home/ec2-user/SageMaker/custom-miniconda/miniconda/envs/mt_python3/lib/python3.10/site-packages/stack_data/core.py\", line 681, in included_pieces\n",
      "    pos = scope_pieces.index(self.executing_piece)\n",
      "  File \"/home/ec2-user/SageMaker/custom-miniconda/miniconda/envs/mt_python3/lib/python3.10/site-packages/stack_data/utils.py\", line 144, in cached_property_wrapper\n",
      "    value = obj.__dict__[self.func.__name__] = self.func(obj)\n",
      "  File \"/home/ec2-user/SageMaker/custom-miniconda/miniconda/envs/mt_python3/lib/python3.10/site-packages/stack_data/core.py\", line 660, in executing_piece\n",
      "    return only(\n",
      "  File \"/home/ec2-user/SageMaker/custom-miniconda/miniconda/envs/mt_python3/lib/python3.10/site-packages/executing/executing.py\", line 190, in only\n",
      "    raise NotOneValueFound('Expected one value, found 0')\n",
      "executing.executing.NotOneValueFound: Expected one value, found 0\n"
     ]
    }
   ],
   "source": [
    "customer_qa(\"歌莉娅是什么品牌？\")"
   ]
  },
  {
   "cell_type": "code",
   "execution_count": null,
   "id": "9dec31b6-6031-4a8a-975d-bfe56a74084e",
   "metadata": {},
   "outputs": [],
   "source": []
  },
  {
   "cell_type": "code",
   "execution_count": 106,
   "id": "92a5d9a1-b489-42fe-906c-e8c924f989fc",
   "metadata": {
    "tags": []
   },
   "outputs": [],
   "source": [
    "tt = {\n",
    "    \"inputs\": \"{\\n        \\\"input\\\": \\\"歌莉娅官方正品真丝缎面打底背心女V领无袖西装内搭吊带醋酸上衣 价格82.89元 品牌：GLORIA/歌莉娅 尺码：S,M,L,XL,2XL,3XL 质地：其他/other 图案：纯色 风格：通勤 流行元素：拼接 颜色分类：香槟色,白色,黑色 组合形式：单件 货号：1192051 年份季节：2022年春季 衣长：常规 款式：吊带 材质成分：其他材质100% 购买链接：https://www.taobao.com/list/item/709454170667.htm?spm=a21wu.10013406.taglist-content.3.d2756680mzL0uL \\n\\n歌莉娅蝴蝶碎花v领连衣裙女装夏装显瘦气质礼服裙子1A6H4KAKA 会员价格：309元。非会员价格399.00元。 品牌：GLORIA/歌莉娅 适用年龄：25-29周岁 尺码：XS S M L XL XXL 图案：花色 风格：通勤 通勤：简约 领型：V领 腰型：高腰 衣门襟：套头 颜色分类：27D黑底印花 袖型：常规 货号：1A6H4KAKA 裙型：A字裙 年份季节：2022年夏季 袖长：短袖 裙长：中裙 流行元素/工艺：印花 款式：v领连衣裙 销售渠道类型：商场同款(线上线下都销售) 廓形：A型 材质成分：粘胶纤维(粘纤)100% 购买链接：https://www.taobao.com/list/item/678724503513.htm?spm=a21wu.10013406.taglist-content.1.d2756680mzL0uL  洗涤说明： 手洗，洗涤温度不高于40°C 不可漂白 在阴凉处悬挂滴干 不可翻转干燥 熨斗底板 温度不高预售110°C 不可干洗整件衣服在穿着时请小心，以免勾纱 深浅色衣物 分开洗涤 避开脚钮熨烫 不可扭干，理平晾干 衣服洗后易起皱，为美观起见， 每次洗后请熨烫平整后再穿着 因面料特性，衣服折叠易产生折痕，请悬挂存放。\\\",\\n        \\\"prompt\\\": \\\"问答\\\",\\n        \\\"question\\\": \\\"歌莉娅是什么品牌？\\\",\\n        \\\"<ans>\\\":\\\"\\\"\\n    }\",\n",
    "    \"parameters\": {\n",
    "        \"temperature\": 0.5\n",
    "    }\n",
    "}"
   ]
  },
  {
   "cell_type": "code",
   "execution_count": 116,
   "id": "56645f99-4130-4cd4-a3c4-064da3200229",
   "metadata": {
    "tags": []
   },
   "outputs": [
    {
     "data": {
      "text/plain": [
       "{'input': '歌莉娅官方正品真丝缎面打底背心女V领无袖西装内搭吊带醋酸上衣 价格82.89元 品牌：GLORIA/歌莉娅 尺码：S,M,L,XL,2XL,3XL 质地：其他/other 图案：纯色 风格：通勤 流行元素：拼接 颜色分类：香槟色,白色,黑色 组合形式：单件 货号：1192051 年份季节：2022年春季 衣长：常规 款式：吊带 材质成分：其他材质100% 购买链接：https://www.taobao.com/list/item/709454170667.htm?spm=a21wu.10013406.taglist-content.3.d2756680mzL0uL 歌莉娅蝴蝶碎花v领连衣裙女装夏装显瘦气质礼服裙子1A6H4KAKA 会员价格：309元。非会员价格399.00元。 品牌：GLORIA/歌莉娅 适用年龄：25-29周岁 尺码：XS S M L XL XXL 图案：花色 风格：通勤 通勤：简约 领型：V领 腰型：高腰 衣门襟：套头 颜色分类：27D黑底印花 袖型：常规 货号：1A6H4KAKA 裙型：A字裙 年份季节：2022年夏季 袖长：短袖 裙长：中裙 流行元素/工艺：印花 款式：v领连衣裙 销售渠道类型：商场同款(线上线下都销售) 廓形：A型 材质成分：粘胶纤维(粘纤)100% 购买链接：https://www.taobao.com/list/item/678724503513.htm?spm=a21wu.10013406.taglist-content.1.d2756680mzL0uL  洗涤说明： 手洗，洗涤温度不高于40°C 不可漂白 在阴凉处悬挂滴干 不可翻转干燥 熨斗底板 温度不高预售110°C 不可干洗整件衣服在穿着时请小心，以免勾纱 深浅色衣物 分开洗涤 避开脚钮熨烫 不可扭干，理平晾干 衣服洗后易起皱，为美观起见， 每次洗后请熨烫平整后再穿着 因面料特性，衣服折叠易产生折痕，请悬挂存放。',\n",
       " 'prompt': '问答',\n",
       " 'question': '歌莉娅是什么品牌？',\n",
       " 'ans': ''}"
      ]
     },
     "execution_count": 116,
     "metadata": {},
     "output_type": "execute_result"
    }
   ],
   "source": [
    "import json\n",
    "# json.loads()\n",
    "# tt['inputs']\n",
    "\n",
    "t2 = \"\"\"{\n",
    "\t\"input\": \"歌莉娅官方正品真丝缎面打底背心女V领无袖西装内搭吊带醋酸上衣 价格82.89元 品牌：GLORIA/歌莉娅 尺码：S,M,L,XL,2XL,3XL 质地：其他/other 图案：纯色 风格：通勤 流行元素：拼接 颜色分类：香槟色,白色,黑色 组合形式：单件 货号：1192051 年份季节：2022年春季 衣长：常规 款式：吊带 材质成分：其他材质100% 购买链接：https://www.taobao.com/list/item/709454170667.htm?spm=a21wu.10013406.taglist-content.3.d2756680mzL0uL 歌莉娅蝴蝶碎花v领连衣裙女装夏装显瘦气质礼服裙子1A6H4KAKA 会员价格：309元。非会员价格399.00元。 品牌：GLORIA/歌莉娅 适用年龄：25-29周岁 尺码：XS S M L XL XXL 图案：花色 风格：通勤 通勤：简约 领型：V领 腰型：高腰 衣门襟：套头 颜色分类：27D黑底印花 袖型：常规 货号：1A6H4KAKA 裙型：A字裙 年份季节：2022年夏季 袖长：短袖 裙长：中裙 流行元素/工艺：印花 款式：v领连衣裙 销售渠道类型：商场同款(线上线下都销售) 廓形：A型 材质成分：粘胶纤维(粘纤)100% 购买链接：https://www.taobao.com/list/item/678724503513.htm?spm=a21wu.10013406.taglist-content.1.d2756680mzL0uL  洗涤说明： 手洗，洗涤温度不高于40°C 不可漂白 在阴凉处悬挂滴干 不可翻转干燥 熨斗底板 温度不高预售110°C 不可干洗整件衣服在穿着时请小心，以免勾纱 深浅色衣物 分开洗涤 避开脚钮熨烫 不可扭干，理平晾干 衣服洗后易起皱，为美观起见， 每次洗后请熨烫平整后再穿着 因面料特性，衣服折叠易产生折痕，请悬挂存放。\",\n",
    "\t\"prompt\": \"问答\",\n",
    "\t\"question\": \"歌莉娅是什么品牌？\",\n",
    "\t\"ans\":\"\"\n",
    "}\"\"\"\n",
    "json.loads(t2)"
   ]
  },
  {
   "cell_type": "code",
   "execution_count": 115,
   "id": "6495e02f-c574-4dfd-a803-b9d02437ca52",
   "metadata": {
    "tags": []
   },
   "outputs": [
    {
     "data": {
      "application/vnd.jupyter.widget-view+json": {
       "model_id": "2a79394c41fa42f49ced4a930341f08f",
       "version_major": 2,
       "version_minor": 0
      },
      "text/plain": [
       "Batches:   0%|          | 0/1 [00:00<?, ?it/s]"
      ]
     },
     "metadata": {},
     "output_type": "display_data"
    },
    {
     "name": "stderr",
     "output_type": "stream",
     "text": [
      "INFO:root:prompt: {\n",
      "        \"input\": \"歌莉娅官方正品真丝缎面打底背心女V领无袖西装内搭吊带醋酸上衣 价格82.89元 品牌：GLORIA/歌莉娅 尺码：S,M,L,XL,2XL,3XL 质地：其他/other 图案：纯色 风格：通勤 流行元素：拼接 颜色分类：香槟色,白色,黑色 组合形式：单件 货号：1192051 年份季节：2022年春季 衣长：常规 款式：吊带 材质成分：其他材质100% 购买链接：https://www.taobao.com/list/item/709454170667.htm?spm=a21wu.10013406.taglist-content.3.d2756680mzL0uL \n",
      "\n",
      "JNBY/江南布衣23夏新品连衣裙音符印花宽松5N4210770款式的商品详细信息： 5N4210770非会员价价格是995元，会员价格889元。 品牌：JNBY/江南布衣  适用年龄：25-29周岁 尺码：XS S M L 图案：印花 风格：通勤 通勤：淑女 领型：圆领 衣门襟：一粒扣 颜色分类：853/杂桔 077/杂灰咖 973/米黑双色 袖型：常规 组合形式：单件 货号：5N4210770 裙型：A字裙 适用季节：夏季 年份季节：2023年夏季 袖长：短袖 裙长：短裙 流行元素/工艺：印花 款式：印花裙 销售渠道类型：商场同款(线上线下都销售) 廓形：A型  材质成分：棉100%  如果想购买，可以访问一下【https://www.taobao.com/list/item/698737921676.htm?spm=a21wu.10013406.taglist-content.1.3a0359e5vRvpmC】链接进行购买  洗护方式如下： 洗涤说明：不可漂白、悬挂阴干、最高水温40°C、小心手洗 护理说明 ①建议在阴凉通风,处悬挂阴干，以免拉长变形。 ②不建议机洗，推荐中性洗涤剂手洗，注意深浅颜色分开。 ③通风透气、保持干燥，应放置适量的专用防霉防蛀药剂，以免发霉、虫蛀。 温馨提示：具体洗涤维护请以洗唛为准。\",\n",
      "        \"prompt\": \"问答\",\n",
      "        \"question\": \"都有什么商品？\",\n",
      "        \"<ans>\":\"\"\n",
      "    }\n",
      "INFO:root:model parameters: {'temperature': 0.5}\n",
      "INFO:root:response_json: {'outputs': 'Not found answer'}\n"
     ]
    },
    {
     "name": "stdout",
     "output_type": "stream",
     "text": [
      "CPU times: user 495 ms, sys: 0 ns, total: 495 ms\n",
      "Wall time: 564 ms\n"
     ]
    },
    {
     "data": {
      "text/plain": [
       "{'output_text': 'Not found answer'}"
      ]
     },
     "execution_count": 115,
     "metadata": {},
     "output_type": "execute_result"
    }
   ],
   "source": [
    "%%time\n",
    "customer_qa(\"都有什么商品？\")"
   ]
  },
  {
   "cell_type": "code",
   "execution_count": 252,
   "id": "7f1ac08e-161a-4d48-92c7-1f40d8f9c77a",
   "metadata": {
    "tags": []
   },
   "outputs": [
    {
     "data": {
      "application/vnd.jupyter.widget-view+json": {
       "model_id": "600f8979782f4f3897ca6b06c7be4c66",
       "version_major": 2,
       "version_minor": 0
      },
      "text/plain": [
       "Batches:   0%|          | 0/1 [00:00<?, ?it/s]"
      ]
     },
     "metadata": {},
     "output_type": "display_data"
    },
    {
     "name": "stderr",
     "output_type": "stream",
     "text": [
      "INFO:root:prompt: Below is an instruction that describes a task. Write a response that appropriately completes the request.\n",
      "\n",
      "### Instruction:\n",
      "使用下面的商品信息，简洁的回答用户的问题，不要使用已有的知识，不要编造答案。\n",
      "\n",
      "已知内容:\n",
      "歌莉娅蝴蝶碎花v领连衣裙女装夏装显瘦气质礼服裙子1A6H4KAKA 会员价格：309元。非会员价格399.00元。 品牌：GLORIA/歌莉娅 适用年龄：25-29周岁 尺码：XS S M L XL XXL 图案：花色 风格：通勤 通勤：简约 领型：V领 腰型：高腰 衣门襟：套头 颜色分类：27D黑底印花 袖型：常规 货号：1A6H4KAKA 裙型：A字裙 年份季节：2022年夏季 袖长：短袖 裙长：中裙 流行元素/工艺：印花 款式：v领连衣裙 销售渠道类型：商场同款(线上线下都销售) 廓形：A型 材质成分：粘胶纤维(粘纤)100% 购买链接：https://www.taobao.com/list/item/678724503513.htm?spm=a21wu.10013406.taglist-content.1.d2756680mzL0uL  洗涤说明： 手洗，洗涤温度不高于40°C 不可漂白 在阴凉处悬挂滴干 不可翻转干燥 熨斗底板 温度不高预售110°C 不可干洗整件衣服在穿着时请小心，以免勾纱 深浅色衣物 分开洗涤 避开脚钮熨烫 不可扭干，理平晾干 衣服洗后易起皱，为美观起见， 每次洗后请熨烫平整后再穿着 因面料特性，衣服折叠易产生折痕，请悬挂存放。\n",
      "\n",
      "JNBY/江南布衣23夏新品连衣裙音符印花宽松5N4210770款式的商品详细信息： 5N4210770非会员价价格是995元，会员价格889元。 品牌：JNBY/江南布衣  适用年龄：25-29周岁 尺码：XS S M L 图案：印花 风格：通勤 通勤：淑女 领型：圆领 衣门襟：一粒扣 颜色分类：853/杂桔 077/杂灰咖 973/米黑双色 袖型：常规 组合形式：单件 货号：5N4210770 裙型：A字裙 适用季节：夏季 年份季节：2023年夏季 袖长：短袖 裙长：短裙 流行元素/工艺：印花 款式：印花裙 销售渠道类型：商场同款(线上线下都销售) 廓形：A型  材质成分：棉100%  如果想购买，可以访问一下【https://www.taobao.com/list/item/698737921676.htm?spm=a21wu.10013406.taglist-content.1.3a0359e5vRvpmC】链接进行购买  洗护方式如下： 洗涤说明：不可漂白、悬挂阴干、最高水温40°C、小心手洗 护理说明 ①建议在阴凉通风,处悬挂阴干，以免拉长变形。 ②不建议机洗，推荐中性洗涤剂手洗，注意深浅颜色分开。 ③通风透气、保持干燥，应放置适量的专用防霉防蛀药剂，以免发霉、虫蛀。 温馨提示：具体洗涤维护请以洗唛为准。\n",
      "\n",
      "历史记录:\n",
      "\n",
      "\n",
      "问题: 推荐一个可以日常穿的连衣裙\n",
      "\n",
      "### Response:\n",
      "INFO:root:model parameters: {'temperature': 0.5}\n",
      "INFO:root:response_json: {'outputs': '歌莉娅蝴蝶碎花v领连衣裙女装夏装显瘦气质礼服裙子1A6H4KAKA是一款适合25-29周岁女性的连衣裙，品牌为GLORIA/歌莉娅，尺码为XS S M L XL XXL，图案为花色，风格为通勤，领型为V领，腰型为高腰，衣门襟为套头，颜色分类为27D黑底印花，袖型为常规，货号为1A6H4KAKA，裙型为A字裙，适用于2022年夏季，袖长为短袖，裙长为中裙，流行元素/工艺为印花，销售渠道类型为商场同款(线上线下都销售)，廓形为A型，材质成分为人棉纤维(纯棉)，购买链接为https://www.taobao.com/list/item/678724503513.htm?spm=a21wu.10013406.taglist-content.1.d2756680mzL0uL，洗涤说明为手洗，洗涤温度不高于40°C，不可漂白，在阴凉处悬挂滴干，不可翻转干燥，熨斗底板温度不高，预售110°C，不可干洗整件衣服在穿着时请小心，以免勾纱，深浅色衣物分开洗涤，避开脚钮熨烫，不可扭干，理平晾干，衣服洗后易起皱，为美观起见，每次洗后请熨烫平整后再穿着，因面料特性，衣服折叠易产生折痕，请悬挂存放。如果您想购买这款连衣裙，可以访问一下【https://www.taobao.com/list/item/698737921676.htm?spm=a21wu.10013406.taglist-content.1.3a0359e5vRvpmC】进行购买。'}\n"
     ]
    },
    {
     "data": {
      "text/plain": [
       "{'output_text': '歌莉娅蝴蝶碎花v领连衣裙女装夏装显瘦气质礼服裙子1A6H4KAKA是一款适合25-29周岁女性的连衣裙，品牌为GLORIA/歌莉娅，尺码为XS S M L XL XXL，图案为花色，风格为通勤，领型为V领，腰型为高腰，衣门襟为套头，颜色分类为27D黑底印花，袖型为常规，货号为1A6H4KAKA，裙型为A字裙，适用于2022年夏季，袖长为短袖，裙长为中裙，流行元素/工艺为印花，销售渠道类型为商场同款(线上线下都销售)，廓形为A型，材质成分为人棉纤维(纯棉)，购买链接为https://www.taobao.com/list/item/678724503513.htm?spm=a21wu.10013406.taglist-content.1.d2756680mzL0uL，洗涤说明为手洗，洗涤温度不高于40°C，不可漂白，在阴凉处悬挂滴干，不可翻转干燥，熨斗底板温度不高，预售110°C，不可干洗整件衣服在穿着时请小心，以免勾纱，深浅色衣物分开洗涤，避开脚钮熨烫，不可扭干，理平晾干，衣服洗后易起皱，为美观起见，每次洗后请熨烫平整后再穿着，因面料特性，衣服折叠易产生折痕，请悬挂存放。如果您想购买这款连衣裙，可以访问一下【https://www.taobao.com/list/item/698737921676.htm?spm=a21wu.10013406.taglist-content.1.3a0359e5vRvpmC】进行购买。'}"
      ]
     },
     "execution_count": 252,
     "metadata": {},
     "output_type": "execute_result"
    }
   ],
   "source": [
    "conversation_memory.clear()\n",
    "customer_qa(\"推荐一个可以日常穿的连衣裙\")"
   ]
  },
  {
   "cell_type": "code",
   "execution_count": 253,
   "id": "84d5e0c9-df23-4686-b96e-24e23f4dc36c",
   "metadata": {
    "tags": []
   },
   "outputs": [
    {
     "data": {
      "application/vnd.jupyter.widget-view+json": {
       "model_id": "4ab79f93a6f74dea827715185a35cd8d",
       "version_major": 2,
       "version_minor": 0
      },
      "text/plain": [
       "Batches:   0%|          | 0/1 [00:00<?, ?it/s]"
      ]
     },
     "metadata": {},
     "output_type": "display_data"
    },
    {
     "name": "stderr",
     "output_type": "stream",
     "text": [
      "INFO:root:prompt: Below is an instruction that describes a task. Write a response that appropriately completes the request.\n",
      "\n",
      "### Instruction:\n",
      "使用下面的商品信息，简洁的回答用户的问题，不要使用已有的知识，不要编造答案。\n",
      "\n",
      "已知内容:\n",
      "歌莉娅蝴蝶碎花v领连衣裙女装夏装显瘦气质礼服裙子1A6H4KAKA 会员价格：309元。非会员价格399.00元。 品牌：GLORIA/歌莉娅 适用年龄：25-29周岁 尺码：XS S M L XL XXL 图案：花色 风格：通勤 通勤：简约 领型：V领 腰型：高腰 衣门襟：套头 颜色分类：27D黑底印花 袖型：常规 货号：1A6H4KAKA 裙型：A字裙 年份季节：2022年夏季 袖长：短袖 裙长：中裙 流行元素/工艺：印花 款式：v领连衣裙 销售渠道类型：商场同款(线上线下都销售) 廓形：A型 材质成分：粘胶纤维(粘纤)100% 购买链接：https://www.taobao.com/list/item/678724503513.htm?spm=a21wu.10013406.taglist-content.1.d2756680mzL0uL  洗涤说明： 手洗，洗涤温度不高于40°C 不可漂白 在阴凉处悬挂滴干 不可翻转干燥 熨斗底板 温度不高预售110°C 不可干洗整件衣服在穿着时请小心，以免勾纱 深浅色衣物 分开洗涤 避开脚钮熨烫 不可扭干，理平晾干 衣服洗后易起皱，为美观起见， 每次洗后请熨烫平整后再穿着 因面料特性，衣服折叠易产生折痕，请悬挂存放。\n",
      "\n",
      "JNBY/江南布衣23夏新品连衣裙音符印花宽松5N4210770款式的商品详细信息： 5N4210770非会员价价格是995元，会员价格889元。 品牌：JNBY/江南布衣  适用年龄：25-29周岁 尺码：XS S M L 图案：印花 风格：通勤 通勤：淑女 领型：圆领 衣门襟：一粒扣 颜色分类：853/杂桔 077/杂灰咖 973/米黑双色 袖型：常规 组合形式：单件 货号：5N4210770 裙型：A字裙 适用季节：夏季 年份季节：2023年夏季 袖长：短袖 裙长：短裙 流行元素/工艺：印花 款式：印花裙 销售渠道类型：商场同款(线上线下都销售) 廓形：A型  材质成分：棉100%  如果想购买，可以访问一下【https://www.taobao.com/list/item/698737921676.htm?spm=a21wu.10013406.taglist-content.1.3a0359e5vRvpmC】链接进行购买  洗护方式如下： 洗涤说明：不可漂白、悬挂阴干、最高水温40°C、小心手洗 护理说明 ①建议在阴凉通风,处悬挂阴干，以免拉长变形。 ②不建议机洗，推荐中性洗涤剂手洗，注意深浅颜色分开。 ③通风透气、保持干燥，应放置适量的专用防霉防蛀药剂，以免发霉、虫蛀。 温馨提示：具体洗涤维护请以洗唛为准。\n",
      "\n",
      "历史记录:\n",
      "Human: 推荐一个可以日常穿的连衣裙\n",
      "AI: 歌莉娅蝴蝶碎花v领连衣裙女装夏装显瘦气质礼服裙子1A6H4KAKA是一款适合25-29周岁女性的连衣裙，品牌为GLORIA/歌莉娅，尺码为XS S M L XL XXL，图案为花色，风格为通勤，领型为V领，腰型为高腰，衣门襟为套头，颜色分类为27D黑底印花，袖型为常规，货号为1A6H4KAKA，裙型为A字裙，适用于2022年夏季，袖长为短袖，裙长为中裙，流行元素/工艺为印花，销售渠道类型为商场同款(线上线下都销售)，廓形为A型，材质成分为人棉纤维(纯棉)，购买链接为https://www.taobao.com/list/item/678724503513.htm?spm=a21wu.10013406.taglist-content.1.d2756680mzL0uL，洗涤说明为手洗，洗涤温度不高于40°C，不可漂白，在阴凉处悬挂滴干，不可翻转干燥，熨斗底板温度不高，预售110°C，不可干洗整件衣服在穿着时请小心，以免勾纱，深浅色衣物分开洗涤，避开脚钮熨烫，不可扭干，理平晾干，衣服洗后易起皱，为美观起见，每次洗后请熨烫平整后再穿着，因面料特性，衣服折叠易产生折痕，请悬挂存放。如果您想购买这款连衣裙，可以访问一下【https://www.taobao.com/list/item/698737921676.htm?spm=a21wu.10013406.taglist-content.1.3a0359e5vRvpmC】进行购买。\n",
      "\n",
      "问题: 非会员价是多少钱？\n",
      "\n",
      "### Response:\n",
      "INFO:root:model parameters: {'temperature': 0.5}\n",
      "INFO:root:response_json: {'outputs': '非会员价为309元。'}\n"
     ]
    },
    {
     "data": {
      "text/plain": [
       "{'output_text': '非会员价为309元。'}"
      ]
     },
     "execution_count": 253,
     "metadata": {},
     "output_type": "execute_result"
    }
   ],
   "source": [
    "customer_qa(\"非会员价是多少钱？\")"
   ]
  },
  {
   "cell_type": "code",
   "execution_count": 254,
   "id": "0c26da90-f303-4726-971d-665f5824330a",
   "metadata": {},
   "outputs": [
    {
     "data": {
      "application/vnd.jupyter.widget-view+json": {
       "model_id": "b6efe3252dad423b89bbd5705ee7460f",
       "version_major": 2,
       "version_minor": 0
      },
      "text/plain": [
       "Batches:   0%|          | 0/1 [00:00<?, ?it/s]"
      ]
     },
     "metadata": {},
     "output_type": "display_data"
    },
    {
     "name": "stderr",
     "output_type": "stream",
     "text": [
      "INFO:root:prompt: Below is an instruction that describes a task. Write a response that appropriately completes the request.\n",
      "\n",
      "### Instruction:\n",
      "使用下面的商品信息，简洁的回答用户的问题，不要使用已有的知识，不要编造答案。\n",
      "\n",
      "已知内容:\n",
      "歌莉娅官方正品真丝缎面打底背心女V领无袖西装内搭吊带醋酸上衣 价格82.89元 品牌：GLORIA/歌莉娅 尺码：S,M,L,XL,2XL,3XL 质地：其他/other 图案：纯色 风格：通勤 流行元素：拼接 颜色分类：香槟色,白色,黑色 组合形式：单件 货号：1192051 年份季节：2022年春季 衣长：常规 款式：吊带 材质成分：其他材质100% 购买链接：https://www.taobao.com/list/item/709454170667.htm?spm=a21wu.10013406.taglist-content.3.d2756680mzL0uL \n",
      "\n",
      "JNBY/江南布衣23夏新品连衣裙音符印花宽松5N4210770款式的商品详细信息： 5N4210770非会员价价格是995元，会员价格889元。 品牌：JNBY/江南布衣  适用年龄：25-29周岁 尺码：XS S M L 图案：印花 风格：通勤 通勤：淑女 领型：圆领 衣门襟：一粒扣 颜色分类：853/杂桔 077/杂灰咖 973/米黑双色 袖型：常规 组合形式：单件 货号：5N4210770 裙型：A字裙 适用季节：夏季 年份季节：2023年夏季 袖长：短袖 裙长：短裙 流行元素/工艺：印花 款式：印花裙 销售渠道类型：商场同款(线上线下都销售) 廓形：A型  材质成分：棉100%  如果想购买，可以访问一下【https://www.taobao.com/list/item/698737921676.htm?spm=a21wu.10013406.taglist-content.1.3a0359e5vRvpmC】链接进行购买  洗护方式如下： 洗涤说明：不可漂白、悬挂阴干、最高水温40°C、小心手洗 护理说明 ①建议在阴凉通风,处悬挂阴干，以免拉长变形。 ②不建议机洗，推荐中性洗涤剂手洗，注意深浅颜色分开。 ③通风透气、保持干燥，应放置适量的专用防霉防蛀药剂，以免发霉、虫蛀。 温馨提示：具体洗涤维护请以洗唛为准。\n",
      "\n",
      "历史记录:\n",
      "\n",
      "\n",
      "问题: 有好看的背心推荐吗？\n",
      "\n",
      "### Response:\n",
      "INFO:root:model parameters: {'temperature': 0.5}\n",
      "INFO:root:response_json: {'outputs': '您好，如果您正在寻找好看的背心，我推荐您考虑购买 GLORIA/歌莉娅官方正品真丝缎面打底背心女V领无袖西装内搭吊带醋酸上衣。这款背心质地柔软舒适，图案简约大方，适合各种场合穿着。此外，我们还提供多种尺码选择，包括 S,M,L,XL,2XL,3XL，可以满足不同需求。如果您想了解更多信息，请访问我们的官方网站：<https://www.gloria-store.com>。'}\n"
     ]
    },
    {
     "data": {
      "text/plain": [
       "{'output_text': '您好，如果您正在寻找好看的背心，我推荐您考虑购买 GLORIA/歌莉娅官方正品真丝缎面打底背心女V领无袖西装内搭吊带醋酸上衣。这款背心质地柔软舒适，图案简约大方，适合各种场合穿着。此外，我们还提供多种尺码选择，包括 S,M,L,XL,2XL,3XL，可以满足不同需求。如果您想了解更多信息，请访问我们的官方网站：<https://www.gloria-store.com>。'}"
      ]
     },
     "execution_count": 254,
     "metadata": {},
     "output_type": "execute_result"
    }
   ],
   "source": [
    "conversation_memory.clear()\n",
    "customer_qa(\"有好看的背心推荐吗？\")"
   ]
  },
  {
   "cell_type": "code",
   "execution_count": 255,
   "id": "8dd3c8d6-82d8-4e0e-b666-3f18c2cce65a",
   "metadata": {},
   "outputs": [
    {
     "data": {
      "application/vnd.jupyter.widget-view+json": {
       "model_id": "2b9fcd1e0d334d588b94f03da7084148",
       "version_major": 2,
       "version_minor": 0
      },
      "text/plain": [
       "Batches:   0%|          | 0/1 [00:00<?, ?it/s]"
      ]
     },
     "metadata": {},
     "output_type": "display_data"
    },
    {
     "name": "stderr",
     "output_type": "stream",
     "text": [
      "INFO:root:prompt: Below is an instruction that describes a task. Write a response that appropriately completes the request.\n",
      "\n",
      "### Instruction:\n",
      "使用下面的商品信息，简洁的回答用户的问题，不要使用已有的知识，不要编造答案。\n",
      "\n",
      "已知内容:\n",
      "歌莉娅官方正品真丝缎面打底背心女V领无袖西装内搭吊带醋酸上衣 价格82.89元 品牌：GLORIA/歌莉娅 尺码：S,M,L,XL,2XL,3XL 质地：其他/other 图案：纯色 风格：通勤 流行元素：拼接 颜色分类：香槟色,白色,黑色 组合形式：单件 货号：1192051 年份季节：2022年春季 衣长：常规 款式：吊带 材质成分：其他材质100% 购买链接：https://www.taobao.com/list/item/709454170667.htm?spm=a21wu.10013406.taglist-content.3.d2756680mzL0uL \n",
      "\n",
      "歌莉娅蝴蝶碎花v领连衣裙女装夏装显瘦气质礼服裙子1A6H4KAKA 会员价格：309元。非会员价格399.00元。 品牌：GLORIA/歌莉娅 适用年龄：25-29周岁 尺码：XS S M L XL XXL 图案：花色 风格：通勤 通勤：简约 领型：V领 腰型：高腰 衣门襟：套头 颜色分类：27D黑底印花 袖型：常规 货号：1A6H4KAKA 裙型：A字裙 年份季节：2022年夏季 袖长：短袖 裙长：中裙 流行元素/工艺：印花 款式：v领连衣裙 销售渠道类型：商场同款(线上线下都销售) 廓形：A型 材质成分：粘胶纤维(粘纤)100% 购买链接：https://www.taobao.com/list/item/678724503513.htm?spm=a21wu.10013406.taglist-content.1.d2756680mzL0uL  洗涤说明： 手洗，洗涤温度不高于40°C 不可漂白 在阴凉处悬挂滴干 不可翻转干燥 熨斗底板 温度不高预售110°C 不可干洗整件衣服在穿着时请小心，以免勾纱 深浅色衣物 分开洗涤 避开脚钮熨烫 不可扭干，理平晾干 衣服洗后易起皱，为美观起见， 每次洗后请熨烫平整后再穿着 因面料特性，衣服折叠易产生折痕，请悬挂存放。\n",
      "\n",
      "历史记录:\n",
      "Human: 有好看的背心推荐吗？\n",
      "AI: 您好，如果您正在寻找好看的背心，我推荐您考虑购买 GLORIA/歌莉娅官方正品真丝缎面打底背心女V领无袖西装内搭吊带醋酸上衣。这款背心质地柔软舒适，图案简约大方，适合各种场合穿着。此外，我们还提供多种尺码选择，包括 S,M,L,XL,2XL,3XL，可以满足不同需求。如果您想了解更多信息，请访问我们的官方网站：<https://www.gloria-store.com>。\n",
      "\n",
      "问题: 多少钱？\n",
      "\n",
      "### Response:\n",
      "INFO:root:model parameters: {'temperature': 0.5}\n",
      "INFO:root:response_json: {'outputs': '您可以通过点击链接<https://www.taobao.com/list/item/709454170667.htm?spm=a21wu.10013406.taglist-content.3.d2756680mzL0uL>来购买该商品。它的价格是82.89元。'}\n"
     ]
    },
    {
     "data": {
      "text/plain": [
       "{'output_text': '您可以通过点击链接<https://www.taobao.com/list/item/709454170667.htm?spm=a21wu.10013406.taglist-content.3.d2756680mzL0uL>来购买该商品。它的价格是82.89元。'}"
      ]
     },
     "execution_count": 255,
     "metadata": {},
     "output_type": "execute_result"
    }
   ],
   "source": [
    "\n",
    "customer_qa(\"多少钱？\")"
   ]
  },
  {
   "cell_type": "code",
   "execution_count": null,
   "id": "28132716-ffe7-45ee-9249-3f9787933299",
   "metadata": {},
   "outputs": [],
   "source": []
  }
 ],
 "metadata": {
  "kernelspec": {
   "display_name": "Custom (mt_python3)",
   "language": "python",
   "name": "mt_python3"
  },
  "language_info": {
   "codemirror_mode": {
    "name": "ipython",
    "version": 3
   },
   "file_extension": ".py",
   "mimetype": "text/x-python",
   "name": "python",
   "nbconvert_exporter": "python",
   "pygments_lexer": "ipython3",
   "version": "3.10.11"
  }
 },
 "nbformat": 4,
 "nbformat_minor": 5
}
