{
 "cells": [
  {
   "cell_type": "markdown",
   "id": "dd1409b5-035c-4e66-8ed1-7e06865ad52f",
   "metadata": {},
   "source": [
    "# 部署和使用ChatGLM进行中文问答"
   ]
  },
  {
   "cell_type": "markdown",
   "id": "36da04a2-c943-4680-864c-678546f920c7",
   "metadata": {},
   "source": [
    "### SageMaker  Endpoint 部署ChatGLM\n",
    "  \n",
    "[ChatGLM](https://github.com/THUDM/ChatGLM-6B): ChatGLM-6B 是一个开源的、支持中英双语的对话语言模型，基于 General Language Model (GLM) 架构，具有 62 亿参数。结合模型量化技术，用户可以在消费级的显卡上进行本地部署（INT4 量化级别下最低只需 6GB 显存）。 ChatGLM-6B 使用了和 ChatGPT 相似的技术，针对中文问答和对话进行了优化。经过约 1T 标识符的中英双语训练，辅以监督微调、反馈自助、人类反馈强化学习等技术的加持，62 亿参数的 ChatGLM-6B 已经能生成相当符合人类偏好的回答。\n",
    "\n",
    "首先，我们使用Sagemaker部署ChatGLM模型。\n",
    "#### 准备\n",
    "1. 升级boto3, sagemaker python sdk  \n",
    "2. 准备inference.py, requirements.txt"
   ]
  },
  {
   "cell_type": "code",
   "execution_count": 2,
   "id": "18eb1530-76ea-4bc1-b5e3-7219de5f8ff8",
   "metadata": {
    "tags": []
   },
   "outputs": [],
   "source": [
    "# 如果需要，更新sagemaker和 aws python sdk boto3\n",
    "# !pip install --upgrade boto3\n",
    "# !pip install --upgrade sagemaker"
   ]
  },
  {
   "cell_type": "code",
   "execution_count": 3,
   "id": "49d80dad-12b2-4228-97db-69a89fcf951a",
   "metadata": {
    "tags": []
   },
   "outputs": [],
   "source": [
    "import boto3\n",
    "import sagemaker\n",
    "\n",
    "account_id = boto3.client('sts').get_caller_identity().get('Account')\n",
    "region_name = boto3.session.Session().region_name\n",
    "\n",
    "sagemaker_session = sagemaker.Session()\n",
    "bucket = sagemaker_session.default_bucket()\n",
    "role = sagemaker.get_execution_role()"
   ]
  },
  {
   "cell_type": "markdown",
   "id": "55d7e43b-5e84-4a4a-85e6-599e9e47c5a9",
   "metadata": {},
   "source": [
    "接下来，我们使用Sagemaker进行模型部署。"
   ]
  },
  {
   "cell_type": "code",
   "execution_count": 4,
   "id": "357920bb-e661-408e-8444-abbd995de2dd",
   "metadata": {
    "tags": []
   },
   "outputs": [
    {
     "name": "stdout",
     "output_type": "stream",
     "text": [
      "dummy\n"
     ]
    }
   ],
   "source": [
    "from sagemaker.pytorch.model import PyTorchModel\n",
    "\n",
    "model_name = None\n",
    "entry_point = 'inference-chatglm.py'\n",
    "framework_version = '1.13.1'\n",
    "py_version = 'py39'\n",
    "model_environment = {\n",
    "    'SAGEMAKER_MODEL_SERVER_TIMEOUT':'600', \n",
    "    'SAGEMAKER_MODEL_SERVER_WORKERS': '1', \n",
    "}\n",
    "\n",
    "!touch dummy\n",
    "!tar czvf model.tar.gz dummy\n",
    "!rm -f dummy\n",
    "\n",
    "model = PyTorchModel(\n",
    "    name = model_name,\n",
    "    model_data = \"./model.tar.gz\",\n",
    "    entry_point = entry_point,\n",
    "    source_dir = './code-chatglm',\n",
    "    role = role,\n",
    "    framework_version = framework_version, \n",
    "    py_version = py_version,\n",
    "    env = model_environment\n",
    ")"
   ]
  },
  {
   "cell_type": "markdown",
   "id": "f3ca1feb-36f2-480e-bdce-b6896eac30a3",
   "metadata": {
    "tags": []
   },
   "source": [
    "我们使用了bring your own script 的方式部署模型，通过提供一个dummy的模型文件（model.tar.gz），在 *code/inference-chatglm.py* python脚本里面，部署了模型：\n",
    "```python\n",
    "def model_fn(model_dir):\n",
    "    model = AutoModel.from_pretrained(\"THUDM/chatglm-6b\", trust_remote_code=True).half().cuda()\n",
    "    return model\n",
    "```\n"
   ]
  },
  {
   "cell_type": "markdown",
   "id": "f124bb73-8f39-4d74-8e9f-6d1c6f601519",
   "metadata": {},
   "source": [
    "然后部署该模型为 Sagemaker endpoint"
   ]
  },
  {
   "cell_type": "code",
   "execution_count": 5,
   "id": "9b5c0454-df30-4bdc-8864-664e9c46a0b7",
   "metadata": {
    "tags": []
   },
   "outputs": [
    {
     "name": "stdout",
     "output_type": "stream",
     "text": [
      "--------!"
     ]
    }
   ],
   "source": [
    "\n",
    "# deploy as sagemaker endpoint\n",
    "endpoint_name = 'mt-chatglm-6b-entpoint'\n",
    "instance_type = 'ml.g4dn.2xlarge'\n",
    "instance_count = 1\n",
    "\n",
    "from sagemaker.serializers import JSONSerializer\n",
    "from sagemaker.deserializers import JSONDeserializer\n",
    "predictor = model.deploy(\n",
    "    endpoint_name = endpoint_name,\n",
    "    instance_type = instance_type, \n",
    "    initial_instance_count = instance_count,\n",
    "    serializer = JSONSerializer(),\n",
    "    deserializer = JSONDeserializer()\n",
    ")"
   ]
  },
  {
   "cell_type": "code",
   "execution_count": 6,
   "id": "ee63cd2f-8f70-478e-bf13-20b8e32758bd",
   "metadata": {
    "tags": []
   },
   "outputs": [
    {
     "name": "stdout",
     "output_type": "stream",
     "text": [
      "\n",
      "\n",
      "问题:  写一首关于交通信号灯的诗 \n",
      "回答:\n",
      " 交通信号灯，明明确确\n",
      "指引着我们前行的方向\n",
      "红绿黄三种颜色，\n",
      "象征着生命与死亡的距离\n",
      "\n",
      "当红灯亮时，停车等待\n",
      "当绿灯亮时，继续前进\n",
      "黄灯闪烁，提醒我们注意\n",
      "以免发生不必要的事故\n",
      "\n",
      "交通信号灯，是我们的指引\n",
      "让我们遵守交通规则\n",
      "不随意穿梭，不酒后驾车\n",
      "让我们的安全之路，更加畅通\n",
      "\n",
      "交通信号灯，是交通的守护者\n",
      "让我们感受到了生命的可贵\n",
      "让我们学会了尊重，学会了珍惜\n",
      "\n",
      "所以，我们要永远遵守交通信号灯\n",
      "让道路变得更加安全，更加畅通\n",
      "让生命在交通信号灯的指引下，更加精彩\n",
      "\n",
      "\n",
      "问题:  陨石为什么总能落在陨石坑里? \n",
      "回答:\n",
      " 陨石坑是因为陨石撞击地球表面而形成的环形凹坑，陨石坑内部通常会有一些水坑和岩石碎片，这是因为陨石在进入地球大气层时，由于与大气分子的摩擦而产生高温和高压，导致陨石表面发生熔融和烧蚀。\n",
      "\n",
      "陨石坑内部由于陨石与岩石的接触，会产生巨大的压力，导致陨石表面发生变形和破裂，同时陨石坑内部也会产生应力集中，使得陨石更容易被压坏或烧蚀。\n",
      "\n",
      "另外，陨石坑内部通常会有一些地形变化和水流，这些地形变化和水流也会对陨石产生影响，使得陨石更容易被吸引到坑内。\n",
      "\n",
      "因此，陨石落在坑内是由于陨石与地球表面之间的相互作用，使得陨石表面发生变形和破裂，同时陨石坑内部也会产生应力集中，使得陨石更容易被吸引到坑内。\n",
      "\n",
      "\n",
      "问题:  为什么爸妈结婚没叫我参加婚礼? \n",
      "回答:\n",
      " 父母结婚时没叫我参加婚礼，可能是因为他们认为我年龄太小，还不适合参加这样的正式场合；也可能是他们认为我的婚礼不会影响到他们的生活，所以他们就没有叫我参加。\n",
      "\n",
      "父母的想法和感受都是正常的，可能是因为他们考虑到我的年龄和成长环境等因素。无论原因是什么，我都应该尊重他们的决定，并且理解他们的想法。\n"
     ]
    }
   ],
   "source": [
    "inputs= [\n",
    "    {\"ask\": \"写一首关于交通信号灯的诗\"},\n",
    "    {\"ask\": \"陨石为什么总能落在陨石坑里?\" },\n",
    "    {\"ask\": \"为什么爸妈结婚没叫我参加婚礼?\"}\n",
    "]\n",
    "response = predictor.predict(inputs[0])\n",
    "print(\"\\n\\n问题: \", inputs[0][\"ask\"], \"\\n回答:\\n\", response[\"answer\"])\n",
    "response = predictor.predict(inputs[1])\n",
    "print(\"\\n\\n问题: \", inputs[1][\"ask\"], \"\\n回答:\\n\", response[\"answer\"])\n",
    "response = predictor.predict(inputs[2])\n",
    "print(\"\\n\\n问题: \", inputs[2][\"ask\"], \"\\n回答:\\n\", response[\"answer\"])"
   ]
  },
  {
   "cell_type": "markdown",
   "id": "cd303123-ad8c-4f43-b430-16b73a2a6d18",
   "metadata": {
    "tags": []
   },
   "source": [
    "### ChatGLM 测试\n",
    "下面，我们使用真格资金建立的一套中文语言模型的测试集，来对这个模型进行测试：\n",
    "https://github.com/zhenbench/z-bench"
   ]
  },
  {
   "cell_type": "markdown",
   "id": "f4a9289a-b78e-48dc-9a8d-235ea08aeb72",
   "metadata": {},
   "source": [
    "真格基金提供了3个级别的测试集，基础能力、进阶能力和垂直能力，并且提供了使用 GPT3.5 和 GPT4 的参考答案，可以用这个测试集进行问答测试，并跟GPT的结果进行比较，来检验语言模型的能力。"
   ]
  },
  {
   "cell_type": "markdown",
   "id": "f53725c8-10d0-4879-9e6f-a5cf3b58db6c",
   "metadata": {
    "tags": []
   },
   "source": [
    "#### 基础能力\n",
    "首先来看看基础能力："
   ]
  },
  {
   "cell_type": "code",
   "execution_count": 24,
   "id": "998b3073-95e4-4fe3-9036-acce30fad17a",
   "metadata": {
    "tags": []
   },
   "outputs": [],
   "source": [
    "import pandas as pd\n",
    "benchdf_common = pd.read_csv(\"./z-bench/common.samples.csv\")"
   ]
  },
  {
   "cell_type": "code",
   "execution_count": 27,
   "id": "9f67cb5d-cb51-4981-b47f-145647fbfadc",
   "metadata": {
    "tags": []
   },
   "outputs": [
    {
     "data": {
      "text/plain": [
       "(63, 5)"
      ]
     },
     "execution_count": 27,
     "metadata": {},
     "output_type": "execute_result"
    }
   ],
   "source": [
    "benchdf_common.shape"
   ]
  },
  {
   "cell_type": "code",
   "execution_count": 40,
   "id": "2de772f0-9fdc-42cc-a1a4-57d5749c626d",
   "metadata": {
    "tags": []
   },
   "outputs": [
    {
     "name": "stdout",
     "output_type": "stream",
     "text": [
      "任务类型: `语义理解` 参考回答: nan\n",
      "Prompt: 你如何理解这首诗：今天的紫菜汤有点咸了/但紫菜却不在意/飘飘荡荡/好像回到了大海\n",
      "ChatGLM: 这首诗可能是一首关于紫菜的民谣，描述了紫菜在海水中自由自在地飘荡，似乎不受任何限制，同时也表达了作者对紫菜这种海洋生物的尊重和欣赏。\n",
      "\n",
      "诗中的“紫菜”可能是指海洋中的一些小型海洋生物，如紫菜、海龙珠等，这些生物通常在海水中漂浮、生长和繁殖。它们没有像其他生物那样受到人类的干扰和限制，而是自由自在地享受着海洋带来的美好。\n",
      "\n",
      "诗人用“有点咸了”来形容紫菜汤的味道，这可能暗示着紫菜对于这些人类所制造的食物的不喜欢或不适应，但是它并没有因此而感到沮丧或失落，而是仍然保持着自己的本性和自由。\n",
      "\n",
      "整首诗表达了一种对自然和自由的向往和尊重，以及对人类所创造的美好事物的感激和欣赏。\n",
      "GPT3.5: 这首诗可以从不同角度进行理解，以下是一种可能的解读方式：这首诗以\"紫菜汤\"为主题，但其实它所传递的是一种对生命、对归属感的思考。诗人发现今天的紫菜汤有点咸了，但紫菜却不在意，这描绘了紫菜作为一种海洋生物的本质，它并不在乎周围的变化，而是顺应大海的潮汐和韵律。接着，诗人通过\"飘飘荡荡\"的描写表达了自己仿佛也回到了大海的感受，这种感觉或许是因为他对紫菜、对海洋的感受与情感，让他产生了一种强烈的归属感和认同感。整首诗所表现出的情感，或许是诗人对自己身份认同的探索。他或许感到自己与社会环境的不协调和异化，但是在对大自然的感悟中，他找到了一种超越个人的、更广阔的归属感。\n",
      "GPT4: 这首诗表达了一种对生活琐事的微妙反思。通过描述今天的紫菜汤有点咸，引发了对紫菜本身的关注。紫菜在诗中并不在意汤的咸淡，反而在飘荡中回到了大海的意境，好像它回到了自己的根源和起点。诗人可能想传达一种超脱的心境，提醒人们不要过于在意生活中的琐碎事物，而是要像紫菜一样，随波逐流，与自己的内心和本质保持联系。这样的态度有助于让我们更好地面对生活中的起起伏伏，保持一颗平和的心。\n"
     ]
    }
   ],
   "source": [
    "import random\n",
    "r = random.randint(0, 63)\n",
    "test_data = benchdf_common.iloc[r]\n",
    "\n",
    "response = predictor.predict({\"ask\": test_data[\"Prompt\"], \"params\": {\"temperature\": 0.99}})\n",
    "print(\"任务类型:\", test_data[\"任务类型\"], \"参考回答:\", test_data[\"参考回答\"])\n",
    "print(\"Prompt:\", test_data[\"Prompt\"])\n",
    "print(\"ChatGLM:\", response[\"answer\"])\n",
    "print(\"GPT3.5:\", test_data[\"GPT3.5\"])\n",
    "print(\"GPT4:\", test_data[\"GPT4\"])"
   ]
  },
  {
   "cell_type": "markdown",
   "id": "90dff972-2dda-4566-ae3c-d494f48382ab",
   "metadata": {
    "tags": []
   },
   "source": [
    "#### 进阶能力"
   ]
  },
  {
   "cell_type": "code",
   "execution_count": 4,
   "id": "54d98975-0f3d-4f31-ac6d-b2aab30f4748",
   "metadata": {
    "tags": []
   },
   "outputs": [],
   "source": [
    "import pandas as pd\n",
    "benchdf_emergent = pd.read_csv(\"./z-bench/emergent.samples.csv\")"
   ]
  },
  {
   "cell_type": "code",
   "execution_count": 5,
   "id": "5e3baecb-df84-4888-9845-f4a6d1547912",
   "metadata": {
    "tags": []
   },
   "outputs": [
    {
     "data": {
      "text/html": [
       "<div>\n",
       "<style scoped>\n",
       "    .dataframe tbody tr th:only-of-type {\n",
       "        vertical-align: middle;\n",
       "    }\n",
       "\n",
       "    .dataframe tbody tr th {\n",
       "        vertical-align: top;\n",
       "    }\n",
       "\n",
       "    .dataframe thead th {\n",
       "        text-align: right;\n",
       "    }\n",
       "</style>\n",
       "<table border=\"1\" class=\"dataframe\">\n",
       "  <thead>\n",
       "    <tr style=\"text-align: right;\">\n",
       "      <th></th>\n",
       "      <th>Prompt</th>\n",
       "      <th>任务类型</th>\n",
       "      <th>参考回答</th>\n",
       "      <th>GPT3.5</th>\n",
       "      <th>GPT4</th>\n",
       "    </tr>\n",
       "  </thead>\n",
       "  <tbody>\n",
       "    <tr>\n",
       "      <th>0</th>\n",
       "      <td>如果我在空中垂直抛球，球最初向哪个方向行进？</td>\n",
       "      <td>`物理直觉`</td>\n",
       "      <td>向上</td>\n",
       "      <td>当你在空中垂直抛球时，球最初行进的方向是向上的，也就是和地面垂直的方向。在球到达最高点时，它...</td>\n",
       "      <td>当你在空中垂直向上抛球时，球最初的方向是向上。它将沿着垂直方向受到重力的作用而减速，直至在其...</td>\n",
       "    </tr>\n",
       "    <tr>\n",
       "      <th>1</th>\n",
       "      <td>金元素属于哪一种化学键？</td>\n",
       "      <td>`物理直觉`</td>\n",
       "      <td>金属键</td>\n",
       "      <td>金是一种金属元素，因此通常会形成金属键。金属键是由金属元素组成的化学键，这些金属元素的原子之...</td>\n",
       "      <td>金属元素，如金（Au），通常与其他金属元素通过金属键（metallic bond）相互连接。...</td>\n",
       "    </tr>\n",
       "    <tr>\n",
       "      <th>2</th>\n",
       "      <td>假设一个原子发射一个光子，原子会发生什么？</td>\n",
       "      <td>`物理直觉`</td>\n",
       "      <td>失去能量</td>\n",
       "      <td>当一个原子发射一个光子时，它会处于一个激发态或高能态，并且会向低能态或基态释放能量。在这个过...</td>\n",
       "      <td>当一个原子发射一个光子时，这意味着原子中的一个电子从一个较高的能级跃迁到一个较低的能级。在这...</td>\n",
       "    </tr>\n",
       "    <tr>\n",
       "      <th>3</th>\n",
       "      <td>假设一辆车可以在 3.85s 的时间内从 0 加速到 27.8 m/s，请计算这辆车的加速度...</td>\n",
       "      <td>`物理`</td>\n",
       "      <td>7.22 m/s/s</td>\n",
       "      <td>根据运动学公式，加速度等于速度变化量除以时间。那么，这辆车的加速度为：a = (27.8 m...</td>\n",
       "      <td>为了计算加速度，我们可以使用以下公式：加速度（a）= (最终速度（vf） - 初始速度（vi...</td>\n",
       "    </tr>\n",
       "    <tr>\n",
       "      <th>4</th>\n",
       "      <td>Zdeno Chara 以 175.1 km/h 的速度创造了最快的冰球拍击记录。假设一个冰...</td>\n",
       "      <td>`物理`</td>\n",
       "      <td>a) 8.28 kg·m/s b) Chara 的拍击速度为 175.1 km/h = 48...</td>\n",
       "      <td>a) Chara 的拍击球的动量为：p = mv其中，m = 0.17 kg 是冰球的质量，...</td>\n",
       "      <td>a) 要计算冰球的动量，我们使用动量公式：p = m * v，其中 p 为动量，m 为质量，...</td>\n",
       "    </tr>\n",
       "  </tbody>\n",
       "</table>\n",
       "</div>"
      ],
      "text/plain": [
       "                                              Prompt    任务类型  \\\n",
       "0                             如果我在空中垂直抛球，球最初向哪个方向行进？  `物理直觉`   \n",
       "1                                       金元素属于哪一种化学键？  `物理直觉`   \n",
       "2                              假设一个原子发射一个光子，原子会发生什么？  `物理直觉`   \n",
       "3  假设一辆车可以在 3.85s 的时间内从 0 加速到 27.8 m/s，请计算这辆车的加速度...    `物理`   \n",
       "4  Zdeno Chara 以 175.1 km/h 的速度创造了最快的冰球拍击记录。假设一个冰...    `物理`   \n",
       "\n",
       "                                                参考回答  \\\n",
       "0                                                 向上   \n",
       "1                                                金属键   \n",
       "2                                               失去能量   \n",
       "3                                         7.22 m/s/s   \n",
       "4  a) 8.28 kg·m/s b) Chara 的拍击速度为 175.1 km/h = 48...   \n",
       "\n",
       "                                              GPT3.5  \\\n",
       "0  当你在空中垂直抛球时，球最初行进的方向是向上的，也就是和地面垂直的方向。在球到达最高点时，它...   \n",
       "1  金是一种金属元素，因此通常会形成金属键。金属键是由金属元素组成的化学键，这些金属元素的原子之...   \n",
       "2  当一个原子发射一个光子时，它会处于一个激发态或高能态，并且会向低能态或基态释放能量。在这个过...   \n",
       "3  根据运动学公式，加速度等于速度变化量除以时间。那么，这辆车的加速度为：a = (27.8 m...   \n",
       "4  a) Chara 的拍击球的动量为：p = mv其中，m = 0.17 kg 是冰球的质量，...   \n",
       "\n",
       "                                                GPT4  \n",
       "0  当你在空中垂直向上抛球时，球最初的方向是向上。它将沿着垂直方向受到重力的作用而减速，直至在其...  \n",
       "1  金属元素，如金（Au），通常与其他金属元素通过金属键（metallic bond）相互连接。...  \n",
       "2  当一个原子发射一个光子时，这意味着原子中的一个电子从一个较高的能级跃迁到一个较低的能级。在这...  \n",
       "3  为了计算加速度，我们可以使用以下公式：加速度（a）= (最终速度（vf） - 初始速度（vi...  \n",
       "4  a) 要计算冰球的动量，我们使用动量公式：p = m * v，其中 p 为动量，m 为质量，...  "
      ]
     },
     "execution_count": 5,
     "metadata": {},
     "output_type": "execute_result"
    }
   ],
   "source": [
    "benchdf_emergent.head()"
   ]
  },
  {
   "cell_type": "code",
   "execution_count": 20,
   "id": "08c7d7fc-806e-4948-b318-61355891488d",
   "metadata": {
    "tags": []
   },
   "outputs": [
    {
     "name": "stdout",
     "output_type": "stream",
     "text": [
      "任务类型: `物理直觉` 参考回答: 金属键\n",
      "Prompt: 金元素属于哪一种化学键？\n",
      "ChatGLM: 金元素属于离子键。金属金的原子结构中，金属键是金属原子之间形成的化学键，使金原子结合在一起。金属键是由金属原子的电子构型和外部电场等因素决定的，它们的特点是强、稳定，并且不受温度和压力的影响。\n",
      "GPT3.5: 金是一种金属元素，因此通常会形成金属键。金属键是由金属元素组成的化学键，这些金属元素的原子之间共享其外层电子，形成一个具有高电导率和高热导率的三维电子海。\n",
      "GPT4: 金属元素，如金（Au），通常与其他金属元素通过金属键（metallic bond）相互连接。金属键是一种特殊的化学键，其中金属原子之间的价电子在整个晶格中自由流动，形成“电子海”。这种电子分布使得金属具有良好的导电性和导热性。因此，金元素属于金属键类型。\n"
     ]
    }
   ],
   "source": [
    "import random\n",
    "r = random.randint(0, 209)\n",
    "# test_data = benchdf_emergent.iloc[r]\n",
    "\n",
    "response = predictor.predict({\"ask\": test_data[\"Prompt\"]})\n",
    "print(\"任务类型:\", test_data[\"任务类型\"], \"参考回答:\", test_data[\"参考回答\"])\n",
    "print(\"Prompt:\", test_data[\"Prompt\"])\n",
    "print(\"ChatGLM:\", response[\"answer\"])\n",
    "print(\"GPT3.5:\", test_data[\"GPT3.5\"])\n",
    "print(\"GPT4:\", test_data[\"GPT4\"])"
   ]
  },
  {
   "cell_type": "markdown",
   "id": "9a62fe66-79de-4410-ba38-4244acbc1fe1",
   "metadata": {},
   "source": [
    "### 垂直类的问题"
   ]
  },
  {
   "cell_type": "code",
   "execution_count": 31,
   "id": "c0bb0a78-968b-4bfb-a161-246fe2eeaedf",
   "metadata": {
    "tags": []
   },
   "outputs": [
    {
     "data": {
      "text/plain": [
       "(39, 5)"
      ]
     },
     "execution_count": 31,
     "metadata": {},
     "output_type": "execute_result"
    }
   ],
   "source": [
    "import pandas as pd\n",
    "benchdf_specialized = pd.read_csv(\"./z-bench/specialized.samples.csv\")\n",
    "benchdf_specialized.shape"
   ]
  },
  {
   "cell_type": "code",
   "execution_count": 33,
   "id": "234db7e3-3107-4757-bc5b-9a38c2f40b47",
   "metadata": {
    "tags": []
   },
   "outputs": [
    {
     "name": "stdout",
     "output_type": "stream",
     "text": [
      "任务类型: `医学` 参考回答: 80%\n",
      "Prompt: 截至2017年，全球1岁的儿童中有多少已接种某种疾病的疫苗？\n",
      "ChatGLM: 很抱歉，我无法提供截至2017年全球1岁的儿童中已接种某种疾病的疫苗的数据。因为我的知识截止日期是2021年，而且我无法访问实时数据。\n",
      "\n",
      "不过，疫苗接种率是一个全球性的公共卫生问题，许多组织和机构都会定期发布有关全球疫苗接种率的数据。您可以搜索相关的报告或数据，以了解全球疫苗接种率的情况。\n",
      "GPT3.5: 据世界卫生组织（WHO）统计，截至2017年，全球有约89%的1岁儿童已接种了至少一种疾病的疫苗。这是一个令人鼓舞的数字，表明了疫苗接种在预防疾病方面的重要性和成功性。\n",
      "GPT4: 截至2017年，全球约有85%的1岁儿童接种了某种疾病的疫苗。这一数据主要是针对三剂联合疫苗（包括百日咳、白喉和破伤风疫苗）的全球覆盖率。然而，请注意，这一比例可能因地区和国家的不同而有所差异。在某些国家和地区，疫苗接种率可能高于这个数字，在另一些国家和地区，疫苗接种率可能较低。\n"
     ]
    }
   ],
   "source": [
    "import random\n",
    "r = random.randint(0, 39)\n",
    "test_data = benchdf_specialized.iloc[r]\n",
    "\n",
    "response = predictor.predict({\"ask\": test_data[\"Prompt\"]})\n",
    "print(\"任务类型:\", test_data[\"任务类型\"], \"参考回答:\", test_data[\"参考回答\"])\n",
    "print(\"Prompt:\", test_data[\"Prompt\"])\n",
    "print(\"ChatGLM:\", response[\"answer\"])\n",
    "print(\"GPT3.5:\", test_data[\"GPT3.5\"])\n",
    "print(\"GPT4:\", test_data[\"GPT4\"])"
   ]
  },
  {
   "cell_type": "markdown",
   "id": "64e667be-8e56-40bf-9129-05f93ccb4b27",
   "metadata": {
    "tags": []
   },
   "source": [
    "### 通过Sagemaker Endpoint调用\n",
    "我们已经将模型部署到了Sagemaker Endpoint上，我们就可以通过这个Endpoint名称，来调用模型进行推理，这样即使你停止了这个notebook，也能使用已经部署的模型。"
   ]
  },
  {
   "cell_type": "code",
   "execution_count": 1,
   "id": "b6726e86-e665-4d31-82f8-6ca08decdb65",
   "metadata": {
    "tags": []
   },
   "outputs": [],
   "source": [
    "import json\n",
    "import boto3\n",
    "\n",
    "client = boto3.client('runtime.sagemaker')\n",
    "\n",
    "def query_endpoint(encoded_json):\n",
    "    response = client.invoke_endpoint(EndpointName=\"mt-chatglm-6b-entpoint\", ContentType='application/json', Body=encoded_json)\n",
    "    model_predictions = json.loads(response['Body'].read())\n",
    "    generated_text = model_predictions[\"answer\"]\n",
    "    return generated_text"
   ]
  },
  {
   "cell_type": "code",
   "execution_count": 2,
   "id": "6bcdf467-c041-4468-9368-94a509dc72e0",
   "metadata": {
    "tags": []
   },
   "outputs": [
    {
     "name": "stdout",
     "output_type": "stream",
     "text": [
      "阿根廷，梅西。\n"
     ]
    }
   ],
   "source": [
    "payload = {\"ask\": \"信息抽取：\\n2022年世界杯的冠军是阿根廷队伍，梅西是MVP\\n问题：国家名，人名\\n答案：\"}\n",
    "resp_test = query_endpoint(json.dumps(payload).encode('utf-8'))\n",
    "print(resp_test)"
   ]
  },
  {
   "cell_type": "code",
   "execution_count": null,
   "id": "8565881e-8d73-467f-8877-45511facb4df",
   "metadata": {},
   "outputs": [],
   "source": []
  },
  {
   "cell_type": "markdown",
   "id": "20109431-9291-4d7e-aad0-f6b595507e7e",
   "metadata": {},
   "source": [
    "### 删除Endpoint\n",
    "如果部署的模型已经不使用，可以删除 Endpoint，避免不必要的开支。"
   ]
  },
  {
   "cell_type": "code",
   "execution_count": null,
   "id": "1e8fc003-948f-43aa-af00-ddf25902852c",
   "metadata": {
    "tags": []
   },
   "outputs": [],
   "source": [
    "predictor.delete_model()\n",
    "predictor.delete_endpoint()"
   ]
  },
  {
   "cell_type": "code",
   "execution_count": null,
   "id": "cd81af0f-edba-47fe-91f0-354196a23644",
   "metadata": {},
   "outputs": [],
   "source": []
  }
 ],
 "metadata": {
  "kernelspec": {
   "display_name": "conda_python3",
   "language": "python",
   "name": "conda_python3"
  },
  "language_info": {
   "codemirror_mode": {
    "name": "ipython",
    "version": 3
   },
   "file_extension": ".py",
   "mimetype": "text/x-python",
   "name": "python",
   "nbconvert_exporter": "python",
   "pygments_lexer": "ipython3",
   "version": "3.10.8"
  }
 },
 "nbformat": 4,
 "nbformat_minor": 5
}
