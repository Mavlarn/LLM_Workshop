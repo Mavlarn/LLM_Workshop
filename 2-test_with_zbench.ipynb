{
 "cells": [
  {
   "cell_type": "markdown",
   "id": "fda34709-c281-417f-b8ba-3a6eb999de15",
   "metadata": {
    "tags": []
   },
   "source": [
    "### LLM z-bench 测试\n",
    "下面，我们使用真格资金建立的一套中文语言模型的测试集，来对这个模型进行测试：\n",
    "https://github.com/zhenbench/z-bench"
   ]
  },
  {
   "cell_type": "markdown",
   "id": "f19e86c3-06c9-4708-8b0f-8581139bc61a",
   "metadata": {},
   "source": [
    "真格基金提供了3个级别的测试集，基础能力、进阶能力和垂直能力，并且提供了使用 GPT3.5 和 GPT4 的参考答案，可以用这个测试集进行问答测试，并跟GPT的结果进行比较，来检验语言模型的能力。"
   ]
  },
  {
   "cell_type": "markdown",
   "id": "8c47032c-2c19-4a10-8727-610520d67c43",
   "metadata": {},
   "source": [
    "使用 SageMaker通过Endpoint Name来调用大语言模型。"
   ]
  },
  {
   "cell_type": "code",
   "execution_count": 2,
   "id": "065417c7-32be-43c3-9c29-85bb0319ffb5",
   "metadata": {
    "tags": []
   },
   "outputs": [],
   "source": [
    "# endpoint_name = \"mt-chatglm2-6b-ft-g4dn\"\n",
    "# endpoint_name = \"mt-chatglm2-g4dn\"\n",
    "endpoint_name = \"mt-cpmbee-g4dn\"\n",
    "model_code=\"cpmbee\""
   ]
  },
  {
   "cell_type": "code",
   "execution_count": 3,
   "id": "5c4f2b85-8108-41b1-a65f-f209965a9316",
   "metadata": {
    "tags": []
   },
   "outputs": [],
   "source": [
    "import json\n",
    "import boto3\n",
    "\n",
    "client = boto3.client('runtime.sagemaker')\n",
    "def query_endpoint(encoded_json):\n",
    "    response = client.invoke_endpoint(EndpointName=endpoint_name, ContentType='application/json', Body=encoded_json)\n",
    "    model_predictions = json.loads(response['Body'].read())\n",
    "    generated_text = model_predictions[\"outputs\"]\n",
    "    return generated_text\n",
    "\n"
   ]
  },
  {
   "cell_type": "code",
   "execution_count": 10,
   "id": "c32038e8-779a-436e-abec-72d7f186b562",
   "metadata": {
    "tags": []
   },
   "outputs": [
    {
     "data": {
      "text/plain": [
       "<module 'prompt_generator' from '/home/ec2-user/SageMaker/LLM_Workshop/prompt_generator.py'>"
      ]
     },
     "execution_count": 10,
     "metadata": {},
     "output_type": "execute_result"
    }
   ],
   "source": [
    "# from prompt_generator import generate_prompt as gen_prompt\n",
    "import prompt_generator as pg\n",
    "import importlib\n",
    "\n",
    "importlib.reload(pg)"
   ]
  },
  {
   "cell_type": "markdown",
   "id": "f17c39a9-76f6-4fb7-8ce0-fceb7e870ea7",
   "metadata": {
    "tags": []
   },
   "source": [
    "#### 基础能力\n",
    "首先来看看基础能力："
   ]
  },
  {
   "cell_type": "code",
   "execution_count": 5,
   "id": "560bbae1-8cff-4e01-8f7a-489f266cb52d",
   "metadata": {
    "tags": []
   },
   "outputs": [],
   "source": [
    "import pandas as pd\n",
    "benchdf_common = pd.read_csv(\"./z-bench/common.samples.csv\")"
   ]
  },
  {
   "cell_type": "code",
   "execution_count": 6,
   "id": "6c925e00-b9b7-4377-819d-4ea55f3032a0",
   "metadata": {
    "tags": []
   },
   "outputs": [
    {
     "data": {
      "text/plain": [
       "63"
      ]
     },
     "execution_count": 6,
     "metadata": {},
     "output_type": "execute_result"
    }
   ],
   "source": [
    "benchdf_common.shape"
   ]
  },
  {
   "cell_type": "code",
   "execution_count": 22,
   "id": "ea60cdf0-0911-4bee-8219-38c87179d7b8",
   "metadata": {
    "tags": []
   },
   "outputs": [
    {
     "name": "stdout",
     "output_type": "stream",
     "text": [
      "任务类型: `代码` `字符串编写` 参考回答: nan\n",
      "Prompt: # Python 3.7def randomly_split_dataset(folder, filename, split_ratio=[0.8, 0.2]):   df = pd.read_json(folder + filename, lines=True)   train_name, test_name = \"train.jsonl\", \"test.jsonl\"   df_train, df_test = train_test_split(df, test_size=split_ratio[1], random_state=42)   df_train.to_json(folder + train_name, orient='records', lines=True)   df_test.to_json(folder + test_name, orient='records', lines=True)randomly_split_dataset('finetune_data/', 'dataset.jsonl')   # An elaborate, high quality docstring for the above function:\"\"\"\n",
      "cpmbee [{'question': '# Python 3.7def randomly_split_dataset(folder, filename, split_ratio=[0.8, 0.2]):   df = pd.read_json(folder + filename, lines=True)   train_name, test_name = \"train.jsonl\", \"test.jsonl\"   df_train, df_test = train_test_split(df, test_size=split_ratio[1], random_state=42)   df_train.to_json(folder + train_name, orient=\\'records\\', lines=True)   df_test.to_json(folder + test_name, orient=\\'records\\', lines=True)randomly_split_dataset(\\'finetune_data/\\', \\'dataset.jsonl\\')   # An elaborate, high quality docstring for the above function:\"\"\"', '<ans>': 'false'}]\n",
      "GPT3.5: 这段Python代码定义了一个名为 randomly_split_dataset 的函数，它有三个参数：\n",
      "folder：一个字符串，表示数据集文件夹的路径。\n",
      "filename：一个字符串，表示要拆分的数据集文件的名称。\n",
      "split_ratio：一个列表，包含两个浮点数，分别表示训练集和测试集的划分比例。默认值为 [0.8, 0.2]，即 80% 的数据用于训练集，20% 的数据用于测试集。\n",
      "函数的主要功能是将一个给定的 JSONL 文件分成两部分：训练集和测试集，并将它们保存到指定的文件中。它使用 Pandas 库读取 JSONL 文件并将其分成训练集和测试集，然后使用 to_json 方法将它们保存到指定的文件中。\n",
      "为了使用这个函数，您需要提供数据集文件夹的路径和数据集文件的名称。如果您不想使用默认的划分比例，可以提供自己的值。请确保您已经安装了 Pandas 库，并将其导入到您的代码中。\n",
      "最后，这段代码包含一个简单的函数说明字符串，但是它并没有提供详细的函数使用说明，需要进一步改进。\n",
      "GPT4: def randomly_split_dataset(folder, filename, split_ratio=[0.8, 0.2]):\n",
      "    \"\"\"\n",
      "    Splits a dataset into train and test sets based on the given ratio and saves the result as JSONL files in the specified folder.\n",
      "\n",
      "    Args:\n",
      "        folder (str): The path to the folder containing the dataset file.\n",
      "        filename (str): The name of the dataset file (should be a JSONL file).\n",
      "        split_ratio (list, optional): A list of two float values representing the train and test split ratio. \n",
      "                                       Default is [0.8, 0.2], which corresponds to an 80% train and 20% test split.\n",
      "\n",
      "    Returns:\n",
      "        None\n",
      "\n",
      "    The function reads the dataset from a JSONL file, splits it into train and test sets based on the given split_ratio,\n",
      "    and saves the resulting train and test sets as JSONL files in the same folder. The train and test set filenames\n",
      "    are fixed as \"train.jsonl\" and \"test.jsonl\", respectively.\n",
      "\n",
      "    Example:\n",
      "        randomly_split_dataset('finetune_data/', 'dataset.jsonl')\n",
      "\n",
      "    This example reads the 'dataset.jsonl' file in the 'finetune_data/' folder, splits it into train and test sets\n",
      "    with an 80:20 ratio, and saves the results as 'train.jsonl' and 'test.jsonl' in the same folder.\n",
      "    \"\"\"\n",
      "    df = pd.read_json(folder + filename, lines=True)\n",
      "    train_name, test_name = \"train.jsonl\", \"test.jsonl\"\n",
      "    df_train, df_test = train_test_split(df, test_size=split_ratio[1], random_state=42)\n",
      "    df_train.to_json(folder + train_name, orient='records', lines=True)\n",
      "    df_test.to_json(folder + test_name, orient='records', lines=True)\n",
      "\n",
      "randomly_split_dataset('finetune_data/', 'dataset.jsonl')\n",
      "CPU times: user 5.38 ms, sys: 0 ns, total: 5.38 ms\n",
      "Wall time: 595 ms\n"
     ]
    }
   ],
   "source": [
    "%%time\n",
    "\n",
    "import random\n",
    "r = random.randint(0, len(benchdf_common))\n",
    "test_data = benchdf_common.iloc[r]\n",
    "\n",
    "payload = pg.create_payload(test_data[\"Prompt\"], model_code)\n",
    "response = query_endpoint(json.dumps(payload).encode('utf-8'))\n",
    "\n",
    "print(\"任务类型:\", test_data[\"任务类型\"], \"参考回答:\", test_data[\"参考回答\"])\n",
    "print('Prompt:', test_data[\"Prompt\"])\n",
    "print(model_code, response)\n",
    "print(\"GPT3.5:\", test_data[\"GPT3.5\"])\n",
    "print(\"GPT4:\", test_data[\"GPT4\"])"
   ]
  },
  {
   "cell_type": "code",
   "execution_count": 21,
   "id": "c2055d7a-b149-43a5-855b-b8be3a666d4d",
   "metadata": {
    "tags": []
   },
   "outputs": [
    {
     "data": {
      "text/plain": [
       "[{'question': '请判断这些句子中表达的情绪：我的猫好可爱♥♥', '<ans>': '好评'}]"
      ]
     },
     "execution_count": 21,
     "metadata": {},
     "output_type": "execute_result"
    }
   ],
   "source": [
    "response"
   ]
  },
  {
   "cell_type": "markdown",
   "id": "05555414-d89e-4588-80cf-b0a02d363a95",
   "metadata": {
    "tags": []
   },
   "source": [
    "#### 进阶能力"
   ]
  },
  {
   "cell_type": "code",
   "execution_count": 24,
   "id": "3ab6ca50-092e-4d3c-804a-6c35f553756b",
   "metadata": {
    "tags": []
   },
   "outputs": [],
   "source": [
    "import pandas as pd\n",
    "benchdf_emergent = pd.read_csv(\"./z-bench/emergent.samples.csv\")"
   ]
  },
  {
   "cell_type": "code",
   "execution_count": 25,
   "id": "80a30a8e-3192-45a5-8b6f-cfe7a0370f46",
   "metadata": {
    "tags": []
   },
   "outputs": [
    {
     "data": {
      "text/html": [
       "<div>\n",
       "<style scoped>\n",
       "    .dataframe tbody tr th:only-of-type {\n",
       "        vertical-align: middle;\n",
       "    }\n",
       "\n",
       "    .dataframe tbody tr th {\n",
       "        vertical-align: top;\n",
       "    }\n",
       "\n",
       "    .dataframe thead th {\n",
       "        text-align: right;\n",
       "    }\n",
       "</style>\n",
       "<table border=\"1\" class=\"dataframe\">\n",
       "  <thead>\n",
       "    <tr style=\"text-align: right;\">\n",
       "      <th></th>\n",
       "      <th>Prompt</th>\n",
       "      <th>任务类型</th>\n",
       "      <th>参考回答</th>\n",
       "      <th>GPT3.5</th>\n",
       "      <th>GPT4</th>\n",
       "    </tr>\n",
       "  </thead>\n",
       "  <tbody>\n",
       "    <tr>\n",
       "      <th>0</th>\n",
       "      <td>如果我在空中垂直抛球，球最初向哪个方向行进？</td>\n",
       "      <td>`物理直觉`</td>\n",
       "      <td>向上</td>\n",
       "      <td>当你在空中垂直抛球时，球最初行进的方向是向上的，也就是和地面垂直的方向。在球到达最高点时，它...</td>\n",
       "      <td>当你在空中垂直向上抛球时，球最初的方向是向上。它将沿着垂直方向受到重力的作用而减速，直至在其...</td>\n",
       "    </tr>\n",
       "    <tr>\n",
       "      <th>1</th>\n",
       "      <td>金元素属于哪一种化学键？</td>\n",
       "      <td>`物理直觉`</td>\n",
       "      <td>金属键</td>\n",
       "      <td>金是一种金属元素，因此通常会形成金属键。金属键是由金属元素组成的化学键，这些金属元素的原子之...</td>\n",
       "      <td>金属元素，如金（Au），通常与其他金属元素通过金属键（metallic bond）相互连接。...</td>\n",
       "    </tr>\n",
       "    <tr>\n",
       "      <th>2</th>\n",
       "      <td>假设一个原子发射一个光子，原子会发生什么？</td>\n",
       "      <td>`物理直觉`</td>\n",
       "      <td>失去能量</td>\n",
       "      <td>当一个原子发射一个光子时，它会处于一个激发态或高能态，并且会向低能态或基态释放能量。在这个过...</td>\n",
       "      <td>当一个原子发射一个光子时，这意味着原子中的一个电子从一个较高的能级跃迁到一个较低的能级。在这...</td>\n",
       "    </tr>\n",
       "    <tr>\n",
       "      <th>3</th>\n",
       "      <td>假设一辆车可以在 3.85s 的时间内从 0 加速到 27.8 m/s，请计算这辆车的加速度...</td>\n",
       "      <td>`物理`</td>\n",
       "      <td>7.22 m/s/s</td>\n",
       "      <td>根据运动学公式，加速度等于速度变化量除以时间。那么，这辆车的加速度为：a = (27.8 m...</td>\n",
       "      <td>为了计算加速度，我们可以使用以下公式：加速度（a）= (最终速度（vf） - 初始速度（vi...</td>\n",
       "    </tr>\n",
       "    <tr>\n",
       "      <th>4</th>\n",
       "      <td>Zdeno Chara 以 175.1 km/h 的速度创造了最快的冰球拍击记录。假设一个冰...</td>\n",
       "      <td>`物理`</td>\n",
       "      <td>a) 8.28 kg·m/s b) Chara 的拍击速度为 175.1 km/h = 48...</td>\n",
       "      <td>a) Chara 的拍击球的动量为：p = mv其中，m = 0.17 kg 是冰球的质量，...</td>\n",
       "      <td>a) 要计算冰球的动量，我们使用动量公式：p = m * v，其中 p 为动量，m 为质量，...</td>\n",
       "    </tr>\n",
       "  </tbody>\n",
       "</table>\n",
       "</div>"
      ],
      "text/plain": [
       "                                              Prompt    任务类型  \\\n",
       "0                             如果我在空中垂直抛球，球最初向哪个方向行进？  `物理直觉`   \n",
       "1                                       金元素属于哪一种化学键？  `物理直觉`   \n",
       "2                              假设一个原子发射一个光子，原子会发生什么？  `物理直觉`   \n",
       "3  假设一辆车可以在 3.85s 的时间内从 0 加速到 27.8 m/s，请计算这辆车的加速度...    `物理`   \n",
       "4  Zdeno Chara 以 175.1 km/h 的速度创造了最快的冰球拍击记录。假设一个冰...    `物理`   \n",
       "\n",
       "                                                参考回答  \\\n",
       "0                                                 向上   \n",
       "1                                                金属键   \n",
       "2                                               失去能量   \n",
       "3                                         7.22 m/s/s   \n",
       "4  a) 8.28 kg·m/s b) Chara 的拍击速度为 175.1 km/h = 48...   \n",
       "\n",
       "                                              GPT3.5  \\\n",
       "0  当你在空中垂直抛球时，球最初行进的方向是向上的，也就是和地面垂直的方向。在球到达最高点时，它...   \n",
       "1  金是一种金属元素，因此通常会形成金属键。金属键是由金属元素组成的化学键，这些金属元素的原子之...   \n",
       "2  当一个原子发射一个光子时，它会处于一个激发态或高能态，并且会向低能态或基态释放能量。在这个过...   \n",
       "3  根据运动学公式，加速度等于速度变化量除以时间。那么，这辆车的加速度为：a = (27.8 m...   \n",
       "4  a) Chara 的拍击球的动量为：p = mv其中，m = 0.17 kg 是冰球的质量，...   \n",
       "\n",
       "                                                GPT4  \n",
       "0  当你在空中垂直向上抛球时，球最初的方向是向上。它将沿着垂直方向受到重力的作用而减速，直至在其...  \n",
       "1  金属元素，如金（Au），通常与其他金属元素通过金属键（metallic bond）相互连接。...  \n",
       "2  当一个原子发射一个光子时，这意味着原子中的一个电子从一个较高的能级跃迁到一个较低的能级。在这...  \n",
       "3  为了计算加速度，我们可以使用以下公式：加速度（a）= (最终速度（vf） - 初始速度（vi...  \n",
       "4  a) 要计算冰球的动量，我们使用动量公式：p = m * v，其中 p 为动量，m 为质量，...  "
      ]
     },
     "execution_count": 25,
     "metadata": {},
     "output_type": "execute_result"
    }
   ],
   "source": [
    "benchdf_emergent.head()"
   ]
  },
  {
   "cell_type": "code",
   "execution_count": 28,
   "id": "8f6dac0f-e3a4-416c-9250-fcd63ec3883f",
   "metadata": {
    "tags": []
   },
   "outputs": [
    {
     "name": "stdout",
     "output_type": "stream",
     "text": [
      "任务类型: `分类` `相关推荐` 参考回答: nan\n",
      "Prompt: 帮我推荐些类似《哈利波特》《原则》《跨越鸿沟》《追风筝的人》这样的书\n",
      "cpmbee [{'question': '帮我推荐些类似《哈利波特》《原则》《跨越鸿沟》《追风筝的人》这样的书', '<ans>': '小说'}]\n",
      "GPT3.5: 以下是一些类似于《哈利波特》、《原则》、《跨越鸿沟》、《追风筝的人》的书籍推荐：《摆渡人》- 克莱儿·麦克福尔《小王子》- 圣埃克苏佩里《傲慢与偏见》- 简·奥斯汀《1984》- 乔治·奥威尔《人类简史》- 尤瓦尔·赫拉利《飘》- 玛格丽特·米切尔《了不起的盖茨比》- F. 斯科特·菲茨杰拉德《麦田里的守望者》- J·D·塞林格《万历十五年》- 黄仁宇《福尔摩斯探案全集》- 亚瑟·柯南·道尔希望能对您有所帮助！\n",
      "GPT4: 以下是一些建议的书籍，涵盖了魔幻小说、人生哲学、社会科学和小说等多种类型：环游地球80天（Around the World in 80 Days）- 儒勒·凡尔纳巨人的陨落（Fall of Giants）- 肯·福莱特杀手代号47（The Power of Habit）- 查尔斯·杜希格雪崩：心灵的觉醒（The Alchemist）- 保罗·科贝略驯龙高手（How to Train Your Dragon）- 克雷斯·柯达尔金色笼子（The Golden Cage）- 琪琪·塞尔福人类简史（Sapiens: A Brief History of Humankind）- 尤瓦尔·赫拉利自私的基因（The Selfish Gene）- 理查德·道金斯五人行（The Five People You Meet in Heaven）- 米奇·阿尔班福尔摩斯探案全集（The Complete Sherlock Holmes）- 阿瑟·柯南·道尔时间简史（A Brief History of Time）- 史蒂芬·霍金高原上的生活（Tuesdays with Morrie）- 米奇·阿尔班大鱼（Big Fish）- 丹尼尔·沃勒斯世界尽头与冷酷仙境（Hard-Boiled Wonderland and the End of the World）- 村上春树美国众神（American Gods）- 尼尔·盖曼这些建议的书籍各具特色，应该会满足您对多种类型书籍的兴趣。祝您阅读愉快！\n"
     ]
    }
   ],
   "source": [
    "import random\n",
    "r = random.randint(0, len(benchdf_emergent))\n",
    "test_data = benchdf_emergent.iloc[r]\n",
    "\n",
    "\n",
    "payload = pg.create_payload(test_data[\"Prompt\"], model_code)\n",
    "response = query_endpoint(json.dumps(payload).encode('utf-8'))\n",
    "\n",
    "print(\"任务类型:\", test_data[\"任务类型\"], \"参考回答:\", test_data[\"参考回答\"])\n",
    "print('Prompt:', test_data[\"Prompt\"])\n",
    "print(model_code, response)\n",
    "print(\"GPT3.5:\", test_data[\"GPT3.5\"])\n",
    "print(\"GPT4:\", test_data[\"GPT4\"])\n"
   ]
  },
  {
   "cell_type": "markdown",
   "id": "8c4944a5-875f-4bc7-9557-e175aac57bdc",
   "metadata": {},
   "source": [
    "### 垂直类的问题"
   ]
  },
  {
   "cell_type": "code",
   "execution_count": 29,
   "id": "2f10ebc8-e257-475b-8b23-ef065726abb2",
   "metadata": {
    "tags": []
   },
   "outputs": [
    {
     "data": {
      "text/plain": [
       "(39, 5)"
      ]
     },
     "execution_count": 29,
     "metadata": {},
     "output_type": "execute_result"
    }
   ],
   "source": [
    "import pandas as pd\n",
    "benchdf_specialized = pd.read_csv(\"./z-bench/specialized.samples.csv\")\n",
    "benchdf_specialized.shape"
   ]
  },
  {
   "cell_type": "code",
   "execution_count": 31,
   "id": "b16aaec7-812d-4e06-b057-1c2a22ef9891",
   "metadata": {
    "tags": []
   },
   "outputs": [
    {
     "name": "stdout",
     "output_type": "stream",
     "text": [
      "任务类型: `时代错误判断` 参考回答: 存在时代错误\n",
      "Prompt: 请告诉我以下陈述是否包含时代错误：在盟军轰炸硫磺岛海滩期间，拉尔夫大声地对着自己的 iPhone 说话。\n",
      "cpmbee [{'question': '请告诉我以下陈述是否包含时代错误：在盟军轰炸硫磺岛海滩期间，拉尔夫大声地对着自己的 iPhone 说话。', '<ans>': '是'}]\n",
      "GPT3.5: 这个陈述包含时代错误，因为在二战期间还没有 iPhone 手机。\n",
      "GPT4: 是的，这个陈述包含了一个时代错误。盟军轰炸硫磺岛（Iwo Jima）的事件发生在1945年的第二次世界大战期间，而iPhone是在2007年首次发布的。所以，在硫磺岛战役期间，人们不可能拥有或使用iPhone。\n"
     ]
    }
   ],
   "source": [
    "import random\n",
    "r = random.randint(0, 39)\n",
    "test_data = benchdf_specialized.iloc[r]\n",
    "\n",
    "import random\n",
    "r = random.randint(0, len(benchdf_specialized))\n",
    "test_data = benchdf_emergent.iloc[r]\n",
    "\n",
    "\n",
    "payload = pg.create_payload(test_data[\"Prompt\"], model_code)\n",
    "response = query_endpoint(json.dumps(payload).encode('utf-8'))\n",
    "\n",
    "print(\"任务类型:\", test_data[\"任务类型\"], \"参考回答:\", test_data[\"参考回答\"])\n",
    "print('Prompt:', test_data[\"Prompt\"])\n",
    "print(model_code, response)\n",
    "print(\"GPT3.5:\", test_data[\"GPT3.5\"])\n",
    "print(\"GPT4:\", test_data[\"GPT4\"])\n"
   ]
  }
 ],
 "metadata": {
  "kernelspec": {
   "display_name": "Custom (mt_python3)",
   "language": "python",
   "name": "mt_python3"
  },
  "language_info": {
   "codemirror_mode": {
    "name": "ipython",
    "version": 3
   },
   "file_extension": ".py",
   "mimetype": "text/x-python",
   "name": "python",
   "nbconvert_exporter": "python",
   "pygments_lexer": "ipython3",
   "version": "3.10.11"
  }
 },
 "nbformat": 4,
 "nbformat_minor": 5
}
